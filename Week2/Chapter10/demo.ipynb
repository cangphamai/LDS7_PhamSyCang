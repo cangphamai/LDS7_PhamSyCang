{
 "cells": [
  {
   "cell_type": "code",
   "execution_count": 1,
   "metadata": {},
   "outputs": [
    {
     "name": "stderr",
     "output_type": "stream",
     "text": [
      "Warning message in install.packages(\"XML\"):\n",
      "“installation of package ‘XML’ had non-zero exit status”Updating HTML index of packages in '.Library'\n",
      "Making 'packages.html' ... done\n"
     ]
    }
   ],
   "source": [
    "install.packages(\"XML\")"
   ]
  },
  {
   "cell_type": "code",
   "execution_count": 2,
   "metadata": {},
   "outputs": [],
   "source": [
    "library(\"XML\")\n",
    "library(\"methods\")"
   ]
  },
  {
   "cell_type": "code",
   "execution_count": 3,
   "metadata": {},
   "outputs": [
    {
     "data": {
      "text/html": [
       "<table>\n",
       "<caption>A data.frame: 26 × 6</caption>\n",
       "<thead>\n",
       "\t<tr><th scope=col>TITLE</th><th scope=col>ARTIST</th><th scope=col>COUNTRY</th><th scope=col>COMPANY</th><th scope=col>PRICE</th><th scope=col>YEAR</th></tr>\n",
       "\t<tr><th scope=col>&lt;fct&gt;</th><th scope=col>&lt;fct&gt;</th><th scope=col>&lt;fct&gt;</th><th scope=col>&lt;fct&gt;</th><th scope=col>&lt;fct&gt;</th><th scope=col>&lt;fct&gt;</th></tr>\n",
       "</thead>\n",
       "<tbody>\n",
       "\t<tr><td>Empire Burlesque        </td><td>Bob Dylan        </td><td>USA   </td><td>Columbia      </td><td>10.90</td><td>1985</td></tr>\n",
       "\t<tr><td>Hide your heart         </td><td>Bonnie Tyler     </td><td>UK    </td><td>CBS Records   </td><td>9.90 </td><td>1988</td></tr>\n",
       "\t<tr><td>Greatest Hits           </td><td>Dolly Parton     </td><td>USA   </td><td>RCA           </td><td>9.90 </td><td>1982</td></tr>\n",
       "\t<tr><td>Still got the blues     </td><td>Gary Moore       </td><td>UK    </td><td>Virgin records</td><td>10.20</td><td>1990</td></tr>\n",
       "\t<tr><td>Eros                    </td><td>Eros Ramazzotti  </td><td>EU    </td><td>BMG           </td><td>9.90 </td><td>1997</td></tr>\n",
       "\t<tr><td>One night only          </td><td>Bee Gees         </td><td>UK    </td><td>Polydor       </td><td>10.90</td><td>1998</td></tr>\n",
       "\t<tr><td>Sylvias Mother          </td><td>Dr.Hook          </td><td>UK    </td><td>CBS           </td><td>8.10 </td><td>1973</td></tr>\n",
       "\t<tr><td>Maggie May              </td><td>Rod Stewart      </td><td>UK    </td><td>Pickwick      </td><td>8.50 </td><td>1990</td></tr>\n",
       "\t<tr><td>Romanza                 </td><td>Andrea Bocelli   </td><td>EU    </td><td>Polydor       </td><td>10.80</td><td>1996</td></tr>\n",
       "\t<tr><td>When a man loves a woman</td><td>Percy Sledge     </td><td>USA   </td><td>Atlantic      </td><td>8.70 </td><td>1987</td></tr>\n",
       "\t<tr><td>Black angel             </td><td>Savage Rose      </td><td>EU    </td><td>Mega          </td><td>10.90</td><td>1995</td></tr>\n",
       "\t<tr><td>1999 Grammy Nominees    </td><td>Many             </td><td>USA   </td><td>Grammy        </td><td>10.20</td><td>1999</td></tr>\n",
       "\t<tr><td>For the good times      </td><td>Kenny Rogers     </td><td>UK    </td><td>Mucik Master  </td><td>8.70 </td><td>1995</td></tr>\n",
       "\t<tr><td>Big Willie style        </td><td>Will Smith       </td><td>USA   </td><td>Columbia      </td><td>9.90 </td><td>1997</td></tr>\n",
       "\t<tr><td>Tupelo Honey            </td><td>Van Morrison     </td><td>UK    </td><td>Polydor       </td><td>8.20 </td><td>1971</td></tr>\n",
       "\t<tr><td>Soulsville              </td><td>Jorn Hoel        </td><td>Norway</td><td>WEA           </td><td>7.90 </td><td>1996</td></tr>\n",
       "\t<tr><td>The very best of        </td><td>Cat Stevens      </td><td>UK    </td><td>Island        </td><td>8.90 </td><td>1990</td></tr>\n",
       "\t<tr><td>Stop                    </td><td>Sam Brown        </td><td>UK    </td><td>A and M       </td><td>8.90 </td><td>1988</td></tr>\n",
       "\t<tr><td>Bridge of Spies         </td><td>T'Pau            </td><td>UK    </td><td>Siren         </td><td>7.90 </td><td>1987</td></tr>\n",
       "\t<tr><td>Private Dancer          </td><td>Tina Turner      </td><td>UK    </td><td>Capitol       </td><td>8.90 </td><td>1983</td></tr>\n",
       "\t<tr><td>Midt om natten          </td><td>Kim Larsen       </td><td>EU    </td><td>Medley        </td><td>7.80 </td><td>1983</td></tr>\n",
       "\t<tr><td>Pavarotti Gala Concert  </td><td>Luciano Pavarotti</td><td>UK    </td><td>DECCA         </td><td>9.90 </td><td>1991</td></tr>\n",
       "\t<tr><td>The dock of the bay     </td><td>Otis Redding     </td><td>USA   </td><td>Stax Records  </td><td>7.90 </td><td>1968</td></tr>\n",
       "\t<tr><td>Picture book            </td><td>Simply Red       </td><td>EU    </td><td>Elektra       </td><td>7.20 </td><td>1985</td></tr>\n",
       "\t<tr><td>Red                     </td><td>The Communards   </td><td>UK    </td><td>London        </td><td>7.80 </td><td>1987</td></tr>\n",
       "\t<tr><td>Unchain my heart        </td><td>Joe Cocker       </td><td>USA   </td><td>EMI           </td><td>8.20 </td><td>1987</td></tr>\n",
       "</tbody>\n",
       "</table>\n"
      ],
      "text/latex": [
       "A data.frame: 26 × 6\n",
       "\\begin{tabular}{llllll}\n",
       " TITLE & ARTIST & COUNTRY & COMPANY & PRICE & YEAR\\\\\n",
       " <fct> & <fct> & <fct> & <fct> & <fct> & <fct>\\\\\n",
       "\\hline\n",
       "\t Empire Burlesque         & Bob Dylan         & USA    & Columbia       & 10.90 & 1985\\\\\n",
       "\t Hide your heart          & Bonnie Tyler      & UK     & CBS Records    & 9.90  & 1988\\\\\n",
       "\t Greatest Hits            & Dolly Parton      & USA    & RCA            & 9.90  & 1982\\\\\n",
       "\t Still got the blues      & Gary Moore        & UK     & Virgin records & 10.20 & 1990\\\\\n",
       "\t Eros                     & Eros Ramazzotti   & EU     & BMG            & 9.90  & 1997\\\\\n",
       "\t One night only           & Bee Gees          & UK     & Polydor        & 10.90 & 1998\\\\\n",
       "\t Sylvias Mother           & Dr.Hook           & UK     & CBS            & 8.10  & 1973\\\\\n",
       "\t Maggie May               & Rod Stewart       & UK     & Pickwick       & 8.50  & 1990\\\\\n",
       "\t Romanza                  & Andrea Bocelli    & EU     & Polydor        & 10.80 & 1996\\\\\n",
       "\t When a man loves a woman & Percy Sledge      & USA    & Atlantic       & 8.70  & 1987\\\\\n",
       "\t Black angel              & Savage Rose       & EU     & Mega           & 10.90 & 1995\\\\\n",
       "\t 1999 Grammy Nominees     & Many              & USA    & Grammy         & 10.20 & 1999\\\\\n",
       "\t For the good times       & Kenny Rogers      & UK     & Mucik Master   & 8.70  & 1995\\\\\n",
       "\t Big Willie style         & Will Smith        & USA    & Columbia       & 9.90  & 1997\\\\\n",
       "\t Tupelo Honey             & Van Morrison      & UK     & Polydor        & 8.20  & 1971\\\\\n",
       "\t Soulsville               & Jorn Hoel         & Norway & WEA            & 7.90  & 1996\\\\\n",
       "\t The very best of         & Cat Stevens       & UK     & Island         & 8.90  & 1990\\\\\n",
       "\t Stop                     & Sam Brown         & UK     & A and M        & 8.90  & 1988\\\\\n",
       "\t Bridge of Spies          & T'Pau             & UK     & Siren          & 7.90  & 1987\\\\\n",
       "\t Private Dancer           & Tina Turner       & UK     & Capitol        & 8.90  & 1983\\\\\n",
       "\t Midt om natten           & Kim Larsen        & EU     & Medley         & 7.80  & 1983\\\\\n",
       "\t Pavarotti Gala Concert   & Luciano Pavarotti & UK     & DECCA          & 9.90  & 1991\\\\\n",
       "\t The dock of the bay      & Otis Redding      & USA    & Stax Records   & 7.90  & 1968\\\\\n",
       "\t Picture book             & Simply Red        & EU     & Elektra        & 7.20  & 1985\\\\\n",
       "\t Red                      & The Communards    & UK     & London         & 7.80  & 1987\\\\\n",
       "\t Unchain my heart         & Joe Cocker        & USA    & EMI            & 8.20  & 1987\\\\\n",
       "\\end{tabular}\n"
      ],
      "text/markdown": [
       "\n",
       "A data.frame: 26 × 6\n",
       "\n",
       "| TITLE &lt;fct&gt; | ARTIST &lt;fct&gt; | COUNTRY &lt;fct&gt; | COMPANY &lt;fct&gt; | PRICE &lt;fct&gt; | YEAR &lt;fct&gt; |\n",
       "|---|---|---|---|---|---|\n",
       "| Empire Burlesque         | Bob Dylan         | USA    | Columbia       | 10.90 | 1985 |\n",
       "| Hide your heart          | Bonnie Tyler      | UK     | CBS Records    | 9.90  | 1988 |\n",
       "| Greatest Hits            | Dolly Parton      | USA    | RCA            | 9.90  | 1982 |\n",
       "| Still got the blues      | Gary Moore        | UK     | Virgin records | 10.20 | 1990 |\n",
       "| Eros                     | Eros Ramazzotti   | EU     | BMG            | 9.90  | 1997 |\n",
       "| One night only           | Bee Gees          | UK     | Polydor        | 10.90 | 1998 |\n",
       "| Sylvias Mother           | Dr.Hook           | UK     | CBS            | 8.10  | 1973 |\n",
       "| Maggie May               | Rod Stewart       | UK     | Pickwick       | 8.50  | 1990 |\n",
       "| Romanza                  | Andrea Bocelli    | EU     | Polydor        | 10.80 | 1996 |\n",
       "| When a man loves a woman | Percy Sledge      | USA    | Atlantic       | 8.70  | 1987 |\n",
       "| Black angel              | Savage Rose       | EU     | Mega           | 10.90 | 1995 |\n",
       "| 1999 Grammy Nominees     | Many              | USA    | Grammy         | 10.20 | 1999 |\n",
       "| For the good times       | Kenny Rogers      | UK     | Mucik Master   | 8.70  | 1995 |\n",
       "| Big Willie style         | Will Smith        | USA    | Columbia       | 9.90  | 1997 |\n",
       "| Tupelo Honey             | Van Morrison      | UK     | Polydor        | 8.20  | 1971 |\n",
       "| Soulsville               | Jorn Hoel         | Norway | WEA            | 7.90  | 1996 |\n",
       "| The very best of         | Cat Stevens       | UK     | Island         | 8.90  | 1990 |\n",
       "| Stop                     | Sam Brown         | UK     | A and M        | 8.90  | 1988 |\n",
       "| Bridge of Spies          | T'Pau             | UK     | Siren          | 7.90  | 1987 |\n",
       "| Private Dancer           | Tina Turner       | UK     | Capitol        | 8.90  | 1983 |\n",
       "| Midt om natten           | Kim Larsen        | EU     | Medley         | 7.80  | 1983 |\n",
       "| Pavarotti Gala Concert   | Luciano Pavarotti | UK     | DECCA          | 9.90  | 1991 |\n",
       "| The dock of the bay      | Otis Redding      | USA    | Stax Records   | 7.90  | 1968 |\n",
       "| Picture book             | Simply Red        | EU     | Elektra        | 7.20  | 1985 |\n",
       "| Red                      | The Communards    | UK     | London         | 7.80  | 1987 |\n",
       "| Unchain my heart         | Joe Cocker        | USA    | EMI            | 8.20  | 1987 |\n",
       "\n"
      ],
      "text/plain": [
       "   TITLE                    ARTIST            COUNTRY COMPANY        PRICE YEAR\n",
       "1  Empire Burlesque         Bob Dylan         USA     Columbia       10.90 1985\n",
       "2  Hide your heart          Bonnie Tyler      UK      CBS Records    9.90  1988\n",
       "3  Greatest Hits            Dolly Parton      USA     RCA            9.90  1982\n",
       "4  Still got the blues      Gary Moore        UK      Virgin records 10.20 1990\n",
       "5  Eros                     Eros Ramazzotti   EU      BMG            9.90  1997\n",
       "6  One night only           Bee Gees          UK      Polydor        10.90 1998\n",
       "7  Sylvias Mother           Dr.Hook           UK      CBS            8.10  1973\n",
       "8  Maggie May               Rod Stewart       UK      Pickwick       8.50  1990\n",
       "9  Romanza                  Andrea Bocelli    EU      Polydor        10.80 1996\n",
       "10 When a man loves a woman Percy Sledge      USA     Atlantic       8.70  1987\n",
       "11 Black angel              Savage Rose       EU      Mega           10.90 1995\n",
       "12 1999 Grammy Nominees     Many              USA     Grammy         10.20 1999\n",
       "13 For the good times       Kenny Rogers      UK      Mucik Master   8.70  1995\n",
       "14 Big Willie style         Will Smith        USA     Columbia       9.90  1997\n",
       "15 Tupelo Honey             Van Morrison      UK      Polydor        8.20  1971\n",
       "16 Soulsville               Jorn Hoel         Norway  WEA            7.90  1996\n",
       "17 The very best of         Cat Stevens       UK      Island         8.90  1990\n",
       "18 Stop                     Sam Brown         UK      A and M        8.90  1988\n",
       "19 Bridge of Spies          T'Pau             UK      Siren          7.90  1987\n",
       "20 Private Dancer           Tina Turner       UK      Capitol        8.90  1983\n",
       "21 Midt om natten           Kim Larsen        EU      Medley         7.80  1983\n",
       "22 Pavarotti Gala Concert   Luciano Pavarotti UK      DECCA          9.90  1991\n",
       "23 The dock of the bay      Otis Redding      USA     Stax Records   7.90  1968\n",
       "24 Picture book             Simply Red        EU      Elektra        7.20  1985\n",
       "25 Red                      The Communards    UK      London         7.80  1987\n",
       "26 Unchain my heart         Joe Cocker        USA     EMI            8.20  1987"
      ]
     },
     "metadata": {},
     "output_type": "display_data"
    }
   ],
   "source": [
    "data = xmlToDataFrame(\"Du_lieu/cd.xml\")\n",
    "data"
   ]
  },
  {
   "cell_type": "code",
   "execution_count": 6,
   "metadata": {},
   "outputs": [
    {
     "name": "stderr",
     "output_type": "stream",
     "text": [
      "── Attaching packages ─────────────────────────────────────── tidyverse 1.3.0 ──\n",
      "✔ ggplot2 3.3.0     ✔ purrr   0.3.4\n",
      "✔ tibble  3.0.1     ✔ dplyr   0.8.5\n",
      "✔ tidyr   1.0.2     ✔ stringr 1.4.0\n",
      "✔ readr   1.3.1     ✔ forcats 0.5.0\n",
      "── Conflicts ────────────────────────────────────────── tidyverse_conflicts() ──\n",
      "✖ dplyr::filter() masks stats::filter()\n",
      "✖ dplyr::lag()    masks stats::lag()\n"
     ]
    }
   ],
   "source": [
    "library(\"tidyverse\")"
   ]
  },
  {
   "cell_type": "code",
   "execution_count": 7,
   "metadata": {},
   "outputs": [
    {
     "data": {
      "text/html": [
       "<table>\n",
       "<caption>A data.frame: 7 × 6</caption>\n",
       "<thead>\n",
       "\t<tr><th scope=col>TITLE</th><th scope=col>ARTIST</th><th scope=col>COUNTRY</th><th scope=col>COMPANY</th><th scope=col>PRICE</th><th scope=col>YEAR</th></tr>\n",
       "\t<tr><th scope=col>&lt;fct&gt;</th><th scope=col>&lt;fct&gt;</th><th scope=col>&lt;fct&gt;</th><th scope=col>&lt;fct&gt;</th><th scope=col>&lt;fct&gt;</th><th scope=col>&lt;fct&gt;</th></tr>\n",
       "</thead>\n",
       "<tbody>\n",
       "\t<tr><td>Empire Burlesque        </td><td>Bob Dylan   </td><td>USA</td><td>Columbia    </td><td>10.90</td><td>1985</td></tr>\n",
       "\t<tr><td>Greatest Hits           </td><td>Dolly Parton</td><td>USA</td><td>RCA         </td><td>9.90 </td><td>1982</td></tr>\n",
       "\t<tr><td>When a man loves a woman</td><td>Percy Sledge</td><td>USA</td><td>Atlantic    </td><td>8.70 </td><td>1987</td></tr>\n",
       "\t<tr><td>1999 Grammy Nominees    </td><td>Many        </td><td>USA</td><td>Grammy      </td><td>10.20</td><td>1999</td></tr>\n",
       "\t<tr><td>Big Willie style        </td><td>Will Smith  </td><td>USA</td><td>Columbia    </td><td>9.90 </td><td>1997</td></tr>\n",
       "\t<tr><td>The dock of the bay     </td><td>Otis Redding</td><td>USA</td><td>Stax Records</td><td>7.90 </td><td>1968</td></tr>\n",
       "\t<tr><td>Unchain my heart        </td><td>Joe Cocker  </td><td>USA</td><td>EMI         </td><td>8.20 </td><td>1987</td></tr>\n",
       "</tbody>\n",
       "</table>\n"
      ],
      "text/latex": [
       "A data.frame: 7 × 6\n",
       "\\begin{tabular}{llllll}\n",
       " TITLE & ARTIST & COUNTRY & COMPANY & PRICE & YEAR\\\\\n",
       " <fct> & <fct> & <fct> & <fct> & <fct> & <fct>\\\\\n",
       "\\hline\n",
       "\t Empire Burlesque         & Bob Dylan    & USA & Columbia     & 10.90 & 1985\\\\\n",
       "\t Greatest Hits            & Dolly Parton & USA & RCA          & 9.90  & 1982\\\\\n",
       "\t When a man loves a woman & Percy Sledge & USA & Atlantic     & 8.70  & 1987\\\\\n",
       "\t 1999 Grammy Nominees     & Many         & USA & Grammy       & 10.20 & 1999\\\\\n",
       "\t Big Willie style         & Will Smith   & USA & Columbia     & 9.90  & 1997\\\\\n",
       "\t The dock of the bay      & Otis Redding & USA & Stax Records & 7.90  & 1968\\\\\n",
       "\t Unchain my heart         & Joe Cocker   & USA & EMI          & 8.20  & 1987\\\\\n",
       "\\end{tabular}\n"
      ],
      "text/markdown": [
       "\n",
       "A data.frame: 7 × 6\n",
       "\n",
       "| TITLE &lt;fct&gt; | ARTIST &lt;fct&gt; | COUNTRY &lt;fct&gt; | COMPANY &lt;fct&gt; | PRICE &lt;fct&gt; | YEAR &lt;fct&gt; |\n",
       "|---|---|---|---|---|---|\n",
       "| Empire Burlesque         | Bob Dylan    | USA | Columbia     | 10.90 | 1985 |\n",
       "| Greatest Hits            | Dolly Parton | USA | RCA          | 9.90  | 1982 |\n",
       "| When a man loves a woman | Percy Sledge | USA | Atlantic     | 8.70  | 1987 |\n",
       "| 1999 Grammy Nominees     | Many         | USA | Grammy       | 10.20 | 1999 |\n",
       "| Big Willie style         | Will Smith   | USA | Columbia     | 9.90  | 1997 |\n",
       "| The dock of the bay      | Otis Redding | USA | Stax Records | 7.90  | 1968 |\n",
       "| Unchain my heart         | Joe Cocker   | USA | EMI          | 8.20  | 1987 |\n",
       "\n"
      ],
      "text/plain": [
       "  TITLE                    ARTIST       COUNTRY COMPANY      PRICE YEAR\n",
       "1 Empire Burlesque         Bob Dylan    USA     Columbia     10.90 1985\n",
       "2 Greatest Hits            Dolly Parton USA     RCA          9.90  1982\n",
       "3 When a man loves a woman Percy Sledge USA     Atlantic     8.70  1987\n",
       "4 1999 Grammy Nominees     Many         USA     Grammy       10.20 1999\n",
       "5 Big Willie style         Will Smith   USA     Columbia     9.90  1997\n",
       "6 The dock of the bay      Otis Redding USA     Stax Records 7.90  1968\n",
       "7 Unchain my heart         Joe Cocker   USA     EMI          8.20  1987"
      ]
     },
     "metadata": {},
     "output_type": "display_data"
    }
   ],
   "source": [
    "data_usa = filter(data, COUNTRY == \"USA\")\n",
    "data_usa"
   ]
  },
  {
   "cell_type": "code",
   "execution_count": 8,
   "metadata": {},
   "outputs": [],
   "source": [
    "doc = newXMLDoc()\n",
    "top = newXMLNode(\"CATALOG\", doc= doc)\n",
    "for(row in 1: nrow(data_usa)){\n",
    "    cdnode = newXMLNode(\"CD\", parent= top)\n",
    "    newXMLNode(\"TITLE\", data_usa[row, \"TITLE\"], parent=cdnode)\n",
    "    newXMLNode(\"ARTIST\", data_usa[row, \"ARTIST\"], parent=cdnode)\n",
    "    newXMLNode(\"COUNTRY\", data_usa[row, \"COUNTRY\"], parent=cdnode)\n",
    "    newXMLNode(\"COMPANY\", data_usa[row, \"COMPANY\"], parent=cdnode)\n",
    "    newXMLNode(\"PRICE\", data_usa[row, \"PRICE\"], parent=cdnode)\n",
    "    newXMLNode(\"YEAR\", data_usa[row, \"YEAR\"], parent=cdnode)\n",
    "}"
   ]
  },
  {
   "cell_type": "code",
   "execution_count": 10,
   "metadata": {},
   "outputs": [],
   "source": [
    "cat(saveXML(doc, indent= TRUE,\n",
    "           prefix =\"<?xml version=\\\"1.0\\\" encoding=\\\"utf-8\\\" standalone=\\\"no\\\"?>\\n\"),\n",
    "    file=\"Du_lieu/cd_usa.xml\"\n",
    "   )"
   ]
  },
  {
   "cell_type": "code",
   "execution_count": 12,
   "metadata": {},
   "outputs": [
    {
     "data": {
      "text/html": [
       "<table>\n",
       "<caption>A data.frame: 7 × 6</caption>\n",
       "<thead>\n",
       "\t<tr><th scope=col>TITLE</th><th scope=col>ARTIST</th><th scope=col>COUNTRY</th><th scope=col>COMPANY</th><th scope=col>PRICE</th><th scope=col>YEAR</th></tr>\n",
       "\t<tr><th scope=col>&lt;fct&gt;</th><th scope=col>&lt;fct&gt;</th><th scope=col>&lt;fct&gt;</th><th scope=col>&lt;fct&gt;</th><th scope=col>&lt;fct&gt;</th><th scope=col>&lt;fct&gt;</th></tr>\n",
       "</thead>\n",
       "<tbody>\n",
       "\t<tr><td>Empire Burlesque        </td><td>Bob Dylan   </td><td>USA</td><td>Columbia    </td><td>10.90</td><td>1985</td></tr>\n",
       "\t<tr><td>Greatest Hits           </td><td>Dolly Parton</td><td>USA</td><td>RCA         </td><td>9.90 </td><td>1982</td></tr>\n",
       "\t<tr><td>When a man loves a woman</td><td>Percy Sledge</td><td>USA</td><td>Atlantic    </td><td>8.70 </td><td>1987</td></tr>\n",
       "\t<tr><td>1999 Grammy Nominees    </td><td>Many        </td><td>USA</td><td>Grammy      </td><td>10.20</td><td>1999</td></tr>\n",
       "\t<tr><td>Big Willie style        </td><td>Will Smith  </td><td>USA</td><td>Columbia    </td><td>9.90 </td><td>1997</td></tr>\n",
       "\t<tr><td>The dock of the bay     </td><td>Otis Redding</td><td>USA</td><td>Stax Records</td><td>7.90 </td><td>1968</td></tr>\n",
       "\t<tr><td>Unchain my heart        </td><td>Joe Cocker  </td><td>USA</td><td>EMI         </td><td>8.20 </td><td>1987</td></tr>\n",
       "</tbody>\n",
       "</table>\n"
      ],
      "text/latex": [
       "A data.frame: 7 × 6\n",
       "\\begin{tabular}{llllll}\n",
       " TITLE & ARTIST & COUNTRY & COMPANY & PRICE & YEAR\\\\\n",
       " <fct> & <fct> & <fct> & <fct> & <fct> & <fct>\\\\\n",
       "\\hline\n",
       "\t Empire Burlesque         & Bob Dylan    & USA & Columbia     & 10.90 & 1985\\\\\n",
       "\t Greatest Hits            & Dolly Parton & USA & RCA          & 9.90  & 1982\\\\\n",
       "\t When a man loves a woman & Percy Sledge & USA & Atlantic     & 8.70  & 1987\\\\\n",
       "\t 1999 Grammy Nominees     & Many         & USA & Grammy       & 10.20 & 1999\\\\\n",
       "\t Big Willie style         & Will Smith   & USA & Columbia     & 9.90  & 1997\\\\\n",
       "\t The dock of the bay      & Otis Redding & USA & Stax Records & 7.90  & 1968\\\\\n",
       "\t Unchain my heart         & Joe Cocker   & USA & EMI          & 8.20  & 1987\\\\\n",
       "\\end{tabular}\n"
      ],
      "text/markdown": [
       "\n",
       "A data.frame: 7 × 6\n",
       "\n",
       "| TITLE &lt;fct&gt; | ARTIST &lt;fct&gt; | COUNTRY &lt;fct&gt; | COMPANY &lt;fct&gt; | PRICE &lt;fct&gt; | YEAR &lt;fct&gt; |\n",
       "|---|---|---|---|---|---|\n",
       "| Empire Burlesque         | Bob Dylan    | USA | Columbia     | 10.90 | 1985 |\n",
       "| Greatest Hits            | Dolly Parton | USA | RCA          | 9.90  | 1982 |\n",
       "| When a man loves a woman | Percy Sledge | USA | Atlantic     | 8.70  | 1987 |\n",
       "| 1999 Grammy Nominees     | Many         | USA | Grammy       | 10.20 | 1999 |\n",
       "| Big Willie style         | Will Smith   | USA | Columbia     | 9.90  | 1997 |\n",
       "| The dock of the bay      | Otis Redding | USA | Stax Records | 7.90  | 1968 |\n",
       "| Unchain my heart         | Joe Cocker   | USA | EMI          | 8.20  | 1987 |\n",
       "\n"
      ],
      "text/plain": [
       "  TITLE                    ARTIST       COUNTRY COMPANY      PRICE YEAR\n",
       "1 Empire Burlesque         Bob Dylan    USA     Columbia     10.90 1985\n",
       "2 Greatest Hits            Dolly Parton USA     RCA          9.90  1982\n",
       "3 When a man loves a woman Percy Sledge USA     Atlantic     8.70  1987\n",
       "4 1999 Grammy Nominees     Many         USA     Grammy       10.20 1999\n",
       "5 Big Willie style         Will Smith   USA     Columbia     9.90  1997\n",
       "6 The dock of the bay      Otis Redding USA     Stax Records 7.90  1968\n",
       "7 Unchain my heart         Joe Cocker   USA     EMI          8.20  1987"
      ]
     },
     "metadata": {},
     "output_type": "display_data"
    }
   ],
   "source": [
    "cd_usa = xmlToDataFrame(\"Du_lieu/cd_usa.xml\")\n",
    "cd_usa"
   ]
  },
  {
   "cell_type": "code",
   "execution_count": 13,
   "metadata": {},
   "outputs": [],
   "source": [
    "url = \"http://www.w3schools.com/xml/cd_catalog.xml\"\n",
    "download.file(url, destfile = \"cd_new.xml\")"
   ]
  },
  {
   "cell_type": "code",
   "execution_count": 15,
   "metadata": {},
   "outputs": [
    {
     "data": {
      "text/html": [
       "<table>\n",
       "<caption>A data.frame: 6 × 6</caption>\n",
       "<thead>\n",
       "\t<tr><th></th><th scope=col>TITLE</th><th scope=col>ARTIST</th><th scope=col>COUNTRY</th><th scope=col>COMPANY</th><th scope=col>PRICE</th><th scope=col>YEAR</th></tr>\n",
       "\t<tr><th></th><th scope=col>&lt;fct&gt;</th><th scope=col>&lt;fct&gt;</th><th scope=col>&lt;fct&gt;</th><th scope=col>&lt;fct&gt;</th><th scope=col>&lt;fct&gt;</th><th scope=col>&lt;fct&gt;</th></tr>\n",
       "</thead>\n",
       "<tbody>\n",
       "\t<tr><th scope=row>1</th><td>Empire Burlesque   </td><td>Bob Dylan      </td><td>USA</td><td>Columbia      </td><td>10.90</td><td>1985</td></tr>\n",
       "\t<tr><th scope=row>2</th><td>Hide your heart    </td><td>Bonnie Tyler   </td><td>UK </td><td>CBS Records   </td><td>9.90 </td><td>1988</td></tr>\n",
       "\t<tr><th scope=row>3</th><td>Greatest Hits      </td><td>Dolly Parton   </td><td>USA</td><td>RCA           </td><td>9.90 </td><td>1982</td></tr>\n",
       "\t<tr><th scope=row>4</th><td>Still got the blues</td><td>Gary Moore     </td><td>UK </td><td>Virgin records</td><td>10.20</td><td>1990</td></tr>\n",
       "\t<tr><th scope=row>5</th><td>Eros               </td><td>Eros Ramazzotti</td><td>EU </td><td>BMG           </td><td>9.90 </td><td>1997</td></tr>\n",
       "\t<tr><th scope=row>6</th><td>One night only     </td><td>Bee Gees       </td><td>UK </td><td>Polydor       </td><td>10.90</td><td>1998</td></tr>\n",
       "</tbody>\n",
       "</table>\n"
      ],
      "text/latex": [
       "A data.frame: 6 × 6\n",
       "\\begin{tabular}{r|llllll}\n",
       "  & TITLE & ARTIST & COUNTRY & COMPANY & PRICE & YEAR\\\\\n",
       "  & <fct> & <fct> & <fct> & <fct> & <fct> & <fct>\\\\\n",
       "\\hline\n",
       "\t1 & Empire Burlesque    & Bob Dylan       & USA & Columbia       & 10.90 & 1985\\\\\n",
       "\t2 & Hide your heart     & Bonnie Tyler    & UK  & CBS Records    & 9.90  & 1988\\\\\n",
       "\t3 & Greatest Hits       & Dolly Parton    & USA & RCA            & 9.90  & 1982\\\\\n",
       "\t4 & Still got the blues & Gary Moore      & UK  & Virgin records & 10.20 & 1990\\\\\n",
       "\t5 & Eros                & Eros Ramazzotti & EU  & BMG            & 9.90  & 1997\\\\\n",
       "\t6 & One night only      & Bee Gees        & UK  & Polydor        & 10.90 & 1998\\\\\n",
       "\\end{tabular}\n"
      ],
      "text/markdown": [
       "\n",
       "A data.frame: 6 × 6\n",
       "\n",
       "| <!--/--> | TITLE &lt;fct&gt; | ARTIST &lt;fct&gt; | COUNTRY &lt;fct&gt; | COMPANY &lt;fct&gt; | PRICE &lt;fct&gt; | YEAR &lt;fct&gt; |\n",
       "|---|---|---|---|---|---|---|\n",
       "| 1 | Empire Burlesque    | Bob Dylan       | USA | Columbia       | 10.90 | 1985 |\n",
       "| 2 | Hide your heart     | Bonnie Tyler    | UK  | CBS Records    | 9.90  | 1988 |\n",
       "| 3 | Greatest Hits       | Dolly Parton    | USA | RCA            | 9.90  | 1982 |\n",
       "| 4 | Still got the blues | Gary Moore      | UK  | Virgin records | 10.20 | 1990 |\n",
       "| 5 | Eros                | Eros Ramazzotti | EU  | BMG            | 9.90  | 1997 |\n",
       "| 6 | One night only      | Bee Gees        | UK  | Polydor        | 10.90 | 1998 |\n",
       "\n"
      ],
      "text/plain": [
       "  TITLE               ARTIST          COUNTRY COMPANY        PRICE YEAR\n",
       "1 Empire Burlesque    Bob Dylan       USA     Columbia       10.90 1985\n",
       "2 Hide your heart     Bonnie Tyler    UK      CBS Records    9.90  1988\n",
       "3 Greatest Hits       Dolly Parton    USA     RCA            9.90  1982\n",
       "4 Still got the blues Gary Moore      UK      Virgin records 10.20 1990\n",
       "5 Eros                Eros Ramazzotti EU      BMG            9.90  1997\n",
       "6 One night only      Bee Gees        UK      Polydor        10.90 1998"
      ]
     },
     "metadata": {},
     "output_type": "display_data"
    }
   ],
   "source": [
    "cd = xmlToDataFrame(\"cd_new.xml\")\n",
    "head(cd)"
   ]
  },
  {
   "cell_type": "code",
   "execution_count": 17,
   "metadata": {},
   "outputs": [
    {
     "name": "stderr",
     "output_type": "stream",
     "text": [
      "Updating HTML index of packages in '.Library'\n",
      "Making 'packages.html' ... done\n"
     ]
    }
   ],
   "source": [
    "install.packages(\"jsonlite\")"
   ]
  },
  {
   "cell_type": "code",
   "execution_count": 18,
   "metadata": {},
   "outputs": [],
   "source": [
    "library(\"httr\")\n",
    "library(\"jsonlite\")"
   ]
  },
  {
   "cell_type": "code",
   "execution_count": 19,
   "metadata": {},
   "outputs": [],
   "source": [
    "json_text = fromJSON(\"Du_lieu/books.json\")"
   ]
  },
  {
   "cell_type": "code",
   "execution_count": 20,
   "metadata": {},
   "outputs": [
    {
     "data": {
      "text/html": [
       "<strong>$Mathematics</strong> = <strong>$book</strong> = <table>\n",
       "<caption>A data.frame: 3 × 6</caption>\n",
       "<thead>\n",
       "\t<tr><th></th><th scope=col>title</th><th scope=col>publisher</th><th scope=col>isbn</th><th scope=col>pages</th><th scope=col>author</th><th scope=col>attribute</th></tr>\n",
       "\t<tr><th></th><th scope=col>&lt;chr&gt;</th><th scope=col>&lt;chr&gt;</th><th scope=col>&lt;chr&gt;</th><th scope=col>&lt;chr&gt;</th><th scope=col>&lt;list&gt;</th><th scope=col>&lt;list&gt;</th></tr>\n",
       "</thead>\n",
       "<tbody>\n",
       "\t<tr><th scope=row>1</th><td>Applied Linear Statistical Models                        </td><td>McGraw Hill</td><td>9780073108742</td><td>1396</td><td>Michael Kutner        , William Li            , Christopher Nachtsheim, John Neter            </td><td>Exercises    , Illustrations, Readability  </td></tr>\n",
       "\t<tr><th scope=row>2</th><td>Mathematical Proofs: A Transition to Advanced Mathematics</td><td>Pearson    </td><td>9780321390530</td><td>365 </td><td>Gary Chartrand , Ping Zhang     , Albert Polimeni</td><td>Exercises  , Readability</td></tr>\n",
       "\t<tr><th scope=row>3</th><td>Mathematical Statistics with Resampling and R            </td><td>Wiley      </td><td>9781118029855</td><td>418 </td><td>Laura Chihara , Tim Hesterberg</td><td>Exercises    , Illustrations, Readability  </td></tr>\n",
       "</tbody>\n",
       "</table>\n"
      ],
      "text/latex": [
       "\\textbf{\\$Mathematics} = \\textbf{\\$book} = A data.frame: 3 × 6\n",
       "\\begin{tabular}{r|llllll}\n",
       "  & title & publisher & isbn & pages & author & attribute\\\\\n",
       "  & <chr> & <chr> & <chr> & <chr> & <list> & <list>\\\\\n",
       "\\hline\n",
       "\t1 & Applied Linear Statistical Models                         & McGraw Hill & 9780073108742 & 1396 & Michael Kutner        , William Li            , Christopher Nachtsheim, John Neter             & Exercises    , Illustrations, Readability  \\\\\n",
       "\t2 & Mathematical Proofs: A Transition to Advanced Mathematics & Pearson     & 9780321390530 & 365  & Gary Chartrand , Ping Zhang     , Albert Polimeni & Exercises  , Readability\\\\\n",
       "\t3 & Mathematical Statistics with Resampling and R             & Wiley       & 9781118029855 & 418  & Laura Chihara , Tim Hesterberg & Exercises    , Illustrations, Readability  \\\\\n",
       "\\end{tabular}\n"
      ],
      "text/markdown": [
       "**$Mathematics** = **$book** = \n",
       "A data.frame: 3 × 6\n",
       "\n",
       "| <!--/--> | title &lt;chr&gt; | publisher &lt;chr&gt; | isbn &lt;chr&gt; | pages &lt;chr&gt; | author &lt;list&gt; | attribute &lt;list&gt; |\n",
       "|---|---|---|---|---|---|---|\n",
       "| 1 | Applied Linear Statistical Models                         | McGraw Hill | 9780073108742 | 1396 | Michael Kutner        , William Li            , Christopher Nachtsheim, John Neter             | Exercises    , Illustrations, Readability   |\n",
       "| 2 | Mathematical Proofs: A Transition to Advanced Mathematics | Pearson     | 9780321390530 | 365  | Gary Chartrand , Ping Zhang     , Albert Polimeni | Exercises  , Readability |\n",
       "| 3 | Mathematical Statistics with Resampling and R             | Wiley       | 9781118029855 | 418  | Laura Chihara , Tim Hesterberg | Exercises    , Illustrations, Readability   |\n",
       "\n"
      ],
      "text/plain": [
       "$Mathematics\n",
       "$Mathematics$book\n",
       "                                                      title   publisher\n",
       "1                         Applied Linear Statistical Models McGraw Hill\n",
       "2 Mathematical Proofs: A Transition to Advanced Mathematics     Pearson\n",
       "3             Mathematical Statistics with Resampling and R       Wiley\n",
       "           isbn pages\n",
       "1 9780073108742  1396\n",
       "2 9780321390530   365\n",
       "3 9781118029855   418\n",
       "                                                          author\n",
       "1 Michael Kutner, William Li, Christopher Nachtsheim, John Neter\n",
       "2                    Gary Chartrand, Ping Zhang, Albert Polimeni\n",
       "3                                  Laura Chihara, Tim Hesterberg\n",
       "                              attribute\n",
       "1 Exercises, Illustrations, Readability\n",
       "2                Exercises, Readability\n",
       "3 Exercises, Illustrations, Readability\n",
       "\n"
      ]
     },
     "metadata": {},
     "output_type": "display_data"
    }
   ],
   "source": [
    "json_text"
   ]
  },
  {
   "cell_type": "code",
   "execution_count": 21,
   "metadata": {},
   "outputs": [
    {
     "data": {
      "text/html": [
       "<table>\n",
       "<caption>A data.frame: 3 × 6</caption>\n",
       "<thead>\n",
       "\t<tr><th></th><th scope=col>Mathematics.book.title</th><th scope=col>Mathematics.book.publisher</th><th scope=col>Mathematics.book.isbn</th><th scope=col>Mathematics.book.pages</th><th scope=col>Mathematics.book.author</th><th scope=col>Mathematics.book.attribute</th></tr>\n",
       "\t<tr><th></th><th scope=col>&lt;chr&gt;</th><th scope=col>&lt;chr&gt;</th><th scope=col>&lt;chr&gt;</th><th scope=col>&lt;chr&gt;</th><th scope=col>&lt;list&gt;</th><th scope=col>&lt;list&gt;</th></tr>\n",
       "</thead>\n",
       "<tbody>\n",
       "\t<tr><th scope=row>1</th><td>Applied Linear Statistical Models                        </td><td>McGraw Hill</td><td>9780073108742</td><td>1396</td><td>Michael Kutner        , William Li            , Christopher Nachtsheim, John Neter            </td><td>Exercises    , Illustrations, Readability  </td></tr>\n",
       "\t<tr><th scope=row>2</th><td>Mathematical Proofs: A Transition to Advanced Mathematics</td><td>Pearson    </td><td>9780321390530</td><td>365 </td><td>Gary Chartrand , Ping Zhang     , Albert Polimeni</td><td>Exercises  , Readability</td></tr>\n",
       "\t<tr><th scope=row>3</th><td>Mathematical Statistics with Resampling and R            </td><td>Wiley      </td><td>9781118029855</td><td>418 </td><td>Laura Chihara , Tim Hesterberg</td><td>Exercises    , Illustrations, Readability  </td></tr>\n",
       "</tbody>\n",
       "</table>\n"
      ],
      "text/latex": [
       "A data.frame: 3 × 6\n",
       "\\begin{tabular}{r|llllll}\n",
       "  & Mathematics.book.title & Mathematics.book.publisher & Mathematics.book.isbn & Mathematics.book.pages & Mathematics.book.author & Mathematics.book.attribute\\\\\n",
       "  & <chr> & <chr> & <chr> & <chr> & <list> & <list>\\\\\n",
       "\\hline\n",
       "\t1 & Applied Linear Statistical Models                         & McGraw Hill & 9780073108742 & 1396 & Michael Kutner        , William Li            , Christopher Nachtsheim, John Neter             & Exercises    , Illustrations, Readability  \\\\\n",
       "\t2 & Mathematical Proofs: A Transition to Advanced Mathematics & Pearson     & 9780321390530 & 365  & Gary Chartrand , Ping Zhang     , Albert Polimeni & Exercises  , Readability\\\\\n",
       "\t3 & Mathematical Statistics with Resampling and R             & Wiley       & 9781118029855 & 418  & Laura Chihara , Tim Hesterberg & Exercises    , Illustrations, Readability  \\\\\n",
       "\\end{tabular}\n"
      ],
      "text/markdown": [
       "\n",
       "A data.frame: 3 × 6\n",
       "\n",
       "| <!--/--> | Mathematics.book.title &lt;chr&gt; | Mathematics.book.publisher &lt;chr&gt; | Mathematics.book.isbn &lt;chr&gt; | Mathematics.book.pages &lt;chr&gt; | Mathematics.book.author &lt;list&gt; | Mathematics.book.attribute &lt;list&gt; |\n",
       "|---|---|---|---|---|---|---|\n",
       "| 1 | Applied Linear Statistical Models                         | McGraw Hill | 9780073108742 | 1396 | Michael Kutner        , William Li            , Christopher Nachtsheim, John Neter             | Exercises    , Illustrations, Readability   |\n",
       "| 2 | Mathematical Proofs: A Transition to Advanced Mathematics | Pearson     | 9780321390530 | 365  | Gary Chartrand , Ping Zhang     , Albert Polimeni | Exercises  , Readability |\n",
       "| 3 | Mathematical Statistics with Resampling and R             | Wiley       | 9781118029855 | 418  | Laura Chihara , Tim Hesterberg | Exercises    , Illustrations, Readability   |\n",
       "\n"
      ],
      "text/plain": [
       "  Mathematics.book.title                                   \n",
       "1 Applied Linear Statistical Models                        \n",
       "2 Mathematical Proofs: A Transition to Advanced Mathematics\n",
       "3 Mathematical Statistics with Resampling and R            \n",
       "  Mathematics.book.publisher Mathematics.book.isbn Mathematics.book.pages\n",
       "1 McGraw Hill                9780073108742         1396                  \n",
       "2 Pearson                    9780321390530         365                   \n",
       "3 Wiley                      9781118029855         418                   \n",
       "  Mathematics.book.author                                                                       \n",
       "1 Michael Kutner        , William Li            , Christopher Nachtsheim, John Neter            \n",
       "2 Gary Chartrand , Ping Zhang     , Albert Polimeni                                             \n",
       "3 Laura Chihara , Tim Hesterberg                                                                \n",
       "  Mathematics.book.attribute                 \n",
       "1 Exercises    , Illustrations, Readability  \n",
       "2 Exercises  , Readability                   \n",
       "3 Exercises    , Illustrations, Readability  "
      ]
     },
     "metadata": {},
     "output_type": "display_data"
    }
   ],
   "source": [
    "books = as.data.frame(json_text)\n",
    "books"
   ]
  },
  {
   "cell_type": "code",
   "execution_count": 22,
   "metadata": {},
   "outputs": [
    {
     "data": {
      "text/html": [
       "<table>\n",
       "<caption>A data.frame: 3 × 6</caption>\n",
       "<thead>\n",
       "\t<tr><th></th><th scope=col>title</th><th scope=col>publisher</th><th scope=col>isbn</th><th scope=col>pages</th><th scope=col>author</th><th scope=col>attribute</th></tr>\n",
       "\t<tr><th></th><th scope=col>&lt;chr&gt;</th><th scope=col>&lt;chr&gt;</th><th scope=col>&lt;chr&gt;</th><th scope=col>&lt;chr&gt;</th><th scope=col>&lt;list&gt;</th><th scope=col>&lt;list&gt;</th></tr>\n",
       "</thead>\n",
       "<tbody>\n",
       "\t<tr><th scope=row>1</th><td>Applied Linear Statistical Models                        </td><td>McGraw Hill</td><td>9780073108742</td><td>1396</td><td>Michael Kutner        , William Li            , Christopher Nachtsheim, John Neter            </td><td>Exercises    , Illustrations, Readability  </td></tr>\n",
       "\t<tr><th scope=row>2</th><td>Mathematical Proofs: A Transition to Advanced Mathematics</td><td>Pearson    </td><td>9780321390530</td><td>365 </td><td>Gary Chartrand , Ping Zhang     , Albert Polimeni</td><td>Exercises  , Readability</td></tr>\n",
       "\t<tr><th scope=row>3</th><td>Mathematical Statistics with Resampling and R            </td><td>Wiley      </td><td>9781118029855</td><td>418 </td><td>Laura Chihara , Tim Hesterberg</td><td>Exercises    , Illustrations, Readability  </td></tr>\n",
       "</tbody>\n",
       "</table>\n"
      ],
      "text/latex": [
       "A data.frame: 3 × 6\n",
       "\\begin{tabular}{r|llllll}\n",
       "  & title & publisher & isbn & pages & author & attribute\\\\\n",
       "  & <chr> & <chr> & <chr> & <chr> & <list> & <list>\\\\\n",
       "\\hline\n",
       "\t1 & Applied Linear Statistical Models                         & McGraw Hill & 9780073108742 & 1396 & Michael Kutner        , William Li            , Christopher Nachtsheim, John Neter             & Exercises    , Illustrations, Readability  \\\\\n",
       "\t2 & Mathematical Proofs: A Transition to Advanced Mathematics & Pearson     & 9780321390530 & 365  & Gary Chartrand , Ping Zhang     , Albert Polimeni & Exercises  , Readability\\\\\n",
       "\t3 & Mathematical Statistics with Resampling and R             & Wiley       & 9781118029855 & 418  & Laura Chihara , Tim Hesterberg & Exercises    , Illustrations, Readability  \\\\\n",
       "\\end{tabular}\n"
      ],
      "text/markdown": [
       "\n",
       "A data.frame: 3 × 6\n",
       "\n",
       "| <!--/--> | title &lt;chr&gt; | publisher &lt;chr&gt; | isbn &lt;chr&gt; | pages &lt;chr&gt; | author &lt;list&gt; | attribute &lt;list&gt; |\n",
       "|---|---|---|---|---|---|---|\n",
       "| 1 | Applied Linear Statistical Models                         | McGraw Hill | 9780073108742 | 1396 | Michael Kutner        , William Li            , Christopher Nachtsheim, John Neter             | Exercises    , Illustrations, Readability   |\n",
       "| 2 | Mathematical Proofs: A Transition to Advanced Mathematics | Pearson     | 9780321390530 | 365  | Gary Chartrand , Ping Zhang     , Albert Polimeni | Exercises  , Readability |\n",
       "| 3 | Mathematical Statistics with Resampling and R             | Wiley       | 9781118029855 | 418  | Laura Chihara , Tim Hesterberg | Exercises    , Illustrations, Readability   |\n",
       "\n"
      ],
      "text/plain": [
       "  title                                                     publisher  \n",
       "1 Applied Linear Statistical Models                         McGraw Hill\n",
       "2 Mathematical Proofs: A Transition to Advanced Mathematics Pearson    \n",
       "3 Mathematical Statistics with Resampling and R             Wiley      \n",
       "  isbn          pages\n",
       "1 9780073108742 1396 \n",
       "2 9780321390530 365  \n",
       "3 9781118029855 418  \n",
       "  author                                                                                        \n",
       "1 Michael Kutner        , William Li            , Christopher Nachtsheim, John Neter            \n",
       "2 Gary Chartrand , Ping Zhang     , Albert Polimeni                                             \n",
       "3 Laura Chihara , Tim Hesterberg                                                                \n",
       "  attribute                                  \n",
       "1 Exercises    , Illustrations, Readability  \n",
       "2 Exercises  , Readability                   \n",
       "3 Exercises    , Illustrations, Readability  "
      ]
     },
     "metadata": {},
     "output_type": "display_data"
    }
   ],
   "source": [
    "names(books) = c(\"title\", \"publisher\", \"isbn\", \"pages\", \"author\", \"attribute\")\n",
    "books"
   ]
  },
  {
   "cell_type": "code",
   "execution_count": 23,
   "metadata": {},
   "outputs": [
    {
     "data": {
      "text/html": [
       "<table>\n",
       "<caption>A data.frame: 3 × 6</caption>\n",
       "<thead>\n",
       "\t<tr><th></th><th scope=col>title</th><th scope=col>publisher</th><th scope=col>isbn</th><th scope=col>pages</th><th scope=col>author</th><th scope=col>attribute</th></tr>\n",
       "\t<tr><th></th><th scope=col>&lt;chr&gt;</th><th scope=col>&lt;chr&gt;</th><th scope=col>&lt;chr&gt;</th><th scope=col>&lt;chr&gt;</th><th scope=col>&lt;list&gt;</th><th scope=col>&lt;list&gt;</th></tr>\n",
       "</thead>\n",
       "<tbody>\n",
       "\t<tr><th scope=row>1</th><td>Applied Linear Statistical Models                        </td><td>McGraw Hill</td><td>9780073108742</td><td>1396</td><td>Michael Kutner        , William Li            , Christopher Nachtsheim, John Neter            </td><td>Exercises    , Illustrations, Readability  </td></tr>\n",
       "\t<tr><th scope=row>2</th><td>Mathematical Proofs: A Transition to Advanced Mathematics</td><td>Pearson    </td><td>9780321390530</td><td>365 </td><td>Gary Chartrand , Ping Zhang     , Albert Polimeni</td><td>Exercises  , Readability</td></tr>\n",
       "\t<tr><th scope=row>3</th><td>Mathematical Statistics with Resampling and R            </td><td>Wiley      </td><td>9781118029855</td><td>418 </td><td>Laura Chihara , Tim Hesterberg</td><td>Exercises    , Illustrations, Readability  </td></tr>\n",
       "</tbody>\n",
       "</table>\n"
      ],
      "text/latex": [
       "A data.frame: 3 × 6\n",
       "\\begin{tabular}{r|llllll}\n",
       "  & title & publisher & isbn & pages & author & attribute\\\\\n",
       "  & <chr> & <chr> & <chr> & <chr> & <list> & <list>\\\\\n",
       "\\hline\n",
       "\t1 & Applied Linear Statistical Models                         & McGraw Hill & 9780073108742 & 1396 & Michael Kutner        , William Li            , Christopher Nachtsheim, John Neter             & Exercises    , Illustrations, Readability  \\\\\n",
       "\t2 & Mathematical Proofs: A Transition to Advanced Mathematics & Pearson     & 9780321390530 & 365  & Gary Chartrand , Ping Zhang     , Albert Polimeni & Exercises  , Readability\\\\\n",
       "\t3 & Mathematical Statistics with Resampling and R             & Wiley       & 9781118029855 & 418  & Laura Chihara , Tim Hesterberg & Exercises    , Illustrations, Readability  \\\\\n",
       "\\end{tabular}\n"
      ],
      "text/markdown": [
       "\n",
       "A data.frame: 3 × 6\n",
       "\n",
       "| <!--/--> | title &lt;chr&gt; | publisher &lt;chr&gt; | isbn &lt;chr&gt; | pages &lt;chr&gt; | author &lt;list&gt; | attribute &lt;list&gt; |\n",
       "|---|---|---|---|---|---|---|\n",
       "| 1 | Applied Linear Statistical Models                         | McGraw Hill | 9780073108742 | 1396 | Michael Kutner        , William Li            , Christopher Nachtsheim, John Neter             | Exercises    , Illustrations, Readability   |\n",
       "| 2 | Mathematical Proofs: A Transition to Advanced Mathematics | Pearson     | 9780321390530 | 365  | Gary Chartrand , Ping Zhang     , Albert Polimeni | Exercises  , Readability |\n",
       "| 3 | Mathematical Statistics with Resampling and R             | Wiley       | 9781118029855 | 418  | Laura Chihara , Tim Hesterberg | Exercises    , Illustrations, Readability   |\n",
       "\n"
      ],
      "text/plain": [
       "  title                                                     publisher  \n",
       "1 Applied Linear Statistical Models                         McGraw Hill\n",
       "2 Mathematical Proofs: A Transition to Advanced Mathematics Pearson    \n",
       "3 Mathematical Statistics with Resampling and R             Wiley      \n",
       "  isbn          pages\n",
       "1 9780073108742 1396 \n",
       "2 9780321390530 365  \n",
       "3 9781118029855 418  \n",
       "  author                                                                                        \n",
       "1 Michael Kutner        , William Li            , Christopher Nachtsheim, John Neter            \n",
       "2 Gary Chartrand , Ping Zhang     , Albert Polimeni                                             \n",
       "3 Laura Chihara , Tim Hesterberg                                                                \n",
       "  attribute                                  \n",
       "1 Exercises    , Illustrations, Readability  \n",
       "2 Exercises  , Readability                   \n",
       "3 Exercises    , Illustrations, Readability  "
      ]
     },
     "metadata": {},
     "output_type": "display_data"
    }
   ],
   "source": [
    "names = json_text$Mathematics$book\n",
    "names"
   ]
  },
  {
   "cell_type": "code",
   "execution_count": 25,
   "metadata": {},
   "outputs": [],
   "source": [
    "json_books = toJSON(books)\n",
    "write(json_books, file=\"books1.json\")"
   ]
  },
  {
   "cell_type": "code",
   "execution_count": 27,
   "metadata": {},
   "outputs": [
    {
     "data": {
      "text/html": [
       "<table>\n",
       "<caption>A data.frame: 3 × 6</caption>\n",
       "<thead>\n",
       "\t<tr><th></th><th scope=col>title</th><th scope=col>publisher</th><th scope=col>isbn</th><th scope=col>pages</th><th scope=col>author</th><th scope=col>attribute</th></tr>\n",
       "\t<tr><th></th><th scope=col>&lt;chr&gt;</th><th scope=col>&lt;chr&gt;</th><th scope=col>&lt;chr&gt;</th><th scope=col>&lt;chr&gt;</th><th scope=col>&lt;list&gt;</th><th scope=col>&lt;list&gt;</th></tr>\n",
       "</thead>\n",
       "<tbody>\n",
       "\t<tr><th scope=row>1</th><td>Applied Linear Statistical Models                        </td><td>McGraw Hill</td><td>9780073108742</td><td>1396</td><td>Michael Kutner        , William Li            , Christopher Nachtsheim, John Neter            </td><td>Exercises    , Illustrations, Readability  </td></tr>\n",
       "\t<tr><th scope=row>2</th><td>Mathematical Proofs: A Transition to Advanced Mathematics</td><td>Pearson    </td><td>9780321390530</td><td>365 </td><td>Gary Chartrand , Ping Zhang     , Albert Polimeni</td><td>Exercises  , Readability</td></tr>\n",
       "\t<tr><th scope=row>3</th><td>Mathematical Statistics with Resampling and R            </td><td>Wiley      </td><td>9781118029855</td><td>418 </td><td>Laura Chihara , Tim Hesterberg</td><td>Exercises    , Illustrations, Readability  </td></tr>\n",
       "</tbody>\n",
       "</table>\n"
      ],
      "text/latex": [
       "A data.frame: 3 × 6\n",
       "\\begin{tabular}{r|llllll}\n",
       "  & title & publisher & isbn & pages & author & attribute\\\\\n",
       "  & <chr> & <chr> & <chr> & <chr> & <list> & <list>\\\\\n",
       "\\hline\n",
       "\t1 & Applied Linear Statistical Models                         & McGraw Hill & 9780073108742 & 1396 & Michael Kutner        , William Li            , Christopher Nachtsheim, John Neter             & Exercises    , Illustrations, Readability  \\\\\n",
       "\t2 & Mathematical Proofs: A Transition to Advanced Mathematics & Pearson     & 9780321390530 & 365  & Gary Chartrand , Ping Zhang     , Albert Polimeni & Exercises  , Readability\\\\\n",
       "\t3 & Mathematical Statistics with Resampling and R             & Wiley       & 9781118029855 & 418  & Laura Chihara , Tim Hesterberg & Exercises    , Illustrations, Readability  \\\\\n",
       "\\end{tabular}\n"
      ],
      "text/markdown": [
       "\n",
       "A data.frame: 3 × 6\n",
       "\n",
       "| <!--/--> | title &lt;chr&gt; | publisher &lt;chr&gt; | isbn &lt;chr&gt; | pages &lt;chr&gt; | author &lt;list&gt; | attribute &lt;list&gt; |\n",
       "|---|---|---|---|---|---|---|\n",
       "| 1 | Applied Linear Statistical Models                         | McGraw Hill | 9780073108742 | 1396 | Michael Kutner        , William Li            , Christopher Nachtsheim, John Neter             | Exercises    , Illustrations, Readability   |\n",
       "| 2 | Mathematical Proofs: A Transition to Advanced Mathematics | Pearson     | 9780321390530 | 365  | Gary Chartrand , Ping Zhang     , Albert Polimeni | Exercises  , Readability |\n",
       "| 3 | Mathematical Statistics with Resampling and R             | Wiley       | 9781118029855 | 418  | Laura Chihara , Tim Hesterberg | Exercises    , Illustrations, Readability   |\n",
       "\n"
      ],
      "text/plain": [
       "  title                                                     publisher  \n",
       "1 Applied Linear Statistical Models                         McGraw Hill\n",
       "2 Mathematical Proofs: A Transition to Advanced Mathematics Pearson    \n",
       "3 Mathematical Statistics with Resampling and R             Wiley      \n",
       "  isbn          pages\n",
       "1 9780073108742 1396 \n",
       "2 9780321390530 365  \n",
       "3 9781118029855 418  \n",
       "  author                                                                                        \n",
       "1 Michael Kutner        , William Li            , Christopher Nachtsheim, John Neter            \n",
       "2 Gary Chartrand , Ping Zhang     , Albert Polimeni                                             \n",
       "3 Laura Chihara , Tim Hesterberg                                                                \n",
       "  attribute                                  \n",
       "1 Exercises    , Illustrations, Readability  \n",
       "2 Exercises  , Readability                   \n",
       "3 Exercises    , Illustrations, Readability  "
      ]
     },
     "metadata": {},
     "output_type": "display_data"
    }
   ],
   "source": [
    "json_text1 = fromJSON(\"books1.json\")\n",
    "books1 = as.data.frame(json_text1)\n",
    "books1"
   ]
  },
  {
   "cell_type": "code",
   "execution_count": 28,
   "metadata": {},
   "outputs": [
    {
     "data": {
      "text/html": [
       "<table>\n",
       "<caption>A data.frame: 6 × 5</caption>\n",
       "<thead>\n",
       "\t<tr><th></th><th scope=col>pk</th><th scope=col>name</th><th scope=col>fee</th><th scope=col>description</th><th scope=col>image</th></tr>\n",
       "\t<tr><th></th><th scope=col>&lt;int&gt;</th><th scope=col>&lt;chr&gt;</th><th scope=col>&lt;int&gt;</th><th scope=col>&lt;chr&gt;</th><th scope=col>&lt;chr&gt;</th></tr>\n",
       "</thead>\n",
       "<tbody>\n",
       "\t<tr><th scope=row>1</th><td> 2</td><td>Asanzo 50 inch          </td><td> 9000000</td><td>Tivi Asanzo 4K màn  hình phẳng 50 inch              </td><td>images/asanzo_4k_50_11690000.jpg</td></tr>\n",
       "\t<tr><th scope=row>2</th><td>11</td><td>Dell Vostro V3568 XF6C61</td><td>11999000</td><td>Chip: Intel Core i5-7200U, RAM: DDR4 4GB (2 khe cắm)</td><td>images/Dell_vostro.jpg          </td></tr>\n",
       "\t<tr><th scope=row>3</th><td>12</td><td>Macbook Air 2017 MQD32  </td><td>18990000</td><td>Intel Core i5 Dual-core 1.8 GHz, 8GB 1600 MHz LPDDR3</td><td>images/MacbooAir.jpg            </td></tr>\n",
       "\t<tr><th scope=row>4</th><td> 3</td><td>Panasonic 40 inch       </td><td> 6590000</td><td>Tivi Panasonic màn hình phẳng 40 inch               </td><td>images/panansonic_40_6590000.jpg</td></tr>\n",
       "\t<tr><th scope=row>5</th><td> 5</td><td>Samsung 32 inch         </td><td> 5999000</td><td>Tivi Samsung thế hệ mới 32 inch                     </td><td>images/samsung_32_5990000.jpg   </td></tr>\n",
       "\t<tr><th scope=row>6</th><td> 9</td><td>Samsung Galaxy J2 Prime </td><td> 2690000</td><td>Chính hãng, Nguyên seal, Mới 100%, Chưa Active      </td><td>images/SamsungPrime.jpg         </td></tr>\n",
       "</tbody>\n",
       "</table>\n"
      ],
      "text/latex": [
       "A data.frame: 6 × 5\n",
       "\\begin{tabular}{r|lllll}\n",
       "  & pk & name & fee & description & image\\\\\n",
       "  & <int> & <chr> & <int> & <chr> & <chr>\\\\\n",
       "\\hline\n",
       "\t1 &  2 & Asanzo 50 inch           &  9000000 & Tivi Asanzo 4K màn  hình phẳng 50 inch               & images/asanzo\\_4k\\_50\\_11690000.jpg\\\\\n",
       "\t2 & 11 & Dell Vostro V3568 XF6C61 & 11999000 & Chip: Intel Core i5-7200U, RAM: DDR4 4GB (2 khe cắm) & images/Dell\\_vostro.jpg          \\\\\n",
       "\t3 & 12 & Macbook Air 2017 MQD32   & 18990000 & Intel Core i5 Dual-core 1.8 GHz, 8GB 1600 MHz LPDDR3 & images/MacbooAir.jpg            \\\\\n",
       "\t4 &  3 & Panasonic 40 inch        &  6590000 & Tivi Panasonic màn hình phẳng 40 inch                & images/panansonic\\_40\\_6590000.jpg\\\\\n",
       "\t5 &  5 & Samsung 32 inch          &  5999000 & Tivi Samsung thế hệ mới 32 inch                      & images/samsung\\_32\\_5990000.jpg   \\\\\n",
       "\t6 &  9 & Samsung Galaxy J2 Prime  &  2690000 & Chính hãng, Nguyên seal, Mới 100\\%, Chưa Active       & images/SamsungPrime.jpg         \\\\\n",
       "\\end{tabular}\n"
      ],
      "text/markdown": [
       "\n",
       "A data.frame: 6 × 5\n",
       "\n",
       "| <!--/--> | pk &lt;int&gt; | name &lt;chr&gt; | fee &lt;int&gt; | description &lt;chr&gt; | image &lt;chr&gt; |\n",
       "|---|---|---|---|---|---|\n",
       "| 1 |  2 | Asanzo 50 inch           |  9000000 | Tivi Asanzo 4K màn  hình phẳng 50 inch               | images/asanzo_4k_50_11690000.jpg |\n",
       "| 2 | 11 | Dell Vostro V3568 XF6C61 | 11999000 | Chip: Intel Core i5-7200U, RAM: DDR4 4GB (2 khe cắm) | images/Dell_vostro.jpg           |\n",
       "| 3 | 12 | Macbook Air 2017 MQD32   | 18990000 | Intel Core i5 Dual-core 1.8 GHz, 8GB 1600 MHz LPDDR3 | images/MacbooAir.jpg             |\n",
       "| 4 |  3 | Panasonic 40 inch        |  6590000 | Tivi Panasonic màn hình phẳng 40 inch                | images/panansonic_40_6590000.jpg |\n",
       "| 5 |  5 | Samsung 32 inch          |  5999000 | Tivi Samsung thế hệ mới 32 inch                      | images/samsung_32_5990000.jpg    |\n",
       "| 6 |  9 | Samsung Galaxy J2 Prime  |  2690000 | Chính hãng, Nguyên seal, Mới 100%, Chưa Active       | images/SamsungPrime.jpg          |\n",
       "\n"
      ],
      "text/plain": [
       "  pk name                     fee     \n",
       "1  2 Asanzo 50 inch            9000000\n",
       "2 11 Dell Vostro V3568 XF6C61 11999000\n",
       "3 12 Macbook Air 2017 MQD32   18990000\n",
       "4  3 Panasonic 40 inch         6590000\n",
       "5  5 Samsung 32 inch           5999000\n",
       "6  9 Samsung Galaxy J2 Prime   2690000\n",
       "  description                                         \n",
       "1 Tivi Asanzo 4K màn  hình phẳng 50 inch              \n",
       "2 Chip: Intel Core i5-7200U, RAM: DDR4 4GB (2 khe cắm)\n",
       "3 Intel Core i5 Dual-core 1.8 GHz, 8GB 1600 MHz LPDDR3\n",
       "4 Tivi Panasonic màn hình phẳng 40 inch               \n",
       "5 Tivi Samsung thế hệ mới 32 inch                     \n",
       "6 Chính hãng, Nguyên seal, Mới 100%, Chưa Active      \n",
       "  image                           \n",
       "1 images/asanzo_4k_50_11690000.jpg\n",
       "2 images/Dell_vostro.jpg          \n",
       "3 images/MacbooAir.jpg            \n",
       "4 images/panansonic_40_6590000.jpg\n",
       "5 images/samsung_32_5990000.jpg   \n",
       "6 images/SamsungPrime.jpg         "
      ]
     },
     "metadata": {},
     "output_type": "display_data"
    }
   ],
   "source": [
    "url = \"http://phuong13021982.pythonanywhere.com/mystore/product_service/\"\n",
    "get_url = GET(url)\n",
    "content = rawToChar(get_url$content)\n",
    "json = fromJSON(content)\n",
    "tivis = data.frame(json)\n",
    "head(tivis)"
   ]
  },
  {
   "cell_type": "code",
   "execution_count": 29,
   "metadata": {},
   "outputs": [
    {
     "data": {
      "text/html": [
       "<table>\n",
       "<caption>A data.frame: 12 × 3</caption>\n",
       "<thead>\n",
       "\t<tr><th></th><th scope=col>pk</th><th scope=col>name</th><th scope=col>fee</th></tr>\n",
       "\t<tr><th></th><th scope=col>&lt;int&gt;</th><th scope=col>&lt;chr&gt;</th><th scope=col>&lt;int&gt;</th></tr>\n",
       "</thead>\n",
       "<tbody>\n",
       "\t<tr><th scope=row>1</th><td> 2</td><td>Asanzo 50 inch          </td><td> 9000000</td></tr>\n",
       "\t<tr><th scope=row>2</th><td>11</td><td>Dell Vostro V3568 XF6C61</td><td>11999000</td></tr>\n",
       "\t<tr><th scope=row>3</th><td>12</td><td>Macbook Air 2017 MQD32  </td><td>18990000</td></tr>\n",
       "\t<tr><th scope=row>4</th><td> 3</td><td>Panasonic 40 inch       </td><td> 6590000</td></tr>\n",
       "\t<tr><th scope=row>5</th><td> 5</td><td>Samsung 32 inch         </td><td> 5999000</td></tr>\n",
       "\t<tr><th scope=row>6</th><td> 9</td><td>Samsung Galaxy J2 Prime </td><td> 2690000</td></tr>\n",
       "\t<tr><th scope=row>7</th><td> 6</td><td>Sharp 45 inch           </td><td> 7490000</td></tr>\n",
       "\t<tr><th scope=row>8</th><td> 7</td><td>Sony 48 inch            </td><td>11599000</td></tr>\n",
       "\t<tr><th scope=row>9</th><td> 4</td><td>Sony 55 inch            </td><td>20590000</td></tr>\n",
       "\t<tr><th scope=row>10</th><td> 8</td><td>TCL 55 inch             </td><td> 9900000</td></tr>\n",
       "\t<tr><th scope=row>11</th><td> 1</td><td>Toshiba 32 inch         </td><td> 4590000</td></tr>\n",
       "\t<tr><th scope=row>12</th><td>10</td><td>iPad WiFi 32GB New 2018 </td><td> 8390000</td></tr>\n",
       "</tbody>\n",
       "</table>\n"
      ],
      "text/latex": [
       "A data.frame: 12 × 3\n",
       "\\begin{tabular}{r|lll}\n",
       "  & pk & name & fee\\\\\n",
       "  & <int> & <chr> & <int>\\\\\n",
       "\\hline\n",
       "\t1 &  2 & Asanzo 50 inch           &  9000000\\\\\n",
       "\t2 & 11 & Dell Vostro V3568 XF6C61 & 11999000\\\\\n",
       "\t3 & 12 & Macbook Air 2017 MQD32   & 18990000\\\\\n",
       "\t4 &  3 & Panasonic 40 inch        &  6590000\\\\\n",
       "\t5 &  5 & Samsung 32 inch          &  5999000\\\\\n",
       "\t6 &  9 & Samsung Galaxy J2 Prime  &  2690000\\\\\n",
       "\t7 &  6 & Sharp 45 inch            &  7490000\\\\\n",
       "\t8 &  7 & Sony 48 inch             & 11599000\\\\\n",
       "\t9 &  4 & Sony 55 inch             & 20590000\\\\\n",
       "\t10 &  8 & TCL 55 inch              &  9900000\\\\\n",
       "\t11 &  1 & Toshiba 32 inch          &  4590000\\\\\n",
       "\t12 & 10 & iPad WiFi 32GB New 2018  &  8390000\\\\\n",
       "\\end{tabular}\n"
      ],
      "text/markdown": [
       "\n",
       "A data.frame: 12 × 3\n",
       "\n",
       "| <!--/--> | pk &lt;int&gt; | name &lt;chr&gt; | fee &lt;int&gt; |\n",
       "|---|---|---|---|\n",
       "| 1 |  2 | Asanzo 50 inch           |  9000000 |\n",
       "| 2 | 11 | Dell Vostro V3568 XF6C61 | 11999000 |\n",
       "| 3 | 12 | Macbook Air 2017 MQD32   | 18990000 |\n",
       "| 4 |  3 | Panasonic 40 inch        |  6590000 |\n",
       "| 5 |  5 | Samsung 32 inch          |  5999000 |\n",
       "| 6 |  9 | Samsung Galaxy J2 Prime  |  2690000 |\n",
       "| 7 |  6 | Sharp 45 inch            |  7490000 |\n",
       "| 8 |  7 | Sony 48 inch             | 11599000 |\n",
       "| 9 |  4 | Sony 55 inch             | 20590000 |\n",
       "| 10 |  8 | TCL 55 inch              |  9900000 |\n",
       "| 11 |  1 | Toshiba 32 inch          |  4590000 |\n",
       "| 12 | 10 | iPad WiFi 32GB New 2018  |  8390000 |\n",
       "\n"
      ],
      "text/plain": [
       "   pk name                     fee     \n",
       "1   2 Asanzo 50 inch            9000000\n",
       "2  11 Dell Vostro V3568 XF6C61 11999000\n",
       "3  12 Macbook Air 2017 MQD32   18990000\n",
       "4   3 Panasonic 40 inch         6590000\n",
       "5   5 Samsung 32 inch           5999000\n",
       "6   9 Samsung Galaxy J2 Prime   2690000\n",
       "7   6 Sharp 45 inch             7490000\n",
       "8   7 Sony 48 inch             11599000\n",
       "9   4 Sony 55 inch             20590000\n",
       "10  8 TCL 55 inch               9900000\n",
       "11  1 Toshiba 32 inch           4590000\n",
       "12 10 iPad WiFi 32GB New 2018   8390000"
      ]
     },
     "metadata": {},
     "output_type": "display_data"
    }
   ],
   "source": [
    "tivis[c(1,2,3)]"
   ]
  },
  {
   "cell_type": "code",
   "execution_count": null,
   "metadata": {},
   "outputs": [],
   "source": []
  }
 ],
 "metadata": {
  "kernelspec": {
   "display_name": "R",
   "language": "R",
   "name": "conda-env-r-r"
  },
  "language_info": {
   "codemirror_mode": "r",
   "file_extension": ".r",
   "mimetype": "text/x-r-source",
   "name": "R",
   "pygments_lexer": "r",
   "version": "3.5.1"
  }
 },
 "nbformat": 4,
 "nbformat_minor": 4
}
