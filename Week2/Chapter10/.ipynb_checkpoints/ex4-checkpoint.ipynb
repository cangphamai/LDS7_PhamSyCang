{
 "cells": [
  {
   "cell_type": "code",
   "execution_count": 2,
   "metadata": {},
   "outputs": [
    {
     "name": "stderr",
     "output_type": "stream",
     "text": [
      "Updating HTML index of packages in '.Library'\n",
      "Making 'packages.html' ... done\n"
     ]
    }
   ],
   "source": [
    "install.packages(\"XML\")"
   ]
  },
  {
   "cell_type": "code",
   "execution_count": 3,
   "metadata": {},
   "outputs": [],
   "source": [
    "library(\"XML\")"
   ]
  },
  {
   "cell_type": "code",
   "execution_count": 4,
   "metadata": {},
   "outputs": [
    {
     "name": "stdout",
     "output_type": "stream",
     "text": [
      "               COMMON              BOTANICAL ZONE        LIGHT PRICE\n",
      "1           Bloodroot Sanguinaria canadensis    4 Mostly Shady $2.44\n",
      "2           Columbine   Aquilegia canadensis    3 Mostly Shady $9.37\n",
      "3      Marsh Marigold       Caltha palustris    4 Mostly Sunny $6.81\n",
      "4             Cowslip       Caltha palustris    4 Mostly Shady $9.90\n",
      "5 Dutchman's-Breeches    Dicentra cucullaria    3 Mostly Shady $6.44\n",
      "6        Ginger, Wild       Asarum canadense    3 Mostly Shady $9.03\n",
      "  AVAILABILITY\n",
      "1       031599\n",
      "2       030699\n",
      "3       051799\n",
      "4       030699\n",
      "5       012099\n",
      "6       041899\n"
     ]
    }
   ],
   "source": [
    "fileUrl = \"http://www.w3schools.com/xml/plant_catalog.xml\"\n",
    "download.file(fileUrl, destfile =\"Du_lieu/plant_catalog.xml\")\n",
    "xmldataframe = xmlToDataFrame(\"Du_lieu/plant_catalog.xml\")\n",
    "print(head(xmldataframe))"
   ]
  },
  {
   "cell_type": "code",
   "execution_count": 5,
   "metadata": {},
   "outputs": [
    {
     "data": {
      "text/html": [
       "<table>\n",
       "<caption>A data.frame: 2 × 6</caption>\n",
       "<thead>\n",
       "\t<tr><th></th><th scope=col>COMMON</th><th scope=col>BOTANICAL</th><th scope=col>ZONE</th><th scope=col>LIGHT</th><th scope=col>PRICE</th><th scope=col>AVAILABILITY</th></tr>\n",
       "\t<tr><th></th><th scope=col>&lt;fct&gt;</th><th scope=col>&lt;fct&gt;</th><th scope=col>&lt;fct&gt;</th><th scope=col>&lt;fct&gt;</th><th scope=col>&lt;fct&gt;</th><th scope=col>&lt;fct&gt;</th></tr>\n",
       "</thead>\n",
       "<tbody>\n",
       "\t<tr><th scope=row>23</th><td>Black-Eyed Susan</td><td>Rudbeckia hirta   </td><td>Annual</td><td>Sunny</td><td>$9.80</td><td>061899</td></tr>\n",
       "\t<tr><th scope=row>26</th><td>Butterfly Weed  </td><td>Asclepias tuberosa</td><td>Annual</td><td>Sunny</td><td>$2.78</td><td>063099</td></tr>\n",
       "</tbody>\n",
       "</table>\n"
      ],
      "text/latex": [
       "A data.frame: 2 × 6\n",
       "\\begin{tabular}{r|llllll}\n",
       "  & COMMON & BOTANICAL & ZONE & LIGHT & PRICE & AVAILABILITY\\\\\n",
       "  & <fct> & <fct> & <fct> & <fct> & <fct> & <fct>\\\\\n",
       "\\hline\n",
       "\t23 & Black-Eyed Susan & Rudbeckia hirta    & Annual & Sunny & \\$9.80 & 061899\\\\\n",
       "\t26 & Butterfly Weed   & Asclepias tuberosa & Annual & Sunny & \\$2.78 & 063099\\\\\n",
       "\\end{tabular}\n"
      ],
      "text/markdown": [
       "\n",
       "A data.frame: 2 × 6\n",
       "\n",
       "| <!--/--> | COMMON &lt;fct&gt; | BOTANICAL &lt;fct&gt; | ZONE &lt;fct&gt; | LIGHT &lt;fct&gt; | PRICE &lt;fct&gt; | AVAILABILITY &lt;fct&gt; |\n",
       "|---|---|---|---|---|---|---|\n",
       "| 23 | Black-Eyed Susan | Rudbeckia hirta    | Annual | Sunny | $9.80 | 061899 |\n",
       "| 26 | Butterfly Weed   | Asclepias tuberosa | Annual | Sunny | $2.78 | 063099 |\n",
       "\n"
      ],
      "text/plain": [
       "   COMMON           BOTANICAL          ZONE   LIGHT PRICE AVAILABILITY\n",
       "23 Black-Eyed Susan Rudbeckia hirta    Annual Sunny $9.80 061899      \n",
       "26 Butterfly Weed   Asclepias tuberosa Annual Sunny $2.78 063099      "
      ]
     },
     "metadata": {},
     "output_type": "display_data"
    }
   ],
   "source": [
    "data_annual_sunny = subset(xmldataframe, xmldataframe$ZONE == \"Annual\" & xmldataframe$LIGHT ==\"Sunny\")\n",
    "data_annual_sunny"
   ]
  },
  {
   "cell_type": "code",
   "execution_count": null,
   "metadata": {},
   "outputs": [],
   "source": []
  }
 ],
 "metadata": {
  "kernelspec": {
   "display_name": "R",
   "language": "R",
   "name": "conda-env-r-r"
  },
  "language_info": {
   "codemirror_mode": "r",
   "file_extension": ".r",
   "mimetype": "text/x-r-source",
   "name": "R",
   "pygments_lexer": "r",
   "version": "3.5.1"
  }
 },
 "nbformat": 4,
 "nbformat_minor": 4
}
