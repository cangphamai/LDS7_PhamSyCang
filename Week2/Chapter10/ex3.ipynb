{
 "cells": [
  {
   "cell_type": "code",
   "execution_count": 2,
   "metadata": {},
   "outputs": [
    {
     "name": "stderr",
     "output_type": "stream",
     "text": [
      "Updating HTML index of packages in '.Library'\n",
      "Making 'packages.html' ... done\n"
     ]
    }
   ],
   "source": [
    "install.packages(\"rjson\")"
   ]
  },
  {
   "cell_type": "code",
   "execution_count": 3,
   "metadata": {},
   "outputs": [],
   "source": [
    "library(\"rjson\")"
   ]
  },
  {
   "cell_type": "code",
   "execution_count": 5,
   "metadata": {},
   "outputs": [
    {
     "name": "stdout",
     "output_type": "stream",
     "text": [
      "  Tree  age circumference\n",
      "1    1  118            30\n",
      "2    1  484            58\n",
      "3    1  664            87\n",
      "4    1 1004           115\n",
      "5    1 1231           120\n",
      "6    1 1372           142\n"
     ]
    }
   ],
   "source": [
    "result = fromJSON(file = \"Du_lieu/orange.json\")\n",
    "data = data.frame(result)\n",
    "print(head(data))"
   ]
  },
  {
   "cell_type": "code",
   "execution_count": 6,
   "metadata": {},
   "outputs": [
    {
     "name": "stdout",
     "output_type": "stream",
     "text": [
      "  Tree  age circumference\n",
      "7    1 1582           145\n"
     ]
    }
   ],
   "source": [
    "data_max_year = data[which.max(data$age),]\n",
    "print(data_max_year)"
   ]
  },
  {
   "cell_type": "code",
   "execution_count": 7,
   "metadata": {},
   "outputs": [
    {
     "name": "stdout",
     "output_type": "stream",
     "text": [
      "  Tree age circumference\n",
      "1    1 118            30\n"
     ]
    }
   ],
   "source": [
    "data_min_year = data[which.min(data$age),]\n",
    "print(data_min_year)"
   ]
  },
  {
   "cell_type": "code",
   "execution_count": 8,
   "metadata": {},
   "outputs": [
    {
     "name": "stdout",
     "output_type": "stream",
     "text": [
      "   Tree  age circumference\n",
      "4     1 1004           115\n",
      "5     1 1231           120\n",
      "6     1 1372           142\n",
      "7     1 1582           145\n",
      "11    2 1004           156\n",
      "12    2 1231           172\n"
     ]
    }
   ],
   "source": [
    "large_100_age_1000 = subset(data, data$age >1000 & data$circumference >100)\n",
    "print(head(large_100_age_1000))"
   ]
  },
  {
   "cell_type": "code",
   "execution_count": 9,
   "metadata": {},
   "outputs": [],
   "source": [
    "large_100_age_1000_json = toJSON(large_100_age_1000)\n",
    "write(large_100_age_1000_json, file=\"Du_lieu/large_100_age_1000_new.json\")"
   ]
  },
  {
   "cell_type": "code",
   "execution_count": 10,
   "metadata": {},
   "outputs": [
    {
     "name": "stdout",
     "output_type": "stream",
     "text": [
      "  Tree  age circumference\n",
      "1    1 1004           115\n",
      "2    1 1231           120\n",
      "3    1 1372           142\n",
      "4    1 1582           145\n",
      "5    2 1004           156\n",
      "6    2 1231           172\n"
     ]
    }
   ],
   "source": [
    "result = fromJSON(file = \"Du_lieu/large_100_age_1000_new.json\")\n",
    "data1 = data.frame(result)\n",
    "print(head(data1))"
   ]
  },
  {
   "cell_type": "code",
   "execution_count": null,
   "metadata": {},
   "outputs": [],
   "source": []
  }
 ],
 "metadata": {
  "kernelspec": {
   "display_name": "R",
   "language": "R",
   "name": "conda-env-r-r"
  },
  "language_info": {
   "codemirror_mode": "r",
   "file_extension": ".r",
   "mimetype": "text/x-r-source",
   "name": "R",
   "pygments_lexer": "r",
   "version": "3.5.1"
  }
 },
 "nbformat": 4,
 "nbformat_minor": 4
}
