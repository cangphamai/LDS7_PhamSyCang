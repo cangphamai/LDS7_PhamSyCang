{
 "cells": [
  {
   "cell_type": "code",
   "execution_count": 1,
   "metadata": {},
   "outputs": [
    {
     "name": "stderr",
     "output_type": "stream",
     "text": [
      "Updating HTML index of packages in '.Library'\n",
      "Making 'packages.html' ... done\n",
      "Updating HTML index of packages in '.Library'\n",
      "Making 'packages.html' ... done\n"
     ]
    }
   ],
   "source": [
    "install.packages(\"httr\")\n",
    "install.packages(\"jsonlite\")"
   ]
  },
  {
   "cell_type": "code",
   "execution_count": 5,
   "metadata": {},
   "outputs": [
    {
     "ename": "ERROR",
     "evalue": "Error in value[[3L]](cond): Package ‘jsonlite’ version 1.6.1 cannot be unloaded:\n Error in unloadNamespace(package) : namespace ‘jsonlite’ is imported by ‘IRkernel’, ‘repr’ so cannot be unloaded\n\n",
     "execution_count": 5,
     "output_type": "error",
     "traceback": [
      "Error in value[[3L]](cond): Package ‘jsonlite’ version 1.6.1 cannot be unloaded:\n Error in unloadNamespace(package) : namespace ‘jsonlite’ is imported by ‘IRkernel’, ‘repr’ so cannot be unloaded\n\nTraceback:\n",
      "1. library(\"jsonlite\")",
      "2. tryCatch(unloadNamespace(package), error = function(e) {\n .     P <- if (!is.null(cc <- conditionCall(e))) \n .         paste(\"Error in\", deparse(cc)[1L], \": \")\n .     else \"Error : \"\n .     stop(gettextf(\"Package %s version %s cannot be unloaded:\\n %s\", \n .         sQuote(package), oldversion, paste0(P, conditionMessage(e), \n .             \"\\n\")), domain = NA)\n . })",
      "3. tryCatchList(expr, classes, parentenv, handlers)",
      "4. tryCatchOne(expr, names, parentenv, handlers[[1L]])",
      "5. value[[3L]](cond)",
      "6. stop(gettextf(\"Package %s version %s cannot be unloaded:\\n %s\", \n .     sQuote(package), oldversion, paste0(P, conditionMessage(e), \n .         \"\\n\")), domain = NA)"
     ]
    }
   ],
   "source": [
    "library(\"httr\")\n",
    "library(\"jsonlite\")"
   ]
  },
  {
   "cell_type": "code",
   "execution_count": 4,
   "metadata": {},
   "outputs": [
    {
     "ename": "ERROR",
     "evalue": "Error in fromJSON(content): could not find function \"fromJSON\"\n",
     "execution_count": 4,
     "output_type": "error",
     "traceback": [
      "Error in fromJSON(content): could not find function \"fromJSON\"\nTraceback:\n"
     ]
    }
   ],
   "source": [
    "URL = \"http://phuong13021982.pythonanywhere.com/mystore/product_service/\"\n",
    "getURL = GET(URL)\n",
    "content = rawToChar(getURL$content)\n",
    "json = fromJSON(content)\n",
    "tivis = data.frame(json)\n",
    "tivis$description = NULL\n",
    "print(tivis)"
   ]
  },
  {
   "cell_type": "code",
   "execution_count": 6,
   "metadata": {},
   "outputs": [
    {
     "ename": "ERROR",
     "evalue": "Error in toJSON(tivis): could not find function \"toJSON\"\n",
     "execution_count": 6,
     "output_type": "error",
     "traceback": [
      "Error in toJSON(tivis): could not find function \"toJSON\"\nTraceback:\n"
     ]
    }
   ],
   "source": [
    "tivi_json = toJSON(tivis)\n",
    "write(tivis_json, file =\"Du_lieu/tivis_new.json\")"
   ]
  },
  {
   "cell_type": "code",
   "execution_count": null,
   "metadata": {},
   "outputs": [],
   "source": []
  }
 ],
 "metadata": {
  "kernelspec": {
   "display_name": "R",
   "language": "R",
   "name": "conda-env-r-r"
  },
  "language_info": {
   "codemirror_mode": "r",
   "file_extension": ".r",
   "mimetype": "text/x-r-source",
   "name": "R",
   "pygments_lexer": "r",
   "version": "3.5.1"
  }
 },
 "nbformat": 4,
 "nbformat_minor": 4
}
