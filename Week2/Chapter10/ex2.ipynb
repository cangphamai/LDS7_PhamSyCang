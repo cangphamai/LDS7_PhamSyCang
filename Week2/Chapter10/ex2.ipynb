{
 "cells": [
  {
   "cell_type": "code",
   "execution_count": 1,
   "metadata": {},
   "outputs": [
    {
     "name": "stderr",
     "output_type": "stream",
     "text": [
      "Updating HTML index of packages in '.Library'\n",
      "Making 'packages.html' ... done\n"
     ]
    }
   ],
   "source": [
    "install.packages(\"XML\")"
   ]
  },
  {
   "cell_type": "code",
   "execution_count": 3,
   "metadata": {},
   "outputs": [],
   "source": [
    "library(\"XML\")\n",
    "library(\"methods\")"
   ]
  },
  {
   "cell_type": "code",
   "execution_count": 4,
   "metadata": {},
   "outputs": [],
   "source": [
    "df = mtcars\n",
    "df = cbind(names = rownames(df), df)"
   ]
  },
  {
   "cell_type": "code",
   "execution_count": 5,
   "metadata": {},
   "outputs": [
    {
     "name": "stdout",
     "output_type": "stream",
     "text": [
      "              names  mpg cyl disp  hp drat    wt  qsec vs am gear carb\n",
      "1         Mazda RX4 21.0   6  160 110 3.90 2.620 16.46  0  1    4    4\n",
      "2     Mazda RX4 Wag 21.0   6  160 110 3.90 2.875 17.02  0  1    4    4\n",
      "3        Datsun 710 22.8   4  108  93 3.85 2.320 18.61  1  1    4    1\n",
      "4    Hornet 4 Drive 21.4   6  258 110 3.08 3.215 19.44  1  0    3    1\n",
      "5 Hornet Sportabout 18.7   8  360 175 3.15 3.440 17.02  0  0    3    2\n",
      "6           Valiant 18.1   6  225 105 2.76 3.460 20.22  1  0    3    1\n"
     ]
    }
   ],
   "source": [
    "rownames(df) = c()\n",
    "print(head(df))"
   ]
  },
  {
   "cell_type": "code",
   "execution_count": 6,
   "metadata": {},
   "outputs": [
    {
     "name": "stdout",
     "output_type": "stream",
     "text": [
      "[1] \"save file...\"\n"
     ]
    }
   ],
   "source": [
    "doc = newXMLDoc()\n",
    "top = newXMLNode(\"cars\", doc= doc)\n",
    "for(row in 1: nrow(df)){\n",
    "    carnode = newXMLNode(\"car\", parent= top)\n",
    "    newXMLNode(\"names\", df[row, \"names\"], parent=carnode)\n",
    "    newXMLNode(\"mpg\", df[row, \"mpg\"], parent=carnode)\n",
    "    newXMLNode(\"wt\", df[row, \"wt\"], parent=carnode)\n",
    "    newXMLNode(\"gear\", df[row, \"gear\"], parent=carnode)\n",
    "}\n",
    "print(\"save file...\")\n",
    "cat(saveXML(doc, indent = TRUE, prefix = \"<?xml version=\\\"1.0\\\" encoding=\\\"utf-8\\\" standalone=\\\"no\\\"?>\\n\"),\n",
    "    file=\"Du_lieu/mtcars_new.xml\")"
   ]
  },
  {
   "cell_type": "code",
   "execution_count": 7,
   "metadata": {},
   "outputs": [
    {
     "data": {
      "text/html": [
       "<table>\n",
       "<caption>A data.frame: 32 × 4</caption>\n",
       "<thead>\n",
       "\t<tr><th scope=col>names</th><th scope=col>mpg</th><th scope=col>wt</th><th scope=col>gear</th></tr>\n",
       "\t<tr><th scope=col>&lt;fct&gt;</th><th scope=col>&lt;fct&gt;</th><th scope=col>&lt;fct&gt;</th><th scope=col>&lt;fct&gt;</th></tr>\n",
       "</thead>\n",
       "<tbody>\n",
       "\t<tr><td>Mazda RX4          </td><td>21  </td><td>2.62 </td><td>4</td></tr>\n",
       "\t<tr><td>Mazda RX4 Wag      </td><td>21  </td><td>2.875</td><td>4</td></tr>\n",
       "\t<tr><td>Datsun 710         </td><td>22.8</td><td>2.32 </td><td>4</td></tr>\n",
       "\t<tr><td>Hornet 4 Drive     </td><td>21.4</td><td>3.215</td><td>3</td></tr>\n",
       "\t<tr><td>Hornet Sportabout  </td><td>18.7</td><td>3.44 </td><td>3</td></tr>\n",
       "\t<tr><td>Valiant            </td><td>18.1</td><td>3.46 </td><td>3</td></tr>\n",
       "\t<tr><td>Duster 360         </td><td>14.3</td><td>3.57 </td><td>3</td></tr>\n",
       "\t<tr><td>Merc 240D          </td><td>24.4</td><td>3.19 </td><td>4</td></tr>\n",
       "\t<tr><td>Merc 230           </td><td>22.8</td><td>3.15 </td><td>4</td></tr>\n",
       "\t<tr><td>Merc 280           </td><td>19.2</td><td>3.44 </td><td>4</td></tr>\n",
       "\t<tr><td>Merc 280C          </td><td>17.8</td><td>3.44 </td><td>4</td></tr>\n",
       "\t<tr><td>Merc 450SE         </td><td>16.4</td><td>4.07 </td><td>3</td></tr>\n",
       "\t<tr><td>Merc 450SL         </td><td>17.3</td><td>3.73 </td><td>3</td></tr>\n",
       "\t<tr><td>Merc 450SLC        </td><td>15.2</td><td>3.78 </td><td>3</td></tr>\n",
       "\t<tr><td>Cadillac Fleetwood </td><td>10.4</td><td>5.25 </td><td>3</td></tr>\n",
       "\t<tr><td>Lincoln Continental</td><td>10.4</td><td>5.424</td><td>3</td></tr>\n",
       "\t<tr><td>Chrysler Imperial  </td><td>14.7</td><td>5.345</td><td>3</td></tr>\n",
       "\t<tr><td>Fiat 128           </td><td>32.4</td><td>2.2  </td><td>4</td></tr>\n",
       "\t<tr><td>Honda Civic        </td><td>30.4</td><td>1.615</td><td>4</td></tr>\n",
       "\t<tr><td>Toyota Corolla     </td><td>33.9</td><td>1.835</td><td>4</td></tr>\n",
       "\t<tr><td>Toyota Corona      </td><td>21.5</td><td>2.465</td><td>3</td></tr>\n",
       "\t<tr><td>Dodge Challenger   </td><td>15.5</td><td>3.52 </td><td>3</td></tr>\n",
       "\t<tr><td>AMC Javelin        </td><td>15.2</td><td>3.435</td><td>3</td></tr>\n",
       "\t<tr><td>Camaro Z28         </td><td>13.3</td><td>3.84 </td><td>3</td></tr>\n",
       "\t<tr><td>Pontiac Firebird   </td><td>19.2</td><td>3.845</td><td>3</td></tr>\n",
       "\t<tr><td>Fiat X1-9          </td><td>27.3</td><td>1.935</td><td>4</td></tr>\n",
       "\t<tr><td>Porsche 914-2      </td><td>26  </td><td>2.14 </td><td>5</td></tr>\n",
       "\t<tr><td>Lotus Europa       </td><td>30.4</td><td>1.513</td><td>5</td></tr>\n",
       "\t<tr><td>Ford Pantera L     </td><td>15.8</td><td>3.17 </td><td>5</td></tr>\n",
       "\t<tr><td>Ferrari Dino       </td><td>19.7</td><td>2.77 </td><td>5</td></tr>\n",
       "\t<tr><td>Maserati Bora      </td><td>15  </td><td>3.57 </td><td>5</td></tr>\n",
       "\t<tr><td>Volvo 142E         </td><td>21.4</td><td>2.78 </td><td>4</td></tr>\n",
       "</tbody>\n",
       "</table>\n"
      ],
      "text/latex": [
       "A data.frame: 32 × 4\n",
       "\\begin{tabular}{llll}\n",
       " names & mpg & wt & gear\\\\\n",
       " <fct> & <fct> & <fct> & <fct>\\\\\n",
       "\\hline\n",
       "\t Mazda RX4           & 21   & 2.62  & 4\\\\\n",
       "\t Mazda RX4 Wag       & 21   & 2.875 & 4\\\\\n",
       "\t Datsun 710          & 22.8 & 2.32  & 4\\\\\n",
       "\t Hornet 4 Drive      & 21.4 & 3.215 & 3\\\\\n",
       "\t Hornet Sportabout   & 18.7 & 3.44  & 3\\\\\n",
       "\t Valiant             & 18.1 & 3.46  & 3\\\\\n",
       "\t Duster 360          & 14.3 & 3.57  & 3\\\\\n",
       "\t Merc 240D           & 24.4 & 3.19  & 4\\\\\n",
       "\t Merc 230            & 22.8 & 3.15  & 4\\\\\n",
       "\t Merc 280            & 19.2 & 3.44  & 4\\\\\n",
       "\t Merc 280C           & 17.8 & 3.44  & 4\\\\\n",
       "\t Merc 450SE          & 16.4 & 4.07  & 3\\\\\n",
       "\t Merc 450SL          & 17.3 & 3.73  & 3\\\\\n",
       "\t Merc 450SLC         & 15.2 & 3.78  & 3\\\\\n",
       "\t Cadillac Fleetwood  & 10.4 & 5.25  & 3\\\\\n",
       "\t Lincoln Continental & 10.4 & 5.424 & 3\\\\\n",
       "\t Chrysler Imperial   & 14.7 & 5.345 & 3\\\\\n",
       "\t Fiat 128            & 32.4 & 2.2   & 4\\\\\n",
       "\t Honda Civic         & 30.4 & 1.615 & 4\\\\\n",
       "\t Toyota Corolla      & 33.9 & 1.835 & 4\\\\\n",
       "\t Toyota Corona       & 21.5 & 2.465 & 3\\\\\n",
       "\t Dodge Challenger    & 15.5 & 3.52  & 3\\\\\n",
       "\t AMC Javelin         & 15.2 & 3.435 & 3\\\\\n",
       "\t Camaro Z28          & 13.3 & 3.84  & 3\\\\\n",
       "\t Pontiac Firebird    & 19.2 & 3.845 & 3\\\\\n",
       "\t Fiat X1-9           & 27.3 & 1.935 & 4\\\\\n",
       "\t Porsche 914-2       & 26   & 2.14  & 5\\\\\n",
       "\t Lotus Europa        & 30.4 & 1.513 & 5\\\\\n",
       "\t Ford Pantera L      & 15.8 & 3.17  & 5\\\\\n",
       "\t Ferrari Dino        & 19.7 & 2.77  & 5\\\\\n",
       "\t Maserati Bora       & 15   & 3.57  & 5\\\\\n",
       "\t Volvo 142E          & 21.4 & 2.78  & 4\\\\\n",
       "\\end{tabular}\n"
      ],
      "text/markdown": [
       "\n",
       "A data.frame: 32 × 4\n",
       "\n",
       "| names &lt;fct&gt; | mpg &lt;fct&gt; | wt &lt;fct&gt; | gear &lt;fct&gt; |\n",
       "|---|---|---|---|\n",
       "| Mazda RX4           | 21   | 2.62  | 4 |\n",
       "| Mazda RX4 Wag       | 21   | 2.875 | 4 |\n",
       "| Datsun 710          | 22.8 | 2.32  | 4 |\n",
       "| Hornet 4 Drive      | 21.4 | 3.215 | 3 |\n",
       "| Hornet Sportabout   | 18.7 | 3.44  | 3 |\n",
       "| Valiant             | 18.1 | 3.46  | 3 |\n",
       "| Duster 360          | 14.3 | 3.57  | 3 |\n",
       "| Merc 240D           | 24.4 | 3.19  | 4 |\n",
       "| Merc 230            | 22.8 | 3.15  | 4 |\n",
       "| Merc 280            | 19.2 | 3.44  | 4 |\n",
       "| Merc 280C           | 17.8 | 3.44  | 4 |\n",
       "| Merc 450SE          | 16.4 | 4.07  | 3 |\n",
       "| Merc 450SL          | 17.3 | 3.73  | 3 |\n",
       "| Merc 450SLC         | 15.2 | 3.78  | 3 |\n",
       "| Cadillac Fleetwood  | 10.4 | 5.25  | 3 |\n",
       "| Lincoln Continental | 10.4 | 5.424 | 3 |\n",
       "| Chrysler Imperial   | 14.7 | 5.345 | 3 |\n",
       "| Fiat 128            | 32.4 | 2.2   | 4 |\n",
       "| Honda Civic         | 30.4 | 1.615 | 4 |\n",
       "| Toyota Corolla      | 33.9 | 1.835 | 4 |\n",
       "| Toyota Corona       | 21.5 | 2.465 | 3 |\n",
       "| Dodge Challenger    | 15.5 | 3.52  | 3 |\n",
       "| AMC Javelin         | 15.2 | 3.435 | 3 |\n",
       "| Camaro Z28          | 13.3 | 3.84  | 3 |\n",
       "| Pontiac Firebird    | 19.2 | 3.845 | 3 |\n",
       "| Fiat X1-9           | 27.3 | 1.935 | 4 |\n",
       "| Porsche 914-2       | 26   | 2.14  | 5 |\n",
       "| Lotus Europa        | 30.4 | 1.513 | 5 |\n",
       "| Ford Pantera L      | 15.8 | 3.17  | 5 |\n",
       "| Ferrari Dino        | 19.7 | 2.77  | 5 |\n",
       "| Maserati Bora       | 15   | 3.57  | 5 |\n",
       "| Volvo 142E          | 21.4 | 2.78  | 4 |\n",
       "\n"
      ],
      "text/plain": [
       "   names               mpg  wt    gear\n",
       "1  Mazda RX4           21   2.62  4   \n",
       "2  Mazda RX4 Wag       21   2.875 4   \n",
       "3  Datsun 710          22.8 2.32  4   \n",
       "4  Hornet 4 Drive      21.4 3.215 3   \n",
       "5  Hornet Sportabout   18.7 3.44  3   \n",
       "6  Valiant             18.1 3.46  3   \n",
       "7  Duster 360          14.3 3.57  3   \n",
       "8  Merc 240D           24.4 3.19  4   \n",
       "9  Merc 230            22.8 3.15  4   \n",
       "10 Merc 280            19.2 3.44  4   \n",
       "11 Merc 280C           17.8 3.44  4   \n",
       "12 Merc 450SE          16.4 4.07  3   \n",
       "13 Merc 450SL          17.3 3.73  3   \n",
       "14 Merc 450SLC         15.2 3.78  3   \n",
       "15 Cadillac Fleetwood  10.4 5.25  3   \n",
       "16 Lincoln Continental 10.4 5.424 3   \n",
       "17 Chrysler Imperial   14.7 5.345 3   \n",
       "18 Fiat 128            32.4 2.2   4   \n",
       "19 Honda Civic         30.4 1.615 4   \n",
       "20 Toyota Corolla      33.9 1.835 4   \n",
       "21 Toyota Corona       21.5 2.465 3   \n",
       "22 Dodge Challenger    15.5 3.52  3   \n",
       "23 AMC Javelin         15.2 3.435 3   \n",
       "24 Camaro Z28          13.3 3.84  3   \n",
       "25 Pontiac Firebird    19.2 3.845 3   \n",
       "26 Fiat X1-9           27.3 1.935 4   \n",
       "27 Porsche 914-2       26   2.14  5   \n",
       "28 Lotus Europa        30.4 1.513 5   \n",
       "29 Ford Pantera L      15.8 3.17  5   \n",
       "30 Ferrari Dino        19.7 2.77  5   \n",
       "31 Maserati Bora       15   3.57  5   \n",
       "32 Volvo 142E          21.4 2.78  4   "
      ]
     },
     "metadata": {},
     "output_type": "display_data"
    }
   ],
   "source": [
    "mtcar_new = xmlToDataFrame(\"Du_lieu/mtcars_new.xml\")\n",
    "mtcar_new"
   ]
  },
  {
   "cell_type": "code",
   "execution_count": null,
   "metadata": {},
   "outputs": [],
   "source": []
  }
 ],
 "metadata": {
  "kernelspec": {
   "display_name": "R",
   "language": "R",
   "name": "conda-env-r-r"
  },
  "language_info": {
   "codemirror_mode": "r",
   "file_extension": ".r",
   "mimetype": "text/x-r-source",
   "name": "R",
   "pygments_lexer": "r",
   "version": "3.5.1"
  }
 },
 "nbformat": 4,
 "nbformat_minor": 4
}
