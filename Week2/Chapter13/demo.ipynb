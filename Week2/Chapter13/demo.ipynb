{
 "cells": [
  {
   "cell_type": "code",
   "execution_count": 1,
   "metadata": {},
   "outputs": [
    {
     "data": {
      "text/html": [
       "31.125"
      ],
      "text/latex": [
       "31.125"
      ],
      "text/markdown": [
       "31.125"
      ],
      "text/plain": [
       "[1] 31.125"
      ]
     },
     "metadata": {},
     "output_type": "display_data"
    }
   ],
   "source": [
    "age = c(15,35,24,26,12,17,50,70)\n",
    "mean(age)"
   ]
  },
  {
   "cell_type": "code",
   "execution_count": 2,
   "metadata": {},
   "outputs": [
    {
     "data": {
      "text/html": [
       "25"
      ],
      "text/latex": [
       "25"
      ],
      "text/markdown": [
       "25"
      ],
      "text/plain": [
       "[1] 25"
      ]
     },
     "metadata": {},
     "output_type": "display_data"
    }
   ],
   "source": [
    "median(age)"
   ]
  },
  {
   "cell_type": "code",
   "execution_count": 4,
   "metadata": {},
   "outputs": [],
   "source": [
    "getmode = function(v){\n",
    "    uniqv = unique(v)\n",
    "    uniqv[which.max(tabulate(match(v, uniqv)))]\n",
    "}"
   ]
  },
  {
   "cell_type": "code",
   "execution_count": 5,
   "metadata": {},
   "outputs": [
    {
     "data": {
      "text/html": [
       "15"
      ],
      "text/latex": [
       "15"
      ],
      "text/markdown": [
       "15"
      ],
      "text/plain": [
       "[1] 15"
      ]
     },
     "metadata": {},
     "output_type": "display_data"
    }
   ],
   "source": [
    "getmode(age)"
   ]
  },
  {
   "cell_type": "code",
   "execution_count": 9,
   "metadata": {},
   "outputs": [
    {
     "data": {
      "text/html": [
       "<style>\n",
       ".list-inline {list-style: none; margin:0; padding: 0}\n",
       ".list-inline>li {display: inline-block}\n",
       ".list-inline>li:not(:last-child)::after {content: \"\\00b7\"; padding: 0 .5ex}\n",
       "</style>\n",
       "<ol class=list-inline><li>7</li><li>19</li></ol>\n"
      ],
      "text/latex": [
       "\\begin{enumerate*}\n",
       "\\item 7\n",
       "\\item 19\n",
       "\\end{enumerate*}\n"
      ],
      "text/markdown": [
       "1. 7\n",
       "2. 19\n",
       "\n",
       "\n"
      ],
      "text/plain": [
       "[1]  7 19"
      ]
     },
     "metadata": {},
     "output_type": "display_data"
    }
   ],
   "source": [
    "a = c(7,9.5, 10, 11, 14,15,19)\n",
    "ptp = range(a)\n",
    "ptp"
   ]
  },
  {
   "cell_type": "code",
   "execution_count": 10,
   "metadata": {},
   "outputs": [],
   "source": [
    "ptp.value = ptp[2] - ptp[1]"
   ]
  },
  {
   "cell_type": "code",
   "execution_count": 11,
   "metadata": {},
   "outputs": [
    {
     "data": {
      "text/html": [
       "12"
      ],
      "text/latex": [
       "12"
      ],
      "text/markdown": [
       "12"
      ],
      "text/plain": [
       "[1] 12"
      ]
     },
     "metadata": {},
     "output_type": "display_data"
    }
   ],
   "source": [
    "ptp.value"
   ]
  },
  {
   "cell_type": "code",
   "execution_count": 12,
   "metadata": {},
   "outputs": [
    {
     "data": {
      "text/html": [
       "<style>\n",
       ".dl-inline {width: auto; margin:0; padding: 0}\n",
       ".dl-inline>dt, .dl-inline>dd {float: none; width: auto; display: inline-block}\n",
       ".dl-inline>dt::after {content: \":\\0020\"; padding-right: .5ex}\n",
       ".dl-inline>dt:not(:first-of-type) {padding-left: .5ex}\n",
       "</style><dl class=dl-inline><dt>35%</dt><dd>20.15</dd><dt>50%</dt><dd>25</dd><dt>98%</dt><dd>67.2</dd></dl>\n"
      ],
      "text/latex": [
       "\\begin{description*}\n",
       "\\item[35\\textbackslash{}\\%] 20.15\n",
       "\\item[50\\textbackslash{}\\%] 25\n",
       "\\item[98\\textbackslash{}\\%] 67.2\n",
       "\\end{description*}\n"
      ],
      "text/markdown": [
       "35%\n",
       ":   20.1550%\n",
       ":   2598%\n",
       ":   67.2\n",
       "\n"
      ],
      "text/plain": [
       "  35%   50%   98% \n",
       "20.15 25.00 67.20 "
      ]
     },
     "metadata": {},
     "output_type": "display_data"
    }
   ],
   "source": [
    "quantile(age, c(0.35, 0.5, .98))"
   ]
  },
  {
   "cell_type": "code",
   "execution_count": 13,
   "metadata": {},
   "outputs": [
    {
     "data": {
      "text/html": [
       "<style>\n",
       ".dl-inline {width: auto; margin:0; padding: 0}\n",
       ".dl-inline>dt, .dl-inline>dd {float: none; width: auto; display: inline-block}\n",
       ".dl-inline>dt::after {content: \":\\0020\"; padding-right: .5ex}\n",
       ".dl-inline>dt:not(:first-of-type) {padding-left: .5ex}\n",
       "</style><dl class=dl-inline><dt>0%</dt><dd>12</dd><dt>25%</dt><dd>16.5</dd><dt>50%</dt><dd>25</dd><dt>75%</dt><dd>38.75</dd><dt>100%</dt><dd>70</dd></dl>\n"
      ],
      "text/latex": [
       "\\begin{description*}\n",
       "\\item[0\\textbackslash{}\\%] 12\n",
       "\\item[25\\textbackslash{}\\%] 16.5\n",
       "\\item[50\\textbackslash{}\\%] 25\n",
       "\\item[75\\textbackslash{}\\%] 38.75\n",
       "\\item[100\\textbackslash{}\\%] 70\n",
       "\\end{description*}\n"
      ],
      "text/markdown": [
       "0%\n",
       ":   1225%\n",
       ":   16.550%\n",
       ":   2575%\n",
       ":   38.75100%\n",
       ":   70\n",
       "\n"
      ],
      "text/plain": [
       "   0%   25%   50%   75%  100% \n",
       "12.00 16.50 25.00 38.75 70.00 "
      ]
     },
     "metadata": {},
     "output_type": "display_data"
    }
   ],
   "source": [
    "quantile(age) #tu phan vi"
   ]
  },
  {
   "cell_type": "code",
   "execution_count": 14,
   "metadata": {},
   "outputs": [
    {
     "data": {
      "text/html": [
       "22.25"
      ],
      "text/latex": [
       "22.25"
      ],
      "text/markdown": [
       "22.25"
      ],
      "text/plain": [
       "[1] 22.25"
      ]
     },
     "metadata": {},
     "output_type": "display_data"
    }
   ],
   "source": [
    "IQR(age)"
   ]
  },
  {
   "cell_type": "code",
   "execution_count": 15,
   "metadata": {},
   "outputs": [
    {
     "data": {
      "text/html": [
       "397.839285714286"
      ],
      "text/latex": [
       "397.839285714286"
      ],
      "text/markdown": [
       "397.839285714286"
      ],
      "text/plain": [
       "[1] 397.8393"
      ]
     },
     "metadata": {},
     "output_type": "display_data"
    }
   ],
   "source": [
    "var(age) #phuong sai"
   ]
  },
  {
   "cell_type": "code",
   "execution_count": 16,
   "metadata": {},
   "outputs": [
    {
     "data": {
      "text/html": [
       "19.9459089969418"
      ],
      "text/latex": [
       "19.9459089969418"
      ],
      "text/markdown": [
       "19.9459089969418"
      ],
      "text/plain": [
       "[1] 19.94591"
      ]
     },
     "metadata": {},
     "output_type": "display_data"
    }
   ],
   "source": [
    "sd(age) #do lech chuan"
   ]
  },
  {
   "cell_type": "code",
   "execution_count": 17,
   "metadata": {},
   "outputs": [
    {
     "name": "stderr",
     "output_type": "stream",
     "text": [
      "Updating HTML index of packages in '.Library'\n",
      "Making 'packages.html' ... done\n"
     ]
    }
   ],
   "source": [
    "install.packages(\"moments\")"
   ]
  },
  {
   "cell_type": "code",
   "execution_count": 18,
   "metadata": {},
   "outputs": [],
   "source": [
    "library(\"moments\")"
   ]
  },
  {
   "cell_type": "code",
   "execution_count": 19,
   "metadata": {},
   "outputs": [
    {
     "data": {
      "text/html": [
       "0.982126856520175"
      ],
      "text/latex": [
       "0.982126856520175"
      ],
      "text/markdown": [
       "0.982126856520175"
      ],
      "text/plain": [
       "[1] 0.9821269"
      ]
     },
     "metadata": {},
     "output_type": "display_data"
    }
   ],
   "source": [
    "skewness(age)"
   ]
  },
  {
   "cell_type": "code",
   "execution_count": 20,
   "metadata": {},
   "outputs": [
    {
     "data": {
      "text/html": [
       "2.73924903705943"
      ],
      "text/latex": [
       "2.73924903705943"
      ],
      "text/markdown": [
       "2.73924903705943"
      ],
      "text/plain": [
       "[1] 2.739249"
      ]
     },
     "metadata": {},
     "output_type": "display_data"
    }
   ],
   "source": [
    "kurtosis(age) #do nhon"
   ]
  },
  {
   "cell_type": "code",
   "execution_count": 22,
   "metadata": {},
   "outputs": [
    {
     "data": {
      "text/html": [
       "1062961.23333333"
      ],
      "text/latex": [
       "1062961.23333333"
      ],
      "text/markdown": [
       "1062961.23333333"
      ],
      "text/plain": [
       "[1] 1062961"
      ]
     },
     "metadata": {},
     "output_type": "display_data"
    }
   ],
   "source": [
    "years = c(5,6,8,10,16,40)\n",
    "salary = c(30000, 24602, 54392, 12559, 69349, 234245)\n",
    "cov(years, salary) #hiep phuong sai"
   ]
  },
  {
   "cell_type": "code",
   "execution_count": 23,
   "metadata": {},
   "outputs": [
    {
     "data": {
      "text/html": [
       "0.97087922204766"
      ],
      "text/latex": [
       "0.97087922204766"
      ],
      "text/markdown": [
       "0.97087922204766"
      ],
      "text/plain": [
       "[1] 0.9708792"
      ]
     },
     "metadata": {},
     "output_type": "display_data"
    }
   ],
   "source": [
    "cor(years, salary) #correlation"
   ]
  },
  {
   "cell_type": "code",
   "execution_count": null,
   "metadata": {},
   "outputs": [],
   "source": []
  }
 ],
 "metadata": {
  "kernelspec": {
   "display_name": "R",
   "language": "R",
   "name": "conda-env-r-r"
  },
  "language_info": {
   "codemirror_mode": "r",
   "file_extension": ".r",
   "mimetype": "text/x-r-source",
   "name": "R",
   "pygments_lexer": "r",
   "version": "3.5.1"
  }
 },
 "nbformat": 4,
 "nbformat_minor": 4
}
