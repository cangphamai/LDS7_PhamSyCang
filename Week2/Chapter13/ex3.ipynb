{
 "cells": [
  {
   "cell_type": "code",
   "execution_count": 1,
   "metadata": {},
   "outputs": [
    {
     "name": "stderr",
     "output_type": "stream",
     "text": [
      "Warning message:\n",
      "“package ‘xlxs’ is not available (for R version 3.5.1)”"
     ]
    }
   ],
   "source": [
    "install.packages(\"xlxs\")"
   ]
  },
  {
   "cell_type": "code",
   "execution_count": 8,
   "metadata": {},
   "outputs": [
    {
     "ename": "ERROR",
     "evalue": "Error in library(\"xlxs\"): there is no package called ‘xlxs’\n",
     "execution_count": 8,
     "output_type": "error",
     "traceback": [
      "Error in library(\"xlxs\"): there is no package called ‘xlxs’\nTraceback:\n",
      "1. library(\"xlxs\")",
      "2. stop(txt, domain = NA)"
     ]
    }
   ],
   "source": [
    "library(\"xlxs\")"
   ]
  },
  {
   "cell_type": "code",
   "execution_count": 7,
   "metadata": {},
   "outputs": [
    {
     "ename": "ERROR",
     "evalue": "Error in read.xlxs(\"students.xls\", sheetName = \"Full\"): could not find function \"read.xlxs\"\n",
     "execution_count": 7,
     "output_type": "error",
     "traceback": [
      "Error in read.xlxs(\"students.xls\", sheetName = \"Full\"): could not find function \"read.xlxs\"\nTraceback:\n"
     ]
    }
   ],
   "source": [
    "df = read.xlxs(\"students.xls\", sheetName=\"Full\")\n",
    "head(df)"
   ]
  },
  {
   "cell_type": "code",
   "execution_count": 3,
   "metadata": {},
   "outputs": [
    {
     "name": "stderr",
     "output_type": "stream",
     "text": [
      "Warning message in is.na(df):\n",
      "“is.na() applied to non-(list or vector) of type 'closure'”"
     ]
    },
    {
     "ename": "ERROR",
     "evalue": "Error in colSums(!is.na(df)): 'x' must be an array of at least two dimensions\n",
     "execution_count": 3,
     "output_type": "error",
     "traceback": [
      "Error in colSums(!is.na(df)): 'x' must be an array of at least two dimensions\nTraceback:\n",
      "1. colSums(!is.na(df))",
      "2. stop(\"'x' must be an array of at least two dimensions\")"
     ]
    }
   ],
   "source": [
    "df = df[colSums(!is.na(df)) >0]"
   ]
  },
  {
   "cell_type": "code",
   "execution_count": 4,
   "metadata": {},
   "outputs": [],
   "source": [
    "df =na.omit(df)"
   ]
  },
  {
   "cell_type": "code",
   "execution_count": 5,
   "metadata": {},
   "outputs": [
    {
     "ename": "ERROR",
     "evalue": "Error in df[, 4:14]: object of type 'closure' is not subsettable\n",
     "execution_count": 5,
     "output_type": "error",
     "traceback": [
      "Error in df[, 4:14]: object of type 'closure' is not subsettable\nTraceback:\n"
     ]
    }
   ],
   "source": [
    "df = df[, 4:14]"
   ]
  },
  {
   "cell_type": "code",
   "execution_count": 6,
   "metadata": {},
   "outputs": [
    {
     "data": {
      "text/plain": [
       "                                              \n",
       "1 function (x, df1, df2, ncp, log = FALSE)    \n",
       "2 {                                           \n",
       "3     if (missing(ncp))                       \n",
       "4         .Call(C_df, x, df1, df2, log)       \n",
       "5     else .Call(C_dnf, x, df1, df2, ncp, log)\n",
       "6 }                                           "
      ]
     },
     "metadata": {},
     "output_type": "display_data"
    }
   ],
   "source": [
    "head(df)"
   ]
  },
  {
   "cell_type": "code",
   "execution_count": null,
   "metadata": {},
   "outputs": [],
   "source": []
  }
 ],
 "metadata": {
  "kernelspec": {
   "display_name": "R",
   "language": "R",
   "name": "conda-env-r-r"
  },
  "language_info": {
   "codemirror_mode": "r",
   "file_extension": ".r",
   "mimetype": "text/x-r-source",
   "name": "R",
   "pygments_lexer": "r",
   "version": "3.5.1"
  }
 },
 "nbformat": 4,
 "nbformat_minor": 4
}
