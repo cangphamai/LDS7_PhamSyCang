{
 "cells": [
  {
   "cell_type": "code",
   "execution_count": 2,
   "metadata": {},
   "outputs": [
    {
     "name": "stdout",
     "output_type": "stream",
     "text": [
      "    Name Age Height Weight Sex\n",
      "1   Alex  25    177     57   F\n",
      "2  Lilly  31    163     69   F\n",
      "3   Mark  23    190     83   M\n",
      "4 Oliver  52    179     75   M\n",
      "5 Martha  76    163     70   F\n",
      "6  Lucas  49    183     83   M\n"
     ]
    }
   ],
   "source": [
    "df = read.table(\"Du_lieu/Table6.txt\",\n",
    "               skip=1,\n",
    "               header =TRUE,\n",
    "               flush=TRUE,\n",
    "               comment.char=\"@\",\n",
    "               stringsAsFactor=FALSE)\n",
    "print(head(df))"
   ]
  },
  {
   "cell_type": "code",
   "execution_count": 3,
   "metadata": {},
   "outputs": [
    {
     "name": "stdout",
     "output_type": "stream",
     "text": [
      "[1] \"before dropping:\"\n",
      "[1] \"Rows: 105\"\n"
     ]
    }
   ],
   "source": [
    "print(\"before dropping:\")\n",
    "print(paste(\"Rows:\", nrow(df)))"
   ]
  },
  {
   "cell_type": "code",
   "execution_count": 4,
   "metadata": {},
   "outputs": [
    {
     "name": "stderr",
     "output_type": "stream",
     "text": [
      "── Attaching packages ─────────────────────────────────────── tidyverse 1.3.0 ──\n",
      "✔ ggplot2 3.3.0     ✔ purrr   0.3.4\n",
      "✔ tibble  3.0.1     ✔ dplyr   0.8.5\n",
      "✔ tidyr   1.0.2     ✔ stringr 1.4.0\n",
      "✔ readr   1.3.1     ✔ forcats 0.5.0\n",
      "── Conflicts ────────────────────────────────────────── tidyverse_conflicts() ──\n",
      "✖ dplyr::filter() masks stats::filter()\n",
      "✖ dplyr::lag()    masks stats::lag()\n"
     ]
    }
   ],
   "source": [
    "library(tidyverse)"
   ]
  },
  {
   "cell_type": "code",
   "execution_count": 5,
   "metadata": {},
   "outputs": [
    {
     "name": "stdout",
     "output_type": "stream",
     "text": [
      "[1] \"after dropping:\"\n",
      "[1] \"Rows: 7\"\n"
     ]
    }
   ],
   "source": [
    "df = df %>% unique()\n",
    "print(\"after dropping:\")\n",
    "print(paste(\"Rows:\", nrow(df)))"
   ]
  },
  {
   "cell_type": "code",
   "execution_count": 6,
   "metadata": {},
   "outputs": [
    {
     "data": {
      "text/html": [
       "<table>\n",
       "<caption>A data.frame: 7 × 5</caption>\n",
       "<thead>\n",
       "\t<tr><th></th><th scope=col>Name</th><th scope=col>Age</th><th scope=col>Height</th><th scope=col>Weight</th><th scope=col>Sex</th></tr>\n",
       "\t<tr><th></th><th scope=col>&lt;chr&gt;</th><th scope=col>&lt;int&gt;</th><th scope=col>&lt;int&gt;</th><th scope=col>&lt;int&gt;</th><th scope=col>&lt;chr&gt;</th></tr>\n",
       "</thead>\n",
       "<tbody>\n",
       "\t<tr><th scope=row>1</th><td>Alex    </td><td>25</td><td>177</td><td>57</td><td>F</td></tr>\n",
       "\t<tr><th scope=row>2</th><td>Lilly   </td><td>31</td><td>163</td><td>69</td><td>F</td></tr>\n",
       "\t<tr><th scope=row>3</th><td>Mark    </td><td>23</td><td>190</td><td>83</td><td>M</td></tr>\n",
       "\t<tr><th scope=row>4</th><td>Oliver  </td><td>52</td><td>179</td><td>75</td><td>M</td></tr>\n",
       "\t<tr><th scope=row>5</th><td>Martha  </td><td>76</td><td>163</td><td>70</td><td>F</td></tr>\n",
       "\t<tr><th scope=row>6</th><td>Lucas   </td><td>49</td><td>183</td><td>83</td><td>M</td></tr>\n",
       "\t<tr><th scope=row>7</th><td>Caroline</td><td>26</td><td>164</td><td>53</td><td>F</td></tr>\n",
       "</tbody>\n",
       "</table>\n"
      ],
      "text/latex": [
       "A data.frame: 7 × 5\n",
       "\\begin{tabular}{r|lllll}\n",
       "  & Name & Age & Height & Weight & Sex\\\\\n",
       "  & <chr> & <int> & <int> & <int> & <chr>\\\\\n",
       "\\hline\n",
       "\t1 & Alex     & 25 & 177 & 57 & F\\\\\n",
       "\t2 & Lilly    & 31 & 163 & 69 & F\\\\\n",
       "\t3 & Mark     & 23 & 190 & 83 & M\\\\\n",
       "\t4 & Oliver   & 52 & 179 & 75 & M\\\\\n",
       "\t5 & Martha   & 76 & 163 & 70 & F\\\\\n",
       "\t6 & Lucas    & 49 & 183 & 83 & M\\\\\n",
       "\t7 & Caroline & 26 & 164 & 53 & F\\\\\n",
       "\\end{tabular}\n"
      ],
      "text/markdown": [
       "\n",
       "A data.frame: 7 × 5\n",
       "\n",
       "| <!--/--> | Name &lt;chr&gt; | Age &lt;int&gt; | Height &lt;int&gt; | Weight &lt;int&gt; | Sex &lt;chr&gt; |\n",
       "|---|---|---|---|---|---|\n",
       "| 1 | Alex     | 25 | 177 | 57 | F |\n",
       "| 2 | Lilly    | 31 | 163 | 69 | F |\n",
       "| 3 | Mark     | 23 | 190 | 83 | M |\n",
       "| 4 | Oliver   | 52 | 179 | 75 | M |\n",
       "| 5 | Martha   | 76 | 163 | 70 | F |\n",
       "| 6 | Lucas    | 49 | 183 | 83 | M |\n",
       "| 7 | Caroline | 26 | 164 | 53 | F |\n",
       "\n"
      ],
      "text/plain": [
       "  Name     Age Height Weight Sex\n",
       "1 Alex     25  177    57     F  \n",
       "2 Lilly    31  163    69     F  \n",
       "3 Mark     23  190    83     M  \n",
       "4 Oliver   52  179    75     M  \n",
       "5 Martha   76  163    70     F  \n",
       "6 Lucas    49  183    83     M  \n",
       "7 Caroline 26  164    53     F  "
      ]
     },
     "metadata": {},
     "output_type": "display_data"
    }
   ],
   "source": [
    "df"
   ]
  },
  {
   "cell_type": "code",
   "execution_count": 7,
   "metadata": {},
   "outputs": [
    {
     "data": {
      "text/html": [
       "<table>\n",
       "<caption>A data.frame: 7 × 4</caption>\n",
       "<thead>\n",
       "\t<tr><th></th><th scope=col>Age</th><th scope=col>Height</th><th scope=col>Weight</th><th scope=col>Sex</th></tr>\n",
       "\t<tr><th></th><th scope=col>&lt;int&gt;</th><th scope=col>&lt;int&gt;</th><th scope=col>&lt;int&gt;</th><th scope=col>&lt;chr&gt;</th></tr>\n",
       "</thead>\n",
       "<tbody>\n",
       "\t<tr><th scope=row>Alex</th><td>25</td><td>177</td><td>57</td><td>F</td></tr>\n",
       "\t<tr><th scope=row>Lilly</th><td>31</td><td>163</td><td>69</td><td>F</td></tr>\n",
       "\t<tr><th scope=row>Mark</th><td>23</td><td>190</td><td>83</td><td>M</td></tr>\n",
       "\t<tr><th scope=row>Oliver</th><td>52</td><td>179</td><td>75</td><td>M</td></tr>\n",
       "\t<tr><th scope=row>Martha</th><td>76</td><td>163</td><td>70</td><td>F</td></tr>\n",
       "\t<tr><th scope=row>Lucas</th><td>49</td><td>183</td><td>83</td><td>M</td></tr>\n",
       "\t<tr><th scope=row>Caroline</th><td>26</td><td>164</td><td>53</td><td>F</td></tr>\n",
       "</tbody>\n",
       "</table>\n"
      ],
      "text/latex": [
       "A data.frame: 7 × 4\n",
       "\\begin{tabular}{r|llll}\n",
       "  & Age & Height & Weight & Sex\\\\\n",
       "  & <int> & <int> & <int> & <chr>\\\\\n",
       "\\hline\n",
       "\tAlex & 25 & 177 & 57 & F\\\\\n",
       "\tLilly & 31 & 163 & 69 & F\\\\\n",
       "\tMark & 23 & 190 & 83 & M\\\\\n",
       "\tOliver & 52 & 179 & 75 & M\\\\\n",
       "\tMartha & 76 & 163 & 70 & F\\\\\n",
       "\tLucas & 49 & 183 & 83 & M\\\\\n",
       "\tCaroline & 26 & 164 & 53 & F\\\\\n",
       "\\end{tabular}\n"
      ],
      "text/markdown": [
       "\n",
       "A data.frame: 7 × 4\n",
       "\n",
       "| <!--/--> | Age &lt;int&gt; | Height &lt;int&gt; | Weight &lt;int&gt; | Sex &lt;chr&gt; |\n",
       "|---|---|---|---|---|\n",
       "| Alex | 25 | 177 | 57 | F |\n",
       "| Lilly | 31 | 163 | 69 | F |\n",
       "| Mark | 23 | 190 | 83 | M |\n",
       "| Oliver | 52 | 179 | 75 | M |\n",
       "| Martha | 76 | 163 | 70 | F |\n",
       "| Lucas | 49 | 183 | 83 | M |\n",
       "| Caroline | 26 | 164 | 53 | F |\n",
       "\n"
      ],
      "text/plain": [
       "         Age Height Weight Sex\n",
       "Alex     25  177    57     F  \n",
       "Lilly    31  163    69     F  \n",
       "Mark     23  190    83     M  \n",
       "Oliver   52  179    75     M  \n",
       "Martha   76  163    70     F  \n",
       "Lucas    49  183    83     M  \n",
       "Caroline 26  164    53     F  "
      ]
     },
     "metadata": {},
     "output_type": "display_data"
    }
   ],
   "source": [
    "rownames(df)= df$Name\n",
    "df$Name = NULL\n",
    "df"
   ]
  },
  {
   "cell_type": "code",
   "execution_count": 8,
   "metadata": {},
   "outputs": [
    {
     "name": "stdout",
     "output_type": "stream",
     "text": [
      "[1] \"write to file\"\n"
     ]
    }
   ],
   "source": [
    "print(\"write to file\")\n",
    "write.table(df, file=\"Du_lieu/Table6_new.txt\", sep=\"\\t\")"
   ]
  },
  {
   "cell_type": "code",
   "execution_count": 9,
   "metadata": {},
   "outputs": [
    {
     "name": "stdout",
     "output_type": "stream",
     "text": [
      "         Age Height Weight Sex\n",
      "Alex      25    177     57   F\n",
      "Lilly     31    163     69   F\n",
      "Mark      23    190     83   M\n",
      "Oliver    52    179     75   M\n",
      "Martha    76    163     70   F\n",
      "Lucas     49    183     83   M\n",
      "Caroline  26    164     53   F\n"
     ]
    }
   ],
   "source": [
    "df_new = read.table(\"Du_lieu/Table6_new.txt\")\n",
    "print(df_new)"
   ]
  },
  {
   "cell_type": "code",
   "execution_count": null,
   "metadata": {},
   "outputs": [],
   "source": []
  }
 ],
 "metadata": {
  "kernelspec": {
   "display_name": "R",
   "language": "R",
   "name": "conda-env-r-r"
  },
  "language_info": {
   "codemirror_mode": "r",
   "file_extension": ".r",
   "mimetype": "text/x-r-source",
   "name": "R",
   "pygments_lexer": "r",
   "version": "3.5.1"
  }
 },
 "nbformat": 4,
 "nbformat_minor": 4
}
