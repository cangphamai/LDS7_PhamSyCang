{
 "cells": [
  {
   "cell_type": "code",
   "execution_count": 2,
   "metadata": {},
   "outputs": [
    {
     "name": "stderr",
     "output_type": "stream",
     "text": [
      "Updating HTML index of packages in '.Library'\n",
      "Making 'packages.html' ... done\n"
     ]
    }
   ],
   "source": [
    "install.packages(\"xlsx\")\n",
    "library(\"xlsx\")"
   ]
  },
  {
   "cell_type": "code",
   "execution_count": 3,
   "metadata": {},
   "outputs": [
    {
     "data": {
      "text/html": [
       "<table>\n",
       "<caption>A data.frame: 6 × 9</caption>\n",
       "<thead>\n",
       "\t<tr><th></th><th scope=col>NA.</th><th scope=col>Year</th><th scope=col>City</th><th scope=col>Sport</th><th scope=col>Discipline</th><th scope=col>NOC</th><th scope=col>Event</th><th scope=col>Event.gender</th><th scope=col>Medal</th></tr>\n",
       "\t<tr><th></th><th scope=col>&lt;fct&gt;</th><th scope=col>&lt;fct&gt;</th><th scope=col>&lt;fct&gt;</th><th scope=col>&lt;fct&gt;</th><th scope=col>&lt;fct&gt;</th><th scope=col>&lt;fct&gt;</th><th scope=col>&lt;fct&gt;</th><th scope=col>&lt;fct&gt;</th><th scope=col>&lt;fct&gt;</th></tr>\n",
       "</thead>\n",
       "<tbody>\n",
       "\t<tr><th scope=row>1</th><td>100</td><td>1932</td><td>Lake Placid</td><td>Skiing</td><td>Cross Country S</td><td>FIN</td><td>18km      </td><td>M</td><td>Bronze</td></tr>\n",
       "\t<tr><th scope=row>2</th><td>101</td><td>1932</td><td>Lake Placid</td><td>Skiing</td><td>Cross Country S</td><td>FIN</td><td>50km      </td><td>M</td><td>Gold  </td></tr>\n",
       "\t<tr><th scope=row>3</th><td>102</td><td>1932</td><td>Lake Placid</td><td>Skiing</td><td>Cross Country S</td><td>FIN</td><td>50km      </td><td>M</td><td>Silver</td></tr>\n",
       "\t<tr><th scope=row>4</th><td>110</td><td>1932</td><td>Lake Placid</td><td>Skiing</td><td>Cross Country S</td><td>NOR</td><td>50km      </td><td>M</td><td>Bronze</td></tr>\n",
       "\t<tr><th scope=row>5</th><td>111</td><td>1932</td><td>Lake Placid</td><td>Skiing</td><td>Nordic Combined</td><td>NOR</td><td>individual</td><td>M</td><td>Bronze</td></tr>\n",
       "\t<tr><th scope=row>6</th><td>112</td><td>1932</td><td>Lake Placid</td><td>Skiing</td><td>Nordic Combined</td><td>NOR</td><td>individual</td><td>M</td><td>Gold  </td></tr>\n",
       "</tbody>\n",
       "</table>\n"
      ],
      "text/latex": [
       "A data.frame: 6 × 9\n",
       "\\begin{tabular}{r|lllllllll}\n",
       "  & NA. & Year & City & Sport & Discipline & NOC & Event & Event.gender & Medal\\\\\n",
       "  & <fct> & <fct> & <fct> & <fct> & <fct> & <fct> & <fct> & <fct> & <fct>\\\\\n",
       "\\hline\n",
       "\t1 & 100 & 1932 & Lake Placid & Skiing & Cross Country S & FIN & 18km       & M & Bronze\\\\\n",
       "\t2 & 101 & 1932 & Lake Placid & Skiing & Cross Country S & FIN & 50km       & M & Gold  \\\\\n",
       "\t3 & 102 & 1932 & Lake Placid & Skiing & Cross Country S & FIN & 50km       & M & Silver\\\\\n",
       "\t4 & 110 & 1932 & Lake Placid & Skiing & Cross Country S & NOR & 50km       & M & Bronze\\\\\n",
       "\t5 & 111 & 1932 & Lake Placid & Skiing & Nordic Combined & NOR & individual & M & Bronze\\\\\n",
       "\t6 & 112 & 1932 & Lake Placid & Skiing & Nordic Combined & NOR & individual & M & Gold  \\\\\n",
       "\\end{tabular}\n"
      ],
      "text/markdown": [
       "\n",
       "A data.frame: 6 × 9\n",
       "\n",
       "| <!--/--> | NA. &lt;fct&gt; | Year &lt;fct&gt; | City &lt;fct&gt; | Sport &lt;fct&gt; | Discipline &lt;fct&gt; | NOC &lt;fct&gt; | Event &lt;fct&gt; | Event.gender &lt;fct&gt; | Medal &lt;fct&gt; |\n",
       "|---|---|---|---|---|---|---|---|---|---|\n",
       "| 1 | 100 | 1932 | Lake Placid | Skiing | Cross Country S | FIN | 18km       | M | Bronze |\n",
       "| 2 | 101 | 1932 | Lake Placid | Skiing | Cross Country S | FIN | 50km       | M | Gold   |\n",
       "| 3 | 102 | 1932 | Lake Placid | Skiing | Cross Country S | FIN | 50km       | M | Silver |\n",
       "| 4 | 110 | 1932 | Lake Placid | Skiing | Cross Country S | NOR | 50km       | M | Bronze |\n",
       "| 5 | 111 | 1932 | Lake Placid | Skiing | Nordic Combined | NOR | individual | M | Bronze |\n",
       "| 6 | 112 | 1932 | Lake Placid | Skiing | Nordic Combined | NOR | individual | M | Gold   |\n",
       "\n"
      ],
      "text/plain": [
       "  NA. Year City        Sport  Discipline      NOC Event      Event.gender\n",
       "1 100 1932 Lake Placid Skiing Cross Country S FIN 18km       M           \n",
       "2 101 1932 Lake Placid Skiing Cross Country S FIN 50km       M           \n",
       "3 102 1932 Lake Placid Skiing Cross Country S FIN 50km       M           \n",
       "4 110 1932 Lake Placid Skiing Cross Country S NOR 50km       M           \n",
       "5 111 1932 Lake Placid Skiing Nordic Combined NOR individual M           \n",
       "6 112 1932 Lake Placid Skiing Nordic Combined NOR individual M           \n",
       "  Medal \n",
       "1 Bronze\n",
       "2 Gold  \n",
       "3 Silver\n",
       "4 Bronze\n",
       "5 Bronze\n",
       "6 Gold  "
      ]
     },
     "metadata": {},
     "output_type": "display_data"
    }
   ],
   "source": [
    "data_1932_skiing = read.xlsx(\"Du_lieu/medals_new.xlsx\", sheetName=\"1932_skiing1\")\n",
    "head(data_1932_skiing)"
   ]
  },
  {
   "cell_type": "code",
   "execution_count": 4,
   "metadata": {},
   "outputs": [],
   "source": [
    "data_1932_skiing$NA. = NULL"
   ]
  },
  {
   "cell_type": "code",
   "execution_count": 5,
   "metadata": {},
   "outputs": [
    {
     "name": "stdout",
     "output_type": "stream",
     "text": [
      "  Year        City  Sport      Discipline NOC      Event Event.gender  Medal\n",
      "1 1932 Lake Placid Skiing Cross Country S FIN       18km            M Bronze\n",
      "2 1932 Lake Placid Skiing Cross Country S FIN       50km            M   Gold\n",
      "3 1932 Lake Placid Skiing Cross Country S FIN       50km            M Silver\n",
      "4 1932 Lake Placid Skiing Cross Country S NOR       50km            M Bronze\n",
      "5 1932 Lake Placid Skiing Nordic Combined NOR individual            M Bronze\n",
      "6 1932 Lake Placid Skiing Nordic Combined NOR individual            M   Gold\n"
     ]
    }
   ],
   "source": [
    "print(head(data_1932_skiing))"
   ]
  },
  {
   "cell_type": "code",
   "execution_count": 6,
   "metadata": {},
   "outputs": [
    {
     "name": "stdout",
     "output_type": "stream",
     "text": [
      "[1] \"number of golden medals: 4\"\n"
     ]
    }
   ],
   "source": [
    "n = sum(data_1932_skiing$Medal == \"Gold\")\n",
    "print(paste(\"number of golden medals:\", n))"
   ]
  },
  {
   "cell_type": "code",
   "execution_count": 7,
   "metadata": {},
   "outputs": [
    {
     "data": {
      "text/html": [
       "<table>\n",
       "<caption>A data.frame: 4 × 8</caption>\n",
       "<thead>\n",
       "\t<tr><th></th><th scope=col>Year</th><th scope=col>City</th><th scope=col>Sport</th><th scope=col>Discipline</th><th scope=col>NOC</th><th scope=col>Event</th><th scope=col>Event.gender</th><th scope=col>Medal</th></tr>\n",
       "\t<tr><th></th><th scope=col>&lt;fct&gt;</th><th scope=col>&lt;fct&gt;</th><th scope=col>&lt;fct&gt;</th><th scope=col>&lt;fct&gt;</th><th scope=col>&lt;fct&gt;</th><th scope=col>&lt;fct&gt;</th><th scope=col>&lt;fct&gt;</th><th scope=col>&lt;fct&gt;</th></tr>\n",
       "</thead>\n",
       "<tbody>\n",
       "\t<tr><th scope=row>2</th><td>1932</td><td>Lake Placid</td><td>Skiing</td><td>Cross Country S</td><td>FIN</td><td>50km                </td><td>M</td><td>Gold</td></tr>\n",
       "\t<tr><th scope=row>6</th><td>1932</td><td>Lake Placid</td><td>Skiing</td><td>Nordic Combined</td><td>NOR</td><td>individual          </td><td>M</td><td>Gold</td></tr>\n",
       "\t<tr><th scope=row>9</th><td>1932</td><td>Lake Placid</td><td>Skiing</td><td>Ski Jumping    </td><td>NOR</td><td>K90 individual (70m)</td><td>M</td><td>Gold</td></tr>\n",
       "\t<tr><th scope=row>11</th><td>1932</td><td>Lake Placid</td><td>Skiing</td><td>Cross Country S</td><td>SWE</td><td>18km                </td><td>M</td><td>Gold</td></tr>\n",
       "</tbody>\n",
       "</table>\n"
      ],
      "text/latex": [
       "A data.frame: 4 × 8\n",
       "\\begin{tabular}{r|llllllll}\n",
       "  & Year & City & Sport & Discipline & NOC & Event & Event.gender & Medal\\\\\n",
       "  & <fct> & <fct> & <fct> & <fct> & <fct> & <fct> & <fct> & <fct>\\\\\n",
       "\\hline\n",
       "\t2 & 1932 & Lake Placid & Skiing & Cross Country S & FIN & 50km                 & M & Gold\\\\\n",
       "\t6 & 1932 & Lake Placid & Skiing & Nordic Combined & NOR & individual           & M & Gold\\\\\n",
       "\t9 & 1932 & Lake Placid & Skiing & Ski Jumping     & NOR & K90 individual (70m) & M & Gold\\\\\n",
       "\t11 & 1932 & Lake Placid & Skiing & Cross Country S & SWE & 18km                 & M & Gold\\\\\n",
       "\\end{tabular}\n"
      ],
      "text/markdown": [
       "\n",
       "A data.frame: 4 × 8\n",
       "\n",
       "| <!--/--> | Year &lt;fct&gt; | City &lt;fct&gt; | Sport &lt;fct&gt; | Discipline &lt;fct&gt; | NOC &lt;fct&gt; | Event &lt;fct&gt; | Event.gender &lt;fct&gt; | Medal &lt;fct&gt; |\n",
       "|---|---|---|---|---|---|---|---|---|\n",
       "| 2 | 1932 | Lake Placid | Skiing | Cross Country S | FIN | 50km                 | M | Gold |\n",
       "| 6 | 1932 | Lake Placid | Skiing | Nordic Combined | NOR | individual           | M | Gold |\n",
       "| 9 | 1932 | Lake Placid | Skiing | Ski Jumping     | NOR | K90 individual (70m) | M | Gold |\n",
       "| 11 | 1932 | Lake Placid | Skiing | Cross Country S | SWE | 18km                 | M | Gold |\n",
       "\n"
      ],
      "text/plain": [
       "   Year City        Sport  Discipline      NOC Event               \n",
       "2  1932 Lake Placid Skiing Cross Country S FIN 50km                \n",
       "6  1932 Lake Placid Skiing Nordic Combined NOR individual          \n",
       "9  1932 Lake Placid Skiing Ski Jumping     NOR K90 individual (70m)\n",
       "11 1932 Lake Placid Skiing Cross Country S SWE 18km                \n",
       "   Event.gender Medal\n",
       "2  M            Gold \n",
       "6  M            Gold \n",
       "9  M            Gold \n",
       "11 M            Gold "
      ]
     },
     "metadata": {},
     "output_type": "display_data"
    }
   ],
   "source": [
    "data_golden_medals = subset(data_1932_skiing, data_1932_skiing$Medal == \"Gold\")\n",
    "data_golden_medals"
   ]
  },
  {
   "cell_type": "code",
   "execution_count": null,
   "metadata": {},
   "outputs": [],
   "source": []
  }
 ],
 "metadata": {
  "kernelspec": {
   "display_name": "R",
   "language": "R",
   "name": "conda-env-r-r"
  },
  "language_info": {
   "codemirror_mode": "r",
   "file_extension": ".r",
   "mimetype": "text/x-r-source",
   "name": "R",
   "pygments_lexer": "r",
   "version": "3.5.1"
  }
 },
 "nbformat": 4,
 "nbformat_minor": 4
}
