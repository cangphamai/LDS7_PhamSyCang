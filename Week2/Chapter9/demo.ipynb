{
 "cells": [
  {
   "cell_type": "code",
   "execution_count": 1,
   "metadata": {},
   "outputs": [
    {
     "name": "stdout",
     "output_type": "stream",
     "text": [
      "[1] \"/resources/LDS7_PhamSyCang/Week2/Chapter9\"\n"
     ]
    }
   ],
   "source": [
    "print(getwd())"
   ]
  },
  {
   "cell_type": "code",
   "execution_count": 5,
   "metadata": {},
   "outputs": [],
   "source": [
    "setwd(\"/resources/LDS7_PhamSyCang/Week2/Chapter9\")"
   ]
  },
  {
   "cell_type": "code",
   "execution_count": 6,
   "metadata": {},
   "outputs": [
    {
     "name": "stdout",
     "output_type": "stream",
     "text": [
      "[1] \"/resources/LDS7_PhamSyCang/Week2/Chapter9\"\n"
     ]
    }
   ],
   "source": [
    "print(getwd())"
   ]
  },
  {
   "cell_type": "code",
   "execution_count": 8,
   "metadata": {},
   "outputs": [
    {
     "name": "stdout",
     "output_type": "stream",
     "text": [
      "[1] \"These data files are derived by splitting up the data set downloaded from:\"\n",
      "[2] \"https://www.ontario.ca/data/ontario-public-schools-enrolment\"              \n",
      "[3] \"under the Open Government License - Ontario:\"                              \n",
      "[4] \"https://www.ontario.ca/page/open-government-licence-ontario\"               \n"
     ]
    }
   ],
   "source": [
    "content = readLines(\"Du_lieu/license.txt\")\n",
    "print(content)"
   ]
  },
  {
   "cell_type": "code",
   "execution_count": 9,
   "metadata": {},
   "outputs": [
    {
     "name": "stdout",
     "output_type": "stream",
     "text": [
      "[1] \"Mùa xuân là Tết trồng cây\"           \n",
      "[2] \"Làm cho đất nước càng ngày càng xuân\"\n",
      "[3] \"\"                                    \n"
     ]
    }
   ],
   "source": [
    "content = readLines(\"Du_lieu/bai_tho.txt\", encoding = \"UTF-8\")\n",
    "print(content)"
   ]
  },
  {
   "cell_type": "code",
   "execution_count": 10,
   "metadata": {},
   "outputs": [
    {
     "name": "stdout",
     "output_type": "stream",
     "text": [
      "[1] 3\n"
     ]
    }
   ],
   "source": [
    "print(length(content))"
   ]
  },
  {
   "cell_type": "code",
   "execution_count": 11,
   "metadata": {},
   "outputs": [
    {
     "name": "stdout",
     "output_type": "stream",
     "text": [
      "[1] 25 36  0\n"
     ]
    }
   ],
   "source": [
    "print(nchar(content))"
   ]
  },
  {
   "cell_type": "code",
   "execution_count": 12,
   "metadata": {},
   "outputs": [
    {
     "name": "stdout",
     "output_type": "stream",
     "text": [
      "[1] 242\n"
     ]
    }
   ],
   "source": [
    "print(file.size(\"Du_lieu/license.txt\"))"
   ]
  },
  {
   "cell_type": "code",
   "execution_count": 14,
   "metadata": {},
   "outputs": [
    {
     "name": "stdout",
     "output_type": "stream",
     "text": [
      " [1] \"These\"                                                       \n",
      " [2] \"data\"                                                        \n",
      " [3] \"files\"                                                       \n",
      " [4] \"are\"                                                         \n",
      " [5] \"derived\"                                                     \n",
      " [6] \"by\"                                                          \n",
      " [7] \"splitting\"                                                   \n",
      " [8] \"up\"                                                          \n",
      " [9] \"the\"                                                         \n",
      "[10] \"data\"                                                        \n",
      "[11] \"set\"                                                         \n",
      "[12] \"downloaded\"                                                  \n",
      "[13] \"from:\"                                                       \n",
      "[14] \"https://www.ontario.ca/data/ontario-public-schools-enrolment\"\n",
      "[15] \"under\"                                                       \n",
      "[16] \"the\"                                                         \n",
      "[17] \"Open\"                                                        \n",
      "[18] \"Government\"                                                  \n",
      "[19] \"License\"                                                     \n",
      "[20] \"-\"                                                           \n",
      "[21] \"Ontario:\"                                                    \n",
      "[22] \"https://www.ontario.ca/page/open-government-licence-ontario\" \n"
     ]
    }
   ],
   "source": [
    "content1 = scan(\"Du_lieu/license.txt\", \"\")\n",
    "print(content1)"
   ]
  },
  {
   "cell_type": "code",
   "execution_count": 15,
   "metadata": {},
   "outputs": [
    {
     "name": "stdout",
     "output_type": "stream",
     "text": [
      "        V1 V2  V3 V4 V5\n",
      "1     Alex 25 177 57  F\n",
      "2    Lilly 31 163 69  F\n",
      "3     Mark 23 190 83  M\n",
      "4   Oliver 52 179 75  M\n",
      "5   Martha 76 163 70  F\n",
      "6    Lucas 49 183 83  M\n",
      "7 Caroline 26 164 53  F\n"
     ]
    }
   ],
   "source": [
    "df = read.table(\"Du_lieu/Table0.txt\")\n",
    "print(df)"
   ]
  },
  {
   "cell_type": "code",
   "execution_count": 19,
   "metadata": {},
   "outputs": [
    {
     "name": "stdout",
     "output_type": "stream",
     "text": [
      "        c1 c2  c3 c4 c5\n",
      "1     Alex 25 177 57  F\n",
      "2    Lilly 31 163 69  F\n",
      "3     Mark 23 190 83  M\n",
      "4   Oliver 52 179 75  M\n",
      "5   Martha 76 163 70  F\n",
      "6    Lucas 49 183 83  M\n",
      "7 Caroline 26 164 53  F\n"
     ]
    }
   ],
   "source": [
    "names(df) = c(\"c1\", \"c2\", \"c3\", \"c4\", \"c5\")\n",
    "print(df)"
   ]
  },
  {
   "cell_type": "code",
   "execution_count": 21,
   "metadata": {},
   "outputs": [
    {
     "data": {
      "text/html": [
       "<style>\n",
       ".list-inline {list-style: none; margin:0; padding: 0}\n",
       ".list-inline>li {display: inline-block}\n",
       ".list-inline>li:not(:last-child)::after {content: \"\\00b7\"; padding: 0 .5ex}\n",
       "</style>\n",
       "<ol class=list-inline><li>1217</li><li>11</li></ol>\n"
      ],
      "text/latex": [
       "\\begin{enumerate*}\n",
       "\\item 1217\n",
       "\\item 11\n",
       "\\end{enumerate*}\n"
      ],
      "text/markdown": [
       "1. 1217\n",
       "2. 11\n",
       "\n",
       "\n"
      ],
      "text/plain": [
       "[1] 1217   11"
      ]
     },
     "metadata": {},
     "output_type": "display_data"
    }
   ],
   "source": [
    "ob = read.csv(\"Obesity_data.csv\")\n",
    "dim(ob)"
   ]
  },
  {
   "cell_type": "code",
   "execution_count": 23,
   "metadata": {},
   "outputs": [],
   "source": [
    "write.csv(head(ob), \"ob_head.csv\",row.names=FALSE)"
   ]
  },
  {
   "cell_type": "code",
   "execution_count": 24,
   "metadata": {},
   "outputs": [],
   "source": [
    "content2 = \"hello and welcome\"\n",
    "file_name = file(description = \"Du_lieu/text.txt\", open =\"a\", encoding=\"UTF-8\")\n",
    "write(content2, file=file_name)"
   ]
  },
  {
   "cell_type": "code",
   "execution_count": 25,
   "metadata": {},
   "outputs": [
    {
     "name": "stdout",
     "output_type": "stream",
     "text": [
      "[1] \"Hello and welcome\" \"Hello and welcome\" \"hello and welcome\"\n"
     ]
    }
   ],
   "source": [
    "content2 = readLines(\"Du_lieu/text.txt\", encoding = \"UTF-8\")\n",
    "print(content2)"
   ]
  },
  {
   "cell_type": "code",
   "execution_count": 26,
   "metadata": {},
   "outputs": [],
   "source": [
    "write.table(df, file =\"Du_lieu/Table0_new.txt\", sep=\"\\t\")"
   ]
  },
  {
   "cell_type": "code",
   "execution_count": 27,
   "metadata": {},
   "outputs": [
    {
     "name": "stdout",
     "output_type": "stream",
     "text": [
      "  id     name salary start_date       dept\n",
      "1  1     Rick 623.30 2012-01-01         IT\n",
      "2  2      Dan 515.20 2013-09-23 Operations\n",
      "3  3 Michelle 611.00 2014-11-15         IT\n",
      "4  4     Ryan 729.00 2014-05-11         HR\n",
      "5 NA     Gary 843.25 2015-03-27    Finance\n",
      "6  6     Nina 578.00 2013-05-21         IT\n",
      "7  7    Simon 632.80 2013-07-30 Operations\n",
      "8  8     Guru 722.50 2014-06-17    Finance\n"
     ]
    }
   ],
   "source": [
    "data = read.csv(\"Du_lieu/emp.csv\")\n",
    "print(data)"
   ]
  },
  {
   "cell_type": "code",
   "execution_count": 28,
   "metadata": {},
   "outputs": [
    {
     "name": "stdout",
     "output_type": "stream",
     "text": [
      "[1] \"max salary: 843.25\"\n",
      "[1] \"mean salary: 656.88125\"\n",
      "[1] \"people have max salary\"\n",
      "  id name salary start_date    dept\n",
      "5 NA Gary 843.25 2015-03-27 Finance\n"
     ]
    }
   ],
   "source": [
    "print(paste(\"max salary:\", max(data$salary)))\n",
    "print(paste(\"mean salary:\", mean(data$salary)))\n",
    "print(\"people have max salary\")\n",
    "print(subset(data, salary == max(data$salary)))"
   ]
  },
  {
   "cell_type": "code",
   "execution_count": 30,
   "metadata": {},
   "outputs": [
    {
     "name": "stderr",
     "output_type": "stream",
     "text": [
      "── Attaching packages ─────────────────────────────────────── tidyverse 1.3.0 ──\n",
      "✔ ggplot2 3.3.0     ✔ purrr   0.3.4\n",
      "✔ tibble  3.0.1     ✔ dplyr   1.0.3\n",
      "✔ tidyr   1.0.2     ✔ stringr 1.4.0\n",
      "✔ readr   1.3.1     ✔ forcats 0.5.0\n",
      "── Conflicts ────────────────────────────────────────── tidyverse_conflicts() ──\n",
      "✖ dplyr::filter() masks stats::filter()\n",
      "✖ dplyr::lag()    masks stats::lag()\n"
     ]
    }
   ],
   "source": [
    "library(tidyverse)"
   ]
  },
  {
   "cell_type": "code",
   "execution_count": 33,
   "metadata": {},
   "outputs": [
    {
     "name": "stdout",
     "output_type": "stream",
     "text": [
      "  id name salary start_date    dept\n",
      "1 NA Gary 843.25 2015-03-27 Finance\n"
     ]
    }
   ],
   "source": [
    "df_max = filter(data, salary == max(salary))\n",
    "print(df_max)"
   ]
  },
  {
   "cell_type": "code",
   "execution_count": 34,
   "metadata": {},
   "outputs": [
    {
     "name": "stdout",
     "output_type": "stream",
     "text": [
      "  id     name salary start_date dept\n",
      "1  1     Rick  623.3 2012-01-01   IT\n",
      "3  3 Michelle  611.0 2014-11-15   IT\n",
      "6  6     Nina  578.0 2013-05-21   IT\n"
     ]
    }
   ],
   "source": [
    "retval = subset(data, dept==\"IT\")\n",
    "print(retval)"
   ]
  },
  {
   "cell_type": "code",
   "execution_count": 36,
   "metadata": {},
   "outputs": [
    {
     "name": "stdout",
     "output_type": "stream",
     "text": [
      "  id     name salary start_date    dept\n",
      "3  3 Michelle 611.00 2014-11-15      IT\n",
      "4  4     Ryan 729.00 2014-05-11      HR\n",
      "5 NA     Gary 843.25 2015-03-27 Finance\n",
      "8  8     Guru 722.50 2014-06-17 Finance\n"
     ]
    }
   ],
   "source": [
    "retval = subset(data, as.Date(start_date) > as.Date(\"2014-01-01\"))\n",
    "print(retval)"
   ]
  },
  {
   "cell_type": "code",
   "execution_count": 37,
   "metadata": {},
   "outputs": [],
   "source": [
    "it_emps = subset(data, dept==\"IT\")"
   ]
  },
  {
   "cell_type": "code",
   "execution_count": 38,
   "metadata": {},
   "outputs": [
    {
     "name": "stdout",
     "output_type": "stream",
     "text": [
      "  id     name salary start_date dept\n",
      "1  1     Rick  623.3 2012-01-01   IT\n",
      "2  3 Michelle  611.0 2014-11-15   IT\n",
      "3  6     Nina  578.0 2013-05-21   IT\n"
     ]
    }
   ],
   "source": [
    "write.csv(it_emps, \"Du_lieu/it_emps.csv\", row.names =FALSE)\n",
    "newdata = read.csv(\"Du_lieu/it_emps.csv\")\n",
    "print(newdata)"
   ]
  },
  {
   "cell_type": "code",
   "execution_count": 40,
   "metadata": {},
   "outputs": [
    {
     "name": "stderr",
     "output_type": "stream",
     "text": [
      "also installing the dependency ‘xlsxjars’\n",
      "\n",
      "Updating HTML index of packages in '.Library'\n",
      "Making 'packages.html' ... done\n"
     ]
    }
   ],
   "source": [
    "install.packages(\"xlsx\")"
   ]
  },
  {
   "cell_type": "code",
   "execution_count": 41,
   "metadata": {},
   "outputs": [],
   "source": [
    "library(\"xlsx\")"
   ]
  },
  {
   "cell_type": "code",
   "execution_count": 42,
   "metadata": {},
   "outputs": [
    {
     "name": "stdout",
     "output_type": "stream",
     "text": [
      "  id     name salary start_date       dept\n",
      "1  1     Rick 623.30 2012-01-01         IT\n",
      "2  2      Dan 515.20 2013-09-23 Operations\n",
      "3  3 Michelle 611.00 2014-11-15         IT\n",
      "4  4     Ryan 729.00 2014-05-11         HR\n",
      "5        Gary 843.25 2015-03-27    Finance\n",
      "6  6     Nina 578.00 2013-05-21         IT\n",
      "7  7    Simon 632.80 2013-07-30 Operations\n",
      "8  8     Guru 722.50 2014-06-17    Finance\n"
     ]
    }
   ],
   "source": [
    "data= read.xlsx(\"Du_lieu/emp_data.xlsx\", sheetIndex =1)\n",
    "print(data)"
   ]
  },
  {
   "cell_type": "code",
   "execution_count": 44,
   "metadata": {},
   "outputs": [
    {
     "name": "stdout",
     "output_type": "stream",
     "text": [
      "      name    city\n",
      "1     Rick Seattle\n",
      "2      Dan   Tampa\n",
      "3 Michelle Chicago\n",
      "4     Ryan Seattle\n",
      "5     Gary Houston\n",
      "6     Nina  Boston\n",
      "7    Simon  Mumbai\n",
      "8     Guru  Dallas\n"
     ]
    }
   ],
   "source": [
    "data= read.xlsx(\"Du_lieu/emp_data.xlsx\", sheetName =\"city\")\n",
    "print(data)"
   ]
  },
  {
   "cell_type": "code",
   "execution_count": null,
   "metadata": {},
   "outputs": [],
   "source": [
    "write.xlsx(it_emps, \"Du_lieu/emp_Da\")"
   ]
  }
 ],
 "metadata": {
  "kernelspec": {
   "display_name": "R",
   "language": "R",
   "name": "conda-env-r-r"
  },
  "language_info": {
   "codemirror_mode": "r",
   "file_extension": ".r",
   "mimetype": "text/x-r-source",
   "name": "R",
   "pygments_lexer": "r",
   "version": "3.5.1"
  }
 },
 "nbformat": 4,
 "nbformat_minor": 4
}
