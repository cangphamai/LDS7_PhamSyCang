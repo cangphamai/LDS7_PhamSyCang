{
 "cells": [
  {
   "cell_type": "code",
   "execution_count": 2,
   "metadata": {},
   "outputs": [],
   "source": [
    "chol =  read.table(\"chol.txt\", header=TRUE)"
   ]
  },
  {
   "cell_type": "code",
   "execution_count": 3,
   "metadata": {},
   "outputs": [
    {
     "name": "stdout",
     "output_type": "stream",
     "text": [
      "'data.frame':\t200 obs. of  7 variables:\n",
      " $ AGE   : int  20 53 44 37 26 41 39 28 33 39 ...\n",
      " $ HEIGHT: int  176 167 170 173 170 165 174 171 180 166 ...\n",
      " $ WEIGHT: int  77 56 80 89 71 62 75 68 100 74 ...\n",
      " $ CHOL  : int  195 250 304 178 206 284 232 152 209 150 ...\n",
      " $ SMOKE : Factor w/ 3 levels \"nonsmo\",\"pipe\",..: 1 3 3 1 3 3 3 2 3 3 ...\n",
      " $ BLOOD : Factor w/ 4 levels \"a\",\"ab\",\"b\",\"o\": 3 4 1 4 4 4 4 1 1 1 ...\n",
      " $ MORT  : Factor w/ 2 levels \"alive\",\"dead\": 1 2 2 1 1 1 1 1 1 1 ...\n"
     ]
    }
   ],
   "source": [
    "str(chol)"
   ]
  },
  {
   "cell_type": "code",
   "execution_count": 4,
   "metadata": {},
   "outputs": [
    {
     "data": {
      "text/html": [
       "<table>\n",
       "<caption>A data.frame: 6 × 7</caption>\n",
       "<thead>\n",
       "\t<tr><th></th><th scope=col>AGE</th><th scope=col>HEIGHT</th><th scope=col>WEIGHT</th><th scope=col>CHOL</th><th scope=col>SMOKE</th><th scope=col>BLOOD</th><th scope=col>MORT</th></tr>\n",
       "\t<tr><th></th><th scope=col>&lt;int&gt;</th><th scope=col>&lt;int&gt;</th><th scope=col>&lt;int&gt;</th><th scope=col>&lt;int&gt;</th><th scope=col>&lt;fct&gt;</th><th scope=col>&lt;fct&gt;</th><th scope=col>&lt;fct&gt;</th></tr>\n",
       "</thead>\n",
       "<tbody>\n",
       "\t<tr><th scope=row>1</th><td>20</td><td>176</td><td>77</td><td>195</td><td>nonsmo</td><td>b</td><td>alive</td></tr>\n",
       "\t<tr><th scope=row>2</th><td>53</td><td>167</td><td>56</td><td>250</td><td>sigare</td><td>o</td><td>dead </td></tr>\n",
       "\t<tr><th scope=row>3</th><td>44</td><td>170</td><td>80</td><td>304</td><td>sigare</td><td>a</td><td>dead </td></tr>\n",
       "\t<tr><th scope=row>4</th><td>37</td><td>173</td><td>89</td><td>178</td><td>nonsmo</td><td>o</td><td>alive</td></tr>\n",
       "\t<tr><th scope=row>5</th><td>26</td><td>170</td><td>71</td><td>206</td><td>sigare</td><td>o</td><td>alive</td></tr>\n",
       "\t<tr><th scope=row>6</th><td>41</td><td>165</td><td>62</td><td>284</td><td>sigare</td><td>o</td><td>alive</td></tr>\n",
       "</tbody>\n",
       "</table>\n"
      ],
      "text/latex": [
       "A data.frame: 6 × 7\n",
       "\\begin{tabular}{r|lllllll}\n",
       "  & AGE & HEIGHT & WEIGHT & CHOL & SMOKE & BLOOD & MORT\\\\\n",
       "  & <int> & <int> & <int> & <int> & <fct> & <fct> & <fct>\\\\\n",
       "\\hline\n",
       "\t1 & 20 & 176 & 77 & 195 & nonsmo & b & alive\\\\\n",
       "\t2 & 53 & 167 & 56 & 250 & sigare & o & dead \\\\\n",
       "\t3 & 44 & 170 & 80 & 304 & sigare & a & dead \\\\\n",
       "\t4 & 37 & 173 & 89 & 178 & nonsmo & o & alive\\\\\n",
       "\t5 & 26 & 170 & 71 & 206 & sigare & o & alive\\\\\n",
       "\t6 & 41 & 165 & 62 & 284 & sigare & o & alive\\\\\n",
       "\\end{tabular}\n"
      ],
      "text/markdown": [
       "\n",
       "A data.frame: 6 × 7\n",
       "\n",
       "| <!--/--> | AGE &lt;int&gt; | HEIGHT &lt;int&gt; | WEIGHT &lt;int&gt; | CHOL &lt;int&gt; | SMOKE &lt;fct&gt; | BLOOD &lt;fct&gt; | MORT &lt;fct&gt; |\n",
       "|---|---|---|---|---|---|---|---|\n",
       "| 1 | 20 | 176 | 77 | 195 | nonsmo | b | alive |\n",
       "| 2 | 53 | 167 | 56 | 250 | sigare | o | dead  |\n",
       "| 3 | 44 | 170 | 80 | 304 | sigare | a | dead  |\n",
       "| 4 | 37 | 173 | 89 | 178 | nonsmo | o | alive |\n",
       "| 5 | 26 | 170 | 71 | 206 | sigare | o | alive |\n",
       "| 6 | 41 | 165 | 62 | 284 | sigare | o | alive |\n",
       "\n"
      ],
      "text/plain": [
       "  AGE HEIGHT WEIGHT CHOL SMOKE  BLOOD MORT \n",
       "1 20  176    77     195  nonsmo b     alive\n",
       "2 53  167    56     250  sigare o     dead \n",
       "3 44  170    80     304  sigare a     dead \n",
       "4 37  173    89     178  nonsmo o     alive\n",
       "5 26  170    71     206  sigare o     alive\n",
       "6 41  165    62     284  sigare o     alive"
      ]
     },
     "metadata": {},
     "output_type": "display_data"
    }
   ],
   "source": [
    "head(chol)"
   ]
  },
  {
   "cell_type": "code",
   "execution_count": 6,
   "metadata": {},
   "outputs": [
    {
     "data": {
      "image/png": "[encoded data removed]",
      "text/plain": [
       "Plot with title “Histogram of chol$AGE”"
      ]
     },
     "metadata": {},
     "output_type": "display_data",
     "source": "R display func"
    }
   ],
   "source": [
    "h <- hist(chol$AGE,ylim=c(0,60))\n",
    "text(h$mids,h$counts,labels=h$counts, adj=c(0.5, -0.5))"
   ]
  },
  {
   "cell_type": "code",
   "execution_count": null,
   "metadata": {},
   "outputs": [],
   "source": []
  }
 ],
 "metadata": {
  "kernelspec": {
   "display_name": "R",
   "language": "R",
   "name": "conda-env-r-r"
  },
  "language_info": {
   "codemirror_mode": "r",
   "file_extension": ".r",
   "mimetype": "text/x-r-source",
   "name": "R",
   "pygments_lexer": "r",
   "version": "3.5.1"
  }
 },
 "nbformat": 4,
 "nbformat_minor": 4
}
