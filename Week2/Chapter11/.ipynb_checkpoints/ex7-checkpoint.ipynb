{
 "cells": [
  {
   "cell_type": "code",
   "execution_count": 18,
   "metadata": {},
   "outputs": [],
   "source": [
    "year = c(2014,2015,2016,2017)\n",
    "first_fallen= c(309,271,263,255)\n",
    "one_hundred_fallen = c(309,314, 312, 304)"
   ]
  },
  {
   "cell_type": "code",
   "execution_count": 8,
   "metadata": {},
   "outputs": [
    {
     "name": "stderr",
     "output_type": "stream",
     "text": [
      "Updating HTML index of packages in '.Library'\n",
      "Making 'packages.html' ... done\n"
     ]
    }
   ],
   "source": [
    "install.packages(\"ggplot2\")"
   ]
  },
  {
   "cell_type": "code",
   "execution_count": 10,
   "metadata": {},
   "outputs": [],
   "source": [
    "library(\"ggplot2\")"
   ]
  },
  {
   "cell_type": "code",
   "execution_count": 20,
   "metadata": {},
   "outputs": [
    {
     "data": {
      "text/html": [
       "<table>\n",
       "<caption>A matrix: 2 × 4 of type dbl</caption>\n",
       "<thead>\n",
       "\t<tr><th scope=col>2014</th><th scope=col>2015</th><th scope=col>2016</th><th scope=col>2017</th></tr>\n",
       "</thead>\n",
       "<tbody>\n",
       "\t<tr><td>309</td><td>271</td><td>263</td><td>255</td></tr>\n",
       "\t<tr><td>309</td><td>314</td><td>312</td><td>304</td></tr>\n",
       "</tbody>\n",
       "</table>\n"
      ],
      "text/latex": [
       "A matrix: 2 × 4 of type dbl\n",
       "\\begin{tabular}{llll}\n",
       " 2014 & 2015 & 2016 & 2017\\\\\n",
       "\\hline\n",
       "\t 309 & 271 & 263 & 255\\\\\n",
       "\t 309 & 314 & 312 & 304\\\\\n",
       "\\end{tabular}\n"
      ],
      "text/markdown": [
       "\n",
       "A matrix: 2 × 4 of type dbl\n",
       "\n",
       "| 2014 | 2015 | 2016 | 2017 |\n",
       "|---|---|---|---|\n",
       "| 309 | 271 | 263 | 255 |\n",
       "| 309 | 314 | 312 | 304 |\n",
       "\n"
      ],
      "text/plain": [
       "     2014 2015 2016 2017\n",
       "[1,] 309  271  263  255 \n",
       "[2,] 309  314  312  304 "
      ]
     },
     "metadata": {},
     "output_type": "display_data"
    }
   ],
   "source": [
    "Values = matrix(c(first_fallen, one_hundred_fallen),ncol =4, byrow=TRUE)\n",
    "colnames(Values) = year\n",
    "Values"
   ]
  },
  {
   "cell_type": "code",
   "execution_count": 21,
   "metadata": {},
   "outputs": [
    {
     "data": {
      "image/png": "[encoded data removed]",
      "text/plain": [
       "plot without title"
      ]
     },
     "metadata": {},
     "output_type": "display_data",
     "source": "R display func"
    }
   ],
   "source": [
    "barplot(Values,\n",
    "        beside = TRUE)"
   ]
  },
  {
   "cell_type": "code",
   "execution_count": null,
   "metadata": {},
   "outputs": [],
   "source": []
  }
 ],
 "metadata": {
  "kernelspec": {
   "display_name": "R",
   "language": "R",
   "name": "conda-env-r-r"
  },
  "language_info": {
   "codemirror_mode": "r",
   "file_extension": ".r",
   "mimetype": "text/x-r-source",
   "name": "R",
   "pygments_lexer": "r",
   "version": "3.5.1"
  }
 },
 "nbformat": 4,
 "nbformat_minor": 4
}
