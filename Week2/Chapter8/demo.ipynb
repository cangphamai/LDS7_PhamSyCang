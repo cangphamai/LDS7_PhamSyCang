{
 "cells": [
  {
   "cell_type": "code",
   "execution_count": 6,
   "metadata": {},
   "outputs": [],
   "source": [
    "name = c(\"hellen\", \"jolie\", \"kiwi\", \"john\")\n",
    "age = c(17,15,18,14)\n",
    "mark = c(8,7,8,4)\n",
    "students = data.frame(name, age, mark, stringsAsFactors = FALSE)"
   ]
  },
  {
   "cell_type": "code",
   "execution_count": 7,
   "metadata": {},
   "outputs": [
    {
     "name": "stdout",
     "output_type": "stream",
     "text": [
      "    name age mark\n",
      "1 hellen  17    8\n",
      "2  jolie  15    7\n",
      "3   kiwi  18    8\n",
      "4   john  14    4\n"
     ]
    }
   ],
   "source": [
    "print(students)"
   ]
  },
  {
   "cell_type": "code",
   "execution_count": 8,
   "metadata": {},
   "outputs": [
    {
     "name": "stdout",
     "output_type": "stream",
     "text": [
      "'data.frame':\t4 obs. of  3 variables:\n",
      " $ name: chr  \"hellen\" \"jolie\" \"kiwi\" \"john\"\n",
      " $ age : num  17 15 18 14\n",
      " $ mark: num  8 7 8 4\n"
     ]
    }
   ],
   "source": [
    "str(students)"
   ]
  },
  {
   "cell_type": "code",
   "execution_count": 9,
   "metadata": {},
   "outputs": [
    {
     "name": "stdout",
     "output_type": "stream",
     "text": [
      "[1] 8 7 8 4\n"
     ]
    }
   ],
   "source": [
    "print(students$mark)"
   ]
  },
  {
   "cell_type": "code",
   "execution_count": 10,
   "metadata": {},
   "outputs": [
    {
     "name": "stdout",
     "output_type": "stream",
     "text": [
      "    name age mark\n",
      "1 hellen  17    8\n",
      "2  jolie  15    7\n"
     ]
    }
   ],
   "source": [
    "print(students[1:2,])"
   ]
  },
  {
   "cell_type": "code",
   "execution_count": 11,
   "metadata": {},
   "outputs": [
    {
     "name": "stdout",
     "output_type": "stream",
     "text": [
      "  students.age\n",
      "1           17\n",
      "2           15\n",
      "3           18\n",
      "4           14\n"
     ]
    }
   ],
   "source": [
    "print(data.frame(students$age))"
   ]
  },
  {
   "cell_type": "code",
   "execution_count": 12,
   "metadata": {},
   "outputs": [
    {
     "name": "stdout",
     "output_type": "stream",
     "text": [
      "  name age\n",
      "3 kiwi  18\n",
      "4 john  14\n"
     ]
    }
   ],
   "source": [
    "print(students[c(3,4), c(1,2)])"
   ]
  },
  {
   "cell_type": "code",
   "execution_count": 13,
   "metadata": {},
   "outputs": [
    {
     "data": {
      "text/html": [
       "<table>\n",
       "<caption>A data.frame: 4 × 4</caption>\n",
       "<thead>\n",
       "\t<tr><th scope=col>name</th><th scope=col>age</th><th scope=col>mark</th><th scope=col>class</th></tr>\n",
       "\t<tr><th scope=col>&lt;chr&gt;</th><th scope=col>&lt;dbl&gt;</th><th scope=col>&lt;dbl&gt;</th><th scope=col>&lt;chr&gt;</th></tr>\n",
       "</thead>\n",
       "<tbody>\n",
       "\t<tr><td>hellen</td><td>17</td><td>8</td><td>k256</td></tr>\n",
       "\t<tr><td>jolie </td><td>15</td><td>7</td><td>k257</td></tr>\n",
       "\t<tr><td>kiwi  </td><td>18</td><td>8</td><td>k258</td></tr>\n",
       "\t<tr><td>john  </td><td>14</td><td>4</td><td>k259</td></tr>\n",
       "</tbody>\n",
       "</table>\n"
      ],
      "text/latex": [
       "A data.frame: 4 × 4\n",
       "\\begin{tabular}{llll}\n",
       " name & age & mark & class\\\\\n",
       " <chr> & <dbl> & <dbl> & <chr>\\\\\n",
       "\\hline\n",
       "\t hellen & 17 & 8 & k256\\\\\n",
       "\t jolie  & 15 & 7 & k257\\\\\n",
       "\t kiwi   & 18 & 8 & k258\\\\\n",
       "\t john   & 14 & 4 & k259\\\\\n",
       "\\end{tabular}\n"
      ],
      "text/markdown": [
       "\n",
       "A data.frame: 4 × 4\n",
       "\n",
       "| name &lt;chr&gt; | age &lt;dbl&gt; | mark &lt;dbl&gt; | class &lt;chr&gt; |\n",
       "|---|---|---|---|\n",
       "| hellen | 17 | 8 | k256 |\n",
       "| jolie  | 15 | 7 | k257 |\n",
       "| kiwi   | 18 | 8 | k258 |\n",
       "| john   | 14 | 4 | k259 |\n",
       "\n"
      ],
      "text/plain": [
       "  name   age mark class\n",
       "1 hellen 17  8    k256 \n",
       "2 jolie  15  7    k257 \n",
       "3 kiwi   18  8    k258 \n",
       "4 john   14  4    k259 "
      ]
     },
     "metadata": {},
     "output_type": "display_data"
    }
   ],
   "source": [
    "students$class = c(\"k256\", \"k257\",\"k258\", \"k259\")\n",
    "students"
   ]
  },
  {
   "cell_type": "code",
   "execution_count": 14,
   "metadata": {},
   "outputs": [],
   "source": [
    "df_POB = data.frame(\"POB\"= c(\"UK\", \"US\", \"EU\", \"VN\"))\n",
    "students = cbind(students, df_POB)"
   ]
  },
  {
   "cell_type": "code",
   "execution_count": 15,
   "metadata": {},
   "outputs": [
    {
     "data": {
      "text/html": [
       "<table>\n",
       "<caption>A data.frame: 4 × 5</caption>\n",
       "<thead>\n",
       "\t<tr><th scope=col>name</th><th scope=col>age</th><th scope=col>mark</th><th scope=col>class</th><th scope=col>POB</th></tr>\n",
       "\t<tr><th scope=col>&lt;chr&gt;</th><th scope=col>&lt;dbl&gt;</th><th scope=col>&lt;dbl&gt;</th><th scope=col>&lt;chr&gt;</th><th scope=col>&lt;fct&gt;</th></tr>\n",
       "</thead>\n",
       "<tbody>\n",
       "\t<tr><td>hellen</td><td>17</td><td>8</td><td>k256</td><td>UK</td></tr>\n",
       "\t<tr><td>jolie </td><td>15</td><td>7</td><td>k257</td><td>US</td></tr>\n",
       "\t<tr><td>kiwi  </td><td>18</td><td>8</td><td>k258</td><td>EU</td></tr>\n",
       "\t<tr><td>john  </td><td>14</td><td>4</td><td>k259</td><td>VN</td></tr>\n",
       "</tbody>\n",
       "</table>\n"
      ],
      "text/latex": [
       "A data.frame: 4 × 5\n",
       "\\begin{tabular}{lllll}\n",
       " name & age & mark & class & POB\\\\\n",
       " <chr> & <dbl> & <dbl> & <chr> & <fct>\\\\\n",
       "\\hline\n",
       "\t hellen & 17 & 8 & k256 & UK\\\\\n",
       "\t jolie  & 15 & 7 & k257 & US\\\\\n",
       "\t kiwi   & 18 & 8 & k258 & EU\\\\\n",
       "\t john   & 14 & 4 & k259 & VN\\\\\n",
       "\\end{tabular}\n"
      ],
      "text/markdown": [
       "\n",
       "A data.frame: 4 × 5\n",
       "\n",
       "| name &lt;chr&gt; | age &lt;dbl&gt; | mark &lt;dbl&gt; | class &lt;chr&gt; | POB &lt;fct&gt; |\n",
       "|---|---|---|---|---|\n",
       "| hellen | 17 | 8 | k256 | UK |\n",
       "| jolie  | 15 | 7 | k257 | US |\n",
       "| kiwi   | 18 | 8 | k258 | EU |\n",
       "| john   | 14 | 4 | k259 | VN |\n",
       "\n"
      ],
      "text/plain": [
       "  name   age mark class POB\n",
       "1 hellen 17  8    k256  UK \n",
       "2 jolie  15  7    k257  US \n",
       "3 kiwi   18  8    k258  EU \n",
       "4 john   14  4    k259  VN "
      ]
     },
     "metadata": {},
     "output_type": "display_data"
    }
   ],
   "source": [
    "students"
   ]
  },
  {
   "cell_type": "code",
   "execution_count": 16,
   "metadata": {},
   "outputs": [],
   "source": [
    "new_students = data.frame(\"name\"= c(\"sunny\", \"lucy\"),\n",
    "                         \"age\"=c(17,18),\n",
    "                         \"mark\"= c(8,9),\n",
    "                         \"class\"= c('k257', 'k254'),\n",
    "                         \"POB\"= c(\"EU\", \"UK\"),\n",
    "                         stringsAsFactors= FALSE)"
   ]
  },
  {
   "cell_type": "code",
   "execution_count": 17,
   "metadata": {},
   "outputs": [],
   "source": [
    "students = rbind(students, new_students)"
   ]
  },
  {
   "cell_type": "code",
   "execution_count": 18,
   "metadata": {},
   "outputs": [
    {
     "data": {
      "text/html": [
       "<table>\n",
       "<caption>A data.frame: 6 × 5</caption>\n",
       "<thead>\n",
       "\t<tr><th scope=col>name</th><th scope=col>age</th><th scope=col>mark</th><th scope=col>class</th><th scope=col>POB</th></tr>\n",
       "\t<tr><th scope=col>&lt;chr&gt;</th><th scope=col>&lt;dbl&gt;</th><th scope=col>&lt;dbl&gt;</th><th scope=col>&lt;chr&gt;</th><th scope=col>&lt;fct&gt;</th></tr>\n",
       "</thead>\n",
       "<tbody>\n",
       "\t<tr><td>hellen</td><td>17</td><td>8</td><td>k256</td><td>UK</td></tr>\n",
       "\t<tr><td>jolie </td><td>15</td><td>7</td><td>k257</td><td>US</td></tr>\n",
       "\t<tr><td>kiwi  </td><td>18</td><td>8</td><td>k258</td><td>EU</td></tr>\n",
       "\t<tr><td>john  </td><td>14</td><td>4</td><td>k259</td><td>VN</td></tr>\n",
       "\t<tr><td>sunny </td><td>17</td><td>8</td><td>k257</td><td>EU</td></tr>\n",
       "\t<tr><td>lucy  </td><td>18</td><td>9</td><td>k254</td><td>UK</td></tr>\n",
       "</tbody>\n",
       "</table>\n"
      ],
      "text/latex": [
       "A data.frame: 6 × 5\n",
       "\\begin{tabular}{lllll}\n",
       " name & age & mark & class & POB\\\\\n",
       " <chr> & <dbl> & <dbl> & <chr> & <fct>\\\\\n",
       "\\hline\n",
       "\t hellen & 17 & 8 & k256 & UK\\\\\n",
       "\t jolie  & 15 & 7 & k257 & US\\\\\n",
       "\t kiwi   & 18 & 8 & k258 & EU\\\\\n",
       "\t john   & 14 & 4 & k259 & VN\\\\\n",
       "\t sunny  & 17 & 8 & k257 & EU\\\\\n",
       "\t lucy   & 18 & 9 & k254 & UK\\\\\n",
       "\\end{tabular}\n"
      ],
      "text/markdown": [
       "\n",
       "A data.frame: 6 × 5\n",
       "\n",
       "| name &lt;chr&gt; | age &lt;dbl&gt; | mark &lt;dbl&gt; | class &lt;chr&gt; | POB &lt;fct&gt; |\n",
       "|---|---|---|---|---|\n",
       "| hellen | 17 | 8 | k256 | UK |\n",
       "| jolie  | 15 | 7 | k257 | US |\n",
       "| kiwi   | 18 | 8 | k258 | EU |\n",
       "| john   | 14 | 4 | k259 | VN |\n",
       "| sunny  | 17 | 8 | k257 | EU |\n",
       "| lucy   | 18 | 9 | k254 | UK |\n",
       "\n"
      ],
      "text/plain": [
       "  name   age mark class POB\n",
       "1 hellen 17  8    k256  UK \n",
       "2 jolie  15  7    k257  US \n",
       "3 kiwi   18  8    k258  EU \n",
       "4 john   14  4    k259  VN \n",
       "5 sunny  17  8    k257  EU \n",
       "6 lucy   18  9    k254  UK "
      ]
     },
     "metadata": {},
     "output_type": "display_data"
    }
   ],
   "source": [
    "students"
   ]
  },
  {
   "cell_type": "code",
   "execution_count": 19,
   "metadata": {},
   "outputs": [],
   "source": [
    "names(students)[names(students)==\"POB\"]= \"place of birth\""
   ]
  },
  {
   "cell_type": "code",
   "execution_count": 20,
   "metadata": {},
   "outputs": [
    {
     "data": {
      "text/html": [
       "<table>\n",
       "<caption>A data.frame: 6 × 5</caption>\n",
       "<thead>\n",
       "\t<tr><th></th><th scope=col>name</th><th scope=col>age</th><th scope=col>mark</th><th scope=col>class</th><th scope=col>place of birth</th></tr>\n",
       "\t<tr><th></th><th scope=col>&lt;chr&gt;</th><th scope=col>&lt;dbl&gt;</th><th scope=col>&lt;dbl&gt;</th><th scope=col>&lt;chr&gt;</th><th scope=col>&lt;fct&gt;</th></tr>\n",
       "</thead>\n",
       "<tbody>\n",
       "\t<tr><th scope=row>1</th><td>hellen</td><td>17</td><td>8</td><td>k256</td><td>UK</td></tr>\n",
       "\t<tr><th scope=row>2</th><td>jolie </td><td>15</td><td>7</td><td>k257</td><td>US</td></tr>\n",
       "\t<tr><th scope=row>3</th><td>kiwi  </td><td>18</td><td>8</td><td>k258</td><td>EU</td></tr>\n",
       "\t<tr><th scope=row>4</th><td>john  </td><td>14</td><td>4</td><td>k259</td><td>VN</td></tr>\n",
       "\t<tr><th scope=row>5</th><td>sunny </td><td>17</td><td>8</td><td>k257</td><td>EU</td></tr>\n",
       "\t<tr><th scope=row>6</th><td>lucy  </td><td>18</td><td>9</td><td>k254</td><td>UK</td></tr>\n",
       "</tbody>\n",
       "</table>\n"
      ],
      "text/latex": [
       "A data.frame: 6 × 5\n",
       "\\begin{tabular}{r|lllll}\n",
       "  & name & age & mark & class & place of birth\\\\\n",
       "  & <chr> & <dbl> & <dbl> & <chr> & <fct>\\\\\n",
       "\\hline\n",
       "\t1 & hellen & 17 & 8 & k256 & UK\\\\\n",
       "\t2 & jolie  & 15 & 7 & k257 & US\\\\\n",
       "\t3 & kiwi   & 18 & 8 & k258 & EU\\\\\n",
       "\t4 & john   & 14 & 4 & k259 & VN\\\\\n",
       "\t5 & sunny  & 17 & 8 & k257 & EU\\\\\n",
       "\t6 & lucy   & 18 & 9 & k254 & UK\\\\\n",
       "\\end{tabular}\n"
      ],
      "text/markdown": [
       "\n",
       "A data.frame: 6 × 5\n",
       "\n",
       "| <!--/--> | name &lt;chr&gt; | age &lt;dbl&gt; | mark &lt;dbl&gt; | class &lt;chr&gt; | place of birth &lt;fct&gt; |\n",
       "|---|---|---|---|---|---|\n",
       "| 1 | hellen | 17 | 8 | k256 | UK |\n",
       "| 2 | jolie  | 15 | 7 | k257 | US |\n",
       "| 3 | kiwi   | 18 | 8 | k258 | EU |\n",
       "| 4 | john   | 14 | 4 | k259 | VN |\n",
       "| 5 | sunny  | 17 | 8 | k257 | EU |\n",
       "| 6 | lucy   | 18 | 9 | k254 | UK |\n",
       "\n"
      ],
      "text/plain": [
       "  name   age mark class place of birth\n",
       "1 hellen 17  8    k256  UK            \n",
       "2 jolie  15  7    k257  US            \n",
       "3 kiwi   18  8    k258  EU            \n",
       "4 john   14  4    k259  VN            \n",
       "5 sunny  17  8    k257  EU            \n",
       "6 lucy   18  9    k254  UK            "
      ]
     },
     "metadata": {},
     "output_type": "display_data"
    }
   ],
   "source": [
    "head(students)"
   ]
  },
  {
   "cell_type": "markdown",
   "metadata": {},
   "source": [
    "## Tidyverse"
   ]
  },
  {
   "cell_type": "code",
   "execution_count": 1,
   "metadata": {},
   "outputs": [
    {
     "name": "stderr",
     "output_type": "stream",
     "text": [
      "── Attaching packages ─────────────────────────────────────── tidyverse 1.3.0 ──\n",
      "✔ ggplot2 3.3.0     ✔ purrr   0.3.4\n",
      "✔ tibble  3.0.1     ✔ dplyr   1.0.3\n",
      "✔ tidyr   1.0.2     ✔ stringr 1.4.0\n",
      "✔ readr   1.3.1     ✔ forcats 0.5.0\n",
      "── Conflicts ────────────────────────────────────────── tidyverse_conflicts() ──\n",
      "✖ dplyr::filter() masks stats::filter()\n",
      "✖ dplyr::lag()    masks stats::lag()\n"
     ]
    }
   ],
   "source": [
    "library(tidyverse)"
   ]
  },
  {
   "cell_type": "code",
   "execution_count": 2,
   "metadata": {},
   "outputs": [],
   "source": [
    "pokemon = read.csv(\"pokemon.csv\")"
   ]
  },
  {
   "cell_type": "code",
   "execution_count": null,
   "metadata": {},
   "outputs": [],
   "source": []
  },
  {
   "cell_type": "code",
   "execution_count": 3,
   "metadata": {},
   "outputs": [
    {
     "data": {
      "text/html": [
       "<table>\n",
       "<caption>A data.frame: 6 × 13</caption>\n",
       "<thead>\n",
       "\t<tr><th></th><th scope=col>X.</th><th scope=col>Name</th><th scope=col>Type.1</th><th scope=col>Type.2</th><th scope=col>Total</th><th scope=col>HP</th><th scope=col>Attack</th><th scope=col>Defense</th><th scope=col>Sp..Atk</th><th scope=col>Sp..Def</th><th scope=col>Speed</th><th scope=col>Generation</th><th scope=col>Legendary</th></tr>\n",
       "\t<tr><th></th><th scope=col>&lt;int&gt;</th><th scope=col>&lt;fct&gt;</th><th scope=col>&lt;fct&gt;</th><th scope=col>&lt;fct&gt;</th><th scope=col>&lt;int&gt;</th><th scope=col>&lt;int&gt;</th><th scope=col>&lt;int&gt;</th><th scope=col>&lt;int&gt;</th><th scope=col>&lt;int&gt;</th><th scope=col>&lt;int&gt;</th><th scope=col>&lt;int&gt;</th><th scope=col>&lt;int&gt;</th><th scope=col>&lt;fct&gt;</th></tr>\n",
       "</thead>\n",
       "<tbody>\n",
       "\t<tr><th scope=row>1</th><td>1</td><td>Bulbasaur            </td><td>Grass</td><td>Poison</td><td>318</td><td>45</td><td> 49</td><td> 49</td><td> 65</td><td> 65</td><td>45</td><td>1</td><td>False</td></tr>\n",
       "\t<tr><th scope=row>2</th><td>2</td><td>Ivysaur              </td><td>Grass</td><td>Poison</td><td>405</td><td>60</td><td> 62</td><td> 63</td><td> 80</td><td> 80</td><td>60</td><td>1</td><td>False</td></tr>\n",
       "\t<tr><th scope=row>3</th><td>3</td><td>Venusaur             </td><td>Grass</td><td>Poison</td><td>525</td><td>80</td><td> 82</td><td> 83</td><td>100</td><td>100</td><td>80</td><td>1</td><td>False</td></tr>\n",
       "\t<tr><th scope=row>4</th><td>3</td><td>VenusaurMega Venusaur</td><td>Grass</td><td>Poison</td><td>625</td><td>80</td><td>100</td><td>123</td><td>122</td><td>120</td><td>80</td><td>1</td><td>False</td></tr>\n",
       "\t<tr><th scope=row>5</th><td>4</td><td>Charmander           </td><td>Fire </td><td>      </td><td>309</td><td>39</td><td> 52</td><td> 43</td><td> 60</td><td> 50</td><td>65</td><td>1</td><td>False</td></tr>\n",
       "\t<tr><th scope=row>6</th><td>5</td><td>Charmeleon           </td><td>Fire </td><td>      </td><td>405</td><td>58</td><td> 64</td><td> 58</td><td> 80</td><td> 65</td><td>80</td><td>1</td><td>False</td></tr>\n",
       "</tbody>\n",
       "</table>\n"
      ],
      "text/latex": [
       "A data.frame: 6 × 13\n",
       "\\begin{tabular}{r|lllllllllllll}\n",
       "  & X. & Name & Type.1 & Type.2 & Total & HP & Attack & Defense & Sp..Atk & Sp..Def & Speed & Generation & Legendary\\\\\n",
       "  & <int> & <fct> & <fct> & <fct> & <int> & <int> & <int> & <int> & <int> & <int> & <int> & <int> & <fct>\\\\\n",
       "\\hline\n",
       "\t1 & 1 & Bulbasaur             & Grass & Poison & 318 & 45 &  49 &  49 &  65 &  65 & 45 & 1 & False\\\\\n",
       "\t2 & 2 & Ivysaur               & Grass & Poison & 405 & 60 &  62 &  63 &  80 &  80 & 60 & 1 & False\\\\\n",
       "\t3 & 3 & Venusaur              & Grass & Poison & 525 & 80 &  82 &  83 & 100 & 100 & 80 & 1 & False\\\\\n",
       "\t4 & 3 & VenusaurMega Venusaur & Grass & Poison & 625 & 80 & 100 & 123 & 122 & 120 & 80 & 1 & False\\\\\n",
       "\t5 & 4 & Charmander            & Fire  &        & 309 & 39 &  52 &  43 &  60 &  50 & 65 & 1 & False\\\\\n",
       "\t6 & 5 & Charmeleon            & Fire  &        & 405 & 58 &  64 &  58 &  80 &  65 & 80 & 1 & False\\\\\n",
       "\\end{tabular}\n"
      ],
      "text/markdown": [
       "\n",
       "A data.frame: 6 × 13\n",
       "\n",
       "| <!--/--> | X. &lt;int&gt; | Name &lt;fct&gt; | Type.1 &lt;fct&gt; | Type.2 &lt;fct&gt; | Total &lt;int&gt; | HP &lt;int&gt; | Attack &lt;int&gt; | Defense &lt;int&gt; | Sp..Atk &lt;int&gt; | Sp..Def &lt;int&gt; | Speed &lt;int&gt; | Generation &lt;int&gt; | Legendary &lt;fct&gt; |\n",
       "|---|---|---|---|---|---|---|---|---|---|---|---|---|---|\n",
       "| 1 | 1 | Bulbasaur             | Grass | Poison | 318 | 45 |  49 |  49 |  65 |  65 | 45 | 1 | False |\n",
       "| 2 | 2 | Ivysaur               | Grass | Poison | 405 | 60 |  62 |  63 |  80 |  80 | 60 | 1 | False |\n",
       "| 3 | 3 | Venusaur              | Grass | Poison | 525 | 80 |  82 |  83 | 100 | 100 | 80 | 1 | False |\n",
       "| 4 | 3 | VenusaurMega Venusaur | Grass | Poison | 625 | 80 | 100 | 123 | 122 | 120 | 80 | 1 | False |\n",
       "| 5 | 4 | Charmander            | Fire  | <!----> | 309 | 39 |  52 |  43 |  60 |  50 | 65 | 1 | False |\n",
       "| 6 | 5 | Charmeleon            | Fire  | <!----> | 405 | 58 |  64 |  58 |  80 |  65 | 80 | 1 | False |\n",
       "\n"
      ],
      "text/plain": [
       "  X. Name                  Type.1 Type.2 Total HP Attack Defense Sp..Atk\n",
       "1 1  Bulbasaur             Grass  Poison 318   45  49     49      65    \n",
       "2 2  Ivysaur               Grass  Poison 405   60  62     63      80    \n",
       "3 3  Venusaur              Grass  Poison 525   80  82     83     100    \n",
       "4 3  VenusaurMega Venusaur Grass  Poison 625   80 100    123     122    \n",
       "5 4  Charmander            Fire          309   39  52     43      60    \n",
       "6 5  Charmeleon            Fire          405   58  64     58      80    \n",
       "  Sp..Def Speed Generation Legendary\n",
       "1  65     45    1          False    \n",
       "2  80     60    1          False    \n",
       "3 100     80    1          False    \n",
       "4 120     80    1          False    \n",
       "5  50     65    1          False    \n",
       "6  65     80    1          False    "
      ]
     },
     "metadata": {},
     "output_type": "display_data"
    }
   ],
   "source": [
    "head(pokemon)"
   ]
  },
  {
   "cell_type": "code",
   "execution_count": 4,
   "metadata": {},
   "outputs": [
    {
     "data": {
      "text/html": [
       "<table>\n",
       "<caption>A data.frame: 6 × 4</caption>\n",
       "<thead>\n",
       "\t<tr><th></th><th scope=col>Name</th><th scope=col>Total</th><th scope=col>Attack</th><th scope=col>Defense</th></tr>\n",
       "\t<tr><th></th><th scope=col>&lt;fct&gt;</th><th scope=col>&lt;int&gt;</th><th scope=col>&lt;int&gt;</th><th scope=col>&lt;int&gt;</th></tr>\n",
       "</thead>\n",
       "<tbody>\n",
       "\t<tr><th scope=row>1</th><td>Bulbasaur            </td><td>318</td><td> 49</td><td> 49</td></tr>\n",
       "\t<tr><th scope=row>2</th><td>Ivysaur              </td><td>405</td><td> 62</td><td> 63</td></tr>\n",
       "\t<tr><th scope=row>3</th><td>Venusaur             </td><td>525</td><td> 82</td><td> 83</td></tr>\n",
       "\t<tr><th scope=row>4</th><td>VenusaurMega Venusaur</td><td>625</td><td>100</td><td>123</td></tr>\n",
       "\t<tr><th scope=row>5</th><td>Charmander           </td><td>309</td><td> 52</td><td> 43</td></tr>\n",
       "\t<tr><th scope=row>6</th><td>Charmeleon           </td><td>405</td><td> 64</td><td> 58</td></tr>\n",
       "</tbody>\n",
       "</table>\n"
      ],
      "text/latex": [
       "A data.frame: 6 × 4\n",
       "\\begin{tabular}{r|llll}\n",
       "  & Name & Total & Attack & Defense\\\\\n",
       "  & <fct> & <int> & <int> & <int>\\\\\n",
       "\\hline\n",
       "\t1 & Bulbasaur             & 318 &  49 &  49\\\\\n",
       "\t2 & Ivysaur               & 405 &  62 &  63\\\\\n",
       "\t3 & Venusaur              & 525 &  82 &  83\\\\\n",
       "\t4 & VenusaurMega Venusaur & 625 & 100 & 123\\\\\n",
       "\t5 & Charmander            & 309 &  52 &  43\\\\\n",
       "\t6 & Charmeleon            & 405 &  64 &  58\\\\\n",
       "\\end{tabular}\n"
      ],
      "text/markdown": [
       "\n",
       "A data.frame: 6 × 4\n",
       "\n",
       "| <!--/--> | Name &lt;fct&gt; | Total &lt;int&gt; | Attack &lt;int&gt; | Defense &lt;int&gt; |\n",
       "|---|---|---|---|---|\n",
       "| 1 | Bulbasaur             | 318 |  49 |  49 |\n",
       "| 2 | Ivysaur               | 405 |  62 |  63 |\n",
       "| 3 | Venusaur              | 525 |  82 |  83 |\n",
       "| 4 | VenusaurMega Venusaur | 625 | 100 | 123 |\n",
       "| 5 | Charmander            | 309 |  52 |  43 |\n",
       "| 6 | Charmeleon            | 405 |  64 |  58 |\n",
       "\n"
      ],
      "text/plain": [
       "  Name                  Total Attack Defense\n",
       "1 Bulbasaur             318    49     49    \n",
       "2 Ivysaur               405    62     63    \n",
       "3 Venusaur              525    82     83    \n",
       "4 VenusaurMega Venusaur 625   100    123    \n",
       "5 Charmander            309    52     43    \n",
       "6 Charmeleon            405    64     58    "
      ]
     },
     "metadata": {},
     "output_type": "display_data"
    }
   ],
   "source": [
    "pokemon_sub = select(pokemon, c(2,5,7,8))\n",
    "head(pokemon_sub)"
   ]
  },
  {
   "cell_type": "code",
   "execution_count": 5,
   "metadata": {},
   "outputs": [
    {
     "data": {
      "text/html": [
       "<table>\n",
       "<caption>A data.frame: 6 × 4</caption>\n",
       "<thead>\n",
       "\t<tr><th></th><th scope=col>Name</th><th scope=col>Total</th><th scope=col>Attack</th><th scope=col>Defense</th></tr>\n",
       "\t<tr><th></th><th scope=col>&lt;fct&gt;</th><th scope=col>&lt;int&gt;</th><th scope=col>&lt;int&gt;</th><th scope=col>&lt;int&gt;</th></tr>\n",
       "</thead>\n",
       "<tbody>\n",
       "\t<tr><th scope=row>1</th><td>Bulbasaur            </td><td>318</td><td> 49</td><td> 49</td></tr>\n",
       "\t<tr><th scope=row>2</th><td>Ivysaur              </td><td>405</td><td> 62</td><td> 63</td></tr>\n",
       "\t<tr><th scope=row>3</th><td>Venusaur             </td><td>525</td><td> 82</td><td> 83</td></tr>\n",
       "\t<tr><th scope=row>4</th><td>VenusaurMega Venusaur</td><td>625</td><td>100</td><td>123</td></tr>\n",
       "\t<tr><th scope=row>5</th><td>Charmander           </td><td>309</td><td> 52</td><td> 43</td></tr>\n",
       "\t<tr><th scope=row>6</th><td>Charmeleon           </td><td>405</td><td> 64</td><td> 58</td></tr>\n",
       "</tbody>\n",
       "</table>\n"
      ],
      "text/latex": [
       "A data.frame: 6 × 4\n",
       "\\begin{tabular}{r|llll}\n",
       "  & Name & Total & Attack & Defense\\\\\n",
       "  & <fct> & <int> & <int> & <int>\\\\\n",
       "\\hline\n",
       "\t1 & Bulbasaur             & 318 &  49 &  49\\\\\n",
       "\t2 & Ivysaur               & 405 &  62 &  63\\\\\n",
       "\t3 & Venusaur              & 525 &  82 &  83\\\\\n",
       "\t4 & VenusaurMega Venusaur & 625 & 100 & 123\\\\\n",
       "\t5 & Charmander            & 309 &  52 &  43\\\\\n",
       "\t6 & Charmeleon            & 405 &  64 &  58\\\\\n",
       "\\end{tabular}\n"
      ],
      "text/markdown": [
       "\n",
       "A data.frame: 6 × 4\n",
       "\n",
       "| <!--/--> | Name &lt;fct&gt; | Total &lt;int&gt; | Attack &lt;int&gt; | Defense &lt;int&gt; |\n",
       "|---|---|---|---|---|\n",
       "| 1 | Bulbasaur             | 318 |  49 |  49 |\n",
       "| 2 | Ivysaur               | 405 |  62 |  63 |\n",
       "| 3 | Venusaur              | 525 |  82 |  83 |\n",
       "| 4 | VenusaurMega Venusaur | 625 | 100 | 123 |\n",
       "| 5 | Charmander            | 309 |  52 |  43 |\n",
       "| 6 | Charmeleon            | 405 |  64 |  58 |\n",
       "\n"
      ],
      "text/plain": [
       "  Name                  Total Attack Defense\n",
       "1 Bulbasaur             318    49     49    \n",
       "2 Ivysaur               405    62     63    \n",
       "3 Venusaur              525    82     83    \n",
       "4 VenusaurMega Venusaur 625   100    123    \n",
       "5 Charmander            309    52     43    \n",
       "6 Charmeleon            405    64     58    "
      ]
     },
     "metadata": {},
     "output_type": "display_data"
    }
   ],
   "source": [
    "pokemon_sub1 = pokemon %>% select(Name, Total, Attack, Defense)\n",
    "head(pokemon_sub1)"
   ]
  },
  {
   "cell_type": "code",
   "execution_count": 21,
   "metadata": {},
   "outputs": [
    {
     "data": {
      "text/html": [
       "<table>\n",
       "<caption>A data.frame: 6 × 9</caption>\n",
       "<thead>\n",
       "\t<tr><th></th><th scope=col>X.</th><th scope=col>Total</th><th scope=col>HP</th><th scope=col>Attack</th><th scope=col>Defense</th><th scope=col>Sp..Atk</th><th scope=col>Sp..Def</th><th scope=col>Speed</th><th scope=col>Generation</th></tr>\n",
       "\t<tr><th></th><th scope=col>&lt;int&gt;</th><th scope=col>&lt;int&gt;</th><th scope=col>&lt;int&gt;</th><th scope=col>&lt;int&gt;</th><th scope=col>&lt;int&gt;</th><th scope=col>&lt;int&gt;</th><th scope=col>&lt;int&gt;</th><th scope=col>&lt;int&gt;</th><th scope=col>&lt;int&gt;</th></tr>\n",
       "</thead>\n",
       "<tbody>\n",
       "\t<tr><th scope=row>1</th><td>1</td><td>318</td><td>45</td><td> 49</td><td> 49</td><td> 65</td><td> 65</td><td>45</td><td>1</td></tr>\n",
       "\t<tr><th scope=row>2</th><td>2</td><td>405</td><td>60</td><td> 62</td><td> 63</td><td> 80</td><td> 80</td><td>60</td><td>1</td></tr>\n",
       "\t<tr><th scope=row>3</th><td>3</td><td>525</td><td>80</td><td> 82</td><td> 83</td><td>100</td><td>100</td><td>80</td><td>1</td></tr>\n",
       "\t<tr><th scope=row>4</th><td>3</td><td>625</td><td>80</td><td>100</td><td>123</td><td>122</td><td>120</td><td>80</td><td>1</td></tr>\n",
       "\t<tr><th scope=row>5</th><td>4</td><td>309</td><td>39</td><td> 52</td><td> 43</td><td> 60</td><td> 50</td><td>65</td><td>1</td></tr>\n",
       "\t<tr><th scope=row>6</th><td>5</td><td>405</td><td>58</td><td> 64</td><td> 58</td><td> 80</td><td> 65</td><td>80</td><td>1</td></tr>\n",
       "</tbody>\n",
       "</table>\n"
      ],
      "text/latex": [
       "A data.frame: 6 × 9\n",
       "\\begin{tabular}{r|lllllllll}\n",
       "  & X. & Total & HP & Attack & Defense & Sp..Atk & Sp..Def & Speed & Generation\\\\\n",
       "  & <int> & <int> & <int> & <int> & <int> & <int> & <int> & <int> & <int>\\\\\n",
       "\\hline\n",
       "\t1 & 1 & 318 & 45 &  49 &  49 &  65 &  65 & 45 & 1\\\\\n",
       "\t2 & 2 & 405 & 60 &  62 &  63 &  80 &  80 & 60 & 1\\\\\n",
       "\t3 & 3 & 525 & 80 &  82 &  83 & 100 & 100 & 80 & 1\\\\\n",
       "\t4 & 3 & 625 & 80 & 100 & 123 & 122 & 120 & 80 & 1\\\\\n",
       "\t5 & 4 & 309 & 39 &  52 &  43 &  60 &  50 & 65 & 1\\\\\n",
       "\t6 & 5 & 405 & 58 &  64 &  58 &  80 &  65 & 80 & 1\\\\\n",
       "\\end{tabular}\n"
      ],
      "text/markdown": [
       "\n",
       "A data.frame: 6 × 9\n",
       "\n",
       "| <!--/--> | X. &lt;int&gt; | Total &lt;int&gt; | HP &lt;int&gt; | Attack &lt;int&gt; | Defense &lt;int&gt; | Sp..Atk &lt;int&gt; | Sp..Def &lt;int&gt; | Speed &lt;int&gt; | Generation &lt;int&gt; |\n",
       "|---|---|---|---|---|---|---|---|---|---|\n",
       "| 1 | 1 | 318 | 45 |  49 |  49 |  65 |  65 | 45 | 1 |\n",
       "| 2 | 2 | 405 | 60 |  62 |  63 |  80 |  80 | 60 | 1 |\n",
       "| 3 | 3 | 525 | 80 |  82 |  83 | 100 | 100 | 80 | 1 |\n",
       "| 4 | 3 | 625 | 80 | 100 | 123 | 122 | 120 | 80 | 1 |\n",
       "| 5 | 4 | 309 | 39 |  52 |  43 |  60 |  50 | 65 | 1 |\n",
       "| 6 | 5 | 405 | 58 |  64 |  58 |  80 |  65 | 80 | 1 |\n",
       "\n"
      ],
      "text/plain": [
       "  X. Total HP Attack Defense Sp..Atk Sp..Def Speed Generation\n",
       "1 1  318   45  49     49      65      65     45    1         \n",
       "2 2  405   60  62     63      80      80     60    1         \n",
       "3 3  525   80  82     83     100     100     80    1         \n",
       "4 3  625   80 100    123     122     120     80    1         \n",
       "5 4  309   39  52     43      60      50     65    1         \n",
       "6 5  405   58  64     58      80      65     80    1         "
      ]
     },
     "metadata": {},
     "output_type": "display_data"
    }
   ],
   "source": [
    "pokemon_numbers = select_if(pokemon, is.numeric)\n",
    "head(pokemon_numbers)"
   ]
  },
  {
   "cell_type": "code",
   "execution_count": 22,
   "metadata": {},
   "outputs": [
    {
     "data": {
      "text/html": [
       "<table>\n",
       "<caption>A data.frame: 6 × 4</caption>\n",
       "<thead>\n",
       "\t<tr><th></th><th scope=col>Name</th><th scope=col>Total</th><th scope=col>Attack</th><th scope=col>Defense</th></tr>\n",
       "\t<tr><th></th><th scope=col>&lt;fct&gt;</th><th scope=col>&lt;int&gt;</th><th scope=col>&lt;int&gt;</th><th scope=col>&lt;int&gt;</th></tr>\n",
       "</thead>\n",
       "<tbody>\n",
       "\t<tr><th scope=row>1</th><td>Venusaur           </td><td>525</td><td> 82</td><td> 83</td></tr>\n",
       "\t<tr><th scope=row>2</th><td>Charizard          </td><td>534</td><td> 84</td><td> 78</td></tr>\n",
       "\t<tr><th scope=row>3</th><td>Blastoise          </td><td>530</td><td> 83</td><td>100</td></tr>\n",
       "\t<tr><th scope=row>4</th><td>PidgeotMega Pidgeot</td><td>579</td><td> 80</td><td> 80</td></tr>\n",
       "\t<tr><th scope=row>5</th><td>Nidoqueen          </td><td>505</td><td> 92</td><td> 87</td></tr>\n",
       "\t<tr><th scope=row>6</th><td>Nidoking           </td><td>505</td><td>102</td><td> 77</td></tr>\n",
       "</tbody>\n",
       "</table>\n"
      ],
      "text/latex": [
       "A data.frame: 6 × 4\n",
       "\\begin{tabular}{r|llll}\n",
       "  & Name & Total & Attack & Defense\\\\\n",
       "  & <fct> & <int> & <int> & <int>\\\\\n",
       "\\hline\n",
       "\t1 & Venusaur            & 525 &  82 &  83\\\\\n",
       "\t2 & Charizard           & 534 &  84 &  78\\\\\n",
       "\t3 & Blastoise           & 530 &  83 & 100\\\\\n",
       "\t4 & PidgeotMega Pidgeot & 579 &  80 &  80\\\\\n",
       "\t5 & Nidoqueen           & 505 &  92 &  87\\\\\n",
       "\t6 & Nidoking            & 505 & 102 &  77\\\\\n",
       "\\end{tabular}\n"
      ],
      "text/markdown": [
       "\n",
       "A data.frame: 6 × 4\n",
       "\n",
       "| <!--/--> | Name &lt;fct&gt; | Total &lt;int&gt; | Attack &lt;int&gt; | Defense &lt;int&gt; |\n",
       "|---|---|---|---|---|\n",
       "| 1 | Venusaur            | 525 |  82 |  83 |\n",
       "| 2 | Charizard           | 534 |  84 |  78 |\n",
       "| 3 | Blastoise           | 530 |  83 | 100 |\n",
       "| 4 | PidgeotMega Pidgeot | 579 |  80 |  80 |\n",
       "| 5 | Nidoqueen           | 505 |  92 |  87 |\n",
       "| 6 | Nidoking            | 505 | 102 |  77 |\n",
       "\n"
      ],
      "text/plain": [
       "  Name                Total Attack Defense\n",
       "1 Venusaur            525    82     83    \n",
       "2 Charizard           534    84     78    \n",
       "3 Blastoise           530    83    100    \n",
       "4 PidgeotMega Pidgeot 579    80     80    \n",
       "5 Nidoqueen           505    92     87    \n",
       "6 Nidoking            505   102     77    "
      ]
     },
     "metadata": {},
     "output_type": "display_data"
    }
   ],
   "source": [
    "pokemon_500_600 = filter(pokemon_sub, Total >= 500, Total <=600)\n",
    "head(pokemon_500_600)"
   ]
  },
  {
   "cell_type": "code",
   "execution_count": 23,
   "metadata": {},
   "outputs": [
    {
     "data": {
      "text/html": [
       "199"
      ],
      "text/latex": [
       "199"
      ],
      "text/markdown": [
       "199"
      ],
      "text/plain": [
       "[1] 199"
      ]
     },
     "metadata": {},
     "output_type": "display_data"
    }
   ],
   "source": [
    "nrow(pokemon_500_600)"
   ]
  },
  {
   "cell_type": "code",
   "execution_count": 24,
   "metadata": {},
   "outputs": [
    {
     "data": {
      "text/html": [
       "<table>\n",
       "<caption>A data.frame: 6 × 5</caption>\n",
       "<thead>\n",
       "\t<tr><th></th><th scope=col>Name</th><th scope=col>Total</th><th scope=col>Attack</th><th scope=col>Defense</th><th scope=col>Compare</th></tr>\n",
       "\t<tr><th></th><th scope=col>&lt;fct&gt;</th><th scope=col>&lt;int&gt;</th><th scope=col>&lt;int&gt;</th><th scope=col>&lt;int&gt;</th><th scope=col>&lt;dbl&gt;</th></tr>\n",
       "</thead>\n",
       "<tbody>\n",
       "\t<tr><th scope=row>1</th><td>Bulbasaur            </td><td>318</td><td> 49</td><td> 49</td><td>0</td></tr>\n",
       "\t<tr><th scope=row>2</th><td>Ivysaur              </td><td>405</td><td> 62</td><td> 63</td><td>0</td></tr>\n",
       "\t<tr><th scope=row>3</th><td>Venusaur             </td><td>525</td><td> 82</td><td> 83</td><td>0</td></tr>\n",
       "\t<tr><th scope=row>4</th><td>VenusaurMega Venusaur</td><td>625</td><td>100</td><td>123</td><td>0</td></tr>\n",
       "\t<tr><th scope=row>5</th><td>Charmander           </td><td>309</td><td> 52</td><td> 43</td><td>1</td></tr>\n",
       "\t<tr><th scope=row>6</th><td>Charmeleon           </td><td>405</td><td> 64</td><td> 58</td><td>1</td></tr>\n",
       "</tbody>\n",
       "</table>\n"
      ],
      "text/latex": [
       "A data.frame: 6 × 5\n",
       "\\begin{tabular}{r|lllll}\n",
       "  & Name & Total & Attack & Defense & Compare\\\\\n",
       "  & <fct> & <int> & <int> & <int> & <dbl>\\\\\n",
       "\\hline\n",
       "\t1 & Bulbasaur             & 318 &  49 &  49 & 0\\\\\n",
       "\t2 & Ivysaur               & 405 &  62 &  63 & 0\\\\\n",
       "\t3 & Venusaur              & 525 &  82 &  83 & 0\\\\\n",
       "\t4 & VenusaurMega Venusaur & 625 & 100 & 123 & 0\\\\\n",
       "\t5 & Charmander            & 309 &  52 &  43 & 1\\\\\n",
       "\t6 & Charmeleon            & 405 &  64 &  58 & 1\\\\\n",
       "\\end{tabular}\n"
      ],
      "text/markdown": [
       "\n",
       "A data.frame: 6 × 5\n",
       "\n",
       "| <!--/--> | Name &lt;fct&gt; | Total &lt;int&gt; | Attack &lt;int&gt; | Defense &lt;int&gt; | Compare &lt;dbl&gt; |\n",
       "|---|---|---|---|---|---|\n",
       "| 1 | Bulbasaur             | 318 |  49 |  49 | 0 |\n",
       "| 2 | Ivysaur               | 405 |  62 |  63 | 0 |\n",
       "| 3 | Venusaur              | 525 |  82 |  83 | 0 |\n",
       "| 4 | VenusaurMega Venusaur | 625 | 100 | 123 | 0 |\n",
       "| 5 | Charmander            | 309 |  52 |  43 | 1 |\n",
       "| 6 | Charmeleon            | 405 |  64 |  58 | 1 |\n",
       "\n"
      ],
      "text/plain": [
       "  Name                  Total Attack Defense Compare\n",
       "1 Bulbasaur             318    49     49     0      \n",
       "2 Ivysaur               405    62     63     0      \n",
       "3 Venusaur              525    82     83     0      \n",
       "4 VenusaurMega Venusaur 625   100    123     0      \n",
       "5 Charmander            309    52     43     1      \n",
       "6 Charmeleon            405    64     58     1      "
      ]
     },
     "metadata": {},
     "output_type": "display_data"
    }
   ],
   "source": [
    "pokemon_sub = mutate(pokemon_sub, Compare= ifelse(Attack > Defense, 1, 0))\n",
    "head(pokemon_sub)"
   ]
  },
  {
   "cell_type": "code",
   "execution_count": 25,
   "metadata": {},
   "outputs": [
    {
     "data": {
      "text/html": [
       "<table>\n",
       "<caption>A data.frame: 6 × 5</caption>\n",
       "<thead>\n",
       "\t<tr><th></th><th scope=col>Name</th><th scope=col>Total</th><th scope=col>Attack</th><th scope=col>Defense</th><th scope=col>Compare</th></tr>\n",
       "\t<tr><th></th><th scope=col>&lt;fct&gt;</th><th scope=col>&lt;int&gt;</th><th scope=col>&lt;int&gt;</th><th scope=col>&lt;int&gt;</th><th scope=col>&lt;dbl&gt;</th></tr>\n",
       "</thead>\n",
       "<tbody>\n",
       "\t<tr><th scope=row>1</th><td>Sunkern  </td><td>180</td><td>30</td><td>30</td><td>0</td></tr>\n",
       "\t<tr><th scope=row>2</th><td>Azurill  </td><td>190</td><td>20</td><td>40</td><td>0</td></tr>\n",
       "\t<tr><th scope=row>3</th><td>Kricketot</td><td>194</td><td>25</td><td>41</td><td>0</td></tr>\n",
       "\t<tr><th scope=row>4</th><td>Caterpie </td><td>195</td><td>30</td><td>35</td><td>0</td></tr>\n",
       "\t<tr><th scope=row>5</th><td>Weedle   </td><td>195</td><td>35</td><td>30</td><td>1</td></tr>\n",
       "\t<tr><th scope=row>6</th><td>Wurmple  </td><td>195</td><td>45</td><td>35</td><td>1</td></tr>\n",
       "</tbody>\n",
       "</table>\n"
      ],
      "text/latex": [
       "A data.frame: 6 × 5\n",
       "\\begin{tabular}{r|lllll}\n",
       "  & Name & Total & Attack & Defense & Compare\\\\\n",
       "  & <fct> & <int> & <int> & <int> & <dbl>\\\\\n",
       "\\hline\n",
       "\t1 & Sunkern   & 180 & 30 & 30 & 0\\\\\n",
       "\t2 & Azurill   & 190 & 20 & 40 & 0\\\\\n",
       "\t3 & Kricketot & 194 & 25 & 41 & 0\\\\\n",
       "\t4 & Caterpie  & 195 & 30 & 35 & 0\\\\\n",
       "\t5 & Weedle    & 195 & 35 & 30 & 1\\\\\n",
       "\t6 & Wurmple   & 195 & 45 & 35 & 1\\\\\n",
       "\\end{tabular}\n"
      ],
      "text/markdown": [
       "\n",
       "A data.frame: 6 × 5\n",
       "\n",
       "| <!--/--> | Name &lt;fct&gt; | Total &lt;int&gt; | Attack &lt;int&gt; | Defense &lt;int&gt; | Compare &lt;dbl&gt; |\n",
       "|---|---|---|---|---|---|\n",
       "| 1 | Sunkern   | 180 | 30 | 30 | 0 |\n",
       "| 2 | Azurill   | 190 | 20 | 40 | 0 |\n",
       "| 3 | Kricketot | 194 | 25 | 41 | 0 |\n",
       "| 4 | Caterpie  | 195 | 30 | 35 | 0 |\n",
       "| 5 | Weedle    | 195 | 35 | 30 | 1 |\n",
       "| 6 | Wurmple   | 195 | 45 | 35 | 1 |\n",
       "\n"
      ],
      "text/plain": [
       "  Name      Total Attack Defense Compare\n",
       "1 Sunkern   180   30     30      0      \n",
       "2 Azurill   190   20     40      0      \n",
       "3 Kricketot 194   25     41      0      \n",
       "4 Caterpie  195   30     35      0      \n",
       "5 Weedle    195   35     30      1      \n",
       "6 Wurmple   195   45     35      1      "
      ]
     },
     "metadata": {},
     "output_type": "display_data"
    }
   ],
   "source": [
    "head(arrange(pokemon_sub, Total))"
   ]
  },
  {
   "cell_type": "code",
   "execution_count": 26,
   "metadata": {},
   "outputs": [
    {
     "data": {
      "text/html": [
       "<table>\n",
       "<caption>A data.frame: 6 × 5</caption>\n",
       "<thead>\n",
       "\t<tr><th></th><th scope=col>Name</th><th scope=col>Total</th><th scope=col>Attack</th><th scope=col>Defense</th><th scope=col>Compare</th></tr>\n",
       "\t<tr><th></th><th scope=col>&lt;fct&gt;</th><th scope=col>&lt;int&gt;</th><th scope=col>&lt;int&gt;</th><th scope=col>&lt;int&gt;</th><th scope=col>&lt;dbl&gt;</th></tr>\n",
       "</thead>\n",
       "<tbody>\n",
       "\t<tr><th scope=row>1</th><td>MewtwoMega Mewtwo X  </td><td>780</td><td>190</td><td>100</td><td>1</td></tr>\n",
       "\t<tr><th scope=row>2</th><td>RayquazaMega Rayquaza</td><td>780</td><td>180</td><td>100</td><td>1</td></tr>\n",
       "\t<tr><th scope=row>3</th><td>MewtwoMega Mewtwo Y  </td><td>780</td><td>150</td><td> 70</td><td>1</td></tr>\n",
       "\t<tr><th scope=row>4</th><td>GroudonPrimal Groudon</td><td>770</td><td>180</td><td>160</td><td>1</td></tr>\n",
       "\t<tr><th scope=row>5</th><td>KyogrePrimal Kyogre  </td><td>770</td><td>150</td><td> 90</td><td>1</td></tr>\n",
       "\t<tr><th scope=row>6</th><td>Arceus               </td><td>720</td><td>120</td><td>120</td><td>0</td></tr>\n",
       "</tbody>\n",
       "</table>\n"
      ],
      "text/latex": [
       "A data.frame: 6 × 5\n",
       "\\begin{tabular}{r|lllll}\n",
       "  & Name & Total & Attack & Defense & Compare\\\\\n",
       "  & <fct> & <int> & <int> & <int> & <dbl>\\\\\n",
       "\\hline\n",
       "\t1 & MewtwoMega Mewtwo X   & 780 & 190 & 100 & 1\\\\\n",
       "\t2 & RayquazaMega Rayquaza & 780 & 180 & 100 & 1\\\\\n",
       "\t3 & MewtwoMega Mewtwo Y   & 780 & 150 &  70 & 1\\\\\n",
       "\t4 & GroudonPrimal Groudon & 770 & 180 & 160 & 1\\\\\n",
       "\t5 & KyogrePrimal Kyogre   & 770 & 150 &  90 & 1\\\\\n",
       "\t6 & Arceus                & 720 & 120 & 120 & 0\\\\\n",
       "\\end{tabular}\n"
      ],
      "text/markdown": [
       "\n",
       "A data.frame: 6 × 5\n",
       "\n",
       "| <!--/--> | Name &lt;fct&gt; | Total &lt;int&gt; | Attack &lt;int&gt; | Defense &lt;int&gt; | Compare &lt;dbl&gt; |\n",
       "|---|---|---|---|---|---|\n",
       "| 1 | MewtwoMega Mewtwo X   | 780 | 190 | 100 | 1 |\n",
       "| 2 | RayquazaMega Rayquaza | 780 | 180 | 100 | 1 |\n",
       "| 3 | MewtwoMega Mewtwo Y   | 780 | 150 |  70 | 1 |\n",
       "| 4 | GroudonPrimal Groudon | 770 | 180 | 160 | 1 |\n",
       "| 5 | KyogrePrimal Kyogre   | 770 | 150 |  90 | 1 |\n",
       "| 6 | Arceus                | 720 | 120 | 120 | 0 |\n",
       "\n"
      ],
      "text/plain": [
       "  Name                  Total Attack Defense Compare\n",
       "1 MewtwoMega Mewtwo X   780   190    100     1      \n",
       "2 RayquazaMega Rayquaza 780   180    100     1      \n",
       "3 MewtwoMega Mewtwo Y   780   150     70     1      \n",
       "4 GroudonPrimal Groudon 770   180    160     1      \n",
       "5 KyogrePrimal Kyogre   770   150     90     1      \n",
       "6 Arceus                720   120    120     0      "
      ]
     },
     "metadata": {},
     "output_type": "display_data"
    }
   ],
   "source": [
    "head(arrange(pokemon_sub, desc(Total), desc(Attack)))"
   ]
  },
  {
   "cell_type": "code",
   "execution_count": 27,
   "metadata": {},
   "outputs": [
    {
     "data": {
      "text/html": [
       "<table>\n",
       "<caption>A tibble: 18 × 6</caption>\n",
       "<thead>\n",
       "\t<tr><th></th><th scope=col>Type.1</th><th scope=col>count</th><th scope=col>mean.Attack</th><th scope=col>median.Attack</th><th scope=col>mean.Defense</th><th scope=col>median.Defense</th></tr>\n",
       "\t<tr><th></th><th scope=col>&lt;fct&gt;</th><th scope=col>&lt;int&gt;</th><th scope=col>&lt;dbl&gt;</th><th scope=col>&lt;dbl&gt;</th><th scope=col>&lt;dbl&gt;</th><th scope=col>&lt;dbl&gt;</th></tr>\n",
       "</thead>\n",
       "<tbody>\n",
       "\t<tr><th scope=row>1</th><td>Bug     </td><td> 69</td><td> 70.97101</td><td> 65.0</td><td> 70.72464</td><td> 60.0</td></tr>\n",
       "\t<tr><th scope=row>2</th><td>Dark    </td><td> 31</td><td> 88.38710</td><td> 88.0</td><td> 70.22581</td><td> 70.0</td></tr>\n",
       "\t<tr><th scope=row>3</th><td>Dragon  </td><td> 32</td><td>112.12500</td><td>113.5</td><td> 86.37500</td><td> 90.0</td></tr>\n",
       "\t<tr><th scope=row>4</th><td>Electric</td><td> 44</td><td> 69.09091</td><td> 65.0</td><td> 66.29545</td><td> 65.0</td></tr>\n",
       "\t<tr><th scope=row>5</th><td>Fairy   </td><td> 17</td><td> 61.52941</td><td> 52.0</td><td> 65.70588</td><td> 66.0</td></tr>\n",
       "\t<tr><th scope=row>6</th><td>Fighting</td><td> 27</td><td> 96.77778</td><td>100.0</td><td> 65.92593</td><td> 70.0</td></tr>\n",
       "\t<tr><th scope=row>7</th><td>Fire    </td><td> 52</td><td> 84.76923</td><td> 84.5</td><td> 67.76923</td><td> 64.0</td></tr>\n",
       "\t<tr><th scope=row>8</th><td>Flying  </td><td>  4</td><td> 78.75000</td><td> 85.0</td><td> 66.25000</td><td> 75.0</td></tr>\n",
       "\t<tr><th scope=row>9</th><td>Ghost   </td><td> 32</td><td> 73.78125</td><td> 66.0</td><td> 81.18750</td><td> 72.5</td></tr>\n",
       "\t<tr><th scope=row>10</th><td>Grass   </td><td> 70</td><td> 73.21429</td><td> 70.0</td><td> 70.80000</td><td> 66.0</td></tr>\n",
       "\t<tr><th scope=row>11</th><td>Ground  </td><td> 32</td><td> 95.75000</td><td> 85.0</td><td> 84.84375</td><td> 84.5</td></tr>\n",
       "\t<tr><th scope=row>12</th><td>Ice     </td><td> 24</td><td> 72.75000</td><td> 67.0</td><td> 71.41667</td><td> 75.0</td></tr>\n",
       "\t<tr><th scope=row>13</th><td>Normal  </td><td> 98</td><td> 73.46939</td><td> 70.5</td><td> 59.84694</td><td> 60.0</td></tr>\n",
       "\t<tr><th scope=row>14</th><td>Poison  </td><td> 28</td><td> 74.67857</td><td> 74.0</td><td> 68.82143</td><td> 67.0</td></tr>\n",
       "\t<tr><th scope=row>15</th><td>Psychic </td><td> 57</td><td> 71.45614</td><td> 57.0</td><td> 67.68421</td><td> 65.0</td></tr>\n",
       "\t<tr><th scope=row>16</th><td>Rock    </td><td> 44</td><td> 92.86364</td><td> 95.0</td><td>100.79545</td><td>100.0</td></tr>\n",
       "\t<tr><th scope=row>17</th><td>Steel   </td><td> 27</td><td> 92.70370</td><td> 89.0</td><td>126.37037</td><td>120.0</td></tr>\n",
       "\t<tr><th scope=row>18</th><td>Water   </td><td>112</td><td> 74.15179</td><td> 72.0</td><td> 72.94643</td><td> 70.0</td></tr>\n",
       "</tbody>\n",
       "</table>\n"
      ],
      "text/latex": [
       "A tibble: 18 × 6\n",
       "\\begin{tabular}{r|llllll}\n",
       "  & Type.1 & count & mean.Attack & median.Attack & mean.Defense & median.Defense\\\\\n",
       "  & <fct> & <int> & <dbl> & <dbl> & <dbl> & <dbl>\\\\\n",
       "\\hline\n",
       "\t1 & Bug      &  69 &  70.97101 &  65.0 &  70.72464 &  60.0\\\\\n",
       "\t2 & Dark     &  31 &  88.38710 &  88.0 &  70.22581 &  70.0\\\\\n",
       "\t3 & Dragon   &  32 & 112.12500 & 113.5 &  86.37500 &  90.0\\\\\n",
       "\t4 & Electric &  44 &  69.09091 &  65.0 &  66.29545 &  65.0\\\\\n",
       "\t5 & Fairy    &  17 &  61.52941 &  52.0 &  65.70588 &  66.0\\\\\n",
       "\t6 & Fighting &  27 &  96.77778 & 100.0 &  65.92593 &  70.0\\\\\n",
       "\t7 & Fire     &  52 &  84.76923 &  84.5 &  67.76923 &  64.0\\\\\n",
       "\t8 & Flying   &   4 &  78.75000 &  85.0 &  66.25000 &  75.0\\\\\n",
       "\t9 & Ghost    &  32 &  73.78125 &  66.0 &  81.18750 &  72.5\\\\\n",
       "\t10 & Grass    &  70 &  73.21429 &  70.0 &  70.80000 &  66.0\\\\\n",
       "\t11 & Ground   &  32 &  95.75000 &  85.0 &  84.84375 &  84.5\\\\\n",
       "\t12 & Ice      &  24 &  72.75000 &  67.0 &  71.41667 &  75.0\\\\\n",
       "\t13 & Normal   &  98 &  73.46939 &  70.5 &  59.84694 &  60.0\\\\\n",
       "\t14 & Poison   &  28 &  74.67857 &  74.0 &  68.82143 &  67.0\\\\\n",
       "\t15 & Psychic  &  57 &  71.45614 &  57.0 &  67.68421 &  65.0\\\\\n",
       "\t16 & Rock     &  44 &  92.86364 &  95.0 & 100.79545 & 100.0\\\\\n",
       "\t17 & Steel    &  27 &  92.70370 &  89.0 & 126.37037 & 120.0\\\\\n",
       "\t18 & Water    & 112 &  74.15179 &  72.0 &  72.94643 &  70.0\\\\\n",
       "\\end{tabular}\n"
      ],
      "text/markdown": [
       "\n",
       "A tibble: 18 × 6\n",
       "\n",
       "| <!--/--> | Type.1 &lt;fct&gt; | count &lt;int&gt; | mean.Attack &lt;dbl&gt; | median.Attack &lt;dbl&gt; | mean.Defense &lt;dbl&gt; | median.Defense &lt;dbl&gt; |\n",
       "|---|---|---|---|---|---|---|\n",
       "| 1 | Bug      |  69 |  70.97101 |  65.0 |  70.72464 |  60.0 |\n",
       "| 2 | Dark     |  31 |  88.38710 |  88.0 |  70.22581 |  70.0 |\n",
       "| 3 | Dragon   |  32 | 112.12500 | 113.5 |  86.37500 |  90.0 |\n",
       "| 4 | Electric |  44 |  69.09091 |  65.0 |  66.29545 |  65.0 |\n",
       "| 5 | Fairy    |  17 |  61.52941 |  52.0 |  65.70588 |  66.0 |\n",
       "| 6 | Fighting |  27 |  96.77778 | 100.0 |  65.92593 |  70.0 |\n",
       "| 7 | Fire     |  52 |  84.76923 |  84.5 |  67.76923 |  64.0 |\n",
       "| 8 | Flying   |   4 |  78.75000 |  85.0 |  66.25000 |  75.0 |\n",
       "| 9 | Ghost    |  32 |  73.78125 |  66.0 |  81.18750 |  72.5 |\n",
       "| 10 | Grass    |  70 |  73.21429 |  70.0 |  70.80000 |  66.0 |\n",
       "| 11 | Ground   |  32 |  95.75000 |  85.0 |  84.84375 |  84.5 |\n",
       "| 12 | Ice      |  24 |  72.75000 |  67.0 |  71.41667 |  75.0 |\n",
       "| 13 | Normal   |  98 |  73.46939 |  70.5 |  59.84694 |  60.0 |\n",
       "| 14 | Poison   |  28 |  74.67857 |  74.0 |  68.82143 |  67.0 |\n",
       "| 15 | Psychic  |  57 |  71.45614 |  57.0 |  67.68421 |  65.0 |\n",
       "| 16 | Rock     |  44 |  92.86364 |  95.0 | 100.79545 | 100.0 |\n",
       "| 17 | Steel    |  27 |  92.70370 |  89.0 | 126.37037 | 120.0 |\n",
       "| 18 | Water    | 112 |  74.15179 |  72.0 |  72.94643 |  70.0 |\n",
       "\n"
      ],
      "text/plain": [
       "   Type.1   count mean.Attack median.Attack mean.Defense median.Defense\n",
       "1  Bug       69    70.97101    65.0          70.72464     60.0         \n",
       "2  Dark      31    88.38710    88.0          70.22581     70.0         \n",
       "3  Dragon    32   112.12500   113.5          86.37500     90.0         \n",
       "4  Electric  44    69.09091    65.0          66.29545     65.0         \n",
       "5  Fairy     17    61.52941    52.0          65.70588     66.0         \n",
       "6  Fighting  27    96.77778   100.0          65.92593     70.0         \n",
       "7  Fire      52    84.76923    84.5          67.76923     64.0         \n",
       "8  Flying     4    78.75000    85.0          66.25000     75.0         \n",
       "9  Ghost     32    73.78125    66.0          81.18750     72.5         \n",
       "10 Grass     70    73.21429    70.0          70.80000     66.0         \n",
       "11 Ground    32    95.75000    85.0          84.84375     84.5         \n",
       "12 Ice       24    72.75000    67.0          71.41667     75.0         \n",
       "13 Normal    98    73.46939    70.5          59.84694     60.0         \n",
       "14 Poison    28    74.67857    74.0          68.82143     67.0         \n",
       "15 Psychic   57    71.45614    57.0          67.68421     65.0         \n",
       "16 Rock      44    92.86364    95.0         100.79545    100.0         \n",
       "17 Steel     27    92.70370    89.0         126.37037    120.0         \n",
       "18 Water    112    74.15179    72.0          72.94643     70.0         "
      ]
     },
     "metadata": {},
     "output_type": "display_data"
    }
   ],
   "source": [
    "group = group_by(pokemon, Type.1)\n",
    "summary = summarize(group,\n",
    "                   count=n(),\n",
    "                   mean.Attack = mean(Attack, na.rm = T),\n",
    "                   median.Attack = median(Attack, na.rm = T),\n",
    "                   mean.Defense = mean(Defense, na.rm = T),\n",
    "                   median.Defense = median(Defense, na.rm = T))\n",
    "summary"
   ]
  },
  {
   "cell_type": "code",
   "execution_count": 34,
   "metadata": {},
   "outputs": [
    {
     "data": {
      "text/html": [
       "<table>\n",
       "<caption>A data.frame: 18 × 2</caption>\n",
       "<thead>\n",
       "\t<tr><th></th><th scope=col>Type.1</th><th scope=col>n</th></tr>\n",
       "\t<tr><th></th><th scope=col>&lt;fct&gt;</th><th scope=col>&lt;int&gt;</th></tr>\n",
       "</thead>\n",
       "<tbody>\n",
       "\t<tr><th scope=row>1</th><td>Bug     </td><td> 69</td></tr>\n",
       "\t<tr><th scope=row>2</th><td>Dark    </td><td> 31</td></tr>\n",
       "\t<tr><th scope=row>3</th><td>Dragon  </td><td> 32</td></tr>\n",
       "\t<tr><th scope=row>4</th><td>Electric</td><td> 44</td></tr>\n",
       "\t<tr><th scope=row>5</th><td>Fairy   </td><td> 17</td></tr>\n",
       "\t<tr><th scope=row>6</th><td>Fighting</td><td> 27</td></tr>\n",
       "\t<tr><th scope=row>7</th><td>Fire    </td><td> 52</td></tr>\n",
       "\t<tr><th scope=row>8</th><td>Flying  </td><td>  4</td></tr>\n",
       "\t<tr><th scope=row>9</th><td>Ghost   </td><td> 32</td></tr>\n",
       "\t<tr><th scope=row>10</th><td>Grass   </td><td> 70</td></tr>\n",
       "\t<tr><th scope=row>11</th><td>Ground  </td><td> 32</td></tr>\n",
       "\t<tr><th scope=row>12</th><td>Ice     </td><td> 24</td></tr>\n",
       "\t<tr><th scope=row>13</th><td>Normal  </td><td> 98</td></tr>\n",
       "\t<tr><th scope=row>14</th><td>Poison  </td><td> 28</td></tr>\n",
       "\t<tr><th scope=row>15</th><td>Psychic </td><td> 57</td></tr>\n",
       "\t<tr><th scope=row>16</th><td>Rock    </td><td> 44</td></tr>\n",
       "\t<tr><th scope=row>17</th><td>Steel   </td><td> 27</td></tr>\n",
       "\t<tr><th scope=row>18</th><td>Water   </td><td>112</td></tr>\n",
       "</tbody>\n",
       "</table>\n"
      ],
      "text/latex": [
       "A data.frame: 18 × 2\n",
       "\\begin{tabular}{r|ll}\n",
       "  & Type.1 & n\\\\\n",
       "  & <fct> & <int>\\\\\n",
       "\\hline\n",
       "\t1 & Bug      &  69\\\\\n",
       "\t2 & Dark     &  31\\\\\n",
       "\t3 & Dragon   &  32\\\\\n",
       "\t4 & Electric &  44\\\\\n",
       "\t5 & Fairy    &  17\\\\\n",
       "\t6 & Fighting &  27\\\\\n",
       "\t7 & Fire     &  52\\\\\n",
       "\t8 & Flying   &   4\\\\\n",
       "\t9 & Ghost    &  32\\\\\n",
       "\t10 & Grass    &  70\\\\\n",
       "\t11 & Ground   &  32\\\\\n",
       "\t12 & Ice      &  24\\\\\n",
       "\t13 & Normal   &  98\\\\\n",
       "\t14 & Poison   &  28\\\\\n",
       "\t15 & Psychic  &  57\\\\\n",
       "\t16 & Rock     &  44\\\\\n",
       "\t17 & Steel    &  27\\\\\n",
       "\t18 & Water    & 112\\\\\n",
       "\\end{tabular}\n"
      ],
      "text/markdown": [
       "\n",
       "A data.frame: 18 × 2\n",
       "\n",
       "| <!--/--> | Type.1 &lt;fct&gt; | n &lt;int&gt; |\n",
       "|---|---|---|\n",
       "| 1 | Bug      |  69 |\n",
       "| 2 | Dark     |  31 |\n",
       "| 3 | Dragon   |  32 |\n",
       "| 4 | Electric |  44 |\n",
       "| 5 | Fairy    |  17 |\n",
       "| 6 | Fighting |  27 |\n",
       "| 7 | Fire     |  52 |\n",
       "| 8 | Flying   |   4 |\n",
       "| 9 | Ghost    |  32 |\n",
       "| 10 | Grass    |  70 |\n",
       "| 11 | Ground   |  32 |\n",
       "| 12 | Ice      |  24 |\n",
       "| 13 | Normal   |  98 |\n",
       "| 14 | Poison   |  28 |\n",
       "| 15 | Psychic  |  57 |\n",
       "| 16 | Rock     |  44 |\n",
       "| 17 | Steel    |  27 |\n",
       "| 18 | Water    | 112 |\n",
       "\n"
      ],
      "text/plain": [
       "   Type.1   n  \n",
       "1  Bug       69\n",
       "2  Dark      31\n",
       "3  Dragon    32\n",
       "4  Electric  44\n",
       "5  Fairy     17\n",
       "6  Fighting  27\n",
       "7  Fire      52\n",
       "8  Flying     4\n",
       "9  Ghost     32\n",
       "10 Grass     70\n",
       "11 Ground    32\n",
       "12 Ice       24\n",
       "13 Normal    98\n",
       "14 Poison    28\n",
       "15 Psychic   57\n",
       "16 Rock      44\n",
       "17 Steel     27\n",
       "18 Water    112"
      ]
     },
     "metadata": {},
     "output_type": "display_data"
    }
   ],
   "source": [
    "df_count =count(pokemon, Type.1)\n",
    "df_count"
   ]
  },
  {
   "cell_type": "code",
   "execution_count": 32,
   "metadata": {},
   "outputs": [],
   "source": [
    "total_row = nrow(pokemon)"
   ]
  },
  {
   "cell_type": "code",
   "execution_count": 36,
   "metadata": {},
   "outputs": [
    {
     "data": {
      "text/html": [
       "<table>\n",
       "<caption>A data.frame: 6 × 3</caption>\n",
       "<thead>\n",
       "\t<tr><th></th><th scope=col>Type.1</th><th scope=col>n</th><th scope=col>percentage</th></tr>\n",
       "\t<tr><th></th><th scope=col>&lt;fct&gt;</th><th scope=col>&lt;int&gt;</th><th scope=col>&lt;dbl&gt;</th></tr>\n",
       "</thead>\n",
       "<tbody>\n",
       "\t<tr><th scope=row>1</th><td>Bug     </td><td>69</td><td>0.08625</td></tr>\n",
       "\t<tr><th scope=row>2</th><td>Dark    </td><td>31</td><td>0.03875</td></tr>\n",
       "\t<tr><th scope=row>3</th><td>Dragon  </td><td>32</td><td>0.04000</td></tr>\n",
       "\t<tr><th scope=row>4</th><td>Electric</td><td>44</td><td>0.05500</td></tr>\n",
       "\t<tr><th scope=row>5</th><td>Fairy   </td><td>17</td><td>0.02125</td></tr>\n",
       "\t<tr><th scope=row>6</th><td>Fighting</td><td>27</td><td>0.03375</td></tr>\n",
       "</tbody>\n",
       "</table>\n"
      ],
      "text/latex": [
       "A data.frame: 6 × 3\n",
       "\\begin{tabular}{r|lll}\n",
       "  & Type.1 & n & percentage\\\\\n",
       "  & <fct> & <int> & <dbl>\\\\\n",
       "\\hline\n",
       "\t1 & Bug      & 69 & 0.08625\\\\\n",
       "\t2 & Dark     & 31 & 0.03875\\\\\n",
       "\t3 & Dragon   & 32 & 0.04000\\\\\n",
       "\t4 & Electric & 44 & 0.05500\\\\\n",
       "\t5 & Fairy    & 17 & 0.02125\\\\\n",
       "\t6 & Fighting & 27 & 0.03375\\\\\n",
       "\\end{tabular}\n"
      ],
      "text/markdown": [
       "\n",
       "A data.frame: 6 × 3\n",
       "\n",
       "| <!--/--> | Type.1 &lt;fct&gt; | n &lt;int&gt; | percentage &lt;dbl&gt; |\n",
       "|---|---|---|---|\n",
       "| 1 | Bug      | 69 | 0.08625 |\n",
       "| 2 | Dark     | 31 | 0.03875 |\n",
       "| 3 | Dragon   | 32 | 0.04000 |\n",
       "| 4 | Electric | 44 | 0.05500 |\n",
       "| 5 | Fairy    | 17 | 0.02125 |\n",
       "| 6 | Fighting | 27 | 0.03375 |\n",
       "\n"
      ],
      "text/plain": [
       "  Type.1   n  percentage\n",
       "1 Bug      69 0.08625   \n",
       "2 Dark     31 0.03875   \n",
       "3 Dragon   32 0.04000   \n",
       "4 Electric 44 0.05500   \n",
       "5 Fairy    17 0.02125   \n",
       "6 Fighting 27 0.03375   "
      ]
     },
     "metadata": {},
     "output_type": "display_data"
    }
   ],
   "source": [
    "df_count = mutate(df_count, percentage = (n / total_row))\n",
    "head(df_count)"
   ]
  },
  {
   "cell_type": "code",
   "execution_count": 37,
   "metadata": {},
   "outputs": [],
   "source": [
    "sub_5_per = sample_frac(pokemon, 0.05)"
   ]
  },
  {
   "cell_type": "code",
   "execution_count": 38,
   "metadata": {},
   "outputs": [
    {
     "data": {
      "text/html": [
       "<style>\n",
       ".list-inline {list-style: none; margin:0; padding: 0}\n",
       ".list-inline>li {display: inline-block}\n",
       ".list-inline>li:not(:last-child)::after {content: \"\\00b7\"; padding: 0 .5ex}\n",
       "</style>\n",
       "<ol class=list-inline><li>40</li><li>13</li></ol>\n"
      ],
      "text/latex": [
       "\\begin{enumerate*}\n",
       "\\item 40\n",
       "\\item 13\n",
       "\\end{enumerate*}\n"
      ],
      "text/markdown": [
       "1. 40\n",
       "2. 13\n",
       "\n",
       "\n"
      ],
      "text/plain": [
       "[1] 40 13"
      ]
     },
     "metadata": {},
     "output_type": "display_data"
    }
   ],
   "source": [
    "dim(sub_5_per)"
   ]
  },
  {
   "cell_type": "code",
   "execution_count": null,
   "metadata": {},
   "outputs": [],
   "source": []
  }
 ],
 "metadata": {
  "kernelspec": {
   "display_name": "R",
   "language": "R",
   "name": "conda-env-r-r"
  },
  "language_info": {
   "codemirror_mode": "r",
   "file_extension": ".r",
   "mimetype": "text/x-r-source",
   "name": "R",
   "pygments_lexer": "r",
   "version": "3.5.1"
  }
 },
 "nbformat": 4,
 "nbformat_minor": 4
}
