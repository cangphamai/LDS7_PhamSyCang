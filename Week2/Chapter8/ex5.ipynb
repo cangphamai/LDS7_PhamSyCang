{
 "cells": [
  {
   "cell_type": "code",
   "execution_count": 1,
   "metadata": {},
   "outputs": [
    {
     "name": "stderr",
     "output_type": "stream",
     "text": [
      "── Attaching packages ─────────────────────────────────────── tidyverse 1.3.0 ──\n",
      "✔ ggplot2 3.3.0     ✔ purrr   0.3.4\n",
      "✔ tibble  3.0.1     ✔ dplyr   0.8.5\n",
      "✔ tidyr   1.0.2     ✔ stringr 1.4.0\n",
      "✔ readr   1.3.1     ✔ forcats 0.5.0\n",
      "── Conflicts ────────────────────────────────────────── tidyverse_conflicts() ──\n",
      "✖ dplyr::filter() masks stats::filter()\n",
      "✖ dplyr::lag()    masks stats::lag()\n"
     ]
    }
   ],
   "source": [
    "library(tidyverse)"
   ]
  },
  {
   "cell_type": "code",
   "execution_count": 2,
   "metadata": {},
   "outputs": [
    {
     "name": "stdout",
     "output_type": "stream",
     "text": [
      "  id gender height weight  bmi age  bmc  bmd   fat  lean pcfat\n",
      "1  1      F    150     49 21.8  53 1312 0.88 17802 28600  37.3\n",
      "2  2      M    165     52 19.1  65 1309 0.84  8381 40229  16.8\n",
      "3  3      F    157     57 23.1  64 1230 0.84 19221 36057  34.0\n",
      "4  4      F    156     53 21.8  56 1171 0.80 17472 33094  33.8\n",
      "5  5      M    160     51 19.9  54 1681 0.98  7336 40621  14.8\n",
      "6  6      F    153     47 20.1  52 1358 0.91 14904 30068  32.2\n"
     ]
    }
   ],
   "source": [
    "data = read.csv(\"Obesity_data.csv\")\n",
    "print(head(data))"
   ]
  },
  {
   "cell_type": "code",
   "execution_count": 3,
   "metadata": {},
   "outputs": [
    {
     "name": "stdout",
     "output_type": "stream",
     "text": [
      "  gender height weight  bmi age\n",
      "1      F    150     49 21.8  53\n",
      "2      M    165     52 19.1  65\n",
      "3      F    157     57 23.1  64\n",
      "4      F    156     53 21.8  56\n",
      "5      M    160     51 19.9  54\n",
      "6      F    153     47 20.1  52\n"
     ]
    }
   ],
   "source": [
    "data1= data%>% select(c(2,3,4,5,6))\n",
    "print(head(data1))"
   ]
  },
  {
   "cell_type": "code",
   "execution_count": 4,
   "metadata": {},
   "outputs": [
    {
     "data": {
      "text/html": [
       "<table>\n",
       "<caption>A data.frame: 6 × 5</caption>\n",
       "<thead>\n",
       "\t<tr><th></th><th scope=col>gender</th><th scope=col>height</th><th scope=col>weight</th><th scope=col>bmi</th><th scope=col>age</th></tr>\n",
       "\t<tr><th></th><th scope=col>&lt;fct&gt;</th><th scope=col>&lt;int&gt;</th><th scope=col>&lt;int&gt;</th><th scope=col>&lt;dbl&gt;</th><th scope=col>&lt;int&gt;</th></tr>\n",
       "</thead>\n",
       "<tbody>\n",
       "\t<tr><th scope=row>1</th><td>F</td><td>150</td><td>49</td><td>21.8</td><td>53</td></tr>\n",
       "\t<tr><th scope=row>2</th><td>M</td><td>165</td><td>52</td><td>19.1</td><td>65</td></tr>\n",
       "\t<tr><th scope=row>3</th><td>F</td><td>157</td><td>57</td><td>23.1</td><td>64</td></tr>\n",
       "\t<tr><th scope=row>4</th><td>F</td><td>156</td><td>53</td><td>21.8</td><td>56</td></tr>\n",
       "\t<tr><th scope=row>5</th><td>M</td><td>160</td><td>51</td><td>19.9</td><td>54</td></tr>\n",
       "\t<tr><th scope=row>6</th><td>F</td><td>153</td><td>47</td><td>20.1</td><td>52</td></tr>\n",
       "</tbody>\n",
       "</table>\n"
      ],
      "text/latex": [
       "A data.frame: 6 × 5\n",
       "\\begin{tabular}{r|lllll}\n",
       "  & gender & height & weight & bmi & age\\\\\n",
       "  & <fct> & <int> & <int> & <dbl> & <int>\\\\\n",
       "\\hline\n",
       "\t1 & F & 150 & 49 & 21.8 & 53\\\\\n",
       "\t2 & M & 165 & 52 & 19.1 & 65\\\\\n",
       "\t3 & F & 157 & 57 & 23.1 & 64\\\\\n",
       "\t4 & F & 156 & 53 & 21.8 & 56\\\\\n",
       "\t5 & M & 160 & 51 & 19.9 & 54\\\\\n",
       "\t6 & F & 153 & 47 & 20.1 & 52\\\\\n",
       "\\end{tabular}\n"
      ],
      "text/markdown": [
       "\n",
       "A data.frame: 6 × 5\n",
       "\n",
       "| <!--/--> | gender &lt;fct&gt; | height &lt;int&gt; | weight &lt;int&gt; | bmi &lt;dbl&gt; | age &lt;int&gt; |\n",
       "|---|---|---|---|---|---|\n",
       "| 1 | F | 150 | 49 | 21.8 | 53 |\n",
       "| 2 | M | 165 | 52 | 19.1 | 65 |\n",
       "| 3 | F | 157 | 57 | 23.1 | 64 |\n",
       "| 4 | F | 156 | 53 | 21.8 | 56 |\n",
       "| 5 | M | 160 | 51 | 19.9 | 54 |\n",
       "| 6 | F | 153 | 47 | 20.1 | 52 |\n",
       "\n"
      ],
      "text/plain": [
       "  gender height weight bmi  age\n",
       "1 F      150    49     21.8 53 \n",
       "2 M      165    52     19.1 65 \n",
       "3 F      157    57     23.1 64 \n",
       "4 F      156    53     21.8 56 \n",
       "5 M      160    51     19.9 54 \n",
       "6 F      153    47     20.1 52 "
      ]
     },
     "metadata": {},
     "output_type": "display_data"
    }
   ],
   "source": [
    "data11=  data%>% select(gender, height, weight, bmi, age)\n",
    "head(data11)"
   ]
  },
  {
   "cell_type": "code",
   "execution_count": 5,
   "metadata": {},
   "outputs": [
    {
     "name": "stdout",
     "output_type": "stream",
     "text": [
      "  gender height weight  bmi age\n",
      "1      F    150     49 21.8  53\n",
      "2      M    165     52 19.1  65\n",
      "3      F    157     57 23.1  64\n",
      "4      F    156     53 21.8  56\n",
      "5      M    160     51 19.9  54\n",
      "6      F    153     47 20.1  52\n"
     ]
    }
   ],
   "source": [
    "data2 = data1 %>% filter(bmi >=18.5, bmi <=24.9)\n",
    "print(head(data2))"
   ]
  },
  {
   "cell_type": "code",
   "execution_count": 6,
   "metadata": {},
   "outputs": [
    {
     "name": "stdout",
     "output_type": "stream",
     "text": [
      "[1] \"row have bmi >18.5 and <= 24.9: 865\"\n"
     ]
    }
   ],
   "source": [
    "print(paste(\"row have bmi >18.5 and <= 24.9:\", nrow(data2)))"
   ]
  },
  {
   "cell_type": "code",
   "execution_count": 7,
   "metadata": {},
   "outputs": [
    {
     "data": {
      "text/html": [
       "<table>\n",
       "<caption>A data.frame: 6 × 6</caption>\n",
       "<thead>\n",
       "\t<tr><th></th><th scope=col>gender</th><th scope=col>height</th><th scope=col>weight</th><th scope=col>bmi</th><th scope=col>age</th><th scope=col>height_m</th></tr>\n",
       "\t<tr><th></th><th scope=col>&lt;fct&gt;</th><th scope=col>&lt;int&gt;</th><th scope=col>&lt;int&gt;</th><th scope=col>&lt;dbl&gt;</th><th scope=col>&lt;int&gt;</th><th scope=col>&lt;dbl&gt;</th></tr>\n",
       "</thead>\n",
       "<tbody>\n",
       "\t<tr><th scope=row>1</th><td>F</td><td>150</td><td>49</td><td>21.8</td><td>53</td><td>1.50</td></tr>\n",
       "\t<tr><th scope=row>2</th><td>M</td><td>165</td><td>52</td><td>19.1</td><td>65</td><td>1.65</td></tr>\n",
       "\t<tr><th scope=row>3</th><td>F</td><td>157</td><td>57</td><td>23.1</td><td>64</td><td>1.57</td></tr>\n",
       "\t<tr><th scope=row>4</th><td>F</td><td>156</td><td>53</td><td>21.8</td><td>56</td><td>1.56</td></tr>\n",
       "\t<tr><th scope=row>5</th><td>M</td><td>160</td><td>51</td><td>19.9</td><td>54</td><td>1.60</td></tr>\n",
       "\t<tr><th scope=row>6</th><td>F</td><td>153</td><td>47</td><td>20.1</td><td>52</td><td>1.53</td></tr>\n",
       "</tbody>\n",
       "</table>\n"
      ],
      "text/latex": [
       "A data.frame: 6 × 6\n",
       "\\begin{tabular}{r|llllll}\n",
       "  & gender & height & weight & bmi & age & height\\_m\\\\\n",
       "  & <fct> & <int> & <int> & <dbl> & <int> & <dbl>\\\\\n",
       "\\hline\n",
       "\t1 & F & 150 & 49 & 21.8 & 53 & 1.50\\\\\n",
       "\t2 & M & 165 & 52 & 19.1 & 65 & 1.65\\\\\n",
       "\t3 & F & 157 & 57 & 23.1 & 64 & 1.57\\\\\n",
       "\t4 & F & 156 & 53 & 21.8 & 56 & 1.56\\\\\n",
       "\t5 & M & 160 & 51 & 19.9 & 54 & 1.60\\\\\n",
       "\t6 & F & 153 & 47 & 20.1 & 52 & 1.53\\\\\n",
       "\\end{tabular}\n"
      ],
      "text/markdown": [
       "\n",
       "A data.frame: 6 × 6\n",
       "\n",
       "| <!--/--> | gender &lt;fct&gt; | height &lt;int&gt; | weight &lt;int&gt; | bmi &lt;dbl&gt; | age &lt;int&gt; | height_m &lt;dbl&gt; |\n",
       "|---|---|---|---|---|---|---|\n",
       "| 1 | F | 150 | 49 | 21.8 | 53 | 1.50 |\n",
       "| 2 | M | 165 | 52 | 19.1 | 65 | 1.65 |\n",
       "| 3 | F | 157 | 57 | 23.1 | 64 | 1.57 |\n",
       "| 4 | F | 156 | 53 | 21.8 | 56 | 1.56 |\n",
       "| 5 | M | 160 | 51 | 19.9 | 54 | 1.60 |\n",
       "| 6 | F | 153 | 47 | 20.1 | 52 | 1.53 |\n",
       "\n"
      ],
      "text/plain": [
       "  gender height weight bmi  age height_m\n",
       "1 F      150    49     21.8 53  1.50    \n",
       "2 M      165    52     19.1 65  1.65    \n",
       "3 F      157    57     23.1 64  1.57    \n",
       "4 F      156    53     21.8 56  1.56    \n",
       "5 M      160    51     19.9 54  1.60    \n",
       "6 F      153    47     20.1 52  1.53    "
      ]
     },
     "metadata": {},
     "output_type": "display_data"
    }
   ],
   "source": [
    "data1 = mutate(data1, height_m =height/100)\n",
    "head(data1)"
   ]
  },
  {
   "cell_type": "code",
   "execution_count": 8,
   "metadata": {},
   "outputs": [
    {
     "data": {
      "text/html": [
       "<table>\n",
       "<caption>A data.frame: 6 × 6</caption>\n",
       "<thead>\n",
       "\t<tr><th></th><th scope=col>gender</th><th scope=col>height</th><th scope=col>weight</th><th scope=col>bmi</th><th scope=col>age</th><th scope=col>height_m</th></tr>\n",
       "\t<tr><th></th><th scope=col>&lt;fct&gt;</th><th scope=col>&lt;int&gt;</th><th scope=col>&lt;int&gt;</th><th scope=col>&lt;dbl&gt;</th><th scope=col>&lt;int&gt;</th><th scope=col>&lt;dbl&gt;</th></tr>\n",
       "</thead>\n",
       "<tbody>\n",
       "\t<tr><th scope=row>1</th><td>M</td><td>162</td><td>38</td><td>14.5</td><td>55</td><td>1.62</td></tr>\n",
       "\t<tr><th scope=row>2</th><td>F</td><td>162</td><td>40</td><td>15.2</td><td>54</td><td>1.62</td></tr>\n",
       "\t<tr><th scope=row>3</th><td>F</td><td>151</td><td>35</td><td>15.4</td><td>33</td><td>1.51</td></tr>\n",
       "\t<tr><th scope=row>4</th><td>F</td><td>155</td><td>37</td><td>15.4</td><td>44</td><td>1.55</td></tr>\n",
       "\t<tr><th scope=row>5</th><td>F</td><td>150</td><td>35</td><td>15.6</td><td>24</td><td>1.50</td></tr>\n",
       "\t<tr><th scope=row>6</th><td>M</td><td>169</td><td>45</td><td>15.8</td><td>50</td><td>1.69</td></tr>\n",
       "</tbody>\n",
       "</table>\n"
      ],
      "text/latex": [
       "A data.frame: 6 × 6\n",
       "\\begin{tabular}{r|llllll}\n",
       "  & gender & height & weight & bmi & age & height\\_m\\\\\n",
       "  & <fct> & <int> & <int> & <dbl> & <int> & <dbl>\\\\\n",
       "\\hline\n",
       "\t1 & M & 162 & 38 & 14.5 & 55 & 1.62\\\\\n",
       "\t2 & F & 162 & 40 & 15.2 & 54 & 1.62\\\\\n",
       "\t3 & F & 151 & 35 & 15.4 & 33 & 1.51\\\\\n",
       "\t4 & F & 155 & 37 & 15.4 & 44 & 1.55\\\\\n",
       "\t5 & F & 150 & 35 & 15.6 & 24 & 1.50\\\\\n",
       "\t6 & M & 169 & 45 & 15.8 & 50 & 1.69\\\\\n",
       "\\end{tabular}\n"
      ],
      "text/markdown": [
       "\n",
       "A data.frame: 6 × 6\n",
       "\n",
       "| <!--/--> | gender &lt;fct&gt; | height &lt;int&gt; | weight &lt;int&gt; | bmi &lt;dbl&gt; | age &lt;int&gt; | height_m &lt;dbl&gt; |\n",
       "|---|---|---|---|---|---|---|\n",
       "| 1 | M | 162 | 38 | 14.5 | 55 | 1.62 |\n",
       "| 2 | F | 162 | 40 | 15.2 | 54 | 1.62 |\n",
       "| 3 | F | 151 | 35 | 15.4 | 33 | 1.51 |\n",
       "| 4 | F | 155 | 37 | 15.4 | 44 | 1.55 |\n",
       "| 5 | F | 150 | 35 | 15.6 | 24 | 1.50 |\n",
       "| 6 | M | 169 | 45 | 15.8 | 50 | 1.69 |\n",
       "\n"
      ],
      "text/plain": [
       "  gender height weight bmi  age height_m\n",
       "1 M      162    38     14.5 55  1.62    \n",
       "2 F      162    40     15.2 54  1.62    \n",
       "3 F      151    35     15.4 33  1.51    \n",
       "4 F      155    37     15.4 44  1.55    \n",
       "5 F      150    35     15.6 24  1.50    \n",
       "6 M      169    45     15.8 50  1.69    "
      ]
     },
     "metadata": {},
     "output_type": "display_data"
    }
   ],
   "source": [
    "head(arrange(data1, bmi))"
   ]
  },
  {
   "cell_type": "code",
   "execution_count": 9,
   "metadata": {},
   "outputs": [
    {
     "data": {
      "text/html": [
       "<table>\n",
       "<caption>A tibble: 2 × 4</caption>\n",
       "<thead>\n",
       "\t<tr><th scope=col>gender</th><th scope=col>count</th><th scope=col>mean.height</th><th scope=col>mean.weight</th></tr>\n",
       "\t<tr><th scope=col>&lt;fct&gt;</th><th scope=col>&lt;int&gt;</th><th scope=col>&lt;dbl&gt;</th><th scope=col>&lt;dbl&gt;</th></tr>\n",
       "</thead>\n",
       "<tbody>\n",
       "\t<tr><td>F</td><td>862</td><td>153.2912</td><td>52.31090</td></tr>\n",
       "\t<tr><td>M</td><td>355</td><td>165.0592</td><td>62.02254</td></tr>\n",
       "</tbody>\n",
       "</table>\n"
      ],
      "text/latex": [
       "A tibble: 2 × 4\n",
       "\\begin{tabular}{llll}\n",
       " gender & count & mean.height & mean.weight\\\\\n",
       " <fct> & <int> & <dbl> & <dbl>\\\\\n",
       "\\hline\n",
       "\t F & 862 & 153.2912 & 52.31090\\\\\n",
       "\t M & 355 & 165.0592 & 62.02254\\\\\n",
       "\\end{tabular}\n"
      ],
      "text/markdown": [
       "\n",
       "A tibble: 2 × 4\n",
       "\n",
       "| gender &lt;fct&gt; | count &lt;int&gt; | mean.height &lt;dbl&gt; | mean.weight &lt;dbl&gt; |\n",
       "|---|---|---|---|\n",
       "| F | 862 | 153.2912 | 52.31090 |\n",
       "| M | 355 | 165.0592 | 62.02254 |\n",
       "\n"
      ],
      "text/plain": [
       "  gender count mean.height mean.weight\n",
       "1 F      862   153.2912    52.31090   \n",
       "2 M      355   165.0592    62.02254   "
      ]
     },
     "metadata": {},
     "output_type": "display_data"
    }
   ],
   "source": [
    "group = group_by(data1, gender)\n",
    "summary = summarize(group, count = n(),\n",
    "                   mean.height = mean(height, na.rm = T),\n",
    "                   mean.weight = mean(weight, na.rm = T))\n",
    "summary"
   ]
  },
  {
   "cell_type": "code",
   "execution_count": 10,
   "metadata": {},
   "outputs": [
    {
     "data": {
      "text/html": [
       "<table>\n",
       "<caption>A tibble: 2 × 2</caption>\n",
       "<thead>\n",
       "\t<tr><th scope=col>gender</th><th scope=col>n</th></tr>\n",
       "\t<tr><th scope=col>&lt;fct&gt;</th><th scope=col>&lt;int&gt;</th></tr>\n",
       "</thead>\n",
       "<tbody>\n",
       "\t<tr><td>F</td><td>862</td></tr>\n",
       "\t<tr><td>M</td><td>355</td></tr>\n",
       "</tbody>\n",
       "</table>\n"
      ],
      "text/latex": [
       "A tibble: 2 × 2\n",
       "\\begin{tabular}{ll}\n",
       " gender & n\\\\\n",
       " <fct> & <int>\\\\\n",
       "\\hline\n",
       "\t F & 862\\\\\n",
       "\t M & 355\\\\\n",
       "\\end{tabular}\n"
      ],
      "text/markdown": [
       "\n",
       "A tibble: 2 × 2\n",
       "\n",
       "| gender &lt;fct&gt; | n &lt;int&gt; |\n",
       "|---|---|\n",
       "| F | 862 |\n",
       "| M | 355 |\n",
       "\n"
      ],
      "text/plain": [
       "  gender n  \n",
       "1 F      862\n",
       "2 M      355"
      ]
     },
     "metadata": {},
     "output_type": "display_data"
    }
   ],
   "source": [
    "count(data1, gender)"
   ]
  },
  {
   "cell_type": "code",
   "execution_count": 11,
   "metadata": {},
   "outputs": [
    {
     "data": {
      "text/html": [
       "<table>\n",
       "<caption>A tibble: 6 × 3</caption>\n",
       "<thead>\n",
       "\t<tr><th scope=col>gender</th><th scope=col>age</th><th scope=col>n</th></tr>\n",
       "\t<tr><th scope=col>&lt;fct&gt;</th><th scope=col>&lt;int&gt;</th><th scope=col>&lt;int&gt;</th></tr>\n",
       "</thead>\n",
       "<tbody>\n",
       "\t<tr><td>F</td><td>14</td><td> 4</td></tr>\n",
       "\t<tr><td>F</td><td>16</td><td> 2</td></tr>\n",
       "\t<tr><td>F</td><td>18</td><td>10</td></tr>\n",
       "\t<tr><td>F</td><td>19</td><td>27</td></tr>\n",
       "\t<tr><td>F</td><td>20</td><td>13</td></tr>\n",
       "\t<tr><td>F</td><td>21</td><td> 8</td></tr>\n",
       "</tbody>\n",
       "</table>\n"
      ],
      "text/latex": [
       "A tibble: 6 × 3\n",
       "\\begin{tabular}{lll}\n",
       " gender & age & n\\\\\n",
       " <fct> & <int> & <int>\\\\\n",
       "\\hline\n",
       "\t F & 14 &  4\\\\\n",
       "\t F & 16 &  2\\\\\n",
       "\t F & 18 & 10\\\\\n",
       "\t F & 19 & 27\\\\\n",
       "\t F & 20 & 13\\\\\n",
       "\t F & 21 &  8\\\\\n",
       "\\end{tabular}\n"
      ],
      "text/markdown": [
       "\n",
       "A tibble: 6 × 3\n",
       "\n",
       "| gender &lt;fct&gt; | age &lt;int&gt; | n &lt;int&gt; |\n",
       "|---|---|---|\n",
       "| F | 14 |  4 |\n",
       "| F | 16 |  2 |\n",
       "| F | 18 | 10 |\n",
       "| F | 19 | 27 |\n",
       "| F | 20 | 13 |\n",
       "| F | 21 |  8 |\n",
       "\n"
      ],
      "text/plain": [
       "  gender age n \n",
       "1 F      14   4\n",
       "2 F      16   2\n",
       "3 F      18  10\n",
       "4 F      19  27\n",
       "5 F      20  13\n",
       "6 F      21   8"
      ]
     },
     "metadata": {},
     "output_type": "display_data"
    }
   ],
   "source": [
    "group_gender_Age = count(data1, gender, age)\n",
    "head(group_gender_Age)"
   ]
  },
  {
   "cell_type": "code",
   "execution_count": 12,
   "metadata": {},
   "outputs": [
    {
     "data": {
      "text/html": [
       "<table>\n",
       "<caption>A tibble: 6 × 3</caption>\n",
       "<thead>\n",
       "\t<tr><th scope=col>gender</th><th scope=col>age</th><th scope=col>n</th></tr>\n",
       "\t<tr><th scope=col>&lt;fct&gt;</th><th scope=col>&lt;int&gt;</th><th scope=col>&lt;int&gt;</th></tr>\n",
       "</thead>\n",
       "<tbody>\n",
       "\t<tr><td>M</td><td>82</td><td>1</td></tr>\n",
       "\t<tr><td>M</td><td>83</td><td>1</td></tr>\n",
       "\t<tr><td>M</td><td>84</td><td>3</td></tr>\n",
       "\t<tr><td>M</td><td>85</td><td>1</td></tr>\n",
       "\t<tr><td>M</td><td>87</td><td>1</td></tr>\n",
       "\t<tr><td>M</td><td>88</td><td>1</td></tr>\n",
       "</tbody>\n",
       "</table>\n"
      ],
      "text/latex": [
       "A tibble: 6 × 3\n",
       "\\begin{tabular}{lll}\n",
       " gender & age & n\\\\\n",
       " <fct> & <int> & <int>\\\\\n",
       "\\hline\n",
       "\t M & 82 & 1\\\\\n",
       "\t M & 83 & 1\\\\\n",
       "\t M & 84 & 3\\\\\n",
       "\t M & 85 & 1\\\\\n",
       "\t M & 87 & 1\\\\\n",
       "\t M & 88 & 1\\\\\n",
       "\\end{tabular}\n"
      ],
      "text/markdown": [
       "\n",
       "A tibble: 6 × 3\n",
       "\n",
       "| gender &lt;fct&gt; | age &lt;int&gt; | n &lt;int&gt; |\n",
       "|---|---|---|\n",
       "| M | 82 | 1 |\n",
       "| M | 83 | 1 |\n",
       "| M | 84 | 3 |\n",
       "| M | 85 | 1 |\n",
       "| M | 87 | 1 |\n",
       "| M | 88 | 1 |\n",
       "\n"
      ],
      "text/plain": [
       "  gender age n\n",
       "1 M      82  1\n",
       "2 M      83  1\n",
       "3 M      84  3\n",
       "4 M      85  1\n",
       "5 M      87  1\n",
       "6 M      88  1"
      ]
     },
     "metadata": {},
     "output_type": "display_data"
    }
   ],
   "source": [
    "tail(group_gender_Age)"
   ]
  },
  {
   "cell_type": "code",
   "execution_count": 13,
   "metadata": {},
   "outputs": [
    {
     "data": {
      "text/html": [
       "<table>\n",
       "<caption>A data.frame: 10 × 6</caption>\n",
       "<thead>\n",
       "\t<tr><th scope=col>gender</th><th scope=col>height</th><th scope=col>weight</th><th scope=col>bmi</th><th scope=col>age</th><th scope=col>height_m</th></tr>\n",
       "\t<tr><th scope=col>&lt;fct&gt;</th><th scope=col>&lt;int&gt;</th><th scope=col>&lt;int&gt;</th><th scope=col>&lt;dbl&gt;</th><th scope=col>&lt;int&gt;</th><th scope=col>&lt;dbl&gt;</th></tr>\n",
       "</thead>\n",
       "<tbody>\n",
       "\t<tr><td>F</td><td>157</td><td>60</td><td>24.3</td><td>49</td><td>1.57</td></tr>\n",
       "\t<tr><td>F</td><td>143</td><td>40</td><td>19.6</td><td>65</td><td>1.43</td></tr>\n",
       "\t<tr><td>F</td><td>150</td><td>68</td><td>30.2</td><td>69</td><td>1.50</td></tr>\n",
       "\t<tr><td>F</td><td>151</td><td>64</td><td>28.1</td><td>80</td><td>1.51</td></tr>\n",
       "\t<tr><td>M</td><td>178</td><td>75</td><td>23.7</td><td>19</td><td>1.78</td></tr>\n",
       "\t<tr><td>F</td><td>157</td><td>48</td><td>19.5</td><td>25</td><td>1.57</td></tr>\n",
       "\t<tr><td>F</td><td>160</td><td>52</td><td>20.3</td><td>46</td><td>1.60</td></tr>\n",
       "\t<tr><td>F</td><td>152</td><td>52</td><td>22.5</td><td>61</td><td>1.52</td></tr>\n",
       "\t<tr><td>F</td><td>154</td><td>47</td><td>19.8</td><td>54</td><td>1.54</td></tr>\n",
       "\t<tr><td>F</td><td>159</td><td>49</td><td>19.4</td><td>38</td><td>1.59</td></tr>\n",
       "</tbody>\n",
       "</table>\n"
      ],
      "text/latex": [
       "A data.frame: 10 × 6\n",
       "\\begin{tabular}{llllll}\n",
       " gender & height & weight & bmi & age & height\\_m\\\\\n",
       " <fct> & <int> & <int> & <dbl> & <int> & <dbl>\\\\\n",
       "\\hline\n",
       "\t F & 157 & 60 & 24.3 & 49 & 1.57\\\\\n",
       "\t F & 143 & 40 & 19.6 & 65 & 1.43\\\\\n",
       "\t F & 150 & 68 & 30.2 & 69 & 1.50\\\\\n",
       "\t F & 151 & 64 & 28.1 & 80 & 1.51\\\\\n",
       "\t M & 178 & 75 & 23.7 & 19 & 1.78\\\\\n",
       "\t F & 157 & 48 & 19.5 & 25 & 1.57\\\\\n",
       "\t F & 160 & 52 & 20.3 & 46 & 1.60\\\\\n",
       "\t F & 152 & 52 & 22.5 & 61 & 1.52\\\\\n",
       "\t F & 154 & 47 & 19.8 & 54 & 1.54\\\\\n",
       "\t F & 159 & 49 & 19.4 & 38 & 1.59\\\\\n",
       "\\end{tabular}\n"
      ],
      "text/markdown": [
       "\n",
       "A data.frame: 10 × 6\n",
       "\n",
       "| gender &lt;fct&gt; | height &lt;int&gt; | weight &lt;int&gt; | bmi &lt;dbl&gt; | age &lt;int&gt; | height_m &lt;dbl&gt; |\n",
       "|---|---|---|---|---|---|\n",
       "| F | 157 | 60 | 24.3 | 49 | 1.57 |\n",
       "| F | 143 | 40 | 19.6 | 65 | 1.43 |\n",
       "| F | 150 | 68 | 30.2 | 69 | 1.50 |\n",
       "| F | 151 | 64 | 28.1 | 80 | 1.51 |\n",
       "| M | 178 | 75 | 23.7 | 19 | 1.78 |\n",
       "| F | 157 | 48 | 19.5 | 25 | 1.57 |\n",
       "| F | 160 | 52 | 20.3 | 46 | 1.60 |\n",
       "| F | 152 | 52 | 22.5 | 61 | 1.52 |\n",
       "| F | 154 | 47 | 19.8 | 54 | 1.54 |\n",
       "| F | 159 | 49 | 19.4 | 38 | 1.59 |\n",
       "\n"
      ],
      "text/plain": [
       "   gender height weight bmi  age height_m\n",
       "1  F      157    60     24.3 49  1.57    \n",
       "2  F      143    40     19.6 65  1.43    \n",
       "3  F      150    68     30.2 69  1.50    \n",
       "4  F      151    64     28.1 80  1.51    \n",
       "5  M      178    75     23.7 19  1.78    \n",
       "6  F      157    48     19.5 25  1.57    \n",
       "7  F      160    52     20.3 46  1.60    \n",
       "8  F      152    52     22.5 61  1.52    \n",
       "9  F      154    47     19.8 54  1.54    \n",
       "10 F      159    49     19.4 38  1.59    "
      ]
     },
     "metadata": {},
     "output_type": "display_data"
    }
   ],
   "source": [
    "data3 =  data1 %>% sample_n(10)\n",
    "data3"
   ]
  },
  {
   "cell_type": "code",
   "execution_count": 14,
   "metadata": {},
   "outputs": [
    {
     "data": {
      "text/html": [
       "<table>\n",
       "<caption>A data.frame: 12 × 11</caption>\n",
       "<thead>\n",
       "\t<tr><th scope=col>id</th><th scope=col>gender</th><th scope=col>height</th><th scope=col>weight</th><th scope=col>bmi</th><th scope=col>age</th><th scope=col>bmc</th><th scope=col>bmd</th><th scope=col>fat</th><th scope=col>lean</th><th scope=col>pcfat</th></tr>\n",
       "\t<tr><th scope=col>&lt;int&gt;</th><th scope=col>&lt;fct&gt;</th><th scope=col>&lt;int&gt;</th><th scope=col>&lt;int&gt;</th><th scope=col>&lt;dbl&gt;</th><th scope=col>&lt;int&gt;</th><th scope=col>&lt;int&gt;</th><th scope=col>&lt;dbl&gt;</th><th scope=col>&lt;int&gt;</th><th scope=col>&lt;int&gt;</th><th scope=col>&lt;dbl&gt;</th></tr>\n",
       "</thead>\n",
       "<tbody>\n",
       "\t<tr><td> 401</td><td>M</td><td>170</td><td>65</td><td>22.5</td><td>37</td><td>2047</td><td>1.07</td><td>14626</td><td>44808</td><td>23.8</td></tr>\n",
       "\t<tr><td> 508</td><td>M</td><td>168</td><td>78</td><td>27.6</td><td>19</td><td>2144</td><td>1.06</td><td>26331</td><td>49048</td><td>34.0</td></tr>\n",
       "\t<tr><td> 472</td><td>F</td><td>155</td><td>45</td><td>18.7</td><td>25</td><td>1665</td><td>1.02</td><td>14677</td><td>28287</td><td>32.9</td></tr>\n",
       "\t<tr><td> 627</td><td>F</td><td>158</td><td>59</td><td>23.6</td><td>51</td><td>1693</td><td>1.00</td><td>20759</td><td>32585</td><td>37.7</td></tr>\n",
       "\t<tr><td> 552</td><td>F</td><td>155</td><td>49</td><td>20.4</td><td>67</td><td>1209</td><td>0.80</td><td>16643</td><td>30265</td><td>34.6</td></tr>\n",
       "\t<tr><td>  80</td><td>F</td><td>149</td><td>49</td><td>22.1</td><td>58</td><td>1547</td><td>0.98</td><td> 9594</td><td>29953</td><td>23.3</td></tr>\n",
       "\t<tr><td>1036</td><td>F</td><td>156</td><td>59</td><td>24.2</td><td>58</td><td>1495</td><td>0.95</td><td>24346</td><td>33118</td><td>41.3</td></tr>\n",
       "\t<tr><td> 925</td><td>F</td><td>163</td><td>47</td><td>17.7</td><td>18</td><td>1802</td><td>1.10</td><td>13782</td><td>29903</td><td>30.3</td></tr>\n",
       "\t<tr><td> 987</td><td>F</td><td>152</td><td>54</td><td>23.4</td><td>49</td><td>1825</td><td>1.09</td><td>19900</td><td>32322</td><td>36.8</td></tr>\n",
       "\t<tr><td> 302</td><td>F</td><td>150</td><td>44</td><td>19.6</td><td>47</td><td>1465</td><td>0.98</td><td>13365</td><td>27966</td><td>31.2</td></tr>\n",
       "\t<tr><td>1103</td><td>F</td><td>154</td><td>57</td><td>24.0</td><td>65</td><td>1482</td><td>0.94</td><td>23081</td><td>31371</td><td>41.3</td></tr>\n",
       "\t<tr><td> 406</td><td>M</td><td>178</td><td>93</td><td>29.4</td><td>23</td><td>2854</td><td>1.21</td><td>29522</td><td>59153</td><td>32.3</td></tr>\n",
       "</tbody>\n",
       "</table>\n"
      ],
      "text/latex": [
       "A data.frame: 12 × 11\n",
       "\\begin{tabular}{lllllllllll}\n",
       " id & gender & height & weight & bmi & age & bmc & bmd & fat & lean & pcfat\\\\\n",
       " <int> & <fct> & <int> & <int> & <dbl> & <int> & <int> & <dbl> & <int> & <int> & <dbl>\\\\\n",
       "\\hline\n",
       "\t  401 & M & 170 & 65 & 22.5 & 37 & 2047 & 1.07 & 14626 & 44808 & 23.8\\\\\n",
       "\t  508 & M & 168 & 78 & 27.6 & 19 & 2144 & 1.06 & 26331 & 49048 & 34.0\\\\\n",
       "\t  472 & F & 155 & 45 & 18.7 & 25 & 1665 & 1.02 & 14677 & 28287 & 32.9\\\\\n",
       "\t  627 & F & 158 & 59 & 23.6 & 51 & 1693 & 1.00 & 20759 & 32585 & 37.7\\\\\n",
       "\t  552 & F & 155 & 49 & 20.4 & 67 & 1209 & 0.80 & 16643 & 30265 & 34.6\\\\\n",
       "\t   80 & F & 149 & 49 & 22.1 & 58 & 1547 & 0.98 &  9594 & 29953 & 23.3\\\\\n",
       "\t 1036 & F & 156 & 59 & 24.2 & 58 & 1495 & 0.95 & 24346 & 33118 & 41.3\\\\\n",
       "\t  925 & F & 163 & 47 & 17.7 & 18 & 1802 & 1.10 & 13782 & 29903 & 30.3\\\\\n",
       "\t  987 & F & 152 & 54 & 23.4 & 49 & 1825 & 1.09 & 19900 & 32322 & 36.8\\\\\n",
       "\t  302 & F & 150 & 44 & 19.6 & 47 & 1465 & 0.98 & 13365 & 27966 & 31.2\\\\\n",
       "\t 1103 & F & 154 & 57 & 24.0 & 65 & 1482 & 0.94 & 23081 & 31371 & 41.3\\\\\n",
       "\t  406 & M & 178 & 93 & 29.4 & 23 & 2854 & 1.21 & 29522 & 59153 & 32.3\\\\\n",
       "\\end{tabular}\n"
      ],
      "text/markdown": [
       "\n",
       "A data.frame: 12 × 11\n",
       "\n",
       "| id &lt;int&gt; | gender &lt;fct&gt; | height &lt;int&gt; | weight &lt;int&gt; | bmi &lt;dbl&gt; | age &lt;int&gt; | bmc &lt;int&gt; | bmd &lt;dbl&gt; | fat &lt;int&gt; | lean &lt;int&gt; | pcfat &lt;dbl&gt; |\n",
       "|---|---|---|---|---|---|---|---|---|---|---|\n",
       "|  401 | M | 170 | 65 | 22.5 | 37 | 2047 | 1.07 | 14626 | 44808 | 23.8 |\n",
       "|  508 | M | 168 | 78 | 27.6 | 19 | 2144 | 1.06 | 26331 | 49048 | 34.0 |\n",
       "|  472 | F | 155 | 45 | 18.7 | 25 | 1665 | 1.02 | 14677 | 28287 | 32.9 |\n",
       "|  627 | F | 158 | 59 | 23.6 | 51 | 1693 | 1.00 | 20759 | 32585 | 37.7 |\n",
       "|  552 | F | 155 | 49 | 20.4 | 67 | 1209 | 0.80 | 16643 | 30265 | 34.6 |\n",
       "|   80 | F | 149 | 49 | 22.1 | 58 | 1547 | 0.98 |  9594 | 29953 | 23.3 |\n",
       "| 1036 | F | 156 | 59 | 24.2 | 58 | 1495 | 0.95 | 24346 | 33118 | 41.3 |\n",
       "|  925 | F | 163 | 47 | 17.7 | 18 | 1802 | 1.10 | 13782 | 29903 | 30.3 |\n",
       "|  987 | F | 152 | 54 | 23.4 | 49 | 1825 | 1.09 | 19900 | 32322 | 36.8 |\n",
       "|  302 | F | 150 | 44 | 19.6 | 47 | 1465 | 0.98 | 13365 | 27966 | 31.2 |\n",
       "| 1103 | F | 154 | 57 | 24.0 | 65 | 1482 | 0.94 | 23081 | 31371 | 41.3 |\n",
       "|  406 | M | 178 | 93 | 29.4 | 23 | 2854 | 1.21 | 29522 | 59153 | 32.3 |\n",
       "\n"
      ],
      "text/plain": [
       "   id   gender height weight bmi  age bmc  bmd  fat   lean  pcfat\n",
       "1   401 M      170    65     22.5 37  2047 1.07 14626 44808 23.8 \n",
       "2   508 M      168    78     27.6 19  2144 1.06 26331 49048 34.0 \n",
       "3   472 F      155    45     18.7 25  1665 1.02 14677 28287 32.9 \n",
       "4   627 F      158    59     23.6 51  1693 1.00 20759 32585 37.7 \n",
       "5   552 F      155    49     20.4 67  1209 0.80 16643 30265 34.6 \n",
       "6    80 F      149    49     22.1 58  1547 0.98  9594 29953 23.3 \n",
       "7  1036 F      156    59     24.2 58  1495 0.95 24346 33118 41.3 \n",
       "8   925 F      163    47     17.7 18  1802 1.10 13782 29903 30.3 \n",
       "9   987 F      152    54     23.4 49  1825 1.09 19900 32322 36.8 \n",
       "10  302 F      150    44     19.6 47  1465 0.98 13365 27966 31.2 \n",
       "11 1103 F      154    57     24.0 65  1482 0.94 23081 31371 41.3 \n",
       "12  406 M      178    93     29.4 23  2854 1.21 29522 59153 32.3 "
      ]
     },
     "metadata": {},
     "output_type": "display_data"
    }
   ],
   "source": [
    "data4 = data %>% sample_frac(0.01)\n",
    "data4"
   ]
  },
  {
   "cell_type": "code",
   "execution_count": null,
   "metadata": {},
   "outputs": [],
   "source": []
  }
 ],
 "metadata": {
  "kernelspec": {
   "display_name": "R",
   "language": "R",
   "name": "conda-env-r-r"
  },
  "language_info": {
   "codemirror_mode": "r",
   "file_extension": ".r",
   "mimetype": "text/x-r-source",
   "name": "R",
   "pygments_lexer": "r",
   "version": "3.5.1"
  }
 },
 "nbformat": 4,
 "nbformat_minor": 4
}
