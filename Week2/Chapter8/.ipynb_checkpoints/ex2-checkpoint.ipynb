{
 "cells": [
  {
   "cell_type": "code",
   "execution_count": 1,
   "metadata": {},
   "outputs": [
    {
     "name": "stdout",
     "output_type": "stream",
     "text": [
      "     a b   c\n",
      "1    0 d yes\n",
      "2   -8 e  no\n",
      "3  -10 f  no\n",
      "4   -2 g  no\n",
      "5   -6 h yes\n",
      "6    2 i yes\n",
      "7    6 j  no\n",
      "8    8 k  no\n",
      "9    5 l  no\n",
      "10   1 m yes\n"
     ]
    }
   ],
   "source": [
    "a = (floor(runif(10, -10, 10)))\n",
    "b = letters[4:13]\n",
    "c= c(\"yes\", \"no\", \"no\", \"no\", \"yes\",\"yes\", \"no\", \"no\", \"no\", \"yes\")\n",
    "df3=data.frame(a,b,c)\n",
    "print(df3)"
   ]
  },
  {
   "cell_type": "code",
   "execution_count": 2,
   "metadata": {},
   "outputs": [
    {
     "name": "stdout",
     "output_type": "stream",
     "text": [
      "     a b   c\n",
      "3  -10 f  no\n",
      "2   -8 e  no\n",
      "5   -6 h yes\n",
      "4   -2 g  no\n",
      "1    0 d yes\n",
      "10   1 m yes\n",
      "6    2 i yes\n",
      "9    5 l  no\n",
      "7    6 j  no\n",
      "8    8 k  no\n"
     ]
    }
   ],
   "source": [
    "print(df3[with (df3, order(a)),])"
   ]
  },
  {
   "cell_type": "code",
   "execution_count": 3,
   "metadata": {},
   "outputs": [
    {
     "name": "stdout",
     "output_type": "stream",
     "text": [
      "      variable_1 variable_2 variable_3 variable_4\n",
      "id_1           1         11         21         31\n",
      "id_2           2         12         22         32\n",
      "id_3           3         13         23         33\n",
      "id_4           4         14         24         34\n",
      "id_5           5         15         25         35\n",
      "id_6           6         16         26         36\n",
      "id_7           7         17         27         37\n",
      "id_8           8         18         28         38\n",
      "id_9           9         19         29         39\n",
      "id_10         10         20         30         40\n"
     ]
    }
   ],
   "source": [
    "matrix.data = matrix(1:40, nrow=10, ncol=4)\n",
    "df = as.data.frame(matrix.data)\n",
    "colnames(df) = sub(\" \", \"\", paste(\"variable_\", 1:ncol(df)))\n",
    "rownames(df)=  sub(\" \", \"\", paste(\"id_\", 1:nrow(df)))\n",
    "print(df)"
   ]
  },
  {
   "cell_type": "code",
   "execution_count": null,
   "metadata": {},
   "outputs": [],
   "source": []
  }
 ],
 "metadata": {
  "kernelspec": {
   "display_name": "R",
   "language": "R",
   "name": "conda-env-r-r"
  },
  "language_info": {
   "codemirror_mode": "r",
   "file_extension": ".r",
   "mimetype": "text/x-r-source",
   "name": "R",
   "pygments_lexer": "r",
   "version": "3.5.1"
  }
 },
 "nbformat": 4,
 "nbformat_minor": 4
}
