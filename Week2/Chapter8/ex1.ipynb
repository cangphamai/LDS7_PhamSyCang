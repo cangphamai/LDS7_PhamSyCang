{
 "cells": [
  {
   "cell_type": "code",
   "execution_count": 3,
   "metadata": {},
   "outputs": [
    {
     "name": "stdout",
     "output_type": "stream",
     "text": [
      "         Age Height Weight Sex\n",
      "alex      25    177     57   F\n",
      "Lilly     31    163     69   F\n",
      "Mark      23    190     83   M\n",
      "Oliver    52    179     75   M\n",
      "Martha    76    163     70   F\n",
      "Lucas     49    183     83   M\n",
      "Caroline  26    164     53   F\n"
     ]
    }
   ],
   "source": [
    "Names = c(\"alex\", \"Lilly\", \"Mark\", \"Oliver\", \"Martha\", \"Lucas\", \"Caroline\")\n",
    "Age = c(25,31,23,52,76,49,26)\n",
    "Height = c(177,163,190,179,163,183,164)\n",
    "Weight = c(57,69,83,75,70,83,53)\n",
    "Sex = as.factor(c(\"F\",\"F\", \"M\",\"M\",\"F\", \"M\",\"F\"))\n",
    "df=data.frame(row.names=Names, Age, Height, Weight, Sex)\n",
    "print(df)"
   ]
  },
  {
   "cell_type": "code",
   "execution_count": 5,
   "metadata": {},
   "outputs": [
    {
     "name": "stdout",
     "output_type": "stream",
     "text": [
      "[1] \"level of sex: F, M\"\n"
     ]
    }
   ],
   "source": [
    "print(paste(\"level of sex:\", toString(levels(df$Sex))))"
   ]
  },
  {
   "cell_type": "code",
   "execution_count": 7,
   "metadata": {},
   "outputs": [
    {
     "name": "stdout",
     "output_type": "stream",
     "text": [
      "         Working\n",
      "alex         Yes\n",
      "Lilly         No\n",
      "Mark          No\n",
      "Oliver       Yes\n",
      "Martha       Yes\n",
      "Lucas         No\n",
      "Caroline     Yes\n"
     ]
    }
   ],
   "source": [
    "Working =c(\"Yes\", \"No\",\"No\",\"Yes\",\"Yes\", \"No\", \"Yes\")\n",
    "df2 = data.frame(row.names=Names, Working)\n",
    "print(df2)"
   ]
  },
  {
   "cell_type": "code",
   "execution_count": 8,
   "metadata": {},
   "outputs": [
    {
     "name": "stdout",
     "output_type": "stream",
     "text": [
      "         Age Height Weight Sex Working\n",
      "alex      25    177     57   F     Yes\n",
      "Lilly     31    163     69   F      No\n",
      "Mark      23    190     83   M      No\n",
      "Oliver    52    179     75   M     Yes\n",
      "Martha    76    163     70   F     Yes\n",
      "Lucas     49    183     83   M      No\n",
      "Caroline  26    164     53   F     Yes\n"
     ]
    }
   ],
   "source": [
    "df = cbind(df, df2)\n",
    "print(df)"
   ]
  },
  {
   "cell_type": "code",
   "execution_count": 9,
   "metadata": {},
   "outputs": [
    {
     "name": "stdout",
     "output_type": "stream",
     "text": [
      "[1] \"Dong: 7 , cot: 5\"\n"
     ]
    }
   ],
   "source": [
    "print(paste(\"Dong:\", dim(df)[1], \", cot:\", dim(df)[2]))"
   ]
  },
  {
   "cell_type": "code",
   "execution_count": null,
   "metadata": {},
   "outputs": [],
   "source": [
    "print(str(df))"
   ]
  },
  {
   "cell_type": "code",
   "execution_count": null,
   "metadata": {},
   "outputs": [],
   "source": []
  }
 ],
 "metadata": {
  "kernelspec": {
   "display_name": "R",
   "language": "R",
   "name": "conda-env-r-r"
  },
  "language_info": {
   "codemirror_mode": "r",
   "file_extension": ".r",
   "mimetype": "text/x-r-source",
   "name": "R",
   "pygments_lexer": "r",
   "version": "3.5.1"
  }
 },
 "nbformat": 4,
 "nbformat_minor": 4
}
