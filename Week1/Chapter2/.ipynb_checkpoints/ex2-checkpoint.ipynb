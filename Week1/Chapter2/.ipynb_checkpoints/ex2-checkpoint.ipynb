{
 "cells": [
  {
   "cell_type": "code",
   "execution_count": 1,
   "metadata": {},
   "outputs": [
    {
     "name": "stdin",
     "output_type": "stream",
     "text": [
      "enter name: cang\n",
      "enter birth day: 1987\n",
      "enter height: 1.7\n",
      "enter weight: 70\n"
     ]
    }
   ],
   "source": [
    "name = readline(\"enter name:\")\n",
    "yob = as.integer(readline(\"enter birth day:\"))\n",
    "height = as.double(readline(\"enter height:\"))\n",
    "weight = as.double(readline(\"enter weight:\"))"
   ]
  },
  {
   "cell_type": "code",
   "execution_count": 2,
   "metadata": {},
   "outputs": [
    {
     "name": "stdout",
     "output_type": "stream",
     "text": [
      "[1] \"name: cang , year of birth: 1987\"\n",
      "[1] \"height: 1.7 (m), weight: 70 (kg), BMI: 24.22\"\n"
     ]
    }
   ],
   "source": [
    "bmi = weight/(height^2)\n",
    "print(paste(\"name:\", name, \", year of birth:\", yob))\n",
    "print(paste(\"height:\", round(height, 2), \"(m), weight:\", round(weight,2), \"(kg), BMI:\", round(bmi,2)))"
   ]
  },
  {
   "cell_type": "code",
   "execution_count": 3,
   "metadata": {},
   "outputs": [
    {
     "name": "stdin",
     "output_type": "stream",
     "text": [
      "total of food and drink: 20\n"
     ]
    }
   ],
   "source": [
    "sum_of_food_and_drink = as.integer(readline(\"total of food and drink:\"))"
   ]
  },
  {
   "cell_type": "code",
   "execution_count": 4,
   "metadata": {},
   "outputs": [
    {
     "name": "stdin",
     "output_type": "stream",
     "text": [
      "tax(10-20 %): 10\n"
     ]
    }
   ],
   "source": [
    "tax = as.integer(readline(\"tax(10-20 %):\"))"
   ]
  },
  {
   "cell_type": "code",
   "execution_count": 5,
   "metadata": {},
   "outputs": [
    {
     "name": "stdin",
     "output_type": "stream",
     "text": [
      "tip (5-10%): 5\n"
     ]
    }
   ],
   "source": [
    "tip = as.integer(readline(\"tip (5-10%):\"))"
   ]
  },
  {
   "cell_type": "code",
   "execution_count": null,
   "metadata": {},
   "outputs": [],
   "source": []
  }
 ],
 "metadata": {
  "kernelspec": {
   "display_name": "R",
   "language": "R",
   "name": "conda-env-r-r"
  },
  "language_info": {
   "codemirror_mode": "r",
   "file_extension": ".r",
   "mimetype": "text/x-r-source",
   "name": "R",
   "pygments_lexer": "r",
   "version": "3.5.1"
  }
 },
 "nbformat": 4,
 "nbformat_minor": 4
}
