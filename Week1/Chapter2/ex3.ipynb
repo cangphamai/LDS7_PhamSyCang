{
 "cells": [
  {
   "cell_type": "code",
   "execution_count": null,
   "metadata": {},
   "outputs": [],
   "source": []
  },
  {
   "cell_type": "code",
   "execution_count": null,
   "metadata": {},
   "outputs": [],
   "source": []
  },
  {
   "cell_type": "code",
   "execution_count": 1,
   "metadata": {},
   "outputs": [
    {
     "name": "stdin",
     "output_type": "stream",
     "text": [
      "total of food and drink: 20\n"
     ]
    }
   ],
   "source": [
    "sum_of_food_and_drink = as.integer(readline(\"total of food and drink:\"))"
   ]
  },
  {
   "cell_type": "code",
   "execution_count": 2,
   "metadata": {},
   "outputs": [
    {
     "name": "stdin",
     "output_type": "stream",
     "text": [
      "tax(10-20 %): 10\n"
     ]
    }
   ],
   "source": [
    "tax = as.integer(readline(\"tax(10-20 %):\"))"
   ]
  },
  {
   "cell_type": "code",
   "execution_count": 3,
   "metadata": {},
   "outputs": [
    {
     "name": "stdin",
     "output_type": "stream",
     "text": [
      "tip (5-10%): 5\n"
     ]
    }
   ],
   "source": [
    "tip = as.integer(readline(\"tip (5-10%):\"))"
   ]
  },
  {
   "cell_type": "code",
   "execution_count": 4,
   "metadata": {},
   "outputs": [],
   "source": [
    "tax.m = sum_of_food_and_drink * tax/100\n",
    "tip.m = sum_of_food_and_drink * tip/100"
   ]
  },
  {
   "cell_type": "code",
   "execution_count": 5,
   "metadata": {},
   "outputs": [],
   "source": [
    "total = sum_of_food_and_drink + tax.m + tip.m"
   ]
  },
  {
   "cell_type": "code",
   "execution_count": null,
   "metadata": {},
   "outputs": [],
   "source": [
    "print(paste(\" total food:\", sum_of_food_and_drink))\n",
    "print(paste(\"Tax:\", tax.m))\n",
    "print(paste(\"tip:\", tip.m))\n",
    "print(paste())"
   ]
  }
 ],
 "metadata": {
  "kernelspec": {
   "display_name": "R",
   "language": "R",
   "name": "conda-env-r-r"
  },
  "language_info": {
   "codemirror_mode": "r",
   "file_extension": ".r",
   "mimetype": "text/x-r-source",
   "name": "R",
   "pygments_lexer": "r",
   "version": "3.5.1"
  }
 },
 "nbformat": 4,
 "nbformat_minor": 4
}
