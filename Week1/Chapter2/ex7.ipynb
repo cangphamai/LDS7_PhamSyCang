{
 "cells": [
  {
   "cell_type": "code",
   "execution_count": 13,
   "metadata": {},
   "outputs": [
    {
     "name": "stdin",
     "output_type": "stream",
     "text": [
      "Nhap date(dd-mm-YYYY): 15-10-2020\n"
     ]
    }
   ],
   "source": [
    "date_1 = readline(\"Nhap date(dd-mm-YYYY):\")"
   ]
  },
  {
   "cell_type": "code",
   "execution_count": 14,
   "metadata": {},
   "outputs": [],
   "source": [
    "date_1 = as.Date(date_1, format(\"%d-%m-%Y\"))"
   ]
  },
  {
   "cell_type": "code",
   "execution_count": 15,
   "metadata": {},
   "outputs": [
    {
     "name": "stdout",
     "output_type": "stream",
     "text": [
      "[1] \"2020-10-15 is Thursday\"\n",
      "[1] \"7 continue days: 2020-10-15, 2020-10-16, 2020-10-17, 2020-10-18, 2020-10-19, 2020-10-20, 2020-10-21\"\n"
     ]
    }
   ],
   "source": [
    "if(is.na(date_1)){\n",
    "    print(paste(date_1, \"can not create date\"))\n",
    "}else{\n",
    "    print(paste(date_1, \"is\", weekdays.Date(date_1)))\n",
    "    seven_days = seq(date_1, length =7, by=1)\n",
    "    print(paste(\"7 continue days:\", toString(seven_days)))\n",
    "}"
   ]
  },
  {
   "cell_type": "code",
   "execution_count": null,
   "metadata": {},
   "outputs": [],
   "source": []
  }
 ],
 "metadata": {
  "kernelspec": {
   "display_name": "R",
   "language": "R",
   "name": "conda-env-r-r"
  },
  "language_info": {
   "codemirror_mode": "r",
   "file_extension": ".r",
   "mimetype": "text/x-r-source",
   "name": "R",
   "pygments_lexer": "r",
   "version": "3.5.1"
  }
 },
 "nbformat": 4,
 "nbformat_minor": 4
}
