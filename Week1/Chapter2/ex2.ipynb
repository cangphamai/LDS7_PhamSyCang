{
 "cells": [
  {
   "cell_type": "code",
   "execution_count": 7,
   "metadata": {},
   "outputs": [
    {
     "name": "stdin",
     "output_type": "stream",
     "text": [
      "Nhap lai xuat nam: 7\n"
     ]
    }
   ],
   "source": [
    "lai_xuat_nam = as.integer(readline(\"Nhap lai xuat nam:\"))"
   ]
  },
  {
   "cell_type": "code",
   "execution_count": 8,
   "metadata": {},
   "outputs": [
    {
     "name": "stdin",
     "output_type": "stream",
     "text": [
      "nhap so tien: 10000000\n"
     ]
    }
   ],
   "source": [
    "so_tien = as.numeric(readline(\"nhap so tien:\"))"
   ]
  },
  {
   "cell_type": "code",
   "execution_count": 9,
   "metadata": {},
   "outputs": [
    {
     "name": "stdin",
     "output_type": "stream",
     "text": [
      "nhap so ngay gui: 100\n"
     ]
    }
   ],
   "source": [
    "so_ngay_gui = as.integer(readline(\"nhap so ngay gui:\"))"
   ]
  },
  {
   "cell_type": "code",
   "execution_count": 10,
   "metadata": {},
   "outputs": [],
   "source": [
    "lai_xuat_ngay = (lai_xuat_nam /365)/100"
   ]
  },
  {
   "cell_type": "code",
   "execution_count": 11,
   "metadata": {},
   "outputs": [],
   "source": [
    "tien_lai = so_tien * lai_xuat_ngay * so_ngay_gui\n",
    "tien_gui_va_lai = so_tien + tien_lai"
   ]
  },
  {
   "cell_type": "code",
   "execution_count": null,
   "metadata": {},
   "outputs": [],
   "source": [
    "result = paste(\"lai xuat:\", lai_xuat_ngay, \"So tien:\", so_tien, \" after \", so_ngay_gui, \"day => tien tiet kiem: \", round(tien_lai, 2), \"Sum: \", format(tien_gui_va_lai, big.mark=\".\", decimal.mark =\",\", nsmal=2), sep=\"\")"
   ]
  },
  {
   "cell_type": "code",
   "execution_count": null,
   "metadata": {},
   "outputs": [],
   "source": [
    "cat(result)"
   ]
  },
  {
   "cell_type": "code",
   "execution_count": null,
   "metadata": {},
   "outputs": [],
   "source": [
    "print(result)"
   ]
  },
  {
   "cell_type": "code",
   "execution_count": null,
   "metadata": {},
   "outputs": [],
   "source": []
  }
 ],
 "metadata": {
  "kernelspec": {
   "display_name": "R",
   "language": "R",
   "name": "conda-env-r-r"
  },
  "language_info": {
   "codemirror_mode": "r",
   "file_extension": ".r",
   "mimetype": "text/x-r-source",
   "name": "R",
   "pygments_lexer": "r",
   "version": "3.5.1"
  }
 },
 "nbformat": 4,
 "nbformat_minor": 4
}
