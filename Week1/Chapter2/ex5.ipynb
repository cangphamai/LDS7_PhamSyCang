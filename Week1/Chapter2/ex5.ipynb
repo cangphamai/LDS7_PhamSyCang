{
 "cells": [
  {
   "cell_type": "code",
   "execution_count": 1,
   "metadata": {},
   "outputs": [
    {
     "name": "stdin",
     "output_type": "stream",
     "text": [
      "Nhap S1: cang pham\n"
     ]
    }
   ],
   "source": [
    "str1 = readline(\"Nhap S1:\")"
   ]
  },
  {
   "cell_type": "code",
   "execution_count": 2,
   "metadata": {},
   "outputs": [
    {
     "name": "stdin",
     "output_type": "stream",
     "text": [
      "Nhap S2: trung tam tin hoc\n"
     ]
    }
   ],
   "source": [
    "str2 = readline(\"Nhap S2:\")"
   ]
  },
  {
   "cell_type": "code",
   "execution_count": 3,
   "metadata": {},
   "outputs": [
    {
     "name": "stdin",
     "output_type": "stream",
     "text": [
      "Nhap S2: nguyen thi chau\n"
     ]
    }
   ],
   "source": [
    "str3 = readline(\"Nhap S2:\")"
   ]
  },
  {
   "cell_type": "code",
   "execution_count": 4,
   "metadata": {},
   "outputs": [
    {
     "name": "stdin",
     "output_type": "stream",
     "text": [
      "enter index: 10\n"
     ]
    }
   ],
   "source": [
    "index = as.integer(readline(\"enter index:\"))"
   ]
  },
  {
   "cell_type": "code",
   "execution_count": 5,
   "metadata": {},
   "outputs": [
    {
     "name": "stdin",
     "output_type": "stream",
     "text": [
      "FInd string: cang\n"
     ]
    }
   ],
   "source": [
    "str_find = readline(\"FInd string:\")"
   ]
  },
  {
   "cell_type": "code",
   "execution_count": 6,
   "metadata": {},
   "outputs": [
    {
     "name": "stdin",
     "output_type": "stream",
     "text": [
      "replace string: anh hung\n"
     ]
    }
   ],
   "source": [
    "str_replace = readline(\"replace string:\")"
   ]
  },
  {
   "cell_type": "code",
   "execution_count": 9,
   "metadata": {},
   "outputs": [],
   "source": [
    "str4 = substring(str1, index)\n",
    "str5 = substring(str1, 1, index)\n",
    "str_new = sub(str_find, str_replace, str1)\n",
    "str_new = gsub(str_find, str_replace, str1)"
   ]
  },
  {
   "cell_type": "code",
   "execution_count": 8,
   "metadata": {},
   "outputs": [
    {
     "name": "stdout",
     "output_type": "stream",
     "text": [
      "[1] \"str4 (index =>) \"\n",
      "[1] \"str5 (index =>) cang pham\"\n"
     ]
    }
   ],
   "source": [
    "print(paste(\"str4 (index =>)\", str4))\n",
    "print(paste(\"str5 (index =>)\", str5))"
   ]
  },
  {
   "cell_type": "code",
   "execution_count": 10,
   "metadata": {},
   "outputs": [
    {
     "name": "stdout",
     "output_type": "stream",
     "text": [
      "[1] \"after replace anh hung pham\"\n"
     ]
    }
   ],
   "source": [
    "print(paste(\"after replace\", str_new))"
   ]
  },
  {
   "cell_type": "code",
   "execution_count": null,
   "metadata": {},
   "outputs": [],
   "source": []
  }
 ],
 "metadata": {
  "kernelspec": {
   "display_name": "R",
   "language": "R",
   "name": "conda-env-r-r"
  },
  "language_info": {
   "codemirror_mode": "r",
   "file_extension": ".r",
   "mimetype": "text/x-r-source",
   "name": "R",
   "pygments_lexer": "r",
   "version": "3.5.1"
  }
 },
 "nbformat": 4,
 "nbformat_minor": 4
}
