{
 "cells": [
  {
   "cell_type": "markdown",
   "metadata": {},
   "source": [
    "### Vector"
   ]
  },
  {
   "cell_type": "raw",
   "metadata": {},
   "source": [
    "Kieu Logical"
   ]
  },
  {
   "cell_type": "code",
   "execution_count": 1,
   "metadata": {},
   "outputs": [],
   "source": [
    "pass = TRUE"
   ]
  },
  {
   "cell_type": "code",
   "execution_count": 2,
   "metadata": {},
   "outputs": [
    {
     "name": "stdout",
     "output_type": "stream",
     "text": [
      "[1] \"logical\"\n"
     ]
    }
   ],
   "source": [
    "print(class(pass))"
   ]
  },
  {
   "cell_type": "raw",
   "metadata": {},
   "source": [
    "Kieu Numeric"
   ]
  },
  {
   "cell_type": "code",
   "execution_count": 3,
   "metadata": {},
   "outputs": [
    {
     "name": "stdout",
     "output_type": "stream",
     "text": [
      "[1] \"numeric\"\n",
      "[1] \"numeric\"\n"
     ]
    }
   ],
   "source": [
    "a = 12.5\n",
    "b = 150\n",
    "print(class(a))\n",
    "print(class(b))"
   ]
  },
  {
   "cell_type": "raw",
   "metadata": {},
   "source": [
    "Kieu Integer"
   ]
  },
  {
   "cell_type": "code",
   "execution_count": 4,
   "metadata": {},
   "outputs": [
    {
     "name": "stdout",
     "output_type": "stream",
     "text": [
      "[1] \"integer\"\n"
     ]
    }
   ],
   "source": [
    "int = 2L\n",
    "print(class(int))"
   ]
  },
  {
   "cell_type": "raw",
   "metadata": {},
   "source": [
    "Kieu Character"
   ]
  },
  {
   "cell_type": "code",
   "execution_count": 6,
   "metadata": {},
   "outputs": [
    {
     "name": "stdout",
     "output_type": "stream",
     "text": [
      "[1] \"character\"\n"
     ]
    }
   ],
   "source": [
    "ky_tu = \"a\"\n",
    "print(class(ky_tu))"
   ]
  },
  {
   "cell_type": "code",
   "execution_count": 7,
   "metadata": {},
   "outputs": [],
   "source": [
    "x = c(123, \"cang\", 15.5, TRUE, c(1,2,3))"
   ]
  },
  {
   "cell_type": "code",
   "execution_count": 8,
   "metadata": {},
   "outputs": [
    {
     "name": "stdout",
     "output_type": "stream",
     "text": [
      "[1] \"character\"\n"
     ]
    }
   ],
   "source": [
    "print(class(x))"
   ]
  },
  {
   "cell_type": "markdown",
   "metadata": {},
   "source": [
    "### Factor"
   ]
  },
  {
   "cell_type": "code",
   "execution_count": 9,
   "metadata": {},
   "outputs": [],
   "source": [
    "apple_color = c(\"green\", \"green\", \"red\", \"red\", \"yellow\", \"yellow\")"
   ]
  },
  {
   "cell_type": "code",
   "execution_count": 10,
   "metadata": {},
   "outputs": [],
   "source": [
    "factor_apple = factor(apple_color)"
   ]
  },
  {
   "cell_type": "code",
   "execution_count": 11,
   "metadata": {},
   "outputs": [
    {
     "name": "stdout",
     "output_type": "stream",
     "text": [
      "[1] green  green  red    red    yellow yellow\n",
      "Levels: green red yellow\n"
     ]
    }
   ],
   "source": [
    "print(factor_apple)"
   ]
  },
  {
   "cell_type": "code",
   "execution_count": 13,
   "metadata": {},
   "outputs": [
    {
     "name": "stdout",
     "output_type": "stream",
     "text": [
      "[1] 3\n"
     ]
    }
   ],
   "source": [
    "print(nlevels(factor_apple))"
   ]
  },
  {
   "cell_type": "markdown",
   "metadata": {},
   "source": [
    "### LIST"
   ]
  },
  {
   "cell_type": "code",
   "execution_count": 14,
   "metadata": {},
   "outputs": [
    {
     "name": "stdout",
     "output_type": "stream",
     "text": [
      "[[1]]\n",
      "[1] 2 5 3\n",
      "\n",
      "[[2]]\n",
      "[1] 20.5\n",
      "\n",
      "[[3]]\n",
      "[1] \"spring\"\n",
      "\n"
     ]
    }
   ],
   "source": [
    "list1 = list(c(2,5,3), 20.5, \"spring\")\n",
    "print(list1)"
   ]
  },
  {
   "cell_type": "markdown",
   "metadata": {},
   "source": [
    "### MATRIX"
   ]
  },
  {
   "cell_type": "code",
   "execution_count": 15,
   "metadata": {},
   "outputs": [],
   "source": [
    "M = matrix(c(1,2,3,4,5,6,7,8), nrow=2, ncol=4, byrow = TRUE)"
   ]
  },
  {
   "cell_type": "code",
   "execution_count": 16,
   "metadata": {},
   "outputs": [
    {
     "name": "stdout",
     "output_type": "stream",
     "text": [
      "     [,1] [,2] [,3] [,4]\n",
      "[1,]    1    2    3    4\n",
      "[2,]    5    6    7    8\n"
     ]
    }
   ],
   "source": [
    "print(M)"
   ]
  },
  {
   "cell_type": "code",
   "execution_count": 17,
   "metadata": {},
   "outputs": [
    {
     "name": "stderr",
     "output_type": "stream",
     "text": [
      "Warning message in matrix(c(1, 2, 3, 4, 5, 6, 7), nrow = 3):\n",
      "“data length [7] is not a sub-multiple or multiple of the number of rows [3]”"
     ]
    }
   ],
   "source": [
    "M1 = matrix(c(1,2,3,4,5,6,7), nrow=3)"
   ]
  },
  {
   "cell_type": "code",
   "execution_count": 26,
   "metadata": {},
   "outputs": [
    {
     "name": "stdout",
     "output_type": "stream",
     "text": [
      "     [,1] [,2] [,3]\n",
      "[1,]    1    4    7\n",
      "[2,]    2    5    1\n",
      "[3,]    3    6    2\n"
     ]
    }
   ],
   "source": [
    "print(M1)"
   ]
  },
  {
   "cell_type": "code",
   "execution_count": 29,
   "metadata": {},
   "outputs": [
    {
     "data": {
      "text/html": [
       "5"
      ],
      "text/latex": [
       "5"
      ],
      "text/markdown": [
       "5"
      ],
      "text/plain": [
       "[1] 5"
      ]
     },
     "metadata": {},
     "output_type": "display_data"
    }
   ],
   "source": [
    "M1[2,2]"
   ]
  },
  {
   "cell_type": "markdown",
   "metadata": {},
   "source": [
    "### ARRAY"
   ]
  },
  {
   "cell_type": "code",
   "execution_count": 23,
   "metadata": {},
   "outputs": [],
   "source": [
    "a = array(c('red', 'green', 'yellow'), dim=c(3,3,2)) #dim la thong tin ma tran. thu tu so dong, so cot, so ma tran"
   ]
  },
  {
   "cell_type": "code",
   "execution_count": 22,
   "metadata": {},
   "outputs": [
    {
     "name": "stdout",
     "output_type": "stream",
     "text": [
      ", , 1\n",
      "\n",
      "     [,1]     [,2]     [,3]    \n",
      "[1,] \"red\"    \"red\"    \"red\"   \n",
      "[2,] \"green\"  \"green\"  \"green\" \n",
      "[3,] \"yellow\" \"yellow\" \"yellow\"\n",
      "\n",
      ", , 2\n",
      "\n",
      "     [,1]     [,2]     [,3]    \n",
      "[1,] \"red\"    \"red\"    \"red\"   \n",
      "[2,] \"green\"  \"green\"  \"green\" \n",
      "[3,] \"yellow\" \"yellow\" \"yellow\"\n",
      "\n"
     ]
    }
   ],
   "source": [
    "print(a)"
   ]
  },
  {
   "cell_type": "code",
   "execution_count": 25,
   "metadata": {},
   "outputs": [
    {
     "data": {
      "text/html": [
       "'green'"
      ],
      "text/latex": [
       "'green'"
      ],
      "text/markdown": [
       "'green'"
      ],
      "text/plain": [
       "[1] \"green\""
      ]
     },
     "metadata": {},
     "output_type": "display_data"
    }
   ],
   "source": [
    "a[2,2,2]"
   ]
  },
  {
   "cell_type": "markdown",
   "metadata": {},
   "source": [
    "### DataFrame"
   ]
  },
  {
   "cell_type": "code",
   "execution_count": 30,
   "metadata": {},
   "outputs": [
    {
     "name": "stdout",
     "output_type": "stream",
     "text": [
      "  gender height weight age\n",
      "1   male  152.0     81  32\n",
      "2   male  171.0     93  42\n",
      "3 female  165.5     78  30\n"
     ]
    }
   ],
   "source": [
    "BMI = data.frame(gender = c('male', 'male', 'female'),\n",
    "                height = c(152, 171, 165.5),\n",
    "                weight= c(81, 93, 78),\n",
    "                age = c(32, 42, 30))\n",
    "print(BMI)"
   ]
  },
  {
   "cell_type": "code",
   "execution_count": 31,
   "metadata": {},
   "outputs": [
    {
     "data": {
      "text/html": [
       "\n",
       "<table width=\"100%\" summary=\"page for Reserved {base}\"><tr><td>Reserved {base}</td><td style=\"text-align: right;\">R Documentation</td></tr></table>\n",
       "\n",
       "<h2>Reserved Words in R</h2>\n",
       "\n",
       "<h3>Description</h3>\n",
       "\n",
       "<p>The reserved words in <span style=\"font-family: Courier New, Courier; color: #666666;\"><b>R</b></span>'s parser are\n",
       "</p>\n",
       "<p><code>if</code> <code>else</code> <code>repeat</code> <code>while</code>\n",
       "<code>function</code> <code>for</code> <code>in</code>\n",
       "<code>next</code> <code>break</code>\n",
       "</p>\n",
       "<p><code>TRUE</code> <code>FALSE</code> <code>NULL</code>\n",
       "<code>Inf</code> <code>NaN</code>\n",
       "<code>NA</code> <code>NA_integer_</code> <code>NA_real_</code>\n",
       "<code>NA_complex_</code> <code>NA_character_</code>\n",
       "</p>\n",
       "<p><code>...</code> and <code>..1</code>, <code>..2</code> etc, which are used to refer to\n",
       "arguments passed down from a calling function, see <code>...</code>.\n",
       "</p>\n",
       "\n",
       "\n",
       "<h3>Details</h3>\n",
       "\n",
       "<p>Reserved words outside quotes are always parsed to be\n",
       "references to the objects linked to in the &lsquo;Description&rsquo;, and\n",
       "hence they are not allowed as syntactic names (see\n",
       "<code>make.names</code>).  They <b>are</b> allowed as non-syntactic\n",
       "names, e.g. inside backtick quotes.\n",
       "</p>\n",
       "\n",
       "<hr /><div style=\"text-align: center;\">[Package <em>base</em> version 3.5.1 ]</div>"
      ],
      "text/latex": [
       "\\inputencoding{utf8}\n",
       "\\HeaderA{Reserved}{Reserved Words in R}{Reserved}\n",
       "\\aliasA{reserved}{Reserved}{reserved}\n",
       "\\keyword{programming}{Reserved}\n",
       "\\keyword{documentation}{Reserved}\n",
       "%\n",
       "\\begin{Description}\\relax\n",
       "The reserved words in \\R{}'s parser are\n",
       "\n",
       "\\code{\\LinkA{if}{if}} \\code{\\LinkA{else}{else}} \\code{\\LinkA{repeat}{repeat}} \\code{\\LinkA{while}{while}}\n",
       "\\code{\\LinkA{function}{function}} \\code{\\LinkA{for}{for}} \\code{in}\n",
       "\\code{\\LinkA{next}{next}} \\code{\\LinkA{break}{break}}\n",
       "\n",
       "\\code{\\LinkA{TRUE}{TRUE}} \\code{\\LinkA{FALSE}{FALSE}} \\code{\\LinkA{NULL}{NULL}}\n",
       "\\code{\\LinkA{Inf}{Inf}} \\code{\\LinkA{NaN}{NaN}}\n",
       "\\code{\\LinkA{NA}{NA}} \\code{\\LinkA{NA\\_integer\\_}{NA.Rul.integer.Rul.}} \\code{\\LinkA{NA\\_real\\_}{NA.Rul.real.Rul.}}\n",
       "\\code{\\LinkA{NA\\_complex\\_}{NA.Rul.complex.Rul.}} \\code{\\LinkA{NA\\_character\\_}{NA.Rul.character.Rul.}}\n",
       "\n",
       "\\code{...} and \\code{..1}, \\code{..2} etc, which are used to refer to\n",
       "arguments passed down from a calling function, see \\code{\\LinkA{...}{...}}.\n",
       "\\end{Description}\n",
       "%\n",
       "\\begin{Details}\\relax\n",
       "Reserved words outside \\LinkA{quotes}{Quotes} are always parsed to be\n",
       "references to the objects linked to in the `Description', and\n",
       "hence they are not allowed as syntactic names (see\n",
       "\\code{\\LinkA{make.names}{make.names}}).  They \\bold{are} allowed as non-syntactic\n",
       "names, e.g.~inside \\LinkA{backtick}{backtick} quotes.\n",
       "\\end{Details}"
      ],
      "text/plain": [
       "Reserved                 package:base                  R Documentation\n",
       "\n",
       "_\bR_\be_\bs_\be_\br_\bv_\be_\bd _\bW_\bo_\br_\bd_\bs _\bi_\bn _\bR\n",
       "\n",
       "_\bD_\be_\bs_\bc_\br_\bi_\bp_\bt_\bi_\bo_\bn:\n",
       "\n",
       "     The reserved words in R's parser are\n",
       "\n",
       "     ‘if’ ‘else’ ‘repeat’ ‘while’ ‘function’ ‘for’ ‘in’ ‘next’ ‘break’\n",
       "\n",
       "     ‘TRUE’ ‘FALSE’ ‘NULL’ ‘Inf’ ‘NaN’ ‘NA’ ‘NA_integer_’ ‘NA_real_’\n",
       "     ‘NA_complex_’ ‘NA_character_’\n",
       "\n",
       "     ‘...’ and ‘..1’, ‘..2’ etc, which are used to refer to arguments\n",
       "     passed down from a calling function, see ‘...’.\n",
       "\n",
       "_\bD_\be_\bt_\ba_\bi_\bl_\bs:\n",
       "\n",
       "     Reserved words outside quotes are always parsed to be references\n",
       "     to the objects linked to in the ‘Description’, and hence they are\n",
       "     not allowed as syntactic names (see ‘make.names’).  They *are*\n",
       "     allowed as non-syntactic names, e.g. inside backtick quotes.\n"
      ]
     },
     "metadata": {},
     "output_type": "display_data"
    }
   ],
   "source": [
    "?reserved"
   ]
  },
  {
   "cell_type": "code",
   "execution_count": 32,
   "metadata": {},
   "outputs": [
    {
     "data": {
      "text/html": [
       "<style>\n",
       ".list-inline {list-style: none; margin:0; padding: 0}\n",
       ".list-inline>li {display: inline-block}\n",
       ".list-inline>li:not(:last-child)::after {content: \"\\00b7\"; padding: 0 .5ex}\n",
       "</style>\n",
       "<ol class=list-inline><li>'a'</li><li>'apple_color'</li><li>'b'</li><li>'BMI'</li><li>'factor_apple'</li><li>'int'</li><li>'ky_tu'</li><li>'list1'</li><li>'M'</li><li>'M1'</li><li>'pass'</li><li>'x'</li></ol>\n"
      ],
      "text/latex": [
       "\\begin{enumerate*}\n",
       "\\item 'a'\n",
       "\\item 'apple\\_color'\n",
       "\\item 'b'\n",
       "\\item 'BMI'\n",
       "\\item 'factor\\_apple'\n",
       "\\item 'int'\n",
       "\\item 'ky\\_tu'\n",
       "\\item 'list1'\n",
       "\\item 'M'\n",
       "\\item 'M1'\n",
       "\\item 'pass'\n",
       "\\item 'x'\n",
       "\\end{enumerate*}\n"
      ],
      "text/markdown": [
       "1. 'a'\n",
       "2. 'apple_color'\n",
       "3. 'b'\n",
       "4. 'BMI'\n",
       "5. 'factor_apple'\n",
       "6. 'int'\n",
       "7. 'ky_tu'\n",
       "8. 'list1'\n",
       "9. 'M'\n",
       "10. 'M1'\n",
       "11. 'pass'\n",
       "12. 'x'\n",
       "\n",
       "\n"
      ],
      "text/plain": [
       " [1] \"a\"            \"apple_color\"  \"b\"            \"BMI\"          \"factor_apple\"\n",
       " [6] \"int\"          \"ky_tu\"        \"list1\"        \"M\"            \"M1\"          \n",
       "[11] \"pass\"         \"x\"           "
      ]
     },
     "metadata": {},
     "output_type": "display_data"
    }
   ],
   "source": [
    "ls()"
   ]
  },
  {
   "cell_type": "markdown",
   "metadata": {},
   "source": [
    "### Toan tu"
   ]
  },
  {
   "cell_type": "code",
   "execution_count": 49,
   "metadata": {},
   "outputs": [],
   "source": [
    "v = c(1,6,5.5)\n",
    "t = c(5,3,10)"
   ]
  },
  {
   "cell_type": "code",
   "execution_count": 50,
   "metadata": {},
   "outputs": [
    {
     "name": "stdout",
     "output_type": "stream",
     "text": [
      "[1]  6.0  9.0 15.5\n"
     ]
    }
   ],
   "source": [
    "print(v + t)"
   ]
  },
  {
   "cell_type": "code",
   "execution_count": 51,
   "metadata": {},
   "outputs": [
    {
     "name": "stdout",
     "output_type": "stream",
     "text": [
      "[1] -4.0  3.0 -4.5\n"
     ]
    }
   ],
   "source": [
    "print(v -t)"
   ]
  },
  {
   "cell_type": "code",
   "execution_count": 52,
   "metadata": {},
   "outputs": [
    {
     "name": "stdout",
     "output_type": "stream",
     "text": [
      "[1]  5 18 55\n"
     ]
    }
   ],
   "source": [
    "print(v * t)"
   ]
  },
  {
   "cell_type": "code",
   "execution_count": 53,
   "metadata": {},
   "outputs": [
    {
     "name": "stdout",
     "output_type": "stream",
     "text": [
      "[1] 0.20 2.00 0.55\n"
     ]
    }
   ],
   "source": [
    "print(v / t)"
   ]
  },
  {
   "cell_type": "code",
   "execution_count": 54,
   "metadata": {},
   "outputs": [
    {
     "name": "stdout",
     "output_type": "stream",
     "text": [
      "[1] 1.0 0.0 5.5\n"
     ]
    }
   ],
   "source": [
    "#chia lay phan du\n",
    "print(v %% t)"
   ]
  },
  {
   "cell_type": "code",
   "execution_count": 55,
   "metadata": {},
   "outputs": [
    {
     "name": "stdout",
     "output_type": "stream",
     "text": [
      "[1] 0 2 0\n"
     ]
    }
   ],
   "source": [
    "# chia lay phan Nguyen\n",
    "print(v %/% t)"
   ]
  },
  {
   "cell_type": "code",
   "execution_count": 56,
   "metadata": {},
   "outputs": [
    {
     "name": "stdout",
     "output_type": "stream",
     "text": [
      "[1]        1      216 25329516\n"
     ]
    }
   ],
   "source": [
    "print ( v ^ t)"
   ]
  },
  {
   "cell_type": "code",
   "execution_count": 57,
   "metadata": {},
   "outputs": [
    {
     "data": {
      "text/html": [
       "<style>\n",
       ".list-inline {list-style: none; margin:0; padding: 0}\n",
       ".list-inline>li {display: inline-block}\n",
       ".list-inline>li:not(:last-child)::after {content: \"\\00b7\"; padding: 0 .5ex}\n",
       "</style>\n",
       "<ol class=list-inline><li>FALSE</li><li>TRUE</li><li>FALSE</li></ol>\n"
      ],
      "text/latex": [
       "\\begin{enumerate*}\n",
       "\\item FALSE\n",
       "\\item TRUE\n",
       "\\item FALSE\n",
       "\\end{enumerate*}\n"
      ],
      "text/markdown": [
       "1. FALSE\n",
       "2. TRUE\n",
       "3. FALSE\n",
       "\n",
       "\n"
      ],
      "text/plain": [
       "[1] FALSE  TRUE FALSE"
      ]
     },
     "metadata": {},
     "output_type": "display_data"
    }
   ],
   "source": [
    "v > t"
   ]
  },
  {
   "cell_type": "code",
   "execution_count": 58,
   "metadata": {},
   "outputs": [
    {
     "data": {
      "text/html": [
       "<style>\n",
       ".list-inline {list-style: none; margin:0; padding: 0}\n",
       ".list-inline>li {display: inline-block}\n",
       ".list-inline>li:not(:last-child)::after {content: \"\\00b7\"; padding: 0 .5ex}\n",
       "</style>\n",
       "<ol class=list-inline><li>TRUE</li><li>FALSE</li><li>TRUE</li></ol>\n"
      ],
      "text/latex": [
       "\\begin{enumerate*}\n",
       "\\item TRUE\n",
       "\\item FALSE\n",
       "\\item TRUE\n",
       "\\end{enumerate*}\n"
      ],
      "text/markdown": [
       "1. TRUE\n",
       "2. FALSE\n",
       "3. TRUE\n",
       "\n",
       "\n"
      ],
      "text/plain": [
       "[1]  TRUE FALSE  TRUE"
      ]
     },
     "metadata": {},
     "output_type": "display_data"
    }
   ],
   "source": [
    "v < t"
   ]
  },
  {
   "cell_type": "code",
   "execution_count": 59,
   "metadata": {},
   "outputs": [
    {
     "data": {
      "text/html": [
       "<style>\n",
       ".list-inline {list-style: none; margin:0; padding: 0}\n",
       ".list-inline>li {display: inline-block}\n",
       ".list-inline>li:not(:last-child)::after {content: \"\\00b7\"; padding: 0 .5ex}\n",
       "</style>\n",
       "<ol class=list-inline><li>FALSE</li><li>FALSE</li><li>FALSE</li></ol>\n"
      ],
      "text/latex": [
       "\\begin{enumerate*}\n",
       "\\item FALSE\n",
       "\\item FALSE\n",
       "\\item FALSE\n",
       "\\end{enumerate*}\n"
      ],
      "text/markdown": [
       "1. FALSE\n",
       "2. FALSE\n",
       "3. FALSE\n",
       "\n",
       "\n"
      ],
      "text/plain": [
       "[1] FALSE FALSE FALSE"
      ]
     },
     "metadata": {},
     "output_type": "display_data"
    }
   ],
   "source": [
    "v == t"
   ]
  },
  {
   "cell_type": "code",
   "execution_count": 60,
   "metadata": {},
   "outputs": [
    {
     "data": {
      "text/html": [
       "<style>\n",
       ".list-inline {list-style: none; margin:0; padding: 0}\n",
       ".list-inline>li {display: inline-block}\n",
       ".list-inline>li:not(:last-child)::after {content: \"\\00b7\"; padding: 0 .5ex}\n",
       "</style>\n",
       "<ol class=list-inline><li>TRUE</li><li>FALSE</li><li>TRUE</li></ol>\n"
      ],
      "text/latex": [
       "\\begin{enumerate*}\n",
       "\\item TRUE\n",
       "\\item FALSE\n",
       "\\item TRUE\n",
       "\\end{enumerate*}\n"
      ],
      "text/markdown": [
       "1. TRUE\n",
       "2. FALSE\n",
       "3. TRUE\n",
       "\n",
       "\n"
      ],
      "text/plain": [
       "[1]  TRUE FALSE  TRUE"
      ]
     },
     "metadata": {},
     "output_type": "display_data"
    }
   ],
   "source": [
    "v <= t"
   ]
  },
  {
   "cell_type": "code",
   "execution_count": 61,
   "metadata": {},
   "outputs": [
    {
     "data": {
      "text/html": [
       "<style>\n",
       ".list-inline {list-style: none; margin:0; padding: 0}\n",
       ".list-inline>li {display: inline-block}\n",
       ".list-inline>li:not(:last-child)::after {content: \"\\00b7\"; padding: 0 .5ex}\n",
       "</style>\n",
       "<ol class=list-inline><li>FALSE</li><li>TRUE</li><li>FALSE</li></ol>\n"
      ],
      "text/latex": [
       "\\begin{enumerate*}\n",
       "\\item FALSE\n",
       "\\item TRUE\n",
       "\\item FALSE\n",
       "\\end{enumerate*}\n"
      ],
      "text/markdown": [
       "1. FALSE\n",
       "2. TRUE\n",
       "3. FALSE\n",
       "\n",
       "\n"
      ],
      "text/plain": [
       "[1] FALSE  TRUE FALSE"
      ]
     },
     "metadata": {},
     "output_type": "display_data"
    }
   ],
   "source": [
    "v >=t"
   ]
  },
  {
   "cell_type": "code",
   "execution_count": 62,
   "metadata": {},
   "outputs": [
    {
     "data": {
      "text/html": [
       "<style>\n",
       ".list-inline {list-style: none; margin:0; padding: 0}\n",
       ".list-inline>li {display: inline-block}\n",
       ".list-inline>li:not(:last-child)::after {content: \"\\00b7\"; padding: 0 .5ex}\n",
       "</style>\n",
       "<ol class=list-inline><li>TRUE</li><li>TRUE</li><li>TRUE</li></ol>\n"
      ],
      "text/latex": [
       "\\begin{enumerate*}\n",
       "\\item TRUE\n",
       "\\item TRUE\n",
       "\\item TRUE\n",
       "\\end{enumerate*}\n"
      ],
      "text/markdown": [
       "1. TRUE\n",
       "2. TRUE\n",
       "3. TRUE\n",
       "\n",
       "\n"
      ],
      "text/plain": [
       "[1] TRUE TRUE TRUE"
      ]
     },
     "metadata": {},
     "output_type": "display_data"
    }
   ],
   "source": [
    "v != t"
   ]
  },
  {
   "cell_type": "code",
   "execution_count": 63,
   "metadata": {},
   "outputs": [],
   "source": [
    "v = c(3, 1, TRUE, 0)\n",
    "t = c(4, 1, FALSE, 2)"
   ]
  },
  {
   "cell_type": "code",
   "execution_count": 64,
   "metadata": {},
   "outputs": [
    {
     "data": {
      "text/html": [
       "<style>\n",
       ".list-inline {list-style: none; margin:0; padding: 0}\n",
       ".list-inline>li {display: inline-block}\n",
       ".list-inline>li:not(:last-child)::after {content: \"\\00b7\"; padding: 0 .5ex}\n",
       "</style>\n",
       "<ol class=list-inline><li>TRUE</li><li>TRUE</li><li>FALSE</li><li>FALSE</li></ol>\n"
      ],
      "text/latex": [
       "\\begin{enumerate*}\n",
       "\\item TRUE\n",
       "\\item TRUE\n",
       "\\item FALSE\n",
       "\\item FALSE\n",
       "\\end{enumerate*}\n"
      ],
      "text/markdown": [
       "1. TRUE\n",
       "2. TRUE\n",
       "3. FALSE\n",
       "4. FALSE\n",
       "\n",
       "\n"
      ],
      "text/plain": [
       "[1]  TRUE  TRUE FALSE FALSE"
      ]
     },
     "metadata": {},
     "output_type": "display_data"
    }
   ],
   "source": [
    "v & t"
   ]
  },
  {
   "cell_type": "code",
   "execution_count": 65,
   "metadata": {},
   "outputs": [
    {
     "data": {
      "text/html": [
       "<style>\n",
       ".list-inline {list-style: none; margin:0; padding: 0}\n",
       ".list-inline>li {display: inline-block}\n",
       ".list-inline>li:not(:last-child)::after {content: \"\\00b7\"; padding: 0 .5ex}\n",
       "</style>\n",
       "<ol class=list-inline><li>TRUE</li><li>TRUE</li><li>TRUE</li><li>TRUE</li></ol>\n"
      ],
      "text/latex": [
       "\\begin{enumerate*}\n",
       "\\item TRUE\n",
       "\\item TRUE\n",
       "\\item TRUE\n",
       "\\item TRUE\n",
       "\\end{enumerate*}\n"
      ],
      "text/markdown": [
       "1. TRUE\n",
       "2. TRUE\n",
       "3. TRUE\n",
       "4. TRUE\n",
       "\n",
       "\n"
      ],
      "text/plain": [
       "[1] TRUE TRUE TRUE TRUE"
      ]
     },
     "metadata": {},
     "output_type": "display_data"
    }
   ],
   "source": [
    "v | t"
   ]
  },
  {
   "cell_type": "code",
   "execution_count": 67,
   "metadata": {},
   "outputs": [
    {
     "data": {
      "text/html": [
       "<style>\n",
       ".list-inline {list-style: none; margin:0; padding: 0}\n",
       ".list-inline>li {display: inline-block}\n",
       ".list-inline>li:not(:last-child)::after {content: \"\\00b7\"; padding: 0 .5ex}\n",
       "</style>\n",
       "<ol class=list-inline><li>FALSE</li><li>FALSE</li><li>TRUE</li><li>FALSE</li></ol>\n"
      ],
      "text/latex": [
       "\\begin{enumerate*}\n",
       "\\item FALSE\n",
       "\\item FALSE\n",
       "\\item TRUE\n",
       "\\item FALSE\n",
       "\\end{enumerate*}\n"
      ],
      "text/markdown": [
       "1. FALSE\n",
       "2. FALSE\n",
       "3. TRUE\n",
       "4. FALSE\n",
       "\n",
       "\n"
      ],
      "text/plain": [
       "[1] FALSE FALSE  TRUE FALSE"
      ]
     },
     "metadata": {},
     "output_type": "display_data"
    }
   ],
   "source": [
    "!t"
   ]
  },
  {
   "cell_type": "raw",
   "metadata": {},
   "source": [
    "xem xet cap dau tien trong vector => sai 2 cap dau && hoac ||"
   ]
  },
  {
   "cell_type": "code",
   "execution_count": 68,
   "metadata": {},
   "outputs": [
    {
     "data": {
      "text/html": [
       "TRUE"
      ],
      "text/latex": [
       "TRUE"
      ],
      "text/markdown": [
       "TRUE"
      ],
      "text/plain": [
       "[1] TRUE"
      ]
     },
     "metadata": {},
     "output_type": "display_data"
    }
   ],
   "source": [
    "v && t"
   ]
  },
  {
   "cell_type": "code",
   "execution_count": 69,
   "metadata": {},
   "outputs": [
    {
     "data": {
      "text/html": [
       "TRUE"
      ],
      "text/latex": [
       "TRUE"
      ],
      "text/markdown": [
       "TRUE"
      ],
      "text/plain": [
       "[1] TRUE"
      ]
     },
     "metadata": {},
     "output_type": "display_data"
    }
   ],
   "source": [
    "v || t"
   ]
  },
  {
   "cell_type": "raw",
   "metadata": {},
   "source": [
    "Toan tu khac"
   ]
  },
  {
   "cell_type": "code",
   "execution_count": 70,
   "metadata": {},
   "outputs": [],
   "source": [
    "v <- 1:10"
   ]
  },
  {
   "cell_type": "code",
   "execution_count": 71,
   "metadata": {},
   "outputs": [
    {
     "data": {
      "text/html": [
       "<style>\n",
       ".list-inline {list-style: none; margin:0; padding: 0}\n",
       ".list-inline>li {display: inline-block}\n",
       ".list-inline>li:not(:last-child)::after {content: \"\\00b7\"; padding: 0 .5ex}\n",
       "</style>\n",
       "<ol class=list-inline><li>1</li><li>2</li><li>3</li><li>4</li><li>5</li><li>6</li><li>7</li><li>8</li><li>9</li><li>10</li></ol>\n"
      ],
      "text/latex": [
       "\\begin{enumerate*}\n",
       "\\item 1\n",
       "\\item 2\n",
       "\\item 3\n",
       "\\item 4\n",
       "\\item 5\n",
       "\\item 6\n",
       "\\item 7\n",
       "\\item 8\n",
       "\\item 9\n",
       "\\item 10\n",
       "\\end{enumerate*}\n"
      ],
      "text/markdown": [
       "1. 1\n",
       "2. 2\n",
       "3. 3\n",
       "4. 4\n",
       "5. 5\n",
       "6. 6\n",
       "7. 7\n",
       "8. 8\n",
       "9. 9\n",
       "10. 10\n",
       "\n",
       "\n"
      ],
      "text/plain": [
       " [1]  1  2  3  4  5  6  7  8  9 10"
      ]
     },
     "metadata": {},
     "output_type": "display_data"
    }
   ],
   "source": [
    "v"
   ]
  },
  {
   "cell_type": "code",
   "execution_count": 72,
   "metadata": {},
   "outputs": [],
   "source": [
    "v1 = 8\n",
    "v2 = 12"
   ]
  },
  {
   "cell_type": "code",
   "execution_count": 73,
   "metadata": {},
   "outputs": [
    {
     "data": {
      "text/html": [
       "TRUE"
      ],
      "text/latex": [
       "TRUE"
      ],
      "text/markdown": [
       "TRUE"
      ],
      "text/plain": [
       "[1] TRUE"
      ]
     },
     "metadata": {},
     "output_type": "display_data"
    }
   ],
   "source": [
    "v1 %in% v"
   ]
  },
  {
   "cell_type": "code",
   "execution_count": 75,
   "metadata": {},
   "outputs": [
    {
     "data": {
      "text/html": [
       "FALSE"
      ],
      "text/latex": [
       "FALSE"
      ],
      "text/markdown": [
       "FALSE"
      ],
      "text/plain": [
       "[1] FALSE"
      ]
     },
     "metadata": {},
     "output_type": "display_data"
    }
   ],
   "source": [
    "v2 %in% v"
   ]
  },
  {
   "cell_type": "raw",
   "metadata": {},
   "source": [
    "Nhap"
   ]
  },
  {
   "cell_type": "code",
   "execution_count": 76,
   "metadata": {},
   "outputs": [
    {
     "name": "stdin",
     "output_type": "stream",
     "text": [
      "Nhap ten: cang\n"
     ]
    }
   ],
   "source": [
    "a = readline(\"Nhap ten:\")"
   ]
  },
  {
   "cell_type": "code",
   "execution_count": 77,
   "metadata": {},
   "outputs": [
    {
     "data": {
      "text/html": [
       "'cang'"
      ],
      "text/latex": [
       "'cang'"
      ],
      "text/markdown": [
       "'cang'"
      ],
      "text/plain": [
       "[1] \"cang\""
      ]
     },
     "metadata": {},
     "output_type": "display_data"
    }
   ],
   "source": [
    "a"
   ]
  },
  {
   "cell_type": "code",
   "execution_count": 78,
   "metadata": {},
   "outputs": [
    {
     "name": "stdin",
     "output_type": "stream",
     "text": [
      "Nhap ten: sy cang\n"
     ]
    }
   ],
   "source": [
    "b = readline(prompt=\"Nhap ten:\")"
   ]
  },
  {
   "cell_type": "code",
   "execution_count": 79,
   "metadata": {},
   "outputs": [
    {
     "data": {
      "text/html": [
       "'sy cang'"
      ],
      "text/latex": [
       "'sy cang'"
      ],
      "text/markdown": [
       "'sy cang'"
      ],
      "text/plain": [
       "[1] \"sy cang\""
      ]
     },
     "metadata": {},
     "output_type": "display_data"
    }
   ],
   "source": [
    "b"
   ]
  },
  {
   "cell_type": "code",
   "execution_count": null,
   "metadata": {},
   "outputs": [],
   "source": []
  },
  {
   "cell_type": "code",
   "execution_count": 80,
   "metadata": {},
   "outputs": [
    {
     "name": "stdin",
     "output_type": "stream",
     "text": [
      "Nhap tuoi: 30\n"
     ]
    }
   ],
   "source": [
    "age = as.integer(readline(\"Nhap tuoi:\"))"
   ]
  },
  {
   "cell_type": "code",
   "execution_count": 81,
   "metadata": {},
   "outputs": [
    {
     "data": {
      "text/html": [
       "30"
      ],
      "text/latex": [
       "30"
      ],
      "text/markdown": [
       "30"
      ],
      "text/plain": [
       "[1] 30"
      ]
     },
     "metadata": {},
     "output_type": "display_data"
    }
   ],
   "source": [
    "age"
   ]
  },
  {
   "cell_type": "code",
   "execution_count": 82,
   "metadata": {},
   "outputs": [
    {
     "data": {
      "text/html": [
       "'integer'"
      ],
      "text/latex": [
       "'integer'"
      ],
      "text/markdown": [
       "'integer'"
      ],
      "text/plain": [
       "[1] \"integer\""
      ]
     },
     "metadata": {},
     "output_type": "display_data"
    }
   ],
   "source": [
    "class(age)"
   ]
  },
  {
   "cell_type": "code",
   "execution_count": 84,
   "metadata": {},
   "outputs": [
    {
     "name": "stdin",
     "output_type": "stream",
     "text": [
      "nhap chiu cao 56.5\n"
     ]
    }
   ],
   "source": [
    "height = as.numeric(readline(\"nhap chiu cao\"))"
   ]
  },
  {
   "cell_type": "code",
   "execution_count": 85,
   "metadata": {},
   "outputs": [
    {
     "data": {
      "text/html": [
       "56.5"
      ],
      "text/latex": [
       "56.5"
      ],
      "text/markdown": [
       "56.5"
      ],
      "text/plain": [
       "[1] 56.5"
      ]
     },
     "metadata": {},
     "output_type": "display_data"
    }
   ],
   "source": [
    "height"
   ]
  },
  {
   "cell_type": "markdown",
   "metadata": {},
   "source": [
    "### STRING"
   ]
  },
  {
   "cell_type": "code",
   "execution_count": 86,
   "metadata": {},
   "outputs": [],
   "source": [
    "s1 = \"Pham Sy Cang 'LDS7' sang t7, cn\""
   ]
  },
  {
   "cell_type": "code",
   "execution_count": 87,
   "metadata": {},
   "outputs": [
    {
     "data": {
      "text/html": [
       "'Pham Sy Cang \\'LDS7\\' sang t7, cn'"
      ],
      "text/latex": [
       "'Pham Sy Cang \\textbackslash{}'LDS7\\textbackslash{}' sang t7, cn'"
      ],
      "text/markdown": [
       "'Pham Sy Cang \\'LDS7\\' sang t7, cn'"
      ],
      "text/plain": [
       "[1] \"Pham Sy Cang 'LDS7' sang t7, cn\""
      ]
     },
     "metadata": {},
     "output_type": "display_data"
    }
   ],
   "source": [
    "s1"
   ]
  },
  {
   "cell_type": "code",
   "execution_count": 88,
   "metadata": {},
   "outputs": [],
   "source": [
    "a = \"one\"\n",
    "b = \"two\"\n",
    "c = \"three\""
   ]
  },
  {
   "cell_type": "code",
   "execution_count": 89,
   "metadata": {},
   "outputs": [
    {
     "data": {
      "text/html": [
       "'one two three'"
      ],
      "text/latex": [
       "'one two three'"
      ],
      "text/markdown": [
       "'one two three'"
      ],
      "text/plain": [
       "[1] \"one two three\""
      ]
     },
     "metadata": {},
     "output_type": "display_data"
    }
   ],
   "source": [
    "paste(a,b,c)"
   ]
  },
  {
   "cell_type": "code",
   "execution_count": 90,
   "metadata": {},
   "outputs": [
    {
     "data": {
      "text/html": [
       "'one--two--three'"
      ],
      "text/latex": [
       "'one--two--three'"
      ],
      "text/markdown": [
       "'one--two--three'"
      ],
      "text/plain": [
       "[1] \"one--two--three\""
      ]
     },
     "metadata": {},
     "output_type": "display_data"
    }
   ],
   "source": [
    "paste(a,b,c, sep=\"--\")"
   ]
  },
  {
   "cell_type": "code",
   "execution_count": 91,
   "metadata": {},
   "outputs": [
    {
     "data": {
      "text/html": [
       "'onetwothree'"
      ],
      "text/latex": [
       "'onetwothree'"
      ],
      "text/markdown": [
       "'onetwothree'"
      ],
      "text/plain": [
       "[1] \"onetwothree\""
      ]
     },
     "metadata": {},
     "output_type": "display_data"
    }
   ],
   "source": [
    "paste(a,b,c, sep=\"\")"
   ]
  },
  {
   "cell_type": "code",
   "execution_count": 92,
   "metadata": {},
   "outputs": [
    {
     "data": {
      "text/html": [
       "16"
      ],
      "text/latex": [
       "16"
      ],
      "text/markdown": [
       "16"
      ],
      "text/plain": [
       "[1] 16"
      ]
     },
     "metadata": {},
     "output_type": "display_data"
    }
   ],
   "source": [
    "s = \"this is a string\"\n",
    "nchar(s)"
   ]
  },
  {
   "cell_type": "code",
   "execution_count": 93,
   "metadata": {},
   "outputs": [
    {
     "data": {
      "text/html": [
       "'THIS IS A STRING'"
      ],
      "text/latex": [
       "'THIS IS A STRING'"
      ],
      "text/markdown": [
       "'THIS IS A STRING'"
      ],
      "text/plain": [
       "[1] \"THIS IS A STRING\""
      ]
     },
     "metadata": {},
     "output_type": "display_data"
    }
   ],
   "source": [
    "toupper(s)"
   ]
  },
  {
   "cell_type": "code",
   "execution_count": 94,
   "metadata": {},
   "outputs": [
    {
     "data": {
      "text/html": [
       "'this is a string'"
      ],
      "text/latex": [
       "'this is a string'"
      ],
      "text/markdown": [
       "'this is a string'"
      ],
      "text/plain": [
       "[1] \"this is a string\""
      ]
     },
     "metadata": {},
     "output_type": "display_data"
    }
   ],
   "source": [
    "tolower(s)"
   ]
  },
  {
   "cell_type": "code",
   "execution_count": 95,
   "metadata": {},
   "outputs": [],
   "source": [
    "s_sub = substring(s, 5, 10)"
   ]
  },
  {
   "cell_type": "code",
   "execution_count": 96,
   "metadata": {},
   "outputs": [
    {
     "data": {
      "text/html": [
       "' is a '"
      ],
      "text/latex": [
       "' is a '"
      ],
      "text/markdown": [
       "' is a '"
      ],
      "text/plain": [
       "[1] \" is a \""
      ]
     },
     "metadata": {},
     "output_type": "display_data"
    }
   ],
   "source": [
    "s_sub"
   ]
  },
  {
   "cell_type": "code",
   "execution_count": 97,
   "metadata": {},
   "outputs": [
    {
     "data": {
      "text/html": [
       "'this-is-a-string'"
      ],
      "text/latex": [
       "'this-is-a-string'"
      ],
      "text/markdown": [
       "'this-is-a-string'"
      ],
      "text/plain": [
       "[1] \"this-is-a-string\""
      ]
     },
     "metadata": {},
     "output_type": "display_data"
    }
   ],
   "source": [
    "chartr(\" \", \"-\", s)"
   ]
  },
  {
   "cell_type": "code",
   "execution_count": 98,
   "metadata": {},
   "outputs": [
    {
     "data": {
      "text/html": [
       "\n",
       "<table width=\"100%\" summary=\"page for chartr {base}\"><tr><td>chartr {base}</td><td style=\"text-align: right;\">R Documentation</td></tr></table>\n",
       "\n",
       "<h2>Character Translation and Casefolding</h2>\n",
       "\n",
       "<h3>Description</h3>\n",
       "\n",
       "<p>Translate characters in character vectors, in particular from upper to\n",
       "lower case or vice versa.\n",
       "</p>\n",
       "\n",
       "\n",
       "<h3>Usage</h3>\n",
       "\n",
       "<pre>\n",
       "chartr(old, new, x)\n",
       "tolower(x)\n",
       "toupper(x)\n",
       "casefold(x, upper = FALSE)\n",
       "</pre>\n",
       "\n",
       "\n",
       "<h3>Arguments</h3>\n",
       "\n",
       "<table summary=\"R argblock\">\n",
       "<tr valign=\"top\"><td><code>x</code></td>\n",
       "<td>\n",
       "<p>a character vector, or an object that can be coerced to\n",
       "character by <code>as.character</code>.</p>\n",
       "</td></tr>\n",
       "<tr valign=\"top\"><td><code>old</code></td>\n",
       "<td>\n",
       "<p>a character string specifying the characters to be\n",
       "translated.  If a character vector of length 2 or more is supplied,\n",
       "the first element is used with a warning.</p>\n",
       "</td></tr>\n",
       "<tr valign=\"top\"><td><code>new</code></td>\n",
       "<td>\n",
       "<p>a character string specifying the translations. If a\n",
       "character vector of length 2 or more is supplied, the first element\n",
       "is used with a warning.</p>\n",
       "</td></tr>\n",
       "<tr valign=\"top\"><td><code>upper</code></td>\n",
       "<td>\n",
       "<p>logical: translate to upper or lower case?.</p>\n",
       "</td></tr>\n",
       "</table>\n",
       "\n",
       "\n",
       "<h3>Details</h3>\n",
       "\n",
       "<p><code>chartr</code> translates each character in <code>x</code> that is specified\n",
       "in <code>old</code> to the corresponding character specified in <code>new</code>.\n",
       "Ranges are supported in the specifications, but character classes and\n",
       "repeated characters are not.  If <code>old</code> contains more characters\n",
       "than new, an error is signaled; if it contains fewer characters, the\n",
       "extra characters at the end of <code>new</code> are ignored.\n",
       "</p>\n",
       "<p><code>tolower</code> and <code>toupper</code> convert upper-case characters in a\n",
       "character vector to lower-case, or vice versa.  Non-alphabetic\n",
       "characters are left unchanged.\n",
       "</p>\n",
       "<p><code>casefold</code> is a wrapper for <code>tolower</code> and <code>toupper</code>\n",
       "provided for compatibility with S-PLUS.\n",
       "</p>\n",
       "\n",
       "\n",
       "<h3>Value</h3>\n",
       "\n",
       "<p>A character vector of the same length and with the same attributes as\n",
       "<code>x</code> (after possible coercion).\n",
       "</p>\n",
       "<p>Elements of the result will be have the encoding declared as that of\n",
       "the current locale (see <code>Encoding</code>) if the corresponding\n",
       "input had a declared encoding and the current locale is either Latin-1\n",
       "or UTF-8.  The result will be in the current locale's encoding unless\n",
       "the corresponding input was in UTF-8, when it will be in UTF-8 when\n",
       "the system has Unicode wide characters.\n",
       "</p>\n",
       "\n",
       "\n",
       "<h3>See Also</h3>\n",
       "\n",
       "<p><code>sub</code> and <code>gsub</code> for other\n",
       "substitutions in strings.\n",
       "</p>\n",
       "\n",
       "\n",
       "<h3>Examples</h3>\n",
       "\n",
       "<pre>\n",
       "x &lt;- \"MiXeD cAsE 123\"\n",
       "chartr(\"iXs\", \"why\", x)\n",
       "chartr(\"a-cX\", \"D-Fw\", x)\n",
       "tolower(x)\n",
       "toupper(x)\n",
       "\n",
       "## \"Mixed Case\" Capitalizing - toupper( every first letter of a word ) :\n",
       "\n",
       ".simpleCap &lt;- function(x) {\n",
       "    s &lt;- strsplit(x, \" \")[[1]]\n",
       "    paste(toupper(substring(s, 1, 1)), substring(s, 2),\n",
       "          sep = \"\", collapse = \" \")\n",
       "}\n",
       ".simpleCap(\"the quick red fox jumps over the lazy brown dog\")\n",
       "## -&gt;  [1] \"The Quick Red Fox Jumps Over The Lazy Brown Dog\"\n",
       "\n",
       "## and the better, more sophisticated version:\n",
       "capwords &lt;- function(s, strict = FALSE) {\n",
       "    cap &lt;- function(s) paste(toupper(substring(s, 1, 1)),\n",
       "                  {s &lt;- substring(s, 2); if(strict) tolower(s) else s},\n",
       "                             sep = \"\", collapse = \" \" )\n",
       "    sapply(strsplit(s, split = \" \"), cap, USE.NAMES = !is.null(names(s)))\n",
       "}\n",
       "capwords(c(\"using AIC for model selection\"))\n",
       "## -&gt;  [1] \"Using AIC For Model Selection\"\n",
       "capwords(c(\"using AIC\", \"for MODEL selection\"), strict = TRUE)\n",
       "## -&gt;  [1] \"Using Aic\"  \"For Model Selection\"\n",
       "##                ^^^        ^^^^^\n",
       "##               'bad'       'good'\n",
       "\n",
       "## -- Very simple insecure crypto --\n",
       "rot &lt;- function(ch, k = 13) {\n",
       "   p0 &lt;- function(...) paste(c(...), collapse = \"\")\n",
       "   A &lt;- c(letters, LETTERS, \" '\")\n",
       "   I &lt;- seq_len(k); chartr(p0(A), p0(c(A[-I], A[I])), ch)\n",
       "}\n",
       "\n",
       "pw &lt;- \"my secret pass phrase\"\n",
       "(crypw &lt;- rot(pw, 13)) #-&gt; you can send this off\n",
       "\n",
       "## now ``decrypt'' :\n",
       "rot(crypw, 54 - 13) # -&gt; the original:\n",
       "stopifnot(identical(pw, rot(crypw, 54 - 13)))\n",
       "</pre>\n",
       "\n",
       "<hr /><div style=\"text-align: center;\">[Package <em>base</em> version 3.5.1 ]</div>"
      ],
      "text/latex": [
       "\\inputencoding{utf8}\n",
       "\\HeaderA{chartr}{Character Translation and Casefolding}{chartr}\n",
       "\\aliasA{casefold}{chartr}{casefold}\n",
       "\\aliasA{tolower}{chartr}{tolower}\n",
       "\\aliasA{toupper}{chartr}{toupper}\n",
       "\\keyword{character}{chartr}\n",
       "%\n",
       "\\begin{Description}\\relax\n",
       "Translate characters in character vectors, in particular from upper to\n",
       "lower case or vice versa.\n",
       "\\end{Description}\n",
       "%\n",
       "\\begin{Usage}\n",
       "\\begin{verbatim}\n",
       "chartr(old, new, x)\n",
       "tolower(x)\n",
       "toupper(x)\n",
       "casefold(x, upper = FALSE)\n",
       "\\end{verbatim}\n",
       "\\end{Usage}\n",
       "%\n",
       "\\begin{Arguments}\n",
       "\\begin{ldescription}\n",
       "\\item[\\code{x}] a character vector, or an object that can be coerced to\n",
       "character by \\code{\\LinkA{as.character}{as.character}}.\n",
       "\\item[\\code{old}] a character string specifying the characters to be\n",
       "translated.  If a character vector of length 2 or more is supplied,\n",
       "the first element is used with a warning.\n",
       "\\item[\\code{new}] a character string specifying the translations. If a\n",
       "character vector of length 2 or more is supplied, the first element\n",
       "is used with a warning.\n",
       "\\item[\\code{upper}] logical: translate to upper or lower case?.\n",
       "\\end{ldescription}\n",
       "\\end{Arguments}\n",
       "%\n",
       "\\begin{Details}\\relax\n",
       "\\code{chartr} translates each character in \\code{x} that is specified\n",
       "in \\code{old} to the corresponding character specified in \\code{new}.\n",
       "Ranges are supported in the specifications, but character classes and\n",
       "repeated characters are not.  If \\code{old} contains more characters\n",
       "than new, an error is signaled; if it contains fewer characters, the\n",
       "extra characters at the end of \\code{new} are ignored.\n",
       "\n",
       "\\code{tolower} and \\code{toupper} convert upper-case characters in a\n",
       "character vector to lower-case, or vice versa.  Non-alphabetic\n",
       "characters are left unchanged.\n",
       "\n",
       "\\code{casefold} is a wrapper for \\code{tolower} and \\code{toupper}\n",
       "provided for compatibility with S-PLUS.\n",
       "\\end{Details}\n",
       "%\n",
       "\\begin{Value}\n",
       "A character vector of the same length and with the same attributes as\n",
       "\\code{x} (after possible coercion).\n",
       "\n",
       "Elements of the result will be have the encoding declared as that of\n",
       "the current locale (see \\code{\\LinkA{Encoding}{Encoding}}) if the corresponding\n",
       "input had a declared encoding and the current locale is either Latin-1\n",
       "or UTF-8.  The result will be in the current locale's encoding unless\n",
       "the corresponding input was in UTF-8, when it will be in UTF-8 when\n",
       "the system has Unicode wide characters.\n",
       "\\end{Value}\n",
       "%\n",
       "\\begin{SeeAlso}\\relax\n",
       "\\code{\\LinkA{sub}{sub}} and \\code{\\LinkA{gsub}{gsub}} for other\n",
       "substitutions in strings.\n",
       "\\end{SeeAlso}\n",
       "%\n",
       "\\begin{Examples}\n",
       "\\begin{ExampleCode}\n",
       "x <- \"MiXeD cAsE 123\"\n",
       "chartr(\"iXs\", \"why\", x)\n",
       "chartr(\"a-cX\", \"D-Fw\", x)\n",
       "tolower(x)\n",
       "toupper(x)\n",
       "\n",
       "## \"Mixed Case\" Capitalizing - toupper( every first letter of a word ) :\n",
       "\n",
       ".simpleCap <- function(x) {\n",
       "    s <- strsplit(x, \" \")[[1]]\n",
       "    paste(toupper(substring(s, 1, 1)), substring(s, 2),\n",
       "          sep = \"\", collapse = \" \")\n",
       "}\n",
       ".simpleCap(\"the quick red fox jumps over the lazy brown dog\")\n",
       "## ->  [1] \"The Quick Red Fox Jumps Over The Lazy Brown Dog\"\n",
       "\n",
       "## and the better, more sophisticated version:\n",
       "capwords <- function(s, strict = FALSE) {\n",
       "    cap <- function(s) paste(toupper(substring(s, 1, 1)),\n",
       "                  {s <- substring(s, 2); if(strict) tolower(s) else s},\n",
       "                             sep = \"\", collapse = \" \" )\n",
       "    sapply(strsplit(s, split = \" \"), cap, USE.NAMES = !is.null(names(s)))\n",
       "}\n",
       "capwords(c(\"using AIC for model selection\"))\n",
       "## ->  [1] \"Using AIC For Model Selection\"\n",
       "capwords(c(\"using AIC\", \"for MODEL selection\"), strict = TRUE)\n",
       "## ->  [1] \"Using Aic\"  \"For Model Selection\"\n",
       "##                ^^^        ^^^^^\n",
       "##               'bad'       'good'\n",
       "\n",
       "## -- Very simple insecure crypto --\n",
       "rot <- function(ch, k = 13) {\n",
       "   p0 <- function(...) paste(c(...), collapse = \"\")\n",
       "   A <- c(letters, LETTERS, \" '\")\n",
       "   I <- seq_len(k); chartr(p0(A), p0(c(A[-I], A[I])), ch)\n",
       "}\n",
       "\n",
       "pw <- \"my secret pass phrase\"\n",
       "(crypw <- rot(pw, 13)) #-> you can send this off\n",
       "\n",
       "## now ``decrypt'' :\n",
       "rot(crypw, 54 - 13) # -> the original:\n",
       "stopifnot(identical(pw, rot(crypw, 54 - 13)))\n",
       "\\end{ExampleCode}\n",
       "\\end{Examples}"
      ],
      "text/plain": [
       "chartr                  package:base                   R Documentation\n",
       "\n",
       "_\bC_\bh_\ba_\br_\ba_\bc_\bt_\be_\br _\bT_\br_\ba_\bn_\bs_\bl_\ba_\bt_\bi_\bo_\bn _\ba_\bn_\bd _\bC_\ba_\bs_\be_\bf_\bo_\bl_\bd_\bi_\bn_\bg\n",
       "\n",
       "_\bD_\be_\bs_\bc_\br_\bi_\bp_\bt_\bi_\bo_\bn:\n",
       "\n",
       "     Translate characters in character vectors, in particular from\n",
       "     upper to lower case or vice versa.\n",
       "\n",
       "_\bU_\bs_\ba_\bg_\be:\n",
       "\n",
       "     chartr(old, new, x)\n",
       "     tolower(x)\n",
       "     toupper(x)\n",
       "     casefold(x, upper = FALSE)\n",
       "     \n",
       "_\bA_\br_\bg_\bu_\bm_\be_\bn_\bt_\bs:\n",
       "\n",
       "       x: a character vector, or an object that can be coerced to\n",
       "          character by ‘as.character’.\n",
       "\n",
       "     old: a character string specifying the characters to be\n",
       "          translated.  If a character vector of length 2 or more is\n",
       "          supplied, the first element is used with a warning.\n",
       "\n",
       "     new: a character string specifying the translations. If a\n",
       "          character vector of length 2 or more is supplied, the first\n",
       "          element is used with a warning.\n",
       "\n",
       "   upper: logical: translate to upper or lower case?.\n",
       "\n",
       "_\bD_\be_\bt_\ba_\bi_\bl_\bs:\n",
       "\n",
       "     ‘chartr’ translates each character in ‘x’ that is specified in\n",
       "     ‘old’ to the corresponding character specified in ‘new’.  Ranges\n",
       "     are supported in the specifications, but character classes and\n",
       "     repeated characters are not.  If ‘old’ contains more characters\n",
       "     than new, an error is signaled; if it contains fewer characters,\n",
       "     the extra characters at the end of ‘new’ are ignored.\n",
       "\n",
       "     ‘tolower’ and ‘toupper’ convert upper-case characters in a\n",
       "     character vector to lower-case, or vice versa.  Non-alphabetic\n",
       "     characters are left unchanged.\n",
       "\n",
       "     ‘casefold’ is a wrapper for ‘tolower’ and ‘toupper’ provided for\n",
       "     compatibility with S-PLUS.\n",
       "\n",
       "_\bV_\ba_\bl_\bu_\be:\n",
       "\n",
       "     A character vector of the same length and with the same attributes\n",
       "     as ‘x’ (after possible coercion).\n",
       "\n",
       "     Elements of the result will be have the encoding declared as that\n",
       "     of the current locale (see ‘Encoding’) if the corresponding input\n",
       "     had a declared encoding and the current locale is either Latin-1\n",
       "     or UTF-8.  The result will be in the current locale's encoding\n",
       "     unless the corresponding input was in UTF-8, when it will be in\n",
       "     UTF-8 when the system has Unicode wide characters.\n",
       "\n",
       "_\bS_\be_\be _\bA_\bl_\bs_\bo:\n",
       "\n",
       "     ‘sub’ and ‘gsub’ for other substitutions in strings.\n",
       "\n",
       "_\bE_\bx_\ba_\bm_\bp_\bl_\be_\bs:\n",
       "\n",
       "     x <- \"MiXeD cAsE 123\"\n",
       "     chartr(\"iXs\", \"why\", x)\n",
       "     chartr(\"a-cX\", \"D-Fw\", x)\n",
       "     tolower(x)\n",
       "     toupper(x)\n",
       "     \n",
       "     ## \"Mixed Case\" Capitalizing - toupper( every first letter of a word ) :\n",
       "     \n",
       "     .simpleCap <- function(x) {\n",
       "         s <- strsplit(x, \" \")[[1]]\n",
       "         paste(toupper(substring(s, 1, 1)), substring(s, 2),\n",
       "               sep = \"\", collapse = \" \")\n",
       "     }\n",
       "     .simpleCap(\"the quick red fox jumps over the lazy brown dog\")\n",
       "     ## ->  [1] \"The Quick Red Fox Jumps Over The Lazy Brown Dog\"\n",
       "     \n",
       "     ## and the better, more sophisticated version:\n",
       "     capwords <- function(s, strict = FALSE) {\n",
       "         cap <- function(s) paste(toupper(substring(s, 1, 1)),\n",
       "                       {s <- substring(s, 2); if(strict) tolower(s) else s},\n",
       "                                  sep = \"\", collapse = \" \" )\n",
       "         sapply(strsplit(s, split = \" \"), cap, USE.NAMES = !is.null(names(s)))\n",
       "     }\n",
       "     capwords(c(\"using AIC for model selection\"))\n",
       "     ## ->  [1] \"Using AIC For Model Selection\"\n",
       "     capwords(c(\"using AIC\", \"for MODEL selection\"), strict = TRUE)\n",
       "     ## ->  [1] \"Using Aic\"  \"For Model Selection\"\n",
       "     ##                ^^^        ^^^^^\n",
       "     ##               'bad'       'good'\n",
       "     \n",
       "     ## -- Very simple insecure crypto --\n",
       "     rot <- function(ch, k = 13) {\n",
       "        p0 <- function(...) paste(c(...), collapse = \"\")\n",
       "        A <- c(letters, LETTERS, \" '\")\n",
       "        I <- seq_len(k); chartr(p0(A), p0(c(A[-I], A[I])), ch)\n",
       "     }\n",
       "     \n",
       "     pw <- \"my secret pass phrase\"\n",
       "     (crypw <- rot(pw, 13)) #-> you can send this off\n",
       "     \n",
       "     ## now ``decrypt'' :\n",
       "     rot(crypw, 54 - 13) # -> the original:\n",
       "     stopifnot(identical(pw, rot(crypw, 54 - 13)))\n",
       "     "
      ]
     },
     "metadata": {},
     "output_type": "display_data"
    }
   ],
   "source": [
    "help(chartr)"
   ]
  },
  {
   "cell_type": "code",
   "execution_count": 101,
   "metadata": {},
   "outputs": [],
   "source": [
    "char_list = strsplit(s, \" \")"
   ]
  },
  {
   "cell_type": "code",
   "execution_count": 102,
   "metadata": {},
   "outputs": [
    {
     "data": {
      "text/html": [
       "<style>\n",
       ".list-inline {list-style: none; margin:0; padding: 0}\n",
       ".list-inline>li {display: inline-block}\n",
       ".list-inline>li:not(:last-child)::after {content: \"\\00b7\"; padding: 0 .5ex}\n",
       "</style>\n",
       "<ol class=list-inline><li>'this'</li><li>'is'</li><li>'a'</li><li>'string'</li></ol>\n"
      ],
      "text/latex": [
       "\\begin{enumerate*}\n",
       "\\item 'this'\n",
       "\\item 'is'\n",
       "\\item 'a'\n",
       "\\item 'string'\n",
       "\\end{enumerate*}\n"
      ],
      "text/markdown": [
       "1. 'this'\n",
       "2. 'is'\n",
       "3. 'a'\n",
       "4. 'string'\n",
       "\n",
       "\n"
      ],
      "text/plain": [
       "[1] \"this\"   \"is\"     \"a\"      \"string\""
      ]
     },
     "metadata": {},
     "output_type": "display_data"
    }
   ],
   "source": [
    "word_list = unlist(char_list)\n",
    "word_list"
   ]
  },
  {
   "cell_type": "code",
   "execution_count": 103,
   "metadata": {},
   "outputs": [
    {
     "data": {
      "text/html": [
       "<style>\n",
       ".list-inline {list-style: none; margin:0; padding: 0}\n",
       ".list-inline>li {display: inline-block}\n",
       ".list-inline>li:not(:last-child)::after {content: \"\\00b7\"; padding: 0 .5ex}\n",
       "</style>\n",
       "<ol class=list-inline><li>'a'</li><li>'is'</li><li>'string'</li><li>'this'</li></ol>\n"
      ],
      "text/latex": [
       "\\begin{enumerate*}\n",
       "\\item 'a'\n",
       "\\item 'is'\n",
       "\\item 'string'\n",
       "\\item 'this'\n",
       "\\end{enumerate*}\n"
      ],
      "text/markdown": [
       "1. 'a'\n",
       "2. 'is'\n",
       "3. 'string'\n",
       "4. 'this'\n",
       "\n",
       "\n"
      ],
      "text/plain": [
       "[1] \"a\"      \"is\"     \"string\" \"this\"  "
      ]
     },
     "metadata": {},
     "output_type": "display_data"
    }
   ],
   "source": [
    "sort(word_list)"
   ]
  },
  {
   "cell_type": "code",
   "execution_count": 104,
   "metadata": {},
   "outputs": [
    {
     "data": {
      "text/html": [
       "<style>\n",
       ".list-inline {list-style: none; margin:0; padding: 0}\n",
       ".list-inline>li {display: inline-block}\n",
       ".list-inline>li:not(:last-child)::after {content: \"\\00b7\"; padding: 0 .5ex}\n",
       "</style>\n",
       "<ol class=list-inline><li>'this'</li><li>'string'</li><li>'is'</li><li>'a'</li></ol>\n"
      ],
      "text/latex": [
       "\\begin{enumerate*}\n",
       "\\item 'this'\n",
       "\\item 'string'\n",
       "\\item 'is'\n",
       "\\item 'a'\n",
       "\\end{enumerate*}\n"
      ],
      "text/markdown": [
       "1. 'this'\n",
       "2. 'string'\n",
       "3. 'is'\n",
       "4. 'a'\n",
       "\n",
       "\n"
      ],
      "text/plain": [
       "[1] \"this\"   \"string\" \"is\"     \"a\"     "
      ]
     },
     "metadata": {},
     "output_type": "display_data"
    }
   ],
   "source": [
    "sort(word_list, decreasing=TRUE)"
   ]
  },
  {
   "cell_type": "markdown",
   "metadata": {},
   "source": [
    "### DATE TIME"
   ]
  },
  {
   "cell_type": "code",
   "execution_count": 105,
   "metadata": {},
   "outputs": [
    {
     "name": "stdout",
     "output_type": "stream",
     "text": [
      "[1] \"Sat Jan  9 03:58:09 2021\"\n"
     ]
    }
   ],
   "source": [
    "print(date())"
   ]
  },
  {
   "cell_type": "code",
   "execution_count": 107,
   "metadata": {},
   "outputs": [
    {
     "name": "stdout",
     "output_type": "stream",
     "text": [
      "[1] \"2021-01-09\"\n"
     ]
    }
   ],
   "source": [
    "print(Sys.Date())"
   ]
  },
  {
   "cell_type": "code",
   "execution_count": 108,
   "metadata": {},
   "outputs": [],
   "source": [
    "d1 = \"20-10-2020\""
   ]
  },
  {
   "cell_type": "code",
   "execution_count": 109,
   "metadata": {},
   "outputs": [
    {
     "data": {
      "text/html": [
       "'20-10-2020'"
      ],
      "text/latex": [
       "'20-10-2020'"
      ],
      "text/markdown": [
       "'20-10-2020'"
      ],
      "text/plain": [
       "[1] \"20-10-2020\""
      ]
     },
     "metadata": {},
     "output_type": "display_data"
    }
   ],
   "source": [
    "d1"
   ]
  },
  {
   "cell_type": "code",
   "execution_count": 113,
   "metadata": {},
   "outputs": [
    {
     "data": {
      "text/html": [
       "<time datetime=\"2020-10-20\">2020-10-20</time>"
      ],
      "text/latex": [
       "2020-10-20"
      ],
      "text/markdown": [
       "2020-10-20"
      ],
      "text/plain": [
       "[1] \"2020-10-20\""
      ]
     },
     "metadata": {},
     "output_type": "display_data"
    }
   ],
   "source": [
    "as.Date(d1, format(\"%d-%m-%Y\"))"
   ]
  },
  {
   "cell_type": "code",
   "execution_count": 114,
   "metadata": {},
   "outputs": [
    {
     "data": {
      "text/html": [
       "'09/01/2021'"
      ],
      "text/latex": [
       "'09/01/2021'"
      ],
      "text/markdown": [
       "'09/01/2021'"
      ],
      "text/plain": [
       "[1] \"09/01/2021\""
      ]
     },
     "metadata": {},
     "output_type": "display_data"
    }
   ],
   "source": [
    "format(Sys.Date(), \"%d/%m/%Y\")"
   ]
  },
  {
   "cell_type": "code",
   "execution_count": 115,
   "metadata": {},
   "outputs": [
    {
     "name": "stdout",
     "output_type": "stream",
     "text": [
      "\n",
      "difftm> ## No test: \n",
      "difftm> ##D (z <- Sys.time() - 3600)\n",
      "difftm> ##D Sys.time() - z                # just over 3600 seconds.\n",
      "difftm> ##D \n",
      "difftm> ##D ## time interval between release days of R 1.2.2 and 1.2.3.\n",
      "difftm> ##D ISOdate(2001, 4, 26) - ISOdate(2001, 2, 26)\n",
      "difftm> ##D \n",
      "difftm> ##D as.difftime(c(\"0:3:20\", \"11:23:15\"))\n",
      "difftm> ##D as.difftime(c(\"3:20\", \"23:15\", \"2:\"), format = \"%H:%M\") # 3rd gives NA\n",
      "difftm> ##D (z <- as.difftime(c(0,30,60), units = \"mins\"))\n",
      "difftm> ##D as.numeric(z, units = \"secs\")\n",
      "difftm> ##D as.numeric(z, units = \"hours\")\n",
      "difftm> ##D format(z)\n",
      "difftm> ## End(No test)\n",
      "difftm> \n",
      "difftm> \n"
     ]
    }
   ],
   "source": [
    "example(difftime)"
   ]
  },
  {
   "cell_type": "code",
   "execution_count": null,
   "metadata": {},
   "outputs": [],
   "source": []
  }
 ],
 "metadata": {
  "kernelspec": {
   "display_name": "R",
   "language": "R",
   "name": "conda-env-r-r"
  },
  "language_info": {
   "codemirror_mode": "r",
   "file_extension": ".r",
   "mimetype": "text/x-r-source",
   "name": "R",
   "pygments_lexer": "r",
   "version": "3.5.1"
  }
 },
 "nbformat": 4,
 "nbformat_minor": 4
}
