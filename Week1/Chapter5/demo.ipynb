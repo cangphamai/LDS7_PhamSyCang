{
 "cells": [
  {
   "cell_type": "code",
   "execution_count": null,
   "metadata": {},
   "outputs": [],
   "source": [
    "v = c(1:100)\n",
    "summary(v)"
   ]
  },
  {
   "cell_type": "code",
   "execution_count": null,
   "metadata": {},
   "outputs": [],
   "source": [
    "sum(v)"
   ]
  },
  {
   "cell_type": "code",
   "execution_count": null,
   "metadata": {},
   "outputs": [],
   "source": [
    "library()"
   ]
  },
  {
   "cell_type": "code",
   "execution_count": null,
   "metadata": {},
   "outputs": [],
   "source": [
    "help(sum)"
   ]
  },
  {
   "cell_type": "code",
   "execution_count": null,
   "metadata": {},
   "outputs": [],
   "source": [
    "sum_even.func = function(start, end){\n",
    "    sum_even = 0\n",
    "    for(i in start:end){\n",
    "        if(i%% 2==0){\n",
    "            sum_even = sum_even + i\n",
    "        }\n",
    "    }\n",
    "    return (sum_even)\n",
    "}"
   ]
  },
  {
   "cell_type": "code",
   "execution_count": null,
   "metadata": {},
   "outputs": [],
   "source": [
    "tong = sum_even.func(1, 10)\n",
    "print(tong)"
   ]
  },
  {
   "cell_type": "code",
   "execution_count": 2,
   "metadata": {},
   "outputs": [],
   "source": [
    "doanso.func = function(input_num, random_num){    \n",
    "    chuoi = \"\"\n",
    "    if(input_num > random_num){\n",
    "        chuoi = paste(\"your number\", input_num, \"> our number\", random_num)\n",
    "    }\n",
    "    if(input_num < random_num){\n",
    "        chuoi = paste(\"your number\", input_num, \"< our number\", random_num)\n",
    "    }\n",
    "    if(input_num == random_num){\n",
    "        chuoi = paste(\"your number\", input_num, \"= our number\", random_num, \"=> you win\")        \n",
    "    }\n",
    "    return (chuoi)\n",
    "}"
   ]
  },
  {
   "cell_type": "code",
   "execution_count": 3,
   "metadata": {},
   "outputs": [
    {
     "name": "stdin",
     "output_type": "stream",
     "text": [
      "nhap 1 so tu 1-> 10: 2\n"
     ]
    },
    {
     "name": "stderr",
     "output_type": "stream",
     "text": [
      "your number 2 < our number 8\n"
     ]
    },
    {
     "name": "stdin",
     "output_type": "stream",
     "text": [
      "Ban co muon dung ko (Y/N) 5\n",
      "nhap 1 so tu 1-> 10: 2\n"
     ]
    },
    {
     "name": "stderr",
     "output_type": "stream",
     "text": [
      "your number 2 < our number 7\n"
     ]
    },
    {
     "name": "stdin",
     "output_type": "stream",
     "text": [
      "Ban co muon dung ko (Y/N) n\n",
      "nhap 1 so tu 1-> 10: 6\n"
     ]
    },
    {
     "name": "stderr",
     "output_type": "stream",
     "text": [
      "your number 6 = our number 6 => you win\n"
     ]
    },
    {
     "name": "stdin",
     "output_type": "stream",
     "text": [
      "Ban co muon dung ko (Y/N) y\n"
     ]
    }
   ],
   "source": [
    "repeat{\n",
    "    random_num = round(runif(1, min=1, max=10), 0)    \n",
    "    input_num = as.numeric(readline(\"nhap 1 so tu 1-> 10:\"))\n",
    "    chuoi = doanso.func(input_num, random_num)\n",
    "    message(chuoi)\n",
    "    dung = readline(\"Ban co muon dung ko (Y/N)\")\n",
    "    if(dung == 'y'){\n",
    "        break\n",
    "    }\n",
    "}"
   ]
  },
  {
   "cell_type": "code",
   "execution_count": null,
   "metadata": {},
   "outputs": [],
   "source": []
  },
  {
   "cell_type": "code",
   "execution_count": null,
   "metadata": {},
   "outputs": [],
   "source": []
  }
 ],
 "metadata": {
  "kernelspec": {
   "display_name": "R",
   "language": "R",
   "name": "conda-env-r-r"
  },
  "language_info": {
   "codemirror_mode": "r",
   "file_extension": ".r",
   "mimetype": "text/x-r-source",
   "name": "R",
   "pygments_lexer": "r",
   "version": "3.5.1"
  }
 },
 "nbformat": 4,
 "nbformat_minor": 4
}
