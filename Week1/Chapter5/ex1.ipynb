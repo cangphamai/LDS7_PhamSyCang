{
 "cells": [
  {
   "cell_type": "code",
   "execution_count": 12,
   "metadata": {},
   "outputs": [],
   "source": [
    "source(\"functions.R\")"
   ]
  },
  {
   "cell_type": "code",
   "execution_count": 14,
   "metadata": {},
   "outputs": [
    {
     "name": "stdin",
     "output_type": "stream",
     "text": [
      "nhap chiu cao: 1.7\n",
      "Nhap can nang: 70\n"
     ]
    },
    {
     "name": "stdout",
     "output_type": "stream",
     "text": [
      "[1] \"BMI: 24.2214532871972\"\n",
      "[1] \"KQ: binh thuong\"\n"
     ]
    }
   ],
   "source": [
    "height = as.numeric(readline(\"nhap chiu cao:\"))\n",
    "weight = as.numeric(readline(\"Nhap can nang:\"))\n",
    "bmi = bmi.func(height, weight)\n",
    "danh_gia = danh_gia_bmi.function(bmi)\n",
    "print(paste(\"BMI:\", bmi))\n",
    "print(paste(\"KQ:\", danh_gia))"
   ]
  },
  {
   "cell_type": "code",
   "execution_count": null,
   "metadata": {},
   "outputs": [],
   "source": []
  }
 ],
 "metadata": {
  "kernelspec": {
   "display_name": "R",
   "language": "R",
   "name": "conda-env-r-r"
  },
  "language_info": {
   "codemirror_mode": "r",
   "file_extension": ".r",
   "mimetype": "text/x-r-source",
   "name": "R",
   "pygments_lexer": "r",
   "version": "3.5.1"
  }
 },
 "nbformat": 4,
 "nbformat_minor": 4
}
