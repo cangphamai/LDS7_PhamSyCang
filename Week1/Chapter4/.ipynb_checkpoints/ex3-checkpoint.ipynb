{
 "cells": [
  {
   "cell_type": "code",
   "execution_count": 1,
   "metadata": {},
   "outputs": [
    {
     "name": "stdin",
     "output_type": "stream",
     "text": [
      "Nhap n: 5\n"
     ]
    }
   ],
   "source": [
    "n = as.numeric(readline(\"Nhap n:\"))"
   ]
  },
  {
   "cell_type": "code",
   "execution_count": 2,
   "metadata": {},
   "outputs": [
    {
     "name": "stdout",
     "output_type": "stream",
     "text": [
      " \n",
      " 5 x 1 = 5 \n",
      " 5 x 2 = 10 \n",
      " 5 x 3 = 15 \n",
      " 5 x 4 = 20 \n",
      " 5 x 5 = 25 \n",
      " 5 x 6 = 30 \n",
      " 5 x 7 = 35 \n",
      " 5 x 8 = 40 \n",
      " 5 x 9 = 45"
     ]
    }
   ],
   "source": [
    "s = \"\"\n",
    "danh_sach = c(1,2,3,4,5,6,7,8,9)\n",
    "for(i in danh_sach){\n",
    "    s = paste(s, \"\\n\",n, \"x\", i, \"=\", n*i)\n",
    "}\n",
    "cat(s)"
   ]
  },
  {
   "cell_type": "code",
   "execution_count": null,
   "metadata": {},
   "outputs": [],
   "source": []
  }
 ],
 "metadata": {
  "kernelspec": {
   "display_name": "R",
   "language": "R",
   "name": "conda-env-r-r"
  },
  "language_info": {
   "codemirror_mode": "r",
   "file_extension": ".r",
   "mimetype": "text/x-r-source",
   "name": "R",
   "pygments_lexer": "r",
   "version": "3.5.1"
  }
 },
 "nbformat": 4,
 "nbformat_minor": 4
}
