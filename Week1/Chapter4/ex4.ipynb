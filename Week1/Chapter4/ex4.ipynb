{
 "cells": [
  {
   "cell_type": "code",
   "execution_count": 1,
   "metadata": {},
   "outputs": [
    {
     "name": "stdin",
     "output_type": "stream",
     "text": [
      "Nhap n: 5\n"
     ]
    }
   ],
   "source": [
    "n = as.numeric(readline(\"Nhap n:\"))"
   ]
  },
  {
   "cell_type": "code",
   "execution_count": 2,
   "metadata": {},
   "outputs": [],
   "source": [
    "begin =1\n",
    "s = \"\"\n",
    "sum_primes = 0"
   ]
  },
  {
   "cell_type": "code",
   "execution_count": 4,
   "metadata": {},
   "outputs": [
    {
     "name": "stdout",
     "output_type": "stream",
     "text": [
      "sum of primes:  2 + = 2"
     ]
    }
   ],
   "source": [
    "while(begin <=n){\n",
    "    i =1\n",
    "    count = 0\n",
    "    while(i <=begin){\n",
    "        if(begin%%i==0){\n",
    "            count = count +1\n",
    "        }\n",
    "        i = i+i\n",
    "    }\n",
    "    if(count ==2){\n",
    "        sum_primes = sum_primes +begin\n",
    "        s = paste(s, begin, \"+\")\n",
    "    }\n",
    "    begin  = begin +1\n",
    "}\n",
    "s = paste(\"sum of primes:\", s, \"=\", sum_primes)\n",
    "cat(s)"
   ]
  },
  {
   "cell_type": "code",
   "execution_count": null,
   "metadata": {},
   "outputs": [],
   "source": []
  }
 ],
 "metadata": {
  "kernelspec": {
   "display_name": "R",
   "language": "R",
   "name": "conda-env-r-r"
  },
  "language_info": {
   "codemirror_mode": "r",
   "file_extension": ".r",
   "mimetype": "text/x-r-source",
   "name": "R",
   "pygments_lexer": "r",
   "version": "3.5.1"
  }
 },
 "nbformat": 4,
 "nbformat_minor": 4
}
