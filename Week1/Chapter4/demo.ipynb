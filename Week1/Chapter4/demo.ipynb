{
 "cells": [
  {
   "cell_type": "markdown",
   "metadata": {},
   "source": [
    "#### REpeat"
   ]
  },
  {
   "cell_type": "code",
   "execution_count": null,
   "metadata": {},
   "outputs": [],
   "source": [
    "start = 1\n",
    "repeat{\n",
    "    print(paste(\"time:\", start))\n",
    "    start = start + 1\n",
    "    if(start >=5){\n",
    "        break\n",
    "    }\n",
    "}"
   ]
  },
  {
   "cell_type": "code",
   "execution_count": 1,
   "metadata": {},
   "outputs": [
    {
     "name": "stdin",
     "output_type": "stream",
     "text": [
      "Nhap Diem: 4\n"
     ]
    },
    {
     "name": "stderr",
     "output_type": "stream",
     "text": [
      "fail\n"
     ]
    },
    {
     "name": "stdin",
     "output_type": "stream",
     "text": [
      "Ban co muon dung ko (Y/N) n\n",
      "Nhap Diem: 3\n"
     ]
    },
    {
     "name": "stderr",
     "output_type": "stream",
     "text": [
      "fail\n"
     ]
    },
    {
     "name": "stdin",
     "output_type": "stream",
     "text": [
      "Ban co muon dung ko (Y/N) y\n"
     ]
    }
   ],
   "source": [
    "repeat{\n",
    "    marks = as.numeric(readline(\"Nhap Diem:\"))\n",
    "    if(marks >=5){\n",
    "        message(\"pass\")\n",
    "    } else {\n",
    "        message(\"fail\")\n",
    "    }\n",
    "    dung = readline(\"Ban co muon dung ko (Y/N)\")\n",
    "    if(dung == 'y'){\n",
    "        break\n",
    "    }\n",
    "}\n"
   ]
  },
  {
   "cell_type": "markdown",
   "metadata": {},
   "source": [
    "#### WHILE"
   ]
  },
  {
   "cell_type": "code",
   "execution_count": 4,
   "metadata": {},
   "outputs": [
    {
     "name": "stdout",
     "output_type": "stream",
     "text": [
      "[1] \"time: 1\"\n",
      "[1] \"time: 2\"\n",
      "[1] \"time: 3\"\n",
      "[1] \"time: 4\"\n",
      "[1] \"time: 5\"\n"
     ]
    }
   ],
   "source": [
    "start = 1\n",
    "while(start <6){\n",
    "    print(paste(\"time:\", start))\n",
    "    start = start + 1\n",
    "}"
   ]
  },
  {
   "cell_type": "code",
   "execution_count": 6,
   "metadata": {},
   "outputs": [
    {
     "name": "stdin",
     "output_type": "stream",
     "text": [
      "Nhap Diem: 7\n"
     ]
    },
    {
     "name": "stderr",
     "output_type": "stream",
     "text": [
      "pass\n"
     ]
    },
    {
     "name": "stdin",
     "output_type": "stream",
     "text": [
      "Ban co muon dung ko (Y/N) n\n",
      "Nhap Diem: 3\n"
     ]
    },
    {
     "name": "stderr",
     "output_type": "stream",
     "text": [
      "fail\n"
     ]
    },
    {
     "name": "stdin",
     "output_type": "stream",
     "text": [
      "Ban co muon dung ko (Y/N) y\n"
     ]
    }
   ],
   "source": [
    "dung = \"n\"\n",
    "while(dung == \"n\"){\n",
    "    marks = as.numeric(readline(\"Nhap Diem:\"))\n",
    "    if(marks >=5){\n",
    "        message(\"pass\")\n",
    "    } else {\n",
    "        message(\"fail\")\n",
    "    }\n",
    "    dung = readline(\"Ban co muon dung ko (Y/N)\")    \n",
    "}\n"
   ]
  },
  {
   "cell_type": "markdown",
   "metadata": {},
   "source": [
    "#### FOR"
   ]
  },
  {
   "cell_type": "code",
   "execution_count": 7,
   "metadata": {},
   "outputs": [
    {
     "name": "stdout",
     "output_type": "stream",
     "text": [
      "[1] \"A\"\n",
      "[1] \"B\"\n",
      "[1] \"C\"\n",
      "[1] \"D\"\n",
      "[1] \"E\"\n",
      "[1] \"F\"\n",
      "[1] \"G\"\n",
      "[1] \"H\"\n",
      "[1] \"I\"\n",
      "[1] \"J\"\n"
     ]
    }
   ],
   "source": [
    "v = LETTERS[1:10]\n",
    "for(c in v){\n",
    "    print(c)\n",
    "}"
   ]
  },
  {
   "cell_type": "code",
   "execution_count": 8,
   "metadata": {},
   "outputs": [
    {
     "name": "stdout",
     "output_type": "stream",
     "text": [
      "[1] \"xanh\"\n",
      "[1] \"do\"\n",
      "[1] \"tim\"\n",
      "[1] \"vang\"\n"
     ]
    }
   ],
   "source": [
    "colors = c(\"xanh\", \"do\", \"tim\", \"vang\")\n",
    "for(c in colors){\n",
    "    print(c)\n",
    "}"
   ]
  },
  {
   "cell_type": "code",
   "execution_count": 12,
   "metadata": {},
   "outputs": [
    {
     "name": "stdout",
     "output_type": "stream",
     "text": [
      "[1] \" A B C D E F G H I J\"\n"
     ]
    }
   ],
   "source": [
    "v = LETTERS[1:10]\n",
    "chuoi = ''\n",
    "for(c in v){\n",
    "    chuoi = paste(chuoi, c, sep=\" \")    \n",
    "}\n",
    "print(chuoi)"
   ]
  },
  {
   "cell_type": "code",
   "execution_count": 15,
   "metadata": {},
   "outputs": [
    {
     "name": "stdout",
     "output_type": "stream",
     "text": [
      "[1] \"A\"\n",
      "[1] \"C\"\n",
      "[1] \"D\"\n",
      "[1] \"F\"\n",
      "[1] \"G\"\n",
      "[1] \"H\"\n",
      "[1] \"I\"\n",
      "[1] \"J\"\n",
      "[1] \"K\"\n",
      "[1] \"L\"\n",
      "[1] \"N\"\n",
      "[1] \"O\"\n",
      "[1] \"P\"\n",
      "[1] \"Q\"\n",
      "[1] \"R\"\n",
      "[1] \"T\"\n",
      "[1] \"U\"\n",
      "[1] \"V\"\n",
      "[1] \"W\"\n",
      "[1] \"X\"\n",
      "[1] \"Y\"\n",
      "[1] \"Z\"\n"
     ]
    }
   ],
   "source": [
    "l = LETTERS\n",
    "for(s in l){\n",
    "    if(s != 'B' && s != 'M' && s != 'E' && s!= 'S'){\n",
    "        print(s)\n",
    "    }\n",
    "}"
   ]
  },
  {
   "cell_type": "code",
   "execution_count": 17,
   "metadata": {},
   "outputs": [
    {
     "name": "stdout",
     "output_type": "stream",
     "text": [
      "[1] \"A\"\n",
      "[1] \"C\"\n",
      "[1] \"D\"\n",
      "[1] \"F\"\n",
      "[1] \"G\"\n",
      "[1] \"H\"\n",
      "[1] \"I\"\n",
      "[1] \"J\"\n",
      "[1] \"K\"\n",
      "[1] \"L\"\n",
      "[1] \"N\"\n",
      "[1] \"O\"\n",
      "[1] \"P\"\n",
      "[1] \"Q\"\n",
      "[1] \"R\"\n",
      "[1] \"T\"\n",
      "[1] \"U\"\n",
      "[1] \"V\"\n",
      "[1] \"W\"\n",
      "[1] \"X\"\n",
      "[1] \"Y\"\n",
      "[1] \"Z\"\n"
     ]
    }
   ],
   "source": [
    "for(s in l){\n",
    "    if(s == 'B' || s == 'M' || s == 'E' || s== 'S'){\n",
    "        next\n",
    "    }\n",
    "    print(s)\n",
    "}"
   ]
  },
  {
   "cell_type": "code",
   "execution_count": null,
   "metadata": {},
   "outputs": [],
   "source": []
  }
 ],
 "metadata": {
  "kernelspec": {
   "display_name": "R",
   "language": "R",
   "name": "conda-env-r-r"
  },
  "language_info": {
   "codemirror_mode": "r",
   "file_extension": ".r",
   "mimetype": "text/x-r-source",
   "name": "R",
   "pygments_lexer": "r",
   "version": "3.5.1"
  }
 },
 "nbformat": 4,
 "nbformat_minor": 4
}
