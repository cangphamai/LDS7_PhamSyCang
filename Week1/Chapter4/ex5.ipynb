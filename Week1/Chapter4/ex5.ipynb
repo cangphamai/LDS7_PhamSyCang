{
 "cells": [
  {
   "cell_type": "code",
   "execution_count": 5,
   "metadata": {},
   "outputs": [
    {
     "name": "stdin",
     "output_type": "stream",
     "text": [
      "nhap 1 so tu 1-> 10: 5\n"
     ]
    },
    {
     "name": "stderr",
     "output_type": "stream",
     "text": [
      "your number 5 > our number 3\n"
     ]
    },
    {
     "name": "stdin",
     "output_type": "stream",
     "text": [
      "Ban co muon dung ko (Y/N) n\n",
      "nhap 1 so tu 1-> 10: 2\n"
     ]
    },
    {
     "name": "stderr",
     "output_type": "stream",
     "text": [
      "your number 2 < our number 9\n"
     ]
    },
    {
     "name": "stdin",
     "output_type": "stream",
     "text": [
      "Ban co muon dung ko (Y/N) n\n",
      "nhap 1 so tu 1-> 10: 8\n"
     ]
    },
    {
     "name": "stderr",
     "output_type": "stream",
     "text": [
      "your number 8 > our number 2\n"
     ]
    },
    {
     "name": "stdin",
     "output_type": "stream",
     "text": [
      "Ban co muon dung ko (Y/N) n\n",
      "nhap 1 so tu 1-> 10: 6\n"
     ]
    },
    {
     "name": "stderr",
     "output_type": "stream",
     "text": [
      "your number 6 = our number 6 => you win\n"
     ]
    }
   ],
   "source": [
    "repeat{\n",
    "    # Get a vector of 3 numbers from 0 to 10\n",
    "    random_num = round(runif(1, min=1, max=10), 0)\n",
    "    input_num = as.numeric(readline(\"nhap 1 so tu 1-> 10:\"))\n",
    "    if(input_num > random_num){\n",
    "        message(paste(\"your number\", input_num, \"> our number\", random_num))\n",
    "    }\n",
    "    if(input_num < random_num){\n",
    "        message(paste(\"your number\", input_num, \"< our number\", random_num))\n",
    "    }\n",
    "    if(input_num == random_num){\n",
    "        message(paste(\"your number\", input_num, \"= our number\", random_num, \"=> you win\"))\n",
    "        break\n",
    "    }\n",
    "    \n",
    "    dung = readline(\"Ban co muon dung ko (Y/N)\")\n",
    "    if(dung == 'y'){\n",
    "        break\n",
    "    }\n",
    "}\n",
    "\n"
   ]
  },
  {
   "cell_type": "code",
   "execution_count": null,
   "metadata": {},
   "outputs": [],
   "source": []
  }
 ],
 "metadata": {
  "kernelspec": {
   "display_name": "R",
   "language": "R",
   "name": "conda-env-r-r"
  },
  "language_info": {
   "codemirror_mode": "r",
   "file_extension": ".r",
   "mimetype": "text/x-r-source",
   "name": "R",
   "pygments_lexer": "r",
   "version": "3.5.1"
  }
 },
 "nbformat": 4,
 "nbformat_minor": 4
}
