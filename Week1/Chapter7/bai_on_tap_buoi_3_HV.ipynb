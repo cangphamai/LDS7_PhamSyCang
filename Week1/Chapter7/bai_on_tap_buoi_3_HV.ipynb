{
 "cells": [
  {
   "cell_type": "markdown",
   "metadata": {
    "id": "SKG2ETcPTLTy"
   },
   "source": [
    "# Review Chapter 6 & 7"
   ]
  },
  {
   "cell_type": "code",
   "execution_count": 2,
   "metadata": {
    "id": "FvZrjfhWE-IM"
   },
   "outputs": [
    {
     "name": "stdout",
     "output_type": "stream",
     "text": [
      "[1] R R L L R R C C\n",
      "Levels: C L R\n",
      "[1] \"C\" \"L\" \"R\"\n",
      "[1] 3\n"
     ]
    }
   ],
   "source": [
    "## Ex1\n",
    "# Definition of survey_vector\n",
    "survey_vector <- c(\"R\", \"R\", \"L\", \"L\", \"R\", \"R\", \"C\", \"C\")\n",
    "\n",
    "# Encode survey_vector as a factor: survey_factor\n",
    "factor_survey = factor(survey_vector)\n",
    "# Print survey_factor\n",
    "print(factor_survey)\n",
    "# Print levels of survey_factor\n",
    "print(levels(factor_survey))\n",
    "# Print nlevels of survey_factor\n",
    "print(nlevels(factor_survey))\n",
    "# How many elements of each factor?\n"
   ]
  },
  {
   "cell_type": "code",
   "execution_count": 3,
   "metadata": {
    "id": "3ukM4r2lKoJp"
   },
   "outputs": [
    {
     "name": "stdout",
     "output_type": "stream",
     "text": [
      "List of 4\n",
      " $ : int [1:10] 1 2 3 4 5 6 7 8 9 10\n",
      " $ : int [1:3, 1:3] 1 2 3 4 5 6 7 8 9\n",
      " $ : Factor w/ 3 levels \"L\",\"M\",\"S\": 2 3 1 1 2\n",
      " $ :List of 3\n",
      "  ..$ : int [1:10] 1 2 3 4 5 6 7 8 9 10\n",
      "  ..$ : int [1:3, 1:3] 1 2 3 4 5 6 7 8 9\n",
      "  ..$ : Factor w/ 3 levels \"L\",\"M\",\"S\": 2 3 1 1 2\n",
      "     [,1] [,2] [,3]\n",
      "[1,]    1    4    7\n",
      "[2,]    2    5    8\n",
      "[3,]    3    6    9\n",
      "[1] 45\n",
      "[1] 20\n"
     ]
    }
   ],
   "source": [
    "## Ex2\n",
    "# Create my_vector: 1 up to 10\n",
    "my_vector = c(1:10)\n",
    "# Create my_matrix = (3x3): 1 up to 9\n",
    "my_matrix = matrix(c(1:9), nrow=3)\n",
    "# Create my_factor from sizes\n",
    "sizes <-c(\"M\",\"S\",\"L\",\"L\",\"M\")\n",
    "my_factor = factor(sizes)\n",
    "# Construct my_list with the three data structures above\n",
    "my_list = list(my_vector, my_matrix, my_factor)\n",
    "# Construct my_super_list with the four data structures above\n",
    "my_super_list = list(my_vector, my_matrix, my_factor, my_list)\n",
    "# Display structure of my_super_list (Use str())\n",
    "str(my_super_list)\n",
    "# Print my_matrix, sum of my_matrix, sum of even elements in my_matrix\n",
    "print(my_matrix)\n",
    "print(sum(my_matrix))\n",
    "print(sum(my_matrix[my_matrix%%2 ==0]))\n"
   ]
  },
  {
   "cell_type": "code",
   "execution_count": 20,
   "metadata": {},
   "outputs": [],
   "source": [
    "n = 1000\n",
    "num = sample(1:10000,n,replace=TRUE)\n",
    "\n",
    "findPrime <- function(x = 0){\n",
    "\n",
    "  primes <- c()\n",
    "\n",
    "  # Prime finder\n",
    "  primes <- sapply(X = x,FUN =  function(x) {\n",
    "    ifelse(any(x %% (2:(x - 1)) == 0), F, T)}\n",
    "  )\n",
    "\n",
    "  # Select primes                 \n",
    "  primes <- x[primes]\n",
    "\n",
    "  return(primes)\n",
    "}"
   ]
  },
  {
   "cell_type": "raw",
   "metadata": {
    "id": "MtnBB6_EFPh9"
   },
   "source": [
    "## Ex3: \r\n",
    "# Crea  emy_matrixx (4x4): each element is a randomly generated prime number}\n",
    "\r\n",
    "# Sum the elements on the main diagonal of the matrix\r\n",
    "\r\n",
    "# (Note: Build function to create matrix, function to test Prime number, and function to Sum... >> Call fucntion)\r\n"
   ]
  },
  {
   "cell_type": "code",
   "execution_count": 21,
   "metadata": {},
   "outputs": [
    {
     "data": {
      "text/html": [
       "'integer'"
      ],
      "text/latex": [
       "'integer'"
      ],
      "text/markdown": [
       "'integer'"
      ],
      "text/plain": [
       "[1] \"integer\""
      ]
     },
     "metadata": {},
     "output_type": "display_data"
    }
   ],
   "source": [
    "list_prime = findPrime(num)\n",
    "class(list_prime)"
   ]
  },
  {
   "cell_type": "code",
   "execution_count": 24,
   "metadata": {},
   "outputs": [
    {
     "name": "stdout",
     "output_type": "stream",
     "text": [
      " [1] 8087  937  467 7331 6607 3491 9463 6311 2143 2143 4051 9643 1439 2851 2203\n",
      "[16] 6397\n"
     ]
    }
   ],
   "source": [
    "print(list_prime[1:16])"
   ]
  },
  {
   "cell_type": "code",
   "execution_count": 25,
   "metadata": {},
   "outputs": [
    {
     "name": "stdout",
     "output_type": "stream",
     "text": [
      "     [,1] [,2] [,3] [,4]\n",
      "[1,] 8087 6607 2143 1439\n",
      "[2,]  937 3491 2143 2851\n",
      "[3,]  467 9463 4051 2203\n",
      "[4,] 7331 6311 9643 6397\n"
     ]
    }
   ],
   "source": [
    "my_matrix = matrix(list_prime[1:16], nrow=4)\n",
    "print(my_matrix)"
   ]
  },
  {
   "cell_type": "code",
   "execution_count": 26,
   "metadata": {},
   "outputs": [
    {
     "name": "stdout",
     "output_type": "stream",
     "text": [
      "[1] 22026\n"
     ]
    }
   ],
   "source": [
    "print(sum(diag(my_matrix)))"
   ]
  },
  {
   "cell_type": "code",
   "execution_count": null,
   "metadata": {
    "id": "XtqFWIBOHCGJ"
   },
   "outputs": [],
   "source": [
    "## Ex4: \r\n",
    "# Create my_array (4, 4, 2): from 2 matrices created by calling function create_matrix (Ex3)\r\n",
    "\r\n",
    "# Use apply to calculate the min of the rows across all the matrices.\r\n",
    "\r\n",
    "# Use apply to calculate the max of the columns across all the matrices.\r\n",
    "\r\n",
    "# Use apply to calculate the sum of each matrix in my_array"
   ]
  },
  {
   "cell_type": "code",
   "execution_count": 28,
   "metadata": {},
   "outputs": [],
   "source": [
    "matrix1 = matrix(list_prime[17:32], nrow=4)"
   ]
  },
  {
   "cell_type": "code",
   "execution_count": 31,
   "metadata": {},
   "outputs": [
    {
     "name": "stdout",
     "output_type": "stream",
     "text": [
      ", , 1\n",
      "\n",
      "     [,1] [,2] [,3] [,4]\n",
      "[1,] 8087 6607 2143 1439\n",
      "[2,]  937 3491 2143 2851\n",
      "[3,]  467 9463 4051 2203\n",
      "[4,] 7331 6311 9643 6397\n",
      "\n",
      ", , 2\n",
      "\n",
      "     [,1] [,2] [,3] [,4]\n",
      "[1,] 1913 4481 4217  877\n",
      "[2,] 9629 1801 8111 2917\n",
      "[3,] 6983 7549 6113 6829\n",
      "[4,] 6833 2333 3929 1039\n",
      "\n"
     ]
    }
   ],
   "source": [
    "my_array = array(c(my_matrix,matrix1),dim = c(4,4,2))\n",
    "print(my_array)"
   ]
  },
  {
   "cell_type": "code",
   "execution_count": 34,
   "metadata": {},
   "outputs": [
    {
     "data": {
      "text/html": [
       "<style>\n",
       ".list-inline {list-style: none; margin:0; padding: 0}\n",
       ".list-inline>li {display: inline-block}\n",
       ".list-inline>li:not(:last-child)::after {content: \"\\00b7\"; padding: 0 .5ex}\n",
       "</style>\n",
       "<ol class=list-inline><li>1439</li><li>937</li><li>467</li><li>6311</li></ol>\n"
      ],
      "text/latex": [
       "\\begin{enumerate*}\n",
       "\\item 1439\n",
       "\\item 937\n",
       "\\item 467\n",
       "\\item 6311\n",
       "\\end{enumerate*}\n"
      ],
      "text/markdown": [
       "1. 1439\n",
       "2. 937\n",
       "3. 467\n",
       "4. 6311\n",
       "\n",
       "\n"
      ],
      "text/plain": [
       "[1] 1439  937  467 6311"
      ]
     },
     "metadata": {},
     "output_type": "display_data"
    }
   ],
   "source": [
    "apply(my_matrix, 1, FUN=min)"
   ]
  },
  {
   "cell_type": "code",
   "execution_count": 35,
   "metadata": {},
   "outputs": [
    {
     "data": {
      "text/html": [
       "<style>\n",
       ".list-inline {list-style: none; margin:0; padding: 0}\n",
       ".list-inline>li {display: inline-block}\n",
       ".list-inline>li:not(:last-child)::after {content: \"\\00b7\"; padding: 0 .5ex}\n",
       "</style>\n",
       "<ol class=list-inline><li>877</li><li>1801</li><li>6113</li><li>1039</li></ol>\n"
      ],
      "text/latex": [
       "\\begin{enumerate*}\n",
       "\\item 877\n",
       "\\item 1801\n",
       "\\item 6113\n",
       "\\item 1039\n",
       "\\end{enumerate*}\n"
      ],
      "text/markdown": [
       "1. 877\n",
       "2. 1801\n",
       "3. 6113\n",
       "4. 1039\n",
       "\n",
       "\n"
      ],
      "text/plain": [
       "[1]  877 1801 6113 1039"
      ]
     },
     "metadata": {},
     "output_type": "display_data"
    }
   ],
   "source": [
    "apply(matrix1, 1, FUN=min)"
   ]
  },
  {
   "cell_type": "code",
   "execution_count": 36,
   "metadata": {},
   "outputs": [
    {
     "data": {
      "text/html": [
       "<style>\n",
       ".list-inline {list-style: none; margin:0; padding: 0}\n",
       ".list-inline>li {display: inline-block}\n",
       ".list-inline>li:not(:last-child)::after {content: \"\\00b7\"; padding: 0 .5ex}\n",
       "</style>\n",
       "<ol class=list-inline><li>8087</li><li>3491</li><li>9463</li><li>9643</li></ol>\n"
      ],
      "text/latex": [
       "\\begin{enumerate*}\n",
       "\\item 8087\n",
       "\\item 3491\n",
       "\\item 9463\n",
       "\\item 9643\n",
       "\\end{enumerate*}\n"
      ],
      "text/markdown": [
       "1. 8087\n",
       "2. 3491\n",
       "3. 9463\n",
       "4. 9643\n",
       "\n",
       "\n"
      ],
      "text/plain": [
       "[1] 8087 3491 9463 9643"
      ]
     },
     "metadata": {},
     "output_type": "display_data"
    }
   ],
   "source": [
    "apply(my_matrix, 1, FUN=max)"
   ]
  },
  {
   "cell_type": "code",
   "execution_count": 37,
   "metadata": {},
   "outputs": [
    {
     "data": {
      "text/html": [
       "<style>\n",
       ".list-inline {list-style: none; margin:0; padding: 0}\n",
       ".list-inline>li {display: inline-block}\n",
       ".list-inline>li:not(:last-child)::after {content: \"\\00b7\"; padding: 0 .5ex}\n",
       "</style>\n",
       "<ol class=list-inline><li>4481</li><li>9629</li><li>7549</li><li>6833</li></ol>\n"
      ],
      "text/latex": [
       "\\begin{enumerate*}\n",
       "\\item 4481\n",
       "\\item 9629\n",
       "\\item 7549\n",
       "\\item 6833\n",
       "\\end{enumerate*}\n"
      ],
      "text/markdown": [
       "1. 4481\n",
       "2. 9629\n",
       "3. 7549\n",
       "4. 6833\n",
       "\n",
       "\n"
      ],
      "text/plain": [
       "[1] 4481 9629 7549 6833"
      ]
     },
     "metadata": {},
     "output_type": "display_data"
    }
   ],
   "source": [
    "apply(matrix1, 1, FUN=max)"
   ]
  },
  {
   "cell_type": "code",
   "execution_count": 44,
   "metadata": {},
   "outputs": [
    {
     "data": {
      "text/html": [
       "<style>\n",
       ".list-inline {list-style: none; margin:0; padding: 0}\n",
       ".list-inline>li {display: inline-block}\n",
       ".list-inline>li:not(:last-child)::after {content: \"\\00b7\"; padding: 0 .5ex}\n",
       "</style>\n",
       "<ol class=list-inline><li>29764</li><li>31880</li><li>43658</li><li>43816</li></ol>\n"
      ],
      "text/latex": [
       "\\begin{enumerate*}\n",
       "\\item 29764\n",
       "\\item 31880\n",
       "\\item 43658\n",
       "\\item 43816\n",
       "\\end{enumerate*}\n"
      ],
      "text/markdown": [
       "1. 29764\n",
       "2. 31880\n",
       "3. 43658\n",
       "4. 43816\n",
       "\n",
       "\n"
      ],
      "text/plain": [
       "[1] 29764 31880 43658 43816"
      ]
     },
     "metadata": {},
     "output_type": "display_data"
    }
   ],
   "source": [
    "apply(my_array, 1, FUN=sum)"
   ]
  },
  {
   "cell_type": "code",
   "execution_count": 43,
   "metadata": {},
   "outputs": [
    {
     "name": "stdout",
     "output_type": "stream",
     "text": [
      "\n",
      "apply> ## Compute row and column sums for a matrix:\n",
      "apply> x <- cbind(x1 = 3, x2 = c(4:1, 2:5))\n",
      "\n",
      "apply> dimnames(x)[[1]] <- letters[1:8]\n",
      "\n",
      "apply> apply(x, 2, mean, trim = .2)\n",
      "x1 x2 \n",
      " 3  3 \n",
      "\n",
      "apply> col.sums <- apply(x, 2, sum)\n",
      "\n",
      "apply> row.sums <- apply(x, 1, sum)\n",
      "\n",
      "apply> rbind(cbind(x, Rtot = row.sums), Ctot = c(col.sums, sum(col.sums)))\n",
      "     x1 x2 Rtot\n",
      "a     3  4    7\n",
      "b     3  3    6\n",
      "c     3  2    5\n",
      "d     3  1    4\n",
      "e     3  2    5\n",
      "f     3  3    6\n",
      "g     3  4    7\n",
      "h     3  5    8\n",
      "Ctot 24 24   48\n",
      "\n",
      "apply> stopifnot( apply(x, 2, is.vector))\n",
      "\n",
      "apply> ## Sort the columns of a matrix\n",
      "apply> apply(x, 2, sort)\n",
      "     x1 x2\n",
      "[1,]  3  1\n",
      "[2,]  3  2\n",
      "[3,]  3  2\n",
      "[4,]  3  3\n",
      "[5,]  3  3\n",
      "[6,]  3  4\n",
      "[7,]  3  4\n",
      "[8,]  3  5\n",
      "\n",
      "apply> ## keeping named dimnames\n",
      "apply> names(dimnames(x)) <- c(\"row\", \"col\")\n",
      "\n",
      "apply> x3 <- array(x, dim = c(dim(x),3),\n",
      "apply+ \t    dimnames = c(dimnames(x), list(C = paste0(\"cop.\",1:3))))\n",
      "\n",
      "apply> identical(x,  apply( x,  2,  identity))\n",
      "[1] TRUE\n",
      "\n",
      "apply> identical(x3, apply(x3, 2:3, identity))\n",
      "[1] TRUE\n",
      "\n",
      "apply> ## Don't show: \n",
      "apply> xN <- x; dimnames(xN) <- list(row=NULL, col=NULL)\n",
      "\n",
      "apply> x2 <- x; names(dimnames(x2)) <- NULL\n",
      "\n",
      "apply> fXY <- function(u) c(X=u[1], Y=u[2])\n",
      "\n",
      "apply> ax1 <- apply(x, 1, fXY)\n",
      "\n",
      "apply> ax2 <- apply(x2,1, fXY)\n",
      "\n",
      "apply> stopifnot(identical(dimnames(ax1), list(col=c(\"X.x1\", \"Y.x2\"), row=letters[1:8])),\n",
      "apply+           identical(dimnames(ax2), unname(dimnames(ax1))),\n",
      "apply+           identical( x, apply( x, 2, identity)),\n",
      "apply+           identical(xN, apply(xN, 2, identity)),\n",
      "apply+ \t  identical(dimnames(x),\n",
      "apply+ \t\t    dimnames(apply(x, 2, format))),\n",
      "apply+           identical(x3, apply(x3, 2:3, identity)),\n",
      "apply+ \t  identical(dimnames(apply(x3, 2:1, identity)),\n",
      "apply+ \t\t    dimnames(x3)[3:1]))\n",
      "\n",
      "apply> rm(xN, x2, fXY, ax1, ax2)\n",
      "\n",
      "apply> ## End(Don't show)\n",
      "apply> ##- function with extra args:\n",
      "apply> cave <- function(x, c1, c2) c(mean(x[c1]), mean(x[c2]))\n",
      "\n",
      "apply> apply(x, 1, cave,  c1 = \"x1\", c2 = c(\"x1\",\"x2\"))\n",
      "      row\n",
      "         a b   c d   e f   g h\n",
      "  [1,] 3.0 3 3.0 3 3.0 3 3.0 3\n",
      "  [2,] 3.5 3 2.5 2 2.5 3 3.5 4\n",
      "\n",
      "apply> ma <- matrix(c(1:4, 1, 6:8), nrow = 2)\n",
      "\n",
      "apply> ma\n",
      "     [,1] [,2] [,3] [,4]\n",
      "[1,]    1    3    1    7\n",
      "[2,]    2    4    6    8\n",
      "\n",
      "apply> apply(ma, 1, table)  #--> a list of length 2\n",
      "[[1]]\n",
      "\n",
      "1 3 7 \n",
      "2 1 1 \n",
      "\n",
      "[[2]]\n",
      "\n",
      "2 4 6 8 \n",
      "1 1 1 1 \n",
      "\n",
      "\n",
      "apply> apply(ma, 1, stats::quantile) # 5 x n matrix with rownames\n",
      "     [,1] [,2]\n",
      "0%      1  2.0\n",
      "25%     1  3.5\n",
      "50%     2  5.0\n",
      "75%     4  6.5\n",
      "100%    7  8.0\n",
      "\n",
      "apply> stopifnot(dim(ma) == dim(apply(ma, 1:2, sum)))\n",
      "\n",
      "apply> ## Example with different lengths for each call\n",
      "apply> z <- array(1:24, dim = 2:4)\n",
      "\n",
      "apply> zseq <- apply(z, 1:2, function(x) seq_len(max(x)))\n",
      "\n",
      "apply> zseq         ## a 2 x 3 matrix\n",
      "     [,1]       [,2]       [,3]      \n",
      "[1,] Integer,19 Integer,21 Integer,23\n",
      "[2,] Integer,20 Integer,22 Integer,24\n",
      "\n",
      "apply> typeof(zseq) ## list\n",
      "[1] \"list\"\n",
      "\n",
      "apply> dim(zseq) ## 2 3\n",
      "[1] 2 3\n",
      "\n",
      "apply> zseq[1,]\n",
      "[[1]]\n",
      " [1]  1  2  3  4  5  6  7  8  9 10 11 12 13 14 15 16 17 18 19\n",
      "\n",
      "[[2]]\n",
      " [1]  1  2  3  4  5  6  7  8  9 10 11 12 13 14 15 16 17 18 19 20 21\n",
      "\n",
      "[[3]]\n",
      " [1]  1  2  3  4  5  6  7  8  9 10 11 12 13 14 15 16 17 18 19 20 21 22 23\n",
      "\n",
      "\n",
      "apply> apply(z, 3, function(x) seq_len(max(x)))\n",
      "[[1]]\n",
      "[1] 1 2 3 4 5 6\n",
      "\n",
      "[[2]]\n",
      " [1]  1  2  3  4  5  6  7  8  9 10 11 12\n",
      "\n",
      "[[3]]\n",
      " [1]  1  2  3  4  5  6  7  8  9 10 11 12 13 14 15 16 17 18\n",
      "\n",
      "[[4]]\n",
      " [1]  1  2  3  4  5  6  7  8  9 10 11 12 13 14 15 16 17 18 19 20 21 22 23 24\n",
      "\n",
      "\n",
      "apply> # a list without a dim attribute\n",
      "apply> \n",
      "apply> \n",
      "apply> \n"
     ]
    }
   ],
   "source": [
    "example(apply)"
   ]
  },
  {
   "cell_type": "code",
   "execution_count": null,
   "metadata": {},
   "outputs": [],
   "source": []
  }
 ],
 "metadata": {
  "colab": {
   "collapsed_sections": [],
   "name": "bai_on_tap_c6_c7_HV.ipynb",
   "provenance": []
  },
  "kernelspec": {
   "display_name": "R",
   "language": "R",
   "name": "conda-env-r-r"
  },
  "language_info": {
   "codemirror_mode": "r",
   "file_extension": ".r",
   "mimetype": "text/x-r-source",
   "name": "R",
   "pygments_lexer": "r",
   "version": "3.5.1"
  }
 },
 "nbformat": 4,
 "nbformat_minor": 4
}
