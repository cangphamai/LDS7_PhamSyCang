{
 "cells": [
  {
   "cell_type": "markdown",
   "metadata": {
    "id": "SKG2ETcPTLTy"
   },
   "source": [
    "# Review Chapter 6 & 7"
   ]
  },
  {
   "cell_type": "code",
   "execution_count": 2,
   "metadata": {
    "id": "FvZrjfhWE-IM"
   },
   "outputs": [
    {
     "name": "stdout",
     "output_type": "stream",
     "text": [
      "[1] R R L L R R C C\n",
      "Levels: C L R\n",
      "[1] \"C\" \"L\" \"R\"\n",
      "[1] 3\n"
     ]
    }
   ],
   "source": [
    "## Ex1\n",
    "# Definition of survey_vector\n",
    "survey_vector <- c(\"R\", \"R\", \"L\", \"L\", \"R\", \"R\", \"C\", \"C\")\n",
    "\n",
    "# Encode survey_vector as a factor: survey_factor\n",
    "factor_survey = factor(survey_vector)\n",
    "# Print survey_factor\n",
    "print(factor_survey)\n",
    "# Print levels of survey_factor\n",
    "print(levels(factor_survey))\n",
    "# Print nlevels of survey_factor\n",
    "print(nlevels(factor_survey))\n",
    "# How many elements of each factor?\n"
   ]
  },
  {
   "cell_type": "code",
   "execution_count": 3,
   "metadata": {
    "id": "3ukM4r2lKoJp"
   },
   "outputs": [
    {
     "name": "stdout",
     "output_type": "stream",
     "text": [
      "List of 4\n",
      " $ : int [1:10] 1 2 3 4 5 6 7 8 9 10\n",
      " $ : int [1:3, 1:3] 1 2 3 4 5 6 7 8 9\n",
      " $ : Factor w/ 3 levels \"L\",\"M\",\"S\": 2 3 1 1 2\n",
      " $ :List of 3\n",
      "  ..$ : int [1:10] 1 2 3 4 5 6 7 8 9 10\n",
      "  ..$ : int [1:3, 1:3] 1 2 3 4 5 6 7 8 9\n",
      "  ..$ : Factor w/ 3 levels \"L\",\"M\",\"S\": 2 3 1 1 2\n",
      "     [,1] [,2] [,3]\n",
      "[1,]    1    4    7\n",
      "[2,]    2    5    8\n",
      "[3,]    3    6    9\n",
      "[1] 45\n",
      "[1] 20\n"
     ]
    }
   ],
   "source": [
    "## Ex2\n",
    "# Create my_vector: 1 up to 10\n",
    "my_vector = c(1:10)\n",
    "# Create my_matrix = (3x3): 1 up to 9\n",
    "my_matrix = matrix(c(1:9), nrow=3)\n",
    "# Create my_factor from sizes\n",
    "sizes <-c(\"M\",\"S\",\"L\",\"L\",\"M\")\n",
    "my_factor = factor(sizes)\n",
    "# Construct my_list with the three data structures above\n",
    "my_list = list(my_vector, my_matrix, my_factor)\n",
    "# Construct my_super_list with the four data structures above\n",
    "my_super_list = list(my_vector, my_matrix, my_factor, my_list)\n",
    "# Display structure of my_super_list (Use str())\n",
    "str(my_super_list)\n",
    "# Print my_matrix, sum of my_matrix, sum of even elements in my_matrix\n",
    "print(my_matrix)\n",
    "print(sum(my_matrix))\n",
    "print(sum(my_matrix[my_matrix%%2 ==0]))\n"
   ]
  },
  {
   "cell_type": "code",
   "execution_count": 20,
   "metadata": {},
   "outputs": [],
   "source": [
    "n = 1000\n",
    "num = sample(1:10000,n,replace=TRUE)\n",
    "\n",
    "findPrime <- function(x = 0){\n",
    "\n",
    "  primes <- c()\n",
    "\n",
    "  # Prime finder\n",
    "  primes <- sapply(X = x,FUN =  function(x) {\n",
    "    ifelse(any(x %% (2:(x - 1)) == 0), F, T)}\n",
    "  )\n",
    "\n",
    "  # Select primes                 \n",
    "  primes <- x[primes]\n",
    "\n",
    "  return(primes)\n",
    "}"
   ]
  },
  {
   "cell_type": "raw",
   "metadata": {
    "id": "MtnBB6_EFPh9"
   },
   "source": [
    "## Ex3: \r\n",
    "# Crea  emy_matrixx (4x4): each element is a randomly generated prime number}\n",
    "\r\n",
    "# Sum the elements on the main diagonal of the matrix\r\n",
    "\r\n",
    "# (Note: Build function to create matrix, function to test Prime number, and function to Sum... >> Call fucntion)\r\n"
   ]
  },
  {
   "cell_type": "code",
   "execution_count": 21,
   "metadata": {},
   "outputs": [
    {
     "data": {
      "text/html": [
       "'integer'"
      ],
      "text/latex": [
       "'integer'"
      ],
      "text/markdown": [
       "'integer'"
      ],
      "text/plain": [
       "[1] \"integer\""
      ]
     },
     "metadata": {},
     "output_type": "display_data"
    }
   ],
   "source": [
    "list_prime = findPrime(num)\n",
    "class(list_prime)"
   ]
  },
  {
   "cell_type": "code",
   "execution_count": 24,
   "metadata": {},
   "outputs": [
    {
     "name": "stdout",
     "output_type": "stream",
     "text": [
      " [1] 8087  937  467 7331 6607 3491 9463 6311 2143 2143 4051 9643 1439 2851 2203\n",
      "[16] 6397\n"
     ]
    }
   ],
   "source": [
    "print(list_prime[1:16])"
   ]
  },
  {
   "cell_type": "code",
   "execution_count": 25,
   "metadata": {},
   "outputs": [
    {
     "name": "stdout",
     "output_type": "stream",
     "text": [
      "     [,1] [,2] [,3] [,4]\n",
      "[1,] 8087 6607 2143 1439\n",
      "[2,]  937 3491 2143 2851\n",
      "[3,]  467 9463 4051 2203\n",
      "[4,] 7331 6311 9643 6397\n"
     ]
    }
   ],
   "source": [
    "my_matrix = matrix(list_prime[1:16], nrow=4)\n",
    "print(my_matrix)"
   ]
  },
  {
   "cell_type": "code",
   "execution_count": null,
   "metadata": {
    "id": "XtqFWIBOHCGJ"
   },
   "outputs": [],
   "source": [
    "## Ex4: \r\n",
    "# Create my_array (4, 4, 2): from 2 matrices created by calling function create_matrix (Ex3)\r\n",
    "\r\n",
    "# Use apply to calculate the min of the rows across all the matrices.\r\n",
    "\r\n",
    "# Use apply to calculate the max of the columns across all the matrices.\r\n",
    "\r\n",
    "# Use apply to calculate the sum of each matrix in my_array"
   ]
  }
 ],
 "metadata": {
  "colab": {
   "collapsed_sections": [],
   "name": "bai_on_tap_c6_c7_HV.ipynb",
   "provenance": []
  },
  "kernelspec": {
   "display_name": "R",
   "language": "R",
   "name": "conda-env-r-r"
  },
  "language_info": {
   "codemirror_mode": "r",
   "file_extension": ".r",
   "mimetype": "text/x-r-source",
   "name": "R",
   "pygments_lexer": "r",
   "version": "3.5.1"
  }
 },
 "nbformat": 4,
 "nbformat_minor": 4
}
