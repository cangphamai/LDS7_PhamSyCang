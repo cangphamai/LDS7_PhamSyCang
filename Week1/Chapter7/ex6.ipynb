{
 "cells": [
  {
   "cell_type": "code",
   "execution_count": 1,
   "metadata": {},
   "outputs": [
    {
     "name": "stdout",
     "output_type": "stream",
     "text": [
      "[[1]]\n",
      "[1] 2 7 8\n",
      "\n",
      "[[2]]\n",
      "[1] \"A\" \"B\" \"C\"\n",
      "\n"
     ]
    }
   ],
   "source": [
    "p = c(2,7,8)\n",
    "q = c(\"A\",\"B\",\"C\")\n",
    "x= list(p,q)\n",
    "print(x)"
   ]
  },
  {
   "cell_type": "code",
   "execution_count": 2,
   "metadata": {},
   "outputs": [
    {
     "name": "stdout",
     "output_type": "stream",
     "text": [
      "[1] \"list[2]: c(\\\"A\\\", \\\"B\\\", \\\"C\\\")\"\n",
      "[1] \"vector[2] of list[2]: B\"\n",
      "[1] \"list after changing\"\n",
      "[[1]]\n",
      "[1] 2 7 8\n",
      "\n",
      "[[2]]\n",
      "[1] \"A\" \"K\" \"C\"\n",
      "\n"
     ]
    }
   ],
   "source": [
    "print(paste(\"list[2]:\", toString(x[2])))\n",
    "print(paste(\"vector[2] of list[2]:\", x[[2]][2]))\n",
    "x[[2]][2] = \"K\"\n",
    "print(\"list after changing\")\n",
    "print(x)"
   ]
  },
  {
   "cell_type": "code",
   "execution_count": 3,
   "metadata": {},
   "outputs": [],
   "source": [
    "t = c(1,3,4)\n",
    "x = c(x, list(t))"
   ]
  },
  {
   "cell_type": "code",
   "execution_count": 4,
   "metadata": {},
   "outputs": [
    {
     "name": "stdout",
     "output_type": "stream",
     "text": [
      "[[1]]\n",
      "[1] 2 7 8\n",
      "\n",
      "[[2]]\n",
      "[1] \"A\" \"K\" \"C\"\n",
      "\n",
      "[[3]]\n",
      "[1] 1 3 4\n",
      "\n"
     ]
    }
   ],
   "source": [
    "print(x)"
   ]
  },
  {
   "cell_type": "code",
   "execution_count": 5,
   "metadata": {},
   "outputs": [
    {
     "name": "stdout",
     "output_type": "stream",
     "text": [
      "$x\n",
      "[1] 5\n",
      "\n",
      "$y\n",
      "[1] 10\n",
      "\n",
      "$z\n",
      "[1] 15\n",
      "\n"
     ]
    }
   ],
   "source": [
    "a = list(\"x\" =5, \"y\"=10, \"z\" =15)\n",
    "print(a)"
   ]
  },
  {
   "cell_type": "code",
   "execution_count": 6,
   "metadata": {},
   "outputs": [
    {
     "name": "stdout",
     "output_type": "stream",
     "text": [
      "[1] \"sum of list 30\"\n"
     ]
    }
   ],
   "source": [
    "print(paste(\"sum of list\", sum(unlist(a))))"
   ]
  },
  {
   "cell_type": "code",
   "execution_count": 7,
   "metadata": {},
   "outputs": [
    {
     "name": "stdout",
     "output_type": "stream",
     "text": [
      "$a\n",
      " [1]  1  2  3  4  5  6  7  8  9 10\n",
      "\n",
      "$b\n",
      "[1] \"Good morning\"\n",
      "\n",
      "$c\n",
      "[1] \"hi\"\n",
      "\n"
     ]
    }
   ],
   "source": [
    "Newlist = list(a=1:10, b=\"Good morning\", c= \"hi\")\n",
    "print(Newlist)"
   ]
  },
  {
   "cell_type": "code",
   "execution_count": 8,
   "metadata": {},
   "outputs": [
    {
     "name": "stdout",
     "output_type": "stream",
     "text": [
      "$a\n",
      " [1]  2  3  4  5  6  7  8  9 10 11\n",
      "\n",
      "$b\n",
      "[1] \"Good morning\"\n",
      "\n",
      "$c\n",
      "[1] \"hi\"\n",
      "\n"
     ]
    }
   ],
   "source": [
    "Newlist$a = Newlist$a+1\n",
    "print(Newlist)"
   ]
  },
  {
   "cell_type": "code",
   "execution_count": null,
   "metadata": {},
   "outputs": [],
   "source": []
  }
 ],
 "metadata": {
  "kernelspec": {
   "display_name": "R",
   "language": "R",
   "name": "conda-env-r-r"
  },
  "language_info": {
   "codemirror_mode": "r",
   "file_extension": ".r",
   "mimetype": "text/x-r-source",
   "name": "R",
   "pygments_lexer": "r",
   "version": "3.5.1"
  }
 },
 "nbformat": 4,
 "nbformat_minor": 4
}
