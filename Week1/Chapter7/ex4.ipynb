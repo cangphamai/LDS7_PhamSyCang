{
 "cells": [
  {
   "cell_type": "code",
   "execution_count": 1,
   "metadata": {},
   "outputs": [],
   "source": [
    "x = c(1,2,3)\n",
    "y = c(4,5,6)\n",
    "z= c(7,8,9)\n",
    "v1 =c(x,y,z)"
   ]
  },
  {
   "cell_type": "code",
   "execution_count": 1,
   "metadata": {},
   "outputs": [
    {
     "name": "stdout",
     "output_type": "stream",
     "text": [
      ", , matrix1\n",
      "\n",
      "   c1 c2 c3\n",
      "r1  1  2  3\n",
      "r2  4  5  6\n",
      "r3  7  8  9\n",
      "\n",
      ", , matrix2\n",
      "\n",
      "   c1 c2 c3\n",
      "r1 10 11 12\n",
      "r2 13 14 15\n",
      "r3 16 17 18\n",
      "\n"
     ]
    }
   ],
   "source": [
    "matrix_1 = matrix(c(1:9), nrow=3, ncol=3, byrow = TRUE)\n",
    "matrix_2 = matrix(c(10:18), nrow=3, ncol=3, byrow = TRUE)\n",
    "A3 = array(c(matrix_1, matrix_2), dim=c(3,3,2), dimnames = list(c(\"r1\",\"r2\", \"r3\"), c(\"c1\", \"c2\", \"c3\"), c(\"matrix1\", \"matrix2\")))\n",
    "print(A3)"
   ]
  },
  {
   "cell_type": "code",
   "execution_count": 2,
   "metadata": {},
   "outputs": [
    {
     "name": "stdout",
     "output_type": "stream",
     "text": [
      "[1] \"TOng theo dong cua tat ca matrix\"\n",
      "r1 r2 r3 \n",
      "39 57 75 \n"
     ]
    }
   ],
   "source": [
    "print(\"TOng theo dong cua tat ca matrix\")\n",
    "print(apply(A3,c(1), sum))"
   ]
  },
  {
   "cell_type": "code",
   "execution_count": 3,
   "metadata": {},
   "outputs": [
    {
     "name": "stdout",
     "output_type": "stream",
     "text": [
      "[1] \"tong dong 1, matrix1\"\n",
      "[1] 6\n"
     ]
    }
   ],
   "source": [
    "print(\"tong dong 1, matrix1\")\n",
    "print(sum(A3[1,,1]))"
   ]
  },
  {
   "cell_type": "code",
   "execution_count": 4,
   "metadata": {},
   "outputs": [
    {
     "name": "stdout",
     "output_type": "stream",
     "text": [
      "[1] \"tich cot 2 matrix2\"\n",
      "[1] 2618\n"
     ]
    }
   ],
   "source": [
    "print(\"tich cot 2 matrix2\")\n",
    "print(prod(A3[,2,2]))"
   ]
  },
  {
   "cell_type": "code",
   "execution_count": null,
   "metadata": {},
   "outputs": [],
   "source": []
  }
 ],
 "metadata": {
  "kernelspec": {
   "display_name": "R",
   "language": "R",
   "name": "conda-env-r-r"
  },
  "language_info": {
   "codemirror_mode": "r",
   "file_extension": ".r",
   "mimetype": "text/x-r-source",
   "name": "R",
   "pygments_lexer": "r",
   "version": "3.5.1"
  }
 },
 "nbformat": 4,
 "nbformat_minor": 4
}
