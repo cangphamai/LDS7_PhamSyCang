{
 "cells": [
  {
   "cell_type": "code",
   "execution_count": 1,
   "metadata": {},
   "outputs": [
    {
     "name": "stdout",
     "output_type": "stream",
     "text": [
      "$one\n",
      "[1] \"a\" \"b\" \"c\"\n",
      "\n",
      "$two\n",
      "[1] 1 2 3\n",
      "\n",
      "$three\n",
      "[1] 10\n",
      "\n"
     ]
    }
   ],
   "source": [
    "y = list(c(\"a\",\"b\",\"c\"), c(1,2,3), 10)\n",
    "names(y) = c(\"one\", \"two\", \"three\")\n",
    "print(y)"
   ]
  },
  {
   "cell_type": "code",
   "execution_count": 2,
   "metadata": {},
   "outputs": [
    {
     "name": "stdout",
     "output_type": "stream",
     "text": [
      "[1] \"length of onem two, three: 3 3 1\"\n"
     ]
    }
   ],
   "source": [
    "print(paste(\"length of onem two, three:\", length(y$one),length(y$two),length(y$three)))"
   ]
  },
  {
   "cell_type": "code",
   "execution_count": 3,
   "metadata": {},
   "outputs": [
    {
     "name": "stdout",
     "output_type": "stream",
     "text": [
      "[[1]]\n",
      "[1] \"a\" \"b\" \"c\"\n",
      "\n",
      "[[2]]\n",
      "[1] 1 3 5 6\n",
      "\n",
      "[[3]]\n",
      "[1] TRUE\n",
      "\n"
     ]
    }
   ],
   "source": [
    "z= list(c(\"a\", \"b\", \"c\"), c(1,3,5,6), TRUE)\n",
    "print(z)"
   ]
  },
  {
   "cell_type": "code",
   "execution_count": 4,
   "metadata": {},
   "outputs": [
    {
     "name": "stdout",
     "output_type": "stream",
     "text": [
      "[[1]]\n",
      "[1] 1 2 3\n",
      "\n",
      "[[2]]\n",
      "[1] 10\n",
      "\n"
     ]
    }
   ],
   "source": [
    "t = setdiff(y, z)\n",
    "print(t)"
   ]
  },
  {
   "cell_type": "code",
   "execution_count": 5,
   "metadata": {},
   "outputs": [
    {
     "name": "stdout",
     "output_type": "stream",
     "text": [
      "[[1]]\n",
      "[1] 1 3 5 6\n",
      "\n",
      "[[2]]\n",
      "[1] TRUE\n",
      "\n"
     ]
    }
   ],
   "source": [
    "f= setdiff(z,y)\n",
    "print(f)"
   ]
  },
  {
   "cell_type": "code",
   "execution_count": null,
   "metadata": {},
   "outputs": [],
   "source": []
  }
 ],
 "metadata": {
  "kernelspec": {
   "display_name": "R",
   "language": "R",
   "name": "conda-env-r-r"
  },
  "language_info": {
   "codemirror_mode": "r",
   "file_extension": ".r",
   "mimetype": "text/x-r-source",
   "name": "R",
   "pygments_lexer": "r",
   "version": "3.5.1"
  }
 },
 "nbformat": 4,
 "nbformat_minor": 4
}
