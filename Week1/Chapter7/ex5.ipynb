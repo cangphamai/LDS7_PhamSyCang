{
 "cells": [
  {
   "cell_type": "code",
   "execution_count": 1,
   "metadata": {},
   "outputs": [
    {
     "name": "stdout",
     "output_type": "stream",
     "text": [
      " [1] 20 16 10 30 32 38 20 40 26 46 46 12 48 14  8 24 46  8 30 40 40 40 28 30 34\n",
      "[26] 32 42  6 48  6 44 36 32 34 10  6 44  8 40 46 12 28 34 12 38 36 16 48 34 46\n"
     ]
    }
   ],
   "source": [
    "v =c()\n",
    "i =1\n",
    "while(i <=50){\n",
    "    x = floor(runif(1, min=5, max=50))\n",
    "    if(x%%2 ==0){\n",
    "        v[i] = x\n",
    "        i = i +1\n",
    "    }\n",
    "}\n",
    "print(v)"
   ]
  },
  {
   "cell_type": "code",
   "execution_count": 2,
   "metadata": {},
   "outputs": [
    {
     "name": "stdout",
     "output_type": "stream",
     "text": [
      ", , 1\n",
      "\n",
      "     [,1] [,2] [,3] [,4] [,5]\n",
      "[1,]   20   38   46   24   40\n",
      "[2,]   16   20   12   46   40\n",
      "[3,]   10   40   48    8   28\n",
      "[4,]   30   26   14   30   30\n",
      "[5,]   32   46    8   40   34\n",
      "\n",
      ", , 2\n",
      "\n",
      "     [,1] [,2] [,3] [,4] [,5]\n",
      "[1,]   32   44    6   12   36\n",
      "[2,]   42   36   44   28   16\n",
      "[3,]    6   32    8   34   48\n",
      "[4,]   48   34   40   12   34\n",
      "[5,]    6   10   46   38   46\n",
      "\n"
     ]
    }
   ],
   "source": [
    "A4 = array(v, dim=c(5,5,2))\n",
    "print(A4)"
   ]
  },
  {
   "cell_type": "code",
   "execution_count": 3,
   "metadata": {},
   "outputs": [
    {
     "name": "stdout",
     "output_type": "stream",
     "text": [
      "[1] 5\n"
     ]
    }
   ],
   "source": [
    "rows = nrow(A4)\n",
    "print(rows)"
   ]
  },
  {
   "cell_type": "code",
   "execution_count": 4,
   "metadata": {},
   "outputs": [
    {
     "name": "stdout",
     "output_type": "stream",
     "text": [
      "[1] 5\n",
      "[1] 2\n"
     ]
    }
   ],
   "source": [
    "cols = ncol(A4)\n",
    "print(cols)\n",
    "dims = dim(A4)[3]\n",
    "print(dims)"
   ]
  },
  {
   "cell_type": "code",
   "execution_count": 8,
   "metadata": {},
   "outputs": [
    {
     "name": "stdout",
     "output_type": "stream",
     "text": [
      "[1] \"A4[ 1 , 4 , 1 ]= 24\"\n",
      "[1] \"A4[ 2 , 3 , 1 ]= 12\"\n",
      "[1] \"A4[ 3 , 3 , 1 ]= 48\"\n",
      "[1] \"A4[ 4 , 1 , 1 ]= 30\"\n",
      "[1] \"A4[ 4 , 4 , 1 ]= 30\"\n",
      "[1] \"A4[ 4 , 5 , 1 ]= 30\"\n",
      "[1] \"A4[ 1 , 3 , 2 ]= 6\"\n",
      "[1] \"A4[ 1 , 4 , 2 ]= 12\"\n",
      "[1] \"A4[ 1 , 5 , 2 ]= 36\"\n",
      "[1] \"A4[ 2 , 1 , 2 ]= 42\"\n",
      "[1] \"A4[ 2 , 2 , 2 ]= 36\"\n",
      "[1] \"A4[ 3 , 1 , 2 ]= 6\"\n",
      "[1] \"A4[ 3 , 5 , 2 ]= 48\"\n",
      "[1] \"A4[ 4 , 1 , 2 ]= 48\"\n",
      "[1] \"A4[ 4 , 4 , 2 ]= 12\"\n",
      "[1] \"A4[ 5 , 1 , 2 ]= 6\"\n",
      "[1] \"tong = 426\"\n"
     ]
    }
   ],
   "source": [
    "i =1\n",
    "j =1\n",
    "k =1\n",
    "tong = 0\n",
    "while(i<=dims){\n",
    "    j=1\n",
    "    while(j <=rows){\n",
    "        k=1\n",
    "        while(k <=cols){\n",
    "            if(A4[j,k,i] %%2 ==0 & A4[j,k,i] %%3==0 & A4[j,k,i]%%6 ==0){\n",
    "                print(paste(\"A4[\", j, \",\",k,\",\",i,\"]=\", A4[j,k,i]))\n",
    "                tong = tong+A4[j,k,i]\n",
    "            }\n",
    "            k =k+1\n",
    "        }\n",
    "        j = j+1\n",
    "    }\n",
    "    i = i+1\n",
    "}\n",
    "print(paste(\"tong =\", tong))"
   ]
  },
  {
   "cell_type": "code",
   "execution_count": null,
   "metadata": {},
   "outputs": [],
   "source": []
  }
 ],
 "metadata": {
  "kernelspec": {
   "display_name": "R",
   "language": "R",
   "name": "conda-env-r-r"
  },
  "language_info": {
   "codemirror_mode": "r",
   "file_extension": ".r",
   "mimetype": "text/x-r-source",
   "name": "R",
   "pygments_lexer": "r",
   "version": "3.5.1"
  }
 },
 "nbformat": 4,
 "nbformat_minor": 4
}
