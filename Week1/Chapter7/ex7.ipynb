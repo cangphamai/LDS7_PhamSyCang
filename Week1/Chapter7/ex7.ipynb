{
 "cells": [
  {
   "cell_type": "code",
   "execution_count": 1,
   "metadata": {},
   "outputs": [
    {
     "name": "stdout",
     "output_type": "stream",
     "text": [
      "$year\n",
      " [1] 2008 2009 2010 2011 2012 2013 2014 2015 2016 2017 2018\n",
      "\n",
      "$month\n",
      " [1]  1  2  3  4  5  6  7  8  9 10 11 12\n",
      "\n",
      "$day\n",
      " [1]  1  2  3  4  5  6  7  8  9 10 11 12 13 14 15 16 17 18 19 20 21 22 23 24 25\n",
      "[26] 26 27 28 29 30 31\n",
      "\n"
     ]
    }
   ],
   "source": [
    "year = c(2008:2018)\n",
    "month = c(1:12)\n",
    "day = c(1:31)\n",
    "year_month_day.list = list(\"year\"= year, \"month\"= month, \"day\"= day)\n",
    "print(year_month_day.list)"
   ]
  },
  {
   "cell_type": "code",
   "execution_count": 2,
   "metadata": {},
   "outputs": [
    {
     "name": "stdout",
     "output_type": "stream",
     "text": [
      "$year\n",
      " [1] 2010 2011 2012 2013 2014 2015 2016 2017 2018 2019 2020\n",
      "\n",
      "$month\n",
      " [1]  1  2  3  4  5  6  7  8  9 10 11 12\n",
      "\n",
      "$day\n",
      " [1]  1  2  3  4  5  6  7  8  9 10 11 12 13 14 15 16 17 18 19 20 21 22 23 24 25\n",
      "[26] 26 27 28 29 30 31\n",
      "\n"
     ]
    }
   ],
   "source": [
    "year_month_day.list$year = c(2010:2020)\n",
    "print(year_month_day.list)"
   ]
  },
  {
   "cell_type": "code",
   "execution_count": 3,
   "metadata": {},
   "outputs": [
    {
     "name": "stdout",
     "output_type": "stream",
     "text": [
      "$year\n",
      " [1] 2011 2012 2013 2014 2015 2016 2017 2018 2019 2020\n",
      "\n",
      "$month\n",
      " [1]  1  2  3  4  5  6  7  8  9 10 11 12\n",
      "\n",
      "$day\n",
      " [1]  1  2  3  4  5  6  7  8  9 10 11 12 13 14 15 16 17 18 19 20 21 22 23 24 25\n",
      "[26] 26 27 28 29 30 31\n",
      "\n"
     ]
    }
   ],
   "source": [
    "year_month_day.list$year = year_month_day.list$year[-1]\n",
    "print(year_month_day.list)"
   ]
  },
  {
   "cell_type": "code",
   "execution_count": 4,
   "metadata": {},
   "outputs": [
    {
     "name": "stdout",
     "output_type": "stream",
     "text": [
      "$`x*2`\n",
      "[1]  2  6  8 14 22 36 58\n",
      "\n",
      "$`x/2`\n",
      "[1]  0.5  1.5  2.0  3.5  5.5  9.0 14.5\n",
      "\n",
      "$`sqrt(x)`\n",
      "[1] 1.000000 1.732051 2.000000 2.645751 3.316625 4.242641 5.385165\n",
      "\n"
     ]
    }
   ],
   "source": [
    "x = c(1,3,4,7,11,18,29)\n",
    "cal.list = list(\"x*2\"= x*2, \"x/2\"=x/2, \"sqrt(x)\"= sqrt(x))\n",
    "print(cal.list)"
   ]
  },
  {
   "cell_type": "code",
   "execution_count": null,
   "metadata": {},
   "outputs": [],
   "source": []
  }
 ],
 "metadata": {
  "kernelspec": {
   "display_name": "R",
   "language": "R",
   "name": "conda-env-r-r"
  },
  "language_info": {
   "codemirror_mode": "r",
   "file_extension": ".r",
   "mimetype": "text/x-r-source",
   "name": "R",
   "pygments_lexer": "r",
   "version": "3.5.1"
  }
 },
 "nbformat": 4,
 "nbformat_minor": 4
}
