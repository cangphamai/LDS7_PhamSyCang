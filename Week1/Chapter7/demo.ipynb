{
 "cells": [
  {
   "cell_type": "code",
   "execution_count": 1,
   "metadata": {},
   "outputs": [],
   "source": [
    "M =  matrix(c(1:12), nrow= 4, ncol=3, byrow=TRUE)"
   ]
  },
  {
   "cell_type": "code",
   "execution_count": 2,
   "metadata": {},
   "outputs": [
    {
     "data": {
      "text/html": [
       "<table>\n",
       "<caption>A matrix: 4 × 3 of type int</caption>\n",
       "<tbody>\n",
       "\t<tr><td> 1</td><td> 2</td><td> 3</td></tr>\n",
       "\t<tr><td> 4</td><td> 5</td><td> 6</td></tr>\n",
       "\t<tr><td> 7</td><td> 8</td><td> 9</td></tr>\n",
       "\t<tr><td>10</td><td>11</td><td>12</td></tr>\n",
       "</tbody>\n",
       "</table>\n"
      ],
      "text/latex": [
       "A matrix: 4 × 3 of type int\n",
       "\\begin{tabular}{lll}\n",
       "\t  1 &  2 &  3\\\\\n",
       "\t  4 &  5 &  6\\\\\n",
       "\t  7 &  8 &  9\\\\\n",
       "\t 10 & 11 & 12\\\\\n",
       "\\end{tabular}\n"
      ],
      "text/markdown": [
       "\n",
       "A matrix: 4 × 3 of type int\n",
       "\n",
       "|  1 |  2 |  3 |\n",
       "|  4 |  5 |  6 |\n",
       "|  7 |  8 |  9 |\n",
       "| 10 | 11 | 12 |\n",
       "\n"
      ],
      "text/plain": [
       "     [,1] [,2] [,3]\n",
       "[1,]  1    2    3  \n",
       "[2,]  4    5    6  \n",
       "[3,]  7    8    9  \n",
       "[4,] 10   11   12  "
      ]
     },
     "metadata": {},
     "output_type": "display_data"
    }
   ],
   "source": [
    "M"
   ]
  },
  {
   "cell_type": "code",
   "execution_count": 3,
   "metadata": {},
   "outputs": [
    {
     "data": {
      "text/html": [
       "<table>\n",
       "<caption>A matrix: 4 × 3 of type int</caption>\n",
       "<tbody>\n",
       "\t<tr><td>1</td><td>5</td><td> 9</td></tr>\n",
       "\t<tr><td>2</td><td>6</td><td>10</td></tr>\n",
       "\t<tr><td>3</td><td>7</td><td>11</td></tr>\n",
       "\t<tr><td>4</td><td>8</td><td>12</td></tr>\n",
       "</tbody>\n",
       "</table>\n"
      ],
      "text/latex": [
       "A matrix: 4 × 3 of type int\n",
       "\\begin{tabular}{lll}\n",
       "\t 1 & 5 &  9\\\\\n",
       "\t 2 & 6 & 10\\\\\n",
       "\t 3 & 7 & 11\\\\\n",
       "\t 4 & 8 & 12\\\\\n",
       "\\end{tabular}\n"
      ],
      "text/markdown": [
       "\n",
       "A matrix: 4 × 3 of type int\n",
       "\n",
       "| 1 | 5 |  9 |\n",
       "| 2 | 6 | 10 |\n",
       "| 3 | 7 | 11 |\n",
       "| 4 | 8 | 12 |\n",
       "\n"
      ],
      "text/plain": [
       "     [,1] [,2] [,3]\n",
       "[1,] 1    5     9  \n",
       "[2,] 2    6    10  \n",
       "[3,] 3    7    11  \n",
       "[4,] 4    8    12  "
      ]
     },
     "metadata": {},
     "output_type": "display_data"
    }
   ],
   "source": [
    "N = matrix(c(1:12), nrow=4, byrow=FALSE)\n",
    "N"
   ]
  },
  {
   "cell_type": "code",
   "execution_count": 4,
   "metadata": {},
   "outputs": [
    {
     "data": {
      "text/html": [
       "<table>\n",
       "<caption>A matrix: 4 × 3 of type int</caption>\n",
       "<tbody>\n",
       "\t<tr><td> 1</td><td> 2</td><td> 3</td></tr>\n",
       "\t<tr><td> 4</td><td> 5</td><td> 6</td></tr>\n",
       "\t<tr><td> 7</td><td> 8</td><td> 9</td></tr>\n",
       "\t<tr><td>10</td><td>11</td><td>12</td></tr>\n",
       "</tbody>\n",
       "</table>\n"
      ],
      "text/latex": [
       "A matrix: 4 × 3 of type int\n",
       "\\begin{tabular}{lll}\n",
       "\t  1 &  2 &  3\\\\\n",
       "\t  4 &  5 &  6\\\\\n",
       "\t  7 &  8 &  9\\\\\n",
       "\t 10 & 11 & 12\\\\\n",
       "\\end{tabular}\n"
      ],
      "text/markdown": [
       "\n",
       "A matrix: 4 × 3 of type int\n",
       "\n",
       "|  1 |  2 |  3 |\n",
       "|  4 |  5 |  6 |\n",
       "|  7 |  8 |  9 |\n",
       "| 10 | 11 | 12 |\n",
       "\n"
      ],
      "text/plain": [
       "     [,1] [,2] [,3]\n",
       "[1,]  1    2    3  \n",
       "[2,]  4    5    6  \n",
       "[3,]  7    8    9  \n",
       "[4,] 10   11   12  "
      ]
     },
     "metadata": {},
     "output_type": "display_data"
    }
   ],
   "source": [
    "N = matrix(c(1:12), nrow=4, byrow=TRUE)\n",
    "N"
   ]
  },
  {
   "cell_type": "code",
   "execution_count": 5,
   "metadata": {},
   "outputs": [
    {
     "data": {
      "text/html": [
       "3"
      ],
      "text/latex": [
       "3"
      ],
      "text/markdown": [
       "3"
      ],
      "text/plain": [
       "[1] 3"
      ]
     },
     "metadata": {},
     "output_type": "display_data"
    }
   ],
   "source": [
    "N[1,3]"
   ]
  },
  {
   "cell_type": "code",
   "execution_count": 6,
   "metadata": {},
   "outputs": [
    {
     "data": {
      "text/html": [
       "11"
      ],
      "text/latex": [
       "11"
      ],
      "text/markdown": [
       "11"
      ],
      "text/plain": [
       "[1] 11"
      ]
     },
     "metadata": {},
     "output_type": "display_data"
    }
   ],
   "source": [
    "N[4,2]"
   ]
  },
  {
   "cell_type": "code",
   "execution_count": 7,
   "metadata": {},
   "outputs": [
    {
     "data": {
      "text/html": [
       "<style>\n",
       ".list-inline {list-style: none; margin:0; padding: 0}\n",
       ".list-inline>li {display: inline-block}\n",
       ".list-inline>li:not(:last-child)::after {content: \"\\00b7\"; padding: 0 .5ex}\n",
       "</style>\n",
       "<ol class=list-inline><li>4</li><li>5</li><li>6</li></ol>\n"
      ],
      "text/latex": [
       "\\begin{enumerate*}\n",
       "\\item 4\n",
       "\\item 5\n",
       "\\item 6\n",
       "\\end{enumerate*}\n"
      ],
      "text/markdown": [
       "1. 4\n",
       "2. 5\n",
       "3. 6\n",
       "\n",
       "\n"
      ],
      "text/plain": [
       "[1] 4 5 6"
      ]
     },
     "metadata": {},
     "output_type": "display_data"
    }
   ],
   "source": [
    "N[2,]"
   ]
  },
  {
   "cell_type": "code",
   "execution_count": 8,
   "metadata": {},
   "outputs": [
    {
     "data": {
      "text/html": [
       "<style>\n",
       ".list-inline {list-style: none; margin:0; padding: 0}\n",
       ".list-inline>li {display: inline-block}\n",
       ".list-inline>li:not(:last-child)::after {content: \"\\00b7\"; padding: 0 .5ex}\n",
       "</style>\n",
       "<ol class=list-inline><li>3</li><li>6</li><li>9</li><li>12</li></ol>\n"
      ],
      "text/latex": [
       "\\begin{enumerate*}\n",
       "\\item 3\n",
       "\\item 6\n",
       "\\item 9\n",
       "\\item 12\n",
       "\\end{enumerate*}\n"
      ],
      "text/markdown": [
       "1. 3\n",
       "2. 6\n",
       "3. 9\n",
       "4. 12\n",
       "\n",
       "\n"
      ],
      "text/plain": [
       "[1]  3  6  9 12"
      ]
     },
     "metadata": {},
     "output_type": "display_data"
    }
   ],
   "source": [
    "N[,3]"
   ]
  },
  {
   "cell_type": "code",
   "execution_count": 10,
   "metadata": {},
   "outputs": [
    {
     "data": {
      "text/html": [
       "<table>\n",
       "<caption>A matrix: 2 × 2 of type int</caption>\n",
       "<tbody>\n",
       "\t<tr><td>1</td><td>2</td></tr>\n",
       "\t<tr><td>4</td><td>5</td></tr>\n",
       "</tbody>\n",
       "</table>\n"
      ],
      "text/latex": [
       "A matrix: 2 × 2 of type int\n",
       "\\begin{tabular}{ll}\n",
       "\t 1 & 2\\\\\n",
       "\t 4 & 5\\\\\n",
       "\\end{tabular}\n"
      ],
      "text/markdown": [
       "\n",
       "A matrix: 2 × 2 of type int\n",
       "\n",
       "| 1 | 2 |\n",
       "| 4 | 5 |\n",
       "\n"
      ],
      "text/plain": [
       "     [,1] [,2]\n",
       "[1,] 1    2   \n",
       "[2,] 4    5   "
      ]
     },
     "metadata": {},
     "output_type": "display_data"
    }
   ],
   "source": [
    "X = N[1:2, 1:2]\n",
    "X"
   ]
  },
  {
   "cell_type": "code",
   "execution_count": 11,
   "metadata": {},
   "outputs": [
    {
     "data": {
      "text/html": [
       "<table>\n",
       "<caption>A matrix: 2 × 4 of type dbl</caption>\n",
       "<tbody>\n",
       "\t<tr><td>1</td><td> 3</td><td> 5</td><td> 7</td></tr>\n",
       "\t<tr><td>9</td><td>11</td><td>13</td><td>15</td></tr>\n",
       "</tbody>\n",
       "</table>\n"
      ],
      "text/latex": [
       "A matrix: 2 × 4 of type dbl\n",
       "\\begin{tabular}{llll}\n",
       "\t 1 &  3 &  5 &  7\\\\\n",
       "\t 9 & 11 & 13 & 15\\\\\n",
       "\\end{tabular}\n"
      ],
      "text/markdown": [
       "\n",
       "A matrix: 2 × 4 of type dbl\n",
       "\n",
       "| 1 |  3 |  5 |  7 |\n",
       "| 9 | 11 | 13 | 15 |\n",
       "\n"
      ],
      "text/plain": [
       "     [,1] [,2] [,3] [,4]\n",
       "[1,] 1     3    5    7  \n",
       "[2,] 9    11   13   15  "
      ]
     },
     "metadata": {},
     "output_type": "display_data"
    }
   ],
   "source": [
    "M1 = matrix(c(1,3,5,7,9,11,13,15), nrow=2, byrow =TRUE)\n",
    "M1"
   ]
  },
  {
   "cell_type": "code",
   "execution_count": 12,
   "metadata": {},
   "outputs": [
    {
     "data": {
      "text/html": [
       "<table>\n",
       "<caption>A matrix: 2 × 4 of type dbl</caption>\n",
       "<tbody>\n",
       "\t<tr><td>0</td><td> 2</td><td> 4</td><td> 6</td></tr>\n",
       "\t<tr><td>8</td><td>10</td><td>12</td><td>14</td></tr>\n",
       "</tbody>\n",
       "</table>\n"
      ],
      "text/latex": [
       "A matrix: 2 × 4 of type dbl\n",
       "\\begin{tabular}{llll}\n",
       "\t 0 &  2 &  4 &  6\\\\\n",
       "\t 8 & 10 & 12 & 14\\\\\n",
       "\\end{tabular}\n"
      ],
      "text/markdown": [
       "\n",
       "A matrix: 2 × 4 of type dbl\n",
       "\n",
       "| 0 |  2 |  4 |  6 |\n",
       "| 8 | 10 | 12 | 14 |\n",
       "\n"
      ],
      "text/plain": [
       "     [,1] [,2] [,3] [,4]\n",
       "[1,] 0     2    4    6  \n",
       "[2,] 8    10   12   14  "
      ]
     },
     "metadata": {},
     "output_type": "display_data"
    }
   ],
   "source": [
    "M2= matrix(c(0,2,4,6,8,10,12,14), nrow=2, byrow=TRUE)\n",
    "M2"
   ]
  },
  {
   "cell_type": "code",
   "execution_count": 13,
   "metadata": {},
   "outputs": [
    {
     "data": {
      "text/html": [
       "<table>\n",
       "<caption>A matrix: 2 × 4 of type dbl</caption>\n",
       "<tbody>\n",
       "\t<tr><td> 1</td><td> 5</td><td> 9</td><td>13</td></tr>\n",
       "\t<tr><td>17</td><td>21</td><td>25</td><td>29</td></tr>\n",
       "</tbody>\n",
       "</table>\n"
      ],
      "text/latex": [
       "A matrix: 2 × 4 of type dbl\n",
       "\\begin{tabular}{llll}\n",
       "\t  1 &  5 &  9 & 13\\\\\n",
       "\t 17 & 21 & 25 & 29\\\\\n",
       "\\end{tabular}\n"
      ],
      "text/markdown": [
       "\n",
       "A matrix: 2 × 4 of type dbl\n",
       "\n",
       "|  1 |  5 |  9 | 13 |\n",
       "| 17 | 21 | 25 | 29 |\n",
       "\n"
      ],
      "text/plain": [
       "     [,1] [,2] [,3] [,4]\n",
       "[1,]  1    5    9   13  \n",
       "[2,] 17   21   25   29  "
      ]
     },
     "metadata": {},
     "output_type": "display_data"
    }
   ],
   "source": [
    "result_add = M1+M2\n",
    "result_add"
   ]
  },
  {
   "cell_type": "code",
   "execution_count": 14,
   "metadata": {},
   "outputs": [
    {
     "name": "stdout",
     "output_type": "stream",
     "text": [
      "     [,1] [,2] [,3] [,4]\n",
      "[1,]    1    4    7   10\n",
      "[2,]    2    5    8   11\n",
      "[3,]    3    6    9   12\n",
      "     [,1] [,2]\n",
      "[1,]    1    5\n",
      "[2,]    2    6\n",
      "[3,]    3    7\n",
      "[4,]    4    8\n"
     ]
    }
   ],
   "source": [
    "mat1= matrix(c(1:12), ncol=4)\n",
    "mat2= matrix(c(1:8), nrow=4)\n",
    "print(mat1)\n",
    "print(mat2)"
   ]
  },
  {
   "cell_type": "code",
   "execution_count": 16,
   "metadata": {},
   "outputs": [
    {
     "name": "stdout",
     "output_type": "stream",
     "text": [
      "     [,1] [,2]\n",
      "[1,]   70  158\n",
      "[2,]   80  184\n",
      "[3,]   90  210\n"
     ]
    }
   ],
   "source": [
    "mat3 =mat1%*%mat2\n",
    "print(mat3)"
   ]
  },
  {
   "cell_type": "code",
   "execution_count": 17,
   "metadata": {},
   "outputs": [
    {
     "name": "stdout",
     "output_type": "stream",
     "text": [
      "[1] 1 2 3\n",
      "     [,1] [,2] [,3]\n",
      "[1,]    1    4    7\n",
      "[2,]    2    5    8\n",
      "[3,]    3    6    9\n"
     ]
    }
   ],
   "source": [
    "vec = c(1:3)\n",
    "mat =matrix(c(1:9), ncol=3)\n",
    "print(vec)\n",
    "print(mat)"
   ]
  },
  {
   "cell_type": "code",
   "execution_count": 18,
   "metadata": {},
   "outputs": [
    {
     "name": "stdout",
     "output_type": "stream",
     "text": [
      "     [,1]\n",
      "[1,]   30\n",
      "[2,]   36\n",
      "[3,]   42\n"
     ]
    }
   ],
   "source": [
    "vec_new = mat%*%vec\n",
    "print(vec_new)"
   ]
  },
  {
   "cell_type": "code",
   "execution_count": 1,
   "metadata": {},
   "outputs": [],
   "source": [
    "list_data = list(\"hello\", 123, 15.5, c(3,5,7), TRUE)"
   ]
  },
  {
   "cell_type": "code",
   "execution_count": 2,
   "metadata": {},
   "outputs": [
    {
     "name": "stdout",
     "output_type": "stream",
     "text": [
      "[[1]]\n",
      "[1] \"hello\"\n",
      "\n",
      "[[2]]\n",
      "[1] 123\n",
      "\n",
      "[[3]]\n",
      "[1] 15.5\n",
      "\n",
      "[[4]]\n",
      "[1] 3 5 7\n",
      "\n",
      "[[5]]\n",
      "[1] TRUE\n",
      "\n"
     ]
    }
   ],
   "source": [
    "print(list_data)"
   ]
  },
  {
   "cell_type": "code",
   "execution_count": 3,
   "metadata": {},
   "outputs": [
    {
     "name": "stdout",
     "output_type": "stream",
     "text": [
      "$`Traffic light`\n",
      "[1] \"red\"    \"green\"  \"yellow\"\n",
      "\n",
      "$A_Matrix\n",
      "     [,1] [,2] [,3]\n",
      "[1,]    1    5    9\n",
      "[2,]    2    6   10\n",
      "[3,]    3    7   11\n",
      "[4,]    4    8   12\n",
      "\n",
      "$`a list`\n",
      "$`a list`[[1]]\n",
      "[1] \"green\"\n",
      "\n",
      "$`a list`[[2]]\n",
      "[1] 123\n",
      "\n",
      "$`a list`[[3]]\n",
      "[1] 15.5\n",
      "\n",
      "\n",
      "$Pass\n",
      "[1] TRUE\n",
      "\n"
     ]
    }
   ],
   "source": [
    "list_1 = list(c(\"red\", \"green\", \"yellow\"), matrix(c(1:12), ncol=3), list(\"green\", 123, 15.5), TRUE)\n",
    "names(list_1) = c(\"Traffic light\", \"A_Matrix\", \"a list\", \"Pass\")\n",
    "print(list_1)"
   ]
  },
  {
   "cell_type": "code",
   "execution_count": 5,
   "metadata": {},
   "outputs": [
    {
     "data": {
      "text/html": [
       "<table>\n",
       "<caption>A matrix: 4 × 3 of type int</caption>\n",
       "<tbody>\n",
       "\t<tr><td>1</td><td>5</td><td> 9</td></tr>\n",
       "\t<tr><td>2</td><td>6</td><td>10</td></tr>\n",
       "\t<tr><td>3</td><td>7</td><td>11</td></tr>\n",
       "\t<tr><td>4</td><td>8</td><td>12</td></tr>\n",
       "</tbody>\n",
       "</table>\n"
      ],
      "text/latex": [
       "A matrix: 4 × 3 of type int\n",
       "\\begin{tabular}{lll}\n",
       "\t 1 & 5 &  9\\\\\n",
       "\t 2 & 6 & 10\\\\\n",
       "\t 3 & 7 & 11\\\\\n",
       "\t 4 & 8 & 12\\\\\n",
       "\\end{tabular}\n"
      ],
      "text/markdown": [
       "\n",
       "A matrix: 4 × 3 of type int\n",
       "\n",
       "| 1 | 5 |  9 |\n",
       "| 2 | 6 | 10 |\n",
       "| 3 | 7 | 11 |\n",
       "| 4 | 8 | 12 |\n",
       "\n"
      ],
      "text/plain": [
       "     [,1] [,2] [,3]\n",
       "[1,] 1    5     9  \n",
       "[2,] 2    6    10  \n",
       "[3,] 3    7    11  \n",
       "[4,] 4    8    12  "
      ]
     },
     "metadata": {},
     "output_type": "display_data"
    }
   ],
   "source": [
    "list_1$A_Matrix"
   ]
  },
  {
   "cell_type": "code",
   "execution_count": 6,
   "metadata": {},
   "outputs": [
    {
     "data": {
      "text/html": [
       "<strong>$`Traffic light`</strong> = <style>\n",
       ".list-inline {list-style: none; margin:0; padding: 0}\n",
       ".list-inline>li {display: inline-block}\n",
       ".list-inline>li:not(:last-child)::after {content: \"\\00b7\"; padding: 0 .5ex}\n",
       "</style>\n",
       "<ol class=list-inline><li>'red'</li><li>'green'</li><li>'yellow'</li></ol>\n"
      ],
      "text/latex": [
       "\\textbf{\\$`Traffic light`} = \\begin{enumerate*}\n",
       "\\item 'red'\n",
       "\\item 'green'\n",
       "\\item 'yellow'\n",
       "\\end{enumerate*}\n"
      ],
      "text/markdown": [
       "**$`Traffic light`** = 1. 'red'\n",
       "2. 'green'\n",
       "3. 'yellow'\n",
       "\n",
       "\n"
      ],
      "text/plain": [
       "$`Traffic light`\n",
       "[1] \"red\"    \"green\"  \"yellow\"\n"
      ]
     },
     "metadata": {},
     "output_type": "display_data"
    }
   ],
   "source": [
    "list_1[1]"
   ]
  },
  {
   "cell_type": "code",
   "execution_count": 7,
   "metadata": {},
   "outputs": [],
   "source": [
    "list_1[length(list_1) + 1] = \"new element\""
   ]
  },
  {
   "cell_type": "code",
   "execution_count": 10,
   "metadata": {},
   "outputs": [
    {
     "name": "stdout",
     "output_type": "stream",
     "text": [
      "[[1]]\n",
      "[1] \"new element\"\n",
      "\n"
     ]
    }
   ],
   "source": [
    "print(list_1[length(list_1)])"
   ]
  },
  {
   "cell_type": "code",
   "execution_count": 11,
   "metadata": {},
   "outputs": [],
   "source": [
    "list_1[length(list_1)] = NULL"
   ]
  },
  {
   "cell_type": "code",
   "execution_count": 12,
   "metadata": {},
   "outputs": [
    {
     "data": {
      "text/html": [
       "<dl>\n",
       "\t<dt>$`Traffic light`</dt>\n",
       "\t\t<dd><style>\n",
       ".list-inline {list-style: none; margin:0; padding: 0}\n",
       ".list-inline>li {display: inline-block}\n",
       ".list-inline>li:not(:last-child)::after {content: \"\\00b7\"; padding: 0 .5ex}\n",
       "</style>\n",
       "<ol class=list-inline><li>'red'</li><li>'green'</li><li>'yellow'</li></ol>\n",
       "</dd>\n",
       "\t<dt>$A_Matrix</dt>\n",
       "\t\t<dd><table>\n",
       "<caption>A matrix: 4 × 3 of type int</caption>\n",
       "<tbody>\n",
       "\t<tr><td>1</td><td>5</td><td> 9</td></tr>\n",
       "\t<tr><td>2</td><td>6</td><td>10</td></tr>\n",
       "\t<tr><td>3</td><td>7</td><td>11</td></tr>\n",
       "\t<tr><td>4</td><td>8</td><td>12</td></tr>\n",
       "</tbody>\n",
       "</table>\n",
       "</dd>\n",
       "\t<dt>$`a list`</dt>\n",
       "\t\t<dd><ol>\n",
       "\t<li>'green'</li>\n",
       "\t<li>123</li>\n",
       "\t<li>15.5</li>\n",
       "</ol>\n",
       "</dd>\n",
       "\t<dt>$Pass</dt>\n",
       "\t\t<dd>TRUE</dd>\n",
       "</dl>\n"
      ],
      "text/latex": [
       "\\begin{description}\n",
       "\\item[\\$`Traffic light`] \\begin{enumerate*}\n",
       "\\item 'red'\n",
       "\\item 'green'\n",
       "\\item 'yellow'\n",
       "\\end{enumerate*}\n",
       "\n",
       "\\item[\\$A\\_Matrix] A matrix: 4 × 3 of type int\n",
       "\\begin{tabular}{lll}\n",
       "\t 1 & 5 &  9\\\\\n",
       "\t 2 & 6 & 10\\\\\n",
       "\t 3 & 7 & 11\\\\\n",
       "\t 4 & 8 & 12\\\\\n",
       "\\end{tabular}\n",
       "\n",
       "\\item[\\$`a list`] \\begin{enumerate}\n",
       "\\item 'green'\n",
       "\\item 123\n",
       "\\item 15.5\n",
       "\\end{enumerate}\n",
       "\n",
       "\\item[\\$Pass] TRUE\n",
       "\\end{description}\n"
      ],
      "text/markdown": [
       "$`Traffic light`\n",
       ":   1. 'red'\n",
       "2. 'green'\n",
       "3. 'yellow'\n",
       "\n",
       "\n",
       "\n",
       "$A_Matrix\n",
       ":   \n",
       "A matrix: 4 × 3 of type int\n",
       "\n",
       "| 1 | 5 |  9 |\n",
       "| 2 | 6 | 10 |\n",
       "| 3 | 7 | 11 |\n",
       "| 4 | 8 | 12 |\n",
       "\n",
       "\n",
       "$`a list`\n",
       ":   1. 'green'\n",
       "2. 123\n",
       "3. 15.5\n",
       "\n",
       "\n",
       "\n",
       "$Pass\n",
       ":   TRUE\n",
       "\n",
       "\n"
      ],
      "text/plain": [
       "$`Traffic light`\n",
       "[1] \"red\"    \"green\"  \"yellow\"\n",
       "\n",
       "$A_Matrix\n",
       "     [,1] [,2] [,3]\n",
       "[1,]    1    5    9\n",
       "[2,]    2    6   10\n",
       "[3,]    3    7   11\n",
       "[4,]    4    8   12\n",
       "\n",
       "$`a list`\n",
       "$`a list`[[1]]\n",
       "[1] \"green\"\n",
       "\n",
       "$`a list`[[2]]\n",
       "[1] 123\n",
       "\n",
       "$`a list`[[3]]\n",
       "[1] 15.5\n",
       "\n",
       "\n",
       "$Pass\n",
       "[1] TRUE\n"
      ]
     },
     "metadata": {},
     "output_type": "display_data"
    }
   ],
   "source": [
    "list_1"
   ]
  },
  {
   "cell_type": "code",
   "execution_count": 13,
   "metadata": {},
   "outputs": [
    {
     "data": {
      "text/html": [
       "<dl>\n",
       "\t<dt>$`Traffic light`</dt>\n",
       "\t\t<dd><style>\n",
       ".list-inline {list-style: none; margin:0; padding: 0}\n",
       ".list-inline>li {display: inline-block}\n",
       ".list-inline>li:not(:last-child)::after {content: \"\\00b7\"; padding: 0 .5ex}\n",
       "</style>\n",
       "<ol class=list-inline><li>'red'</li><li>'green'</li><li>'yellow'</li></ol>\n",
       "</dd>\n",
       "\t<dt>$`a list`</dt>\n",
       "\t\t<dd><ol>\n",
       "\t<li>'green'</li>\n",
       "\t<li>123</li>\n",
       "\t<li>15.5</li>\n",
       "</ol>\n",
       "</dd>\n",
       "\t<dt>$Pass</dt>\n",
       "\t\t<dd>TRUE</dd>\n",
       "</dl>\n"
      ],
      "text/latex": [
       "\\begin{description}\n",
       "\\item[\\$`Traffic light`] \\begin{enumerate*}\n",
       "\\item 'red'\n",
       "\\item 'green'\n",
       "\\item 'yellow'\n",
       "\\end{enumerate*}\n",
       "\n",
       "\\item[\\$`a list`] \\begin{enumerate}\n",
       "\\item 'green'\n",
       "\\item 123\n",
       "\\item 15.5\n",
       "\\end{enumerate}\n",
       "\n",
       "\\item[\\$Pass] TRUE\n",
       "\\end{description}\n"
      ],
      "text/markdown": [
       "$`Traffic light`\n",
       ":   1. 'red'\n",
       "2. 'green'\n",
       "3. 'yellow'\n",
       "\n",
       "\n",
       "\n",
       "$`a list`\n",
       ":   1. 'green'\n",
       "2. 123\n",
       "3. 15.5\n",
       "\n",
       "\n",
       "\n",
       "$Pass\n",
       ":   TRUE\n",
       "\n",
       "\n"
      ],
      "text/plain": [
       "$`Traffic light`\n",
       "[1] \"red\"    \"green\"  \"yellow\"\n",
       "\n",
       "$`a list`\n",
       "$`a list`[[1]]\n",
       "[1] \"green\"\n",
       "\n",
       "$`a list`[[2]]\n",
       "[1] 123\n",
       "\n",
       "$`a list`[[3]]\n",
       "[1] 15.5\n",
       "\n",
       "\n",
       "$Pass\n",
       "[1] TRUE\n"
      ]
     },
     "metadata": {},
     "output_type": "display_data"
    }
   ],
   "source": [
    "list_1[2] =NULL\n",
    "list_1"
   ]
  },
  {
   "cell_type": "code",
   "execution_count": 16,
   "metadata": {},
   "outputs": [],
   "source": [
    "list_1[3] = FALSE"
   ]
  },
  {
   "cell_type": "code",
   "execution_count": 17,
   "metadata": {},
   "outputs": [
    {
     "data": {
      "text/html": [
       "<dl>\n",
       "\t<dt>$`Traffic light`</dt>\n",
       "\t\t<dd><style>\n",
       ".list-inline {list-style: none; margin:0; padding: 0}\n",
       ".list-inline>li {display: inline-block}\n",
       ".list-inline>li:not(:last-child)::after {content: \"\\00b7\"; padding: 0 .5ex}\n",
       "</style>\n",
       "<ol class=list-inline><li>'red'</li><li>'green'</li><li>'yellow'</li></ol>\n",
       "</dd>\n",
       "\t<dt>$`a list`</dt>\n",
       "\t\t<dd><ol>\n",
       "\t<li>'green'</li>\n",
       "\t<li>123</li>\n",
       "\t<li>15.5</li>\n",
       "</ol>\n",
       "</dd>\n",
       "\t<dt>$Pass</dt>\n",
       "\t\t<dd>FALSE</dd>\n",
       "</dl>\n"
      ],
      "text/latex": [
       "\\begin{description}\n",
       "\\item[\\$`Traffic light`] \\begin{enumerate*}\n",
       "\\item 'red'\n",
       "\\item 'green'\n",
       "\\item 'yellow'\n",
       "\\end{enumerate*}\n",
       "\n",
       "\\item[\\$`a list`] \\begin{enumerate}\n",
       "\\item 'green'\n",
       "\\item 123\n",
       "\\item 15.5\n",
       "\\end{enumerate}\n",
       "\n",
       "\\item[\\$Pass] FALSE\n",
       "\\end{description}\n"
      ],
      "text/markdown": [
       "$`Traffic light`\n",
       ":   1. 'red'\n",
       "2. 'green'\n",
       "3. 'yellow'\n",
       "\n",
       "\n",
       "\n",
       "$`a list`\n",
       ":   1. 'green'\n",
       "2. 123\n",
       "3. 15.5\n",
       "\n",
       "\n",
       "\n",
       "$Pass\n",
       ":   FALSE\n",
       "\n",
       "\n"
      ],
      "text/plain": [
       "$`Traffic light`\n",
       "[1] \"red\"    \"green\"  \"yellow\"\n",
       "\n",
       "$`a list`\n",
       "$`a list`[[1]]\n",
       "[1] \"green\"\n",
       "\n",
       "$`a list`[[2]]\n",
       "[1] 123\n",
       "\n",
       "$`a list`[[3]]\n",
       "[1] 15.5\n",
       "\n",
       "\n",
       "$Pass\n",
       "[1] FALSE\n"
      ]
     },
     "metadata": {},
     "output_type": "display_data"
    }
   ],
   "source": [
    "list_1"
   ]
  },
  {
   "cell_type": "code",
   "execution_count": 18,
   "metadata": {},
   "outputs": [
    {
     "name": "stdout",
     "output_type": "stream",
     "text": [
      "[[1]]\n",
      "[1] \"hello\"\n",
      "\n",
      "[[2]]\n",
      "[1] 123\n",
      "\n",
      "[[3]]\n",
      "[1] 15.5\n",
      "\n",
      "[[4]]\n",
      "[1] 3 5 7\n",
      "\n",
      "[[5]]\n",
      "[1] TRUE\n",
      "\n",
      "$`Traffic light`\n",
      "[1] \"red\"    \"green\"  \"yellow\"\n",
      "\n",
      "$`a list`\n",
      "$`a list`[[1]]\n",
      "[1] \"green\"\n",
      "\n",
      "$`a list`[[2]]\n",
      "[1] 123\n",
      "\n",
      "$`a list`[[3]]\n",
      "[1] 15.5\n",
      "\n",
      "\n",
      "$Pass\n",
      "[1] FALSE\n",
      "\n"
     ]
    }
   ],
   "source": [
    "merged.list = c(list_data, list_1)\n",
    "print(merged.list)"
   ]
  },
  {
   "cell_type": "code",
   "execution_count": 19,
   "metadata": {},
   "outputs": [
    {
     "name": "stdout",
     "output_type": "stream",
     "text": [
      "                                                                           \n",
      "       \"hello\"          \"123\"         \"15.5\"            \"3\"            \"5\" \n",
      "                              Traffic light1 Traffic light2 Traffic light3 \n",
      "           \"7\"         \"TRUE\"          \"red\"        \"green\"       \"yellow\" \n",
      "       a list1        a list2        a list3           Pass \n",
      "       \"green\"          \"123\"         \"15.5\"        \"FALSE\" \n"
     ]
    }
   ],
   "source": [
    "v1 = unlist(merged.list)\n",
    "print(v1)"
   ]
  },
  {
   "cell_type": "code",
   "execution_count": null,
   "metadata": {},
   "outputs": [],
   "source": []
  }
 ],
 "metadata": {
  "kernelspec": {
   "display_name": "R",
   "language": "R",
   "name": "conda-env-r-r"
  },
  "language_info": {
   "codemirror_mode": "r",
   "file_extension": ".r",
   "mimetype": "text/x-r-source",
   "name": "R",
   "pygments_lexer": "r",
   "version": "3.5.1"
  }
 },
 "nbformat": 4,
 "nbformat_minor": 4
}
