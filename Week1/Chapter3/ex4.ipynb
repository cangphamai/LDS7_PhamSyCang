{
 "cells": [
  {
   "cell_type": "code",
   "execution_count": 1,
   "metadata": {},
   "outputs": [
    {
     "name": "stdin",
     "output_type": "stream",
     "text": [
      "player 1 inputs: scissors/ rock/ paper: rock\n"
     ]
    }
   ],
   "source": [
    "player_1 = readline(\"player 1 inputs: scissors/ rock/ paper:\")"
   ]
  },
  {
   "cell_type": "code",
   "execution_count": 2,
   "metadata": {},
   "outputs": [
    {
     "name": "stdin",
     "output_type": "stream",
     "text": [
      "player 2 inputs: scissors/ rock/ paper: paper\n"
     ]
    }
   ],
   "source": [
    "player_2 = readline(\"player 2 inputs: scissors/ rock/ paper:\")"
   ]
  },
  {
   "cell_type": "code",
   "execution_count": 3,
   "metadata": {},
   "outputs": [],
   "source": [
    "result = \"\"\n",
    "if(player_1 ==\"scissors\"){\n",
    "    if(player_2 ==\"scissors\"){\n",
    "        result = \"the same\"\n",
    "    } else if(player_2 ==\"rock\"){\n",
    "        result = \"player 2 is the winner\"\n",
    "    }else{\n",
    "        result = \"player 1 is the winner\"\n",
    "    }\n",
    "} else if(player_1 ==\"rock\"){\n",
    "    if(player_2 ==\"scissors\"){\n",
    "        result = \"player 1 is the winner\"\n",
    "    } else if(player_2 ==\"rock\"){\n",
    "        result = \"the same\"\n",
    "    }else{\n",
    "        result = \"player 2 is the winner\"\n",
    "    }\n",
    "}else{\n",
    "    if(player_2 ==\"scissors\"){\n",
    "        result = \"player 2 is the winner\"\n",
    "    } else if(player_2 ==\"rock\"){\n",
    "        result = \"player 1 is the winner\"\n",
    "    }else{\n",
    "        result = \"the same\"\n",
    "    }\n",
    "}"
   ]
  },
  {
   "cell_type": "code",
   "execution_count": 4,
   "metadata": {},
   "outputs": [
    {
     "name": "stdout",
     "output_type": "stream",
     "text": [
      "[1] \"player 1 choose rock\"\n",
      "[1] \"player 2 choose paper\"\n",
      "[1] \"player 2 is the winner\"\n"
     ]
    }
   ],
   "source": [
    "print(paste(\"player 1 choose\", player_1))\n",
    "print(paste(\"player 2 choose\", player_2))\n",
    "print(result)"
   ]
  },
  {
   "cell_type": "code",
   "execution_count": null,
   "metadata": {},
   "outputs": [],
   "source": []
  }
 ],
 "metadata": {
  "kernelspec": {
   "display_name": "R",
   "language": "R",
   "name": "conda-env-r-r"
  },
  "language_info": {
   "codemirror_mode": "r",
   "file_extension": ".r",
   "mimetype": "text/x-r-source",
   "name": "R",
   "pygments_lexer": "r",
   "version": "3.5.1"
  }
 },
 "nbformat": 4,
 "nbformat_minor": 4
}
