{
 "cells": [
  {
   "cell_type": "markdown",
   "metadata": {
    "id": "3KkCxqxNZhdE"
   },
   "source": [
    "# Bài tập ôn buổi 1\n",
    "#### Viết chương trình cho phép người dùng:\n",
    "- Nhập vào một chuỗi. In chuỗi.\n",
    "- Nhập vào một ký tự. In ký tự.\n",
    "- Tạo chuỗi mới từ chuỗi đã có trong đó tất cả các ký tự đã nhập ở trên đều được in hoa.\n",
    "- Tách chuỗi đã nhập ở đầu bài thành danh sách các phần tử.\n",
    "- Nhập vào một từ. In từ.\n",
    "- Tìm xem từ vừa nhập có là phần tử nào trong danh sách phần tử trên hay không? Nêu tìm thấy thì thông báo là \"Found!!!\" ngược lại thì thông báo là \"Not found!!!\"\n",
    "- Nhập vào một từ cần tìm (find) trong chuỗi và một từ mới sẽ thay thế (replace). Thay thế tất cả các từ tìm (find) trong chuỗi bằng từ thay thế (replace\n"
   ]
  },
  {
   "cell_type": "markdown",
   "metadata": {
    "id": "7tdvIByoRzaE"
   },
   "source": [
    "### Viết chương trình cho phép người dùng:\n",
    "- Nhập vào ngày sinh của mình theo định dạng: 2021-mm-dd. \n",
    "- Lấy ngày hiện hành\n",
    "- Hãy in ra một trong 3 nội dung sau tùy kết quả (so với ngày hiện hành):\n",
    "  - Nếu ngày sinh nhật của bạn chưa tới thì \"The next xx days will be your birthday.\"\n",
    "  - Nếu ngày sinh nhật của bạn dã qua thì \"Your birthday has passed xx days.\"\n",
    "  - Nếu hôm nay là sinh nhật của bạn thì \"Happy birthday to you!\" "
   ]
  }
 ],
 "metadata": {
  "colab": {
   "authorship_tag": "ABX9TyPNV9VZAuKe71mWuJcfDXBv",
   "collapsed_sections": [],
   "name": "OnTapBuoi1.ipynb",
   "provenance": []
  },
  "kernelspec": {
   "display_name": "R",
   "language": "R",
   "name": "conda-env-r-r"
  },
  "language_info": {
   "codemirror_mode": "r",
   "file_extension": ".r",
   "mimetype": "text/x-r-source",
   "name": "R",
   "pygments_lexer": "r",
   "version": "3.5.1"
  }
 },
 "nbformat": 4,
 "nbformat_minor": 4
}
