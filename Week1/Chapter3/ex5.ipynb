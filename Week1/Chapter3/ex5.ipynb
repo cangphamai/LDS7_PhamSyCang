{
 "cells": [
  {
   "cell_type": "code",
   "execution_count": 1,
   "metadata": {},
   "outputs": [
    {
     "name": "stdin",
     "output_type": "stream",
     "text": [
      "Nhap 1 chon GO-BIKE, 2 chon GO-SEND: 2\n"
     ]
    }
   ],
   "source": [
    "chon_loai = as.numeric(readline(\"Nhap 1 chon GO-BIKE, 2 chon GO-SEND:\"))"
   ]
  },
  {
   "cell_type": "code",
   "execution_count": 2,
   "metadata": {},
   "outputs": [
    {
     "name": "stdin",
     "output_type": "stream",
     "text": [
      "so km: 50\n"
     ]
    }
   ],
   "source": [
    "sokm = as.numeric(readline(\"so km:\"))"
   ]
  },
  {
   "cell_type": "code",
   "execution_count": 3,
   "metadata": {},
   "outputs": [],
   "source": [
    "toi_thieu_2km_bike = 10000\n",
    "km_bike = 3600\n",
    "toi_thieu_2km_send = 15000\n",
    "km_send = 4000"
   ]
  },
  {
   "cell_type": "code",
   "execution_count": 5,
   "metadata": {},
   "outputs": [],
   "source": [
    "tien_xe = 0\n",
    "if(chon_loai ==1){\n",
    "    if(sokm <=2){\n",
    "        tien_xe = toi_thieu_2km_bike\n",
    "    }else{\n",
    "        tien_xe = toi_thieu_2km_bike + (sokm -2)*km_bike\n",
    "    }\n",
    "} else if(chon_loai ==2) {\n",
    "    if(sokm <=2){\n",
    "        tien_xe = toi_thieu_2km_send\n",
    "    }else{\n",
    "        tien_xe = toi_thieu_2km_send + (sokm -2)*km_send\n",
    "    }\n",
    "}else{\n",
    "    print(\"chi co 2 loai\")\n",
    "}"
   ]
  },
  {
   "cell_type": "code",
   "execution_count": 6,
   "metadata": {},
   "outputs": [
    {
     "name": "stdout",
     "output_type": "stream",
     "text": [
      "[1] \"tien xe: 207000 vnd\"\n"
     ]
    }
   ],
   "source": [
    "print(paste(\"tien xe:\", tien_xe, \"vnd\"))"
   ]
  },
  {
   "cell_type": "code",
   "execution_count": null,
   "metadata": {},
   "outputs": [],
   "source": []
  }
 ],
 "metadata": {
  "kernelspec": {
   "display_name": "R",
   "language": "R",
   "name": "conda-env-r-r"
  },
  "language_info": {
   "codemirror_mode": "r",
   "file_extension": ".r",
   "mimetype": "text/x-r-source",
   "name": "R",
   "pygments_lexer": "r",
   "version": "3.5.1"
  }
 },
 "nbformat": 4,
 "nbformat_minor": 4
}
