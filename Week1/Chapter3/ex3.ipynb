{
 "cells": [
  {
   "cell_type": "code",
   "execution_count": 1,
   "metadata": {},
   "outputs": [
    {
     "name": "stdin",
     "output_type": "stream",
     "text": [
      "Nhap ma so (1/2/3/4/5): 1\n"
     ]
    }
   ],
   "source": [
    "ma_so = as.numeric(readline(\"Nhap ma so (1/2/3/4/5):\"))"
   ]
  },
  {
   "cell_type": "code",
   "execution_count": 2,
   "metadata": {},
   "outputs": [
    {
     "name": "stdin",
     "output_type": "stream",
     "text": [
      "Nhap so ngay: 5\n"
     ]
    }
   ],
   "source": [
    "so_ngay = as.numeric(readline(\"Nhap so ngay:\"))"
   ]
  },
  {
   "cell_type": "code",
   "execution_count": 3,
   "metadata": {},
   "outputs": [],
   "source": [
    "vip1 = 1000000\n",
    "vip2 = 900000\n",
    "vip3=850000\n",
    "standard1 = 700000\n",
    "standard2=550000"
   ]
  },
  {
   "cell_type": "code",
   "execution_count": 4,
   "metadata": {},
   "outputs": [],
   "source": [
    "don_gia_phong = switch(ma_so, \n",
    "                      vip1,\n",
    "                      vip2,\n",
    "                      vip3,\n",
    "                      standard1,\n",
    "                      standard2)"
   ]
  },
  {
   "cell_type": "code",
   "execution_count": 5,
   "metadata": {},
   "outputs": [],
   "source": [
    "tien = 0\n",
    "if(so_ngay <3){\n",
    "    tien = don_gia_phong * so_ngay\n",
    "}else if(so_ngay<7){\n",
    "    tien = don_gia_phong * so_ngay * 0.9\n",
    "}else{\n",
    "    tien = don_gia_phong * so_ngay * 0.8\n",
    "}"
   ]
  },
  {
   "cell_type": "code",
   "execution_count": 6,
   "metadata": {},
   "outputs": [
    {
     "name": "stdout",
     "output_type": "stream",
     "text": [
      "[1] \"tien phai thanh toan: 4500000 vnd\"\n"
     ]
    }
   ],
   "source": [
    "print(paste(\"tien phai thanh toan:\", tien, \"vnd\"))"
   ]
  },
  {
   "cell_type": "code",
   "execution_count": null,
   "metadata": {},
   "outputs": [],
   "source": []
  }
 ],
 "metadata": {
  "kernelspec": {
   "display_name": "R",
   "language": "R",
   "name": "conda-env-r-r"
  },
  "language_info": {
   "codemirror_mode": "r",
   "file_extension": ".r",
   "mimetype": "text/x-r-source",
   "name": "R",
   "pygments_lexer": "r",
   "version": "3.5.1"
  }
 },
 "nbformat": 4,
 "nbformat_minor": 4
}
