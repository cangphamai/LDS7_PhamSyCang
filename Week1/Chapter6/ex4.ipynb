{
 "cells": [
  {
   "cell_type": "code",
   "execution_count": 1,
   "metadata": {},
   "outputs": [
    {
     "name": "stdout",
     "output_type": "stream",
     "text": [
      "[1] \"vector 1, 2, 3, 3, 5, 3, 2, 4, NA, 11, 22, 47, 47, 11, 47, 11\"\n"
     ]
    }
   ],
   "source": [
    "x = c(1,2,3,3,5,3,2,4,NA,11,22,47,47,11,47,11)\n",
    "print(paste(\"vector\", toString(x)))"
   ]
  },
  {
   "cell_type": "code",
   "execution_count": 2,
   "metadata": {},
   "outputs": [
    {
     "name": "stdout",
     "output_type": "stream",
     "text": [
      "[1] \"levels in factor: 1, 2, 3, 4, 5, 11, 22, 47\"\n",
      "[1] \"number of levels in factor: 8\"\n"
     ]
    }
   ],
   "source": [
    "ft = factor(x)\n",
    "print(paste(\"levels in factor:\", toString(levels(ft))))\n",
    "print(paste(\"number of levels in factor:\", toString(nlevels(ft))))"
   ]
  },
  {
   "cell_type": "code",
   "execution_count": null,
   "metadata": {},
   "outputs": [],
   "source": []
  }
 ],
 "metadata": {
  "kernelspec": {
   "display_name": "R",
   "language": "R",
   "name": "conda-env-r-r"
  },
  "language_info": {
   "codemirror_mode": "r",
   "file_extension": ".r",
   "mimetype": "text/x-r-source",
   "name": "R",
   "pygments_lexer": "r",
   "version": "3.5.1"
  }
 },
 "nbformat": 4,
 "nbformat_minor": 4
}
