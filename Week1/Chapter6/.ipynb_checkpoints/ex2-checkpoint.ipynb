{
 "cells": [
  {
   "cell_type": "code",
   "execution_count": 1,
   "metadata": {},
   "outputs": [
    {
     "name": "stdin",
     "output_type": "stream",
     "text": [
      "nhap your friend name: cang\n",
      "continue: 1, stop !=1 1\n",
      "nhap your friend name: chau\n",
      "continue: 1, stop !=1 2\n"
     ]
    }
   ],
   "source": [
    "names.vector = c(\"minh\", \"thanh\", \"xuan\")\n",
    "i = 1\n",
    "repeat{\n",
    "    len = length(names.vector)\n",
    "    names.vector[len+1]= readline(\"nhap your friend name:\")\n",
    "    i = as.integer(readline(\"continue: 1, stop !=1\"))\n",
    "    if(i!=1){\n",
    "        break\n",
    "    }\n",
    "}"
   ]
  },
  {
   "cell_type": "code",
   "execution_count": 2,
   "metadata": {},
   "outputs": [
    {
     "name": "stdout",
     "output_type": "stream",
     "text": [
      "[1] \"there are 5 friends in vector: minh, thanh, xuan, cang, chau\"\n",
      "[1] \"two first friend: minh, thanh\"\n",
      "[1] \"second and third friend: thanh, xuan\"\n",
      "[1] \"two last friend: chau, cang\"\n"
     ]
    }
   ],
   "source": [
    "print(paste(\"there are\", length(names.vector), \"friends in vector:\", toString(names.vector)))\n",
    "print(paste(\"two first friend:\", toString(names.vector[1:2])))\n",
    "print(paste(\"second and third friend:\", toString(names.vector[c(2:3)])))\n",
    "print(paste(\"two last friend:\", toString(names.vector[c(length(names.vector), length(names.vector) -1)])))"
   ]
  },
  {
   "cell_type": "code",
   "execution_count": null,
   "metadata": {},
   "outputs": [],
   "source": []
  }
 ],
 "metadata": {
  "kernelspec": {
   "display_name": "R",
   "language": "R",
   "name": "conda-env-r-r"
  },
  "language_info": {
   "codemirror_mode": "r",
   "file_extension": ".r",
   "mimetype": "text/x-r-source",
   "name": "R",
   "pygments_lexer": "r",
   "version": "3.5.1"
  }
 },
 "nbformat": 4,
 "nbformat_minor": 4
}
