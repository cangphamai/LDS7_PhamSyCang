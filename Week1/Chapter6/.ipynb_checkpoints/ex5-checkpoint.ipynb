{
 "cells": [
  {
   "cell_type": "code",
   "execution_count": 1,
   "metadata": {},
   "outputs": [
    {
     "name": "stdout",
     "output_type": "stream",
     "text": [
      "[1] \"vector: low, medium, high, low, medium, high\"\n"
     ]
    }
   ],
   "source": [
    "v1= c(\"low\", \"medium\", \"high\", \"low\", \"medium\", \"high\")\n",
    "print(paste(\"vector:\", toString(v1)))"
   ]
  },
  {
   "cell_type": "code",
   "execution_count": 2,
   "metadata": {},
   "outputs": [],
   "source": [
    "food = factor(v1)\n",
    "levels_food = levels(food)\n",
    "num_levels = nlevels(food)"
   ]
  },
  {
   "cell_type": "code",
   "execution_count": 3,
   "metadata": {},
   "outputs": [
    {
     "name": "stdout",
     "output_type": "stream",
     "text": [
      "[1] \"levels: high, low, medium\"\n",
      "[1] \"num of levels: 3\"\n"
     ]
    }
   ],
   "source": [
    "print(paste(\"levels:\", toString(levels_food)))\n",
    "print(paste(\"num of levels:\", toString(num_levels)))"
   ]
  },
  {
   "cell_type": "code",
   "execution_count": 4,
   "metadata": {},
   "outputs": [
    {
     "name": "stdout",
     "output_type": "stream",
     "text": [
      "[1] \"levels after having 'medium high': high, low, medium, medium high\"\n",
      "[1] \"number of levels after having 'medium high': 4\"\n"
     ]
    }
   ],
   "source": [
    "levels_food[num_levels+1] = \"medium high\"\n",
    "food = factor(v1, levels= levels_food)\n",
    "print(paste(\"levels after having 'medium high':\", toString(levels(food))))\n",
    "print(paste(\"number of levels after having 'medium high':\", toString(nlevels(food))))"
   ]
  },
  {
   "cell_type": "code",
   "execution_count": null,
   "metadata": {},
   "outputs": [],
   "source": []
  }
 ],
 "metadata": {
  "kernelspec": {
   "display_name": "R",
   "language": "R",
   "name": "conda-env-r-r"
  },
  "language_info": {
   "codemirror_mode": "r",
   "file_extension": ".r",
   "mimetype": "text/x-r-source",
   "name": "R",
   "pygments_lexer": "r",
   "version": "3.5.1"
  }
 },
 "nbformat": 4,
 "nbformat_minor": 4
}
