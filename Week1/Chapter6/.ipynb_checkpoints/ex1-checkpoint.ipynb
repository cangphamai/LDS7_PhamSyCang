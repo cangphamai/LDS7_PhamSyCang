{
 "cells": [
  {
   "cell_type": "code",
   "execution_count": 1,
   "metadata": {},
   "outputs": [
    {
     "name": "stdin",
     "output_type": "stream",
     "text": [
      "nhap your friend name: cang\n",
      "continue: 1, stop !=1 1\n",
      "nhap your friend name: chau\n",
      "continue: 1, stop !=1 2\n"
     ]
    }
   ],
   "source": [
    "names.vector = c(\"minh\", \"thanh\", \"xuan\")\n",
    "i = 1\n",
    "repeat{\n",
    "    len = length(names.vector)\n",
    "    names.vector[len+1]= readline(\"nhap your friend name:\")\n",
    "    i = as.integer(readline(\"continue: 1, stop !=1\"))\n",
    "    if(i!=1){\n",
    "        break\n",
    "    }\n",
    "}"
   ]
  },
  {
   "cell_type": "code",
   "execution_count": null,
   "metadata": {},
   "outputs": [],
   "source": []
  }
 ],
 "metadata": {
  "kernelspec": {
   "display_name": "R",
   "language": "R",
   "name": "conda-env-r-r"
  },
  "language_info": {
   "codemirror_mode": "r",
   "file_extension": ".r",
   "mimetype": "text/x-r-source",
   "name": "R",
   "pygments_lexer": "r",
   "version": "3.5.1"
  }
 },
 "nbformat": 4,
 "nbformat_minor": 4
}
