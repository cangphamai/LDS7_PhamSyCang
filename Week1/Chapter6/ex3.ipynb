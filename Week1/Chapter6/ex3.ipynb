{
 "cells": [
  {
   "cell_type": "code",
   "execution_count": null,
   "metadata": {},
   "outputs": [],
   "source": [
    "alphabets = letters[1:26]\n",
    "vowels = c(\"a\", \"e\", \"i\", \"o\",\"u\")\n",
    "consonants = alphabets[!(alphabets%in% vowels)]\n",
    "print(paste(\"alphabets:\", toString(alphabets)))\n",
    "print(paste(\"vowels:\", toString(vowels)))\n",
    "print(paste(\"consonants:\", toString(consonants)))"
   ]
  },
  {
   "cell_type": "code",
   "execution_count": 2,
   "metadata": {},
   "outputs": [
    {
     "name": "stdout",
     "output_type": "stream",
     "text": [
      "[1] \"there are 5 friends in vector: minh, thanh, xuan, cang, chau\"\n",
      "[1] \"two first friend: minh, thanh\"\n",
      "[1] \"second and third friend: thanh, xuan\"\n",
      "[1] \"two last friend: chau, cang\"\n"
     ]
    }
   ],
   "source": [
    "print(paste(\"there are\", length(names.vector), \"friends in vector:\", toString(names.vector)))\n",
    "print(paste(\"two first friend:\", toString(names.vector[1:2])))\n",
    "print(paste(\"second and third friend:\", toString(names.vector[c(2:3)])))\n",
    "print(paste(\"two last friend:\", toString(names.vector[c(length(names.vector), length(names.vector) -1)])))"
   ]
  },
  {
   "cell_type": "code",
   "execution_count": null,
   "metadata": {},
   "outputs": [],
   "source": []
  }
 ],
 "metadata": {
  "kernelspec": {
   "display_name": "R",
   "language": "R",
   "name": "conda-env-r-r"
  },
  "language_info": {
   "codemirror_mode": "r",
   "file_extension": ".r",
   "mimetype": "text/x-r-source",
   "name": "R",
   "pygments_lexer": "r",
   "version": "3.5.1"
  }
 },
 "nbformat": 4,
 "nbformat_minor": 4
}
