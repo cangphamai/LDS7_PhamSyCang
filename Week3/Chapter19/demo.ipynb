{
 "cells": [
  {
   "cell_type": "code",
   "execution_count": 1,
   "metadata": {},
   "outputs": [
    {
     "name": "stderr",
     "output_type": "stream",
     "text": [
      "Updating HTML index of packages in '.Library'\n",
      "Making 'packages.html' ... done\n"
     ]
    }
   ],
   "source": [
    "install.packages(\"rpart\")"
   ]
  },
  {
   "cell_type": "code",
   "execution_count": 2,
   "metadata": {},
   "outputs": [],
   "source": [
    "library(\"rpart\")"
   ]
  },
  {
   "cell_type": "code",
   "execution_count": 3,
   "metadata": {},
   "outputs": [
    {
     "name": "stdout",
     "output_type": "stream",
     "text": [
      "  Sepal.Length    Sepal.Width     Petal.Length    Petal.Width   \n",
      " Min.   :4.300   Min.   :2.000   Min.   :1.000   Min.   :0.100  \n",
      " 1st Qu.:5.100   1st Qu.:2.800   1st Qu.:1.600   1st Qu.:0.300  \n",
      " Median :5.800   Median :3.000   Median :4.350   Median :1.300  \n",
      " Mean   :5.843   Mean   :3.057   Mean   :3.758   Mean   :1.199  \n",
      " 3rd Qu.:6.400   3rd Qu.:3.300   3rd Qu.:5.100   3rd Qu.:1.800  \n",
      " Max.   :7.900   Max.   :4.400   Max.   :6.900   Max.   :2.500  \n",
      "       Species  \n",
      " setosa    :50  \n",
      " versicolor:50  \n",
      " virginica :50  \n",
      "                \n",
      "                \n",
      "                \n",
      "  Sepal.Length Sepal.Width Petal.Length Petal.Width Species\n",
      "1          5.1         3.5          1.4         0.2  setosa\n",
      "2          4.9         3.0          1.4         0.2  setosa\n",
      "3          4.7         3.2          1.3         0.2  setosa\n",
      "4          4.6         3.1          1.5         0.2  setosa\n",
      "5          5.0         3.6          1.4         0.2  setosa\n",
      "6          5.4         3.9          1.7         0.4  setosa\n"
     ]
    }
   ],
   "source": [
    "print(summary(iris))\n",
    "print(head(iris))"
   ]
  },
  {
   "cell_type": "code",
   "execution_count": 5,
   "metadata": {},
   "outputs": [
    {
     "name": "stdout",
     "output_type": "stream",
     "text": [
      "[1] \"Selected training row index\"\n",
      "  [1] 138 140  43 123  94  76 107  20 146 100  65 141 129  35  63 127 132  16\n",
      " [19] 136  74 118  18 135 121  11 149  49 112  55 102  89  97  46  81   1  96\n",
      " [37] 116  24 128  68  42  48   5 105 130 101  93  66 139 134  34 137  40  77\n",
      " [55]   4  72  64 133  25  47  61  88  67  50 131  17  23  69  57 143 115  12\n",
      " [73]  85  37 104  54 114  28  38  86  41 126  92  44  52 119  15   6 144  19\n",
      " [91]  70  71  13  75 103  60 150  73  39  32  51  83 124  90 120\n",
      "[1] 105\n",
      "[1] 45\n"
     ]
    }
   ],
   "source": [
    "set.seed(42)\n",
    "trainingRowIndex = sample(1:nrow(iris), 0.7*nrow(iris))\n",
    "print(\"Selected training row index\")\n",
    "print(trainingRowIndex)\n",
    "trainingData = iris[trainingRowIndex,]\n",
    "testData = iris[-trainingRowIndex,]\n",
    "print(nrow(trainingData))\n",
    "print(nrow(testData))"
   ]
  },
  {
   "cell_type": "code",
   "execution_count": 6,
   "metadata": {},
   "outputs": [
    {
     "name": "stdout",
     "output_type": "stream",
     "text": [
      "n= 105 \n",
      "\n",
      "node), split, n, loss, yval, (yprob)\n",
      "      * denotes terminal node\n",
      "\n",
      "1) root 105 68 virginica (0.31428571 0.33333333 0.35238095)  \n",
      "  2) Petal.Length< 2.6 33  0 setosa (1.00000000 0.00000000 0.00000000) *\n",
      "  3) Petal.Length>=2.6 72 35 virginica (0.00000000 0.48611111 0.51388889)  \n",
      "    6) Petal.Length< 4.85 37  3 versicolor (0.00000000 0.91891892 0.08108108) *\n",
      "    7) Petal.Length>=4.85 35  1 virginica (0.00000000 0.02857143 0.97142857) *\n"
     ]
    }
   ],
   "source": [
    "iris.tree = rpart(Species ~ Sepal.Length + Sepal.Width + Petal.Length +Petal.Width,\n",
    "                 data = trainingData, method=\"class\")\n",
    "print(iris.tree)"
   ]
  },
  {
   "cell_type": "raw",
   "metadata": {},
   "source": [
    "Dau vao 105 mau:\n",
    "- mau co petal length >2.6 la 33 => setosa va toi node la\n",
    "- mau Petal.Length< 4.85 la 37 mau, loss 3 mau => versicolor va toi node la\n",
    "- mau Petal.Length>=4.85 la 35 mau, loss 1 mau => virginica  va toi node la"
   ]
  },
  {
   "cell_type": "code",
   "execution_count": 7,
   "metadata": {},
   "outputs": [],
   "source": [
    "library(rpart.plot)"
   ]
  },
  {
   "cell_type": "code",
   "execution_count": 8,
   "metadata": {},
   "outputs": [
    {
     "data": {
      "image/png": "[encoded data removed]",
      "text/plain": [
       "plot without title"
      ]
     },
     "metadata": {},
     "output_type": "display_data",
     "source": "R display func"
    }
   ],
   "source": [
    "prp(iris.tree, type=2, extra=\"auto\", nn=TRUE, branch=1, varlen=0, yesno=2)"
   ]
  },
  {
   "cell_type": "code",
   "execution_count": 9,
   "metadata": {},
   "outputs": [
    {
     "name": "stdout",
     "output_type": "stream",
     "text": [
      "[1] \"accuracy s1: 0.933333333333333\"\n"
     ]
    }
   ],
   "source": [
    "pred_new = predict(iris.tree, testData, type=\"class\")\n",
    "accuracy = table(pred_new , testData$Species)\n",
    "accuracy = sum(diag(accuracy))/sum(accuracy)\n",
    "print(paste(\"accuracy s1:\", accuracy))"
   ]
  },
  {
   "cell_type": "code",
   "execution_count": 10,
   "metadata": {},
   "outputs": [
    {
     "name": "stdout",
     "output_type": "stream",
     "text": [
      "    Sepal.Length Sepal.Width Petal.Length Petal.Width\n",
      "1            5.1         3.5          1.4         0.2\n",
      "10           4.9         3.1          1.5         0.1\n",
      "100          5.7         2.8          4.1         1.3\n",
      "140          6.9         3.1          5.4         2.1\n"
     ]
    }
   ],
   "source": [
    "newCase = iris[c(1,10,100, 140),]\n",
    "newCase$Species= NULL\n",
    "print(newCase)"
   ]
  },
  {
   "cell_type": "code",
   "execution_count": 11,
   "metadata": {},
   "outputs": [
    {
     "name": "stdout",
     "output_type": "stream",
     "text": [
      "[1] \"new predict\"\n"
     ]
    }
   ],
   "source": [
    "print(\"new predict\")"
   ]
  },
  {
   "cell_type": "code",
   "execution_count": 12,
   "metadata": {},
   "outputs": [
    {
     "name": "stdout",
     "output_type": "stream",
     "text": [
      "         1         10        100        140 \n",
      "    setosa     setosa versicolor  virginica \n",
      "Levels: setosa versicolor virginica\n"
     ]
    }
   ],
   "source": [
    "pred_new = predict(iris.tree, newCase, type=\"class\")\n",
    "print(pred_new)"
   ]
  },
  {
   "cell_type": "markdown",
   "metadata": {},
   "source": [
    "## regression"
   ]
  },
  {
   "cell_type": "code",
   "execution_count": 13,
   "metadata": {},
   "outputs": [
    {
     "data": {
      "text/plain": [
       "n= 105 \n",
       "\n",
       "node), split, n, deviance, yval\n",
       "      * denotes terminal node\n",
       "\n",
       " 1) root 105 319.5585000 3.829524  \n",
       "   2) Petal.Width< 0.8 33   0.9024242 1.451515 *\n",
       "   3) Petal.Width>=0.8 72  46.5127800 4.919444  \n",
       "     6) Petal.Width< 1.75 39  10.0466700 4.366667  \n",
       "      12) Petal.Width< 1.35 19   1.8094740 4.005263 *\n",
       "      13) Petal.Width>=1.35 20   3.3980000 4.710000 *\n",
       "     7) Petal.Width>=1.75 33  10.4654500 5.572727 *"
      ]
     },
     "metadata": {},
     "output_type": "display_data"
    }
   ],
   "source": [
    "tree.gre = rpart(Petal.Length ~ Petal.Width, data= trainingData)\n",
    "tree.gre"
   ]
  },
  {
   "cell_type": "code",
   "execution_count": 14,
   "metadata": {},
   "outputs": [
    {
     "data": {
      "image/png": "[encoded data removed]",
      "text/plain": [
       "plot without title"
      ]
     },
     "metadata": {},
     "output_type": "display_data",
     "source": "R display func"
    }
   ],
   "source": [
    "prp(tree.gre, type=3, extra=\"auto\", nn=TRUE, branch=1, varlen=0, yesno=2)"
   ]
  },
  {
   "cell_type": "code",
   "execution_count": 18,
   "metadata": {},
   "outputs": [
    {
     "name": "stdout",
     "output_type": "stream",
     "text": [
      "[1] 0.160362\n"
     ]
    }
   ],
   "source": [
    "newdf = data.frame(testData['Petal.Width'])\n",
    "predictions = predict(tree.gre,newdf)\n",
    "mse = mean((testData$Petal.Length - predictions)^2)\n",
    "print(mse)"
   ]
  },
  {
   "cell_type": "code",
   "execution_count": 19,
   "metadata": {},
   "outputs": [
    {
     "data": {
      "text/html": [
       "<style>\n",
       ".dl-inline {width: auto; margin:0; padding: 0}\n",
       ".dl-inline>dt, .dl-inline>dd {float: none; width: auto; display: inline-block}\n",
       ".dl-inline>dt::after {content: \":\\0020\"; padding-right: .5ex}\n",
       ".dl-inline>dt:not(:first-of-type) {padding-left: .5ex}\n",
       "</style><dl class=dl-inline><dt>1</dt><dd>1.45151515151515</dd><dt>2</dt><dd>4.00526315789474</dd><dt>3</dt><dd>5.57272727272727</dd></dl>\n"
      ],
      "text/latex": [
       "\\begin{description*}\n",
       "\\item[1] 1.45151515151515\n",
       "\\item[2] 4.00526315789474\n",
       "\\item[3] 5.57272727272727\n",
       "\\end{description*}\n"
      ],
      "text/markdown": [
       "1\n",
       ":   1.451515151515152\n",
       ":   4.005263157894743\n",
       ":   5.57272727272727\n",
       "\n"
      ],
      "text/plain": [
       "       1        2        3 \n",
       "1.451515 4.005263 5.572727 "
      ]
     },
     "metadata": {},
     "output_type": "display_data"
    }
   ],
   "source": [
    "now = data.frame(Petal.Width = c(0.25,1.25, 2.25))\n",
    "predict_new = predict(tree.gre, now)\n",
    "predict_new"
   ]
  },
  {
   "cell_type": "code",
   "execution_count": null,
   "metadata": {},
   "outputs": [],
   "source": []
  }
 ],
 "metadata": {
  "kernelspec": {
   "display_name": "R",
   "language": "R",
   "name": "conda-env-r-r"
  },
  "language_info": {
   "codemirror_mode": "r",
   "file_extension": ".r",
   "mimetype": "text/x-r-source",
   "name": "R",
   "pygments_lexer": "r",
   "version": "3.5.1"
  }
 },
 "nbformat": 4,
 "nbformat_minor": 4
}
